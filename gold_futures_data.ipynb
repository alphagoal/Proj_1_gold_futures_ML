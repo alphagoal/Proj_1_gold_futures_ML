{
 "cells": [
  {
   "cell_type": "markdown",
   "metadata": {},
   "source": [
    "## <font color=\"yellow\"> I.  Data Extraction and Cleansing</font>"
   ]
  },
  {
   "cell_type": "markdown",
   "metadata": {},
   "source": [
    "### 0 - Non-BBG Data"
   ]
  },
  {
   "cell_type": "code",
   "execution_count": 1,
   "metadata": {
    "ExecuteTime": {
     "end_time": "2025-02-18T14:20:19.052303Z",
     "start_time": "2025-02-18T14:20:17.690426Z"
    }
   },
   "outputs": [
    {
     "data": {
      "text/plain": "         DATE    CPI  PPI  ETF_Ounces  10yInterest  DP_ratio  PE_ratio  \\\n0     1914-01    NaN -2.5         NaN          NaN       NaN       NaN   \n1     1914-02    NaN -1.7         NaN          NaN       NaN       NaN   \n2     1914-03    NaN -2.5         NaN          NaN       NaN       NaN   \n3     1914-04    NaN -2.5         NaN          NaN       NaN       NaN   \n4     1914-05    NaN -2.5         NaN          NaN       NaN       NaN   \n...       ...    ...  ...         ...          ...       ...       ...   \n1327  2024-08  7.934 -0.9         NaN     1.664190      1.33     27.55   \n1328  2024-09  7.398 -2.4         NaN     1.581581      1.31     28.07   \n1329  2024-10  7.923 -0.9         NaN     1.480148      1.28       NaN   \n1330  2024-11  8.417  0.1         NaN     1.958417      1.25       NaN   \n1331  2024-12  8.943  1.5         NaN     1.824369      1.24       NaN   \n\n      Chinese_premium_discount  Indian_premium_discount    NASDAQ  \\\n0                          NaN                      NaN       NaN   \n1                          NaN                      NaN       NaN   \n2                          NaN                      NaN       NaN   \n3                          NaN                      NaN       NaN   \n4                          NaN                      NaN       NaN   \n...                        ...                      ...       ...   \n1327                 -1.526427                 5.831219  0.002809   \n1328                -11.192383                -2.388517  0.011506   \n1329                -13.455145                 0.537662 -0.002251   \n1330                -16.183557                 9.254420  0.026150   \n1331                 -3.335864                 0.340406  0.002088   \n\n      SP500_price  SP500_volume  USD_index       VIX  \n0             NaN           NaN        NaN       NaN  \n1             NaN           NaN        NaN       NaN  \n2             NaN           NaN        NaN       NaN  \n3             NaN           NaN        NaN       NaN  \n4             NaN           NaN        NaN       NaN  \n...           ...           ...        ...       ...  \n1327          NaN           NaN  -0.005923 -0.037692  \n1328          NaN           NaN        NaN  0.047405  \n1329          NaN           NaN        NaN  0.141243  \n1330          NaN           NaN        NaN -0.234083  \n1331          NaN           NaN        NaN  0.108644  \n\n[1332 rows x 14 columns]",
      "text/html": "<div>\n<style scoped>\n    .dataframe tbody tr th:only-of-type {\n        vertical-align: middle;\n    }\n\n    .dataframe tbody tr th {\n        vertical-align: top;\n    }\n\n    .dataframe thead th {\n        text-align: right;\n    }\n</style>\n<table border=\"1\" class=\"dataframe\">\n  <thead>\n    <tr style=\"text-align: right;\">\n      <th></th>\n      <th>DATE</th>\n      <th>CPI</th>\n      <th>PPI</th>\n      <th>ETF_Ounces</th>\n      <th>10yInterest</th>\n      <th>DP_ratio</th>\n      <th>PE_ratio</th>\n      <th>Chinese_premium_discount</th>\n      <th>Indian_premium_discount</th>\n      <th>NASDAQ</th>\n      <th>SP500_price</th>\n      <th>SP500_volume</th>\n      <th>USD_index</th>\n      <th>VIX</th>\n    </tr>\n  </thead>\n  <tbody>\n    <tr>\n      <th>0</th>\n      <td>1914-01</td>\n      <td>NaN</td>\n      <td>-2.5</td>\n      <td>NaN</td>\n      <td>NaN</td>\n      <td>NaN</td>\n      <td>NaN</td>\n      <td>NaN</td>\n      <td>NaN</td>\n      <td>NaN</td>\n      <td>NaN</td>\n      <td>NaN</td>\n      <td>NaN</td>\n      <td>NaN</td>\n    </tr>\n    <tr>\n      <th>1</th>\n      <td>1914-02</td>\n      <td>NaN</td>\n      <td>-1.7</td>\n      <td>NaN</td>\n      <td>NaN</td>\n      <td>NaN</td>\n      <td>NaN</td>\n      <td>NaN</td>\n      <td>NaN</td>\n      <td>NaN</td>\n      <td>NaN</td>\n      <td>NaN</td>\n      <td>NaN</td>\n      <td>NaN</td>\n    </tr>\n    <tr>\n      <th>2</th>\n      <td>1914-03</td>\n      <td>NaN</td>\n      <td>-2.5</td>\n      <td>NaN</td>\n      <td>NaN</td>\n      <td>NaN</td>\n      <td>NaN</td>\n      <td>NaN</td>\n      <td>NaN</td>\n      <td>NaN</td>\n      <td>NaN</td>\n      <td>NaN</td>\n      <td>NaN</td>\n      <td>NaN</td>\n    </tr>\n    <tr>\n      <th>3</th>\n      <td>1914-04</td>\n      <td>NaN</td>\n      <td>-2.5</td>\n      <td>NaN</td>\n      <td>NaN</td>\n      <td>NaN</td>\n      <td>NaN</td>\n      <td>NaN</td>\n      <td>NaN</td>\n      <td>NaN</td>\n      <td>NaN</td>\n      <td>NaN</td>\n      <td>NaN</td>\n      <td>NaN</td>\n    </tr>\n    <tr>\n      <th>4</th>\n      <td>1914-05</td>\n      <td>NaN</td>\n      <td>-2.5</td>\n      <td>NaN</td>\n      <td>NaN</td>\n      <td>NaN</td>\n      <td>NaN</td>\n      <td>NaN</td>\n      <td>NaN</td>\n      <td>NaN</td>\n      <td>NaN</td>\n      <td>NaN</td>\n      <td>NaN</td>\n      <td>NaN</td>\n    </tr>\n    <tr>\n      <th>...</th>\n      <td>...</td>\n      <td>...</td>\n      <td>...</td>\n      <td>...</td>\n      <td>...</td>\n      <td>...</td>\n      <td>...</td>\n      <td>...</td>\n      <td>...</td>\n      <td>...</td>\n      <td>...</td>\n      <td>...</td>\n      <td>...</td>\n      <td>...</td>\n    </tr>\n    <tr>\n      <th>1327</th>\n      <td>2024-08</td>\n      <td>7.934</td>\n      <td>-0.9</td>\n      <td>NaN</td>\n      <td>1.664190</td>\n      <td>1.33</td>\n      <td>27.55</td>\n      <td>-1.526427</td>\n      <td>5.831219</td>\n      <td>0.002809</td>\n      <td>NaN</td>\n      <td>NaN</td>\n      <td>-0.005923</td>\n      <td>-0.037692</td>\n    </tr>\n    <tr>\n      <th>1328</th>\n      <td>2024-09</td>\n      <td>7.398</td>\n      <td>-2.4</td>\n      <td>NaN</td>\n      <td>1.581581</td>\n      <td>1.31</td>\n      <td>28.07</td>\n      <td>-11.192383</td>\n      <td>-2.388517</td>\n      <td>0.011506</td>\n      <td>NaN</td>\n      <td>NaN</td>\n      <td>NaN</td>\n      <td>0.047405</td>\n    </tr>\n    <tr>\n      <th>1329</th>\n      <td>2024-10</td>\n      <td>7.923</td>\n      <td>-0.9</td>\n      <td>NaN</td>\n      <td>1.480148</td>\n      <td>1.28</td>\n      <td>NaN</td>\n      <td>-13.455145</td>\n      <td>0.537662</td>\n      <td>-0.002251</td>\n      <td>NaN</td>\n      <td>NaN</td>\n      <td>NaN</td>\n      <td>0.141243</td>\n    </tr>\n    <tr>\n      <th>1330</th>\n      <td>2024-11</td>\n      <td>8.417</td>\n      <td>0.1</td>\n      <td>NaN</td>\n      <td>1.958417</td>\n      <td>1.25</td>\n      <td>NaN</td>\n      <td>-16.183557</td>\n      <td>9.254420</td>\n      <td>0.026150</td>\n      <td>NaN</td>\n      <td>NaN</td>\n      <td>NaN</td>\n      <td>-0.234083</td>\n    </tr>\n    <tr>\n      <th>1331</th>\n      <td>2024-12</td>\n      <td>8.943</td>\n      <td>1.5</td>\n      <td>NaN</td>\n      <td>1.824369</td>\n      <td>1.24</td>\n      <td>NaN</td>\n      <td>-3.335864</td>\n      <td>0.340406</td>\n      <td>0.002088</td>\n      <td>NaN</td>\n      <td>NaN</td>\n      <td>NaN</td>\n      <td>0.108644</td>\n    </tr>\n  </tbody>\n</table>\n<p>1332 rows × 14 columns</p>\n</div>"
     },
     "execution_count": 1,
     "metadata": {},
     "output_type": "execute_result"
    }
   ],
   "source": [
    "#SiCheng main dataframe\n",
    "import pandas as pd\n",
    "import openpyxl\n",
    "\n",
    "raw_df_sc = pd.read_excel('main_dataset_raw.xlsx',sheet_name='data')\n",
    "raw_df_sc"
   ]
  },
  {
   "cell_type": "markdown",
   "metadata": {},
   "source": [
    "### 1 - Extract BBG Dataset"
   ]
  },
  {
   "cell_type": "markdown",
   "metadata": {},
   "source": [
    "##### <font color= #90EE90>1.0: Read Excel</font>"
   ]
  },
  {
   "cell_type": "code",
   "execution_count": 2,
   "metadata": {
    "ExecuteTime": {
     "end_time": "2025-02-18T14:20:22.444555Z",
     "start_time": "2025-02-18T14:20:19.053305Z"
    }
   },
   "outputs": [
    {
     "name": "stdout",
     "output_type": "stream",
     "text": [
      "Index(['PX_LAST', 'OPEN_INT'], dtype='object')\n"
     ]
    },
    {
     "data": {
      "text/plain": "            EQY_DVD_YLD_12M\nDate                       \n2025-02-05           1.2402\n2025-02-04           1.2446\n2025-02-03           1.2536\n2025-01-31           1.2438\n2025-01-30           1.2368\n...                     ...\n1975-01-07              NaN\n1975-01-06              NaN\n1975-01-03              NaN\n1975-01-02              NaN\n1974-12-31           5.2509\n\n[12633 rows x 1 columns]",
      "text/html": "<div>\n<style scoped>\n    .dataframe tbody tr th:only-of-type {\n        vertical-align: middle;\n    }\n\n    .dataframe tbody tr th {\n        vertical-align: top;\n    }\n\n    .dataframe thead th {\n        text-align: right;\n    }\n</style>\n<table border=\"1\" class=\"dataframe\">\n  <thead>\n    <tr style=\"text-align: right;\">\n      <th></th>\n      <th>EQY_DVD_YLD_12M</th>\n    </tr>\n    <tr>\n      <th>Date</th>\n      <th></th>\n    </tr>\n  </thead>\n  <tbody>\n    <tr>\n      <th>2025-02-05</th>\n      <td>1.2402</td>\n    </tr>\n    <tr>\n      <th>2025-02-04</th>\n      <td>1.2446</td>\n    </tr>\n    <tr>\n      <th>2025-02-03</th>\n      <td>1.2536</td>\n    </tr>\n    <tr>\n      <th>2025-01-31</th>\n      <td>1.2438</td>\n    </tr>\n    <tr>\n      <th>2025-01-30</th>\n      <td>1.2368</td>\n    </tr>\n    <tr>\n      <th>...</th>\n      <td>...</td>\n    </tr>\n    <tr>\n      <th>1975-01-07</th>\n      <td>NaN</td>\n    </tr>\n    <tr>\n      <th>1975-01-06</th>\n      <td>NaN</td>\n    </tr>\n    <tr>\n      <th>1975-01-03</th>\n      <td>NaN</td>\n    </tr>\n    <tr>\n      <th>1975-01-02</th>\n      <td>NaN</td>\n    </tr>\n    <tr>\n      <th>1974-12-31</th>\n      <td>5.2509</td>\n    </tr>\n  </tbody>\n</table>\n<p>12633 rows × 1 columns</p>\n</div>"
     },
     "execution_count": 2,
     "metadata": {},
     "output_type": "execute_result"
    }
   ],
   "source": [
    "#Alfred Dataset\n",
    "#Main, GC2 data, Fed_Eff_Rate, PE; fix index and column labels\n",
    "\n",
    "raw_df_al_main = pd.read_excel('bbg_gc_data.xlsx',sheet_name='Data')\n",
    "raw_df_al_gc2 = pd.read_excel('bbg_gc_data.xlsx',sheet_name='GC2 COMB COMDTY',skiprows=6)\n",
    "raw_df_al_fed_eff_rate = pd.read_excel('bbg_gc_data.xlsx',sheet_name='Fed_Eff_Rate',skiprows=5)\n",
    "raw_df_al_pe = pd.read_excel('bbg_gc_data.xlsx',sheet_name='PE',skiprows=6)\n",
    "\n",
    "#another file\n",
    "raw_df_al_dp12 = pd.read_excel('data2.xlsx',sheet_name='DP_12M',skiprows=6)\n",
    "raw_df_al_gdp_nom_yoy = pd.read_excel('data2.xlsx',sheet_name='GDP_Nom_YoY',skiprows=5) #quarterly\n",
    "raw_df_al_gdp_real_qoq = pd.read_excel('data2.xlsx',sheet_name='GDP_Real_QoQ',skiprows=5) #quarterly\n",
    "raw_df_al_cpi_yoy = pd.read_excel('data2.xlsx',sheet_name='CPI_YoY',skiprows=5) #monthly\n",
    "raw_df_al_unemploy = pd.read_excel('data2.xlsx',sheet_name='US_Unemp',skiprows=5) #monthly\n",
    "raw_df_al_consumer_conf = pd.read_excel('data2.xlsx',sheet_name='Cons_Conf',skiprows=5) #monthly\n",
    "raw_df_al_real_int = pd.read_excel('data2.xlsx',sheet_name='US_RIR',skiprows=5) #monthly\n",
    "\n",
    "\n",
    "\n",
    "#tidy up dataset\n",
    "raw_df_al_list = [raw_df_al_main, \n",
    "                  raw_df_al_gc2, \n",
    "                  raw_df_al_fed_eff_rate, \n",
    "                  raw_df_al_pe,\n",
    "                  raw_df_al_dp12,\n",
    "                  raw_df_al_gdp_nom_yoy,\n",
    "                  raw_df_al_gdp_real_qoq,\n",
    "                  raw_df_al_unemploy,\n",
    "                  raw_df_al_cpi_yoy,\n",
    "                  raw_df_al_consumer_conf,\n",
    "                  raw_df_al_real_int]\n",
    "\n",
    "for df in raw_df_al_list:\n",
    "    df.set_index(df.columns[0], inplace= True)\n",
    "\n",
    "print(raw_df_al_gc2.columns)\n",
    "\n",
    "raw_df_al_gc2.columns = ['GC2_PX_Last', 'GC2_OPEN_INT']\n",
    "#raw_df_al_fed_eff_rate.columns = ['fed_eff_rate']\n",
    "raw_df_al_pe.columns = ['PE_RATIO']\n",
    "\n",
    "raw_df_al_pe = raw_df_al_pe.drop('2025-02-06')\n",
    "raw_df_al_main = raw_df_al_main.drop('2025-02-06')\n",
    "raw_df_al_dp12 = raw_df_al_dp12.drop(['2025-02-07','2025-02-06'])\n",
    "raw_df_al_dp12 = raw_df_al_dp12.drop('PX_LAST', axis = 1)\n",
    "raw_df_al_dp12\n"
   ]
  },
  {
   "cell_type": "code",
   "execution_count": 3,
   "metadata": {
    "ExecuteTime": {
     "end_time": "2025-02-18T14:20:23.783320Z",
     "start_time": "2025-02-18T14:20:22.445699Z"
    }
   },
   "outputs": [
    {
     "data": {
      "text/plain": "            US0001M Index  US0003M Index  US0006M Index  GB12 Govt  \\\nDates                                                                \n1975-01-01            NaN            NaN            NaN        NaN   \n1975-01-02            NaN            NaN            NaN        NaN   \n1975-01-03            NaN            NaN            NaN        NaN   \n1975-01-06            NaN            NaN            NaN        NaN   \n1975-01-07            NaN            NaN            NaN        NaN   \n...                   ...            ...            ...        ...   \n2025-02-10        4.96018        4.85372        4.68213      4.234   \n2025-02-11        4.96018        4.85372        4.68213      4.248   \n2025-02-12        4.96018        4.85372        4.68213      4.278   \n2025-02-13        4.96018        4.85372        4.68213      4.261   \n2025-02-14        4.96018        4.85372        4.68213      4.221   \n\n            SOFR30A Index  TSFR1M Index  TSFR3M Index  TSFR6M Index  \\\nDates                                                                 \n1975-01-01            NaN           NaN           NaN           NaN   \n1975-01-02            NaN           NaN           NaN           NaN   \n1975-01-03            NaN           NaN           NaN           NaN   \n1975-01-06            NaN           NaN           NaN           NaN   \n1975-01-07            NaN           NaN           NaN           NaN   \n...                   ...           ...           ...           ...   \n2025-02-10        4.33461       4.31847       4.31469       4.27893   \n2025-02-11        4.33630       4.31738       4.31504       4.28305   \n2025-02-12        4.33763       4.31439       4.31802       4.29233   \n2025-02-13        4.33864       4.31186       4.32298       4.31501   \n2025-02-14        4.34031       4.31365       4.32299       4.31099   \n\n            TSFR12M Index  FEDL01 Index  \nDates                                    \n1975-01-01            NaN          3.87  \n1975-01-02            NaN          8.55  \n1975-01-03            NaN          8.37  \n1975-01-06            NaN          7.85  \n1975-01-07            NaN          7.30  \n...                   ...           ...  \n2025-02-10        4.21972          4.33  \n2025-02-11        4.22440          4.33  \n2025-02-12        4.24398          4.33  \n2025-02-13        4.29153          4.33  \n2025-02-14        4.27487          4.33  \n\n[13078 rows x 10 columns]",
      "text/html": "<div>\n<style scoped>\n    .dataframe tbody tr th:only-of-type {\n        vertical-align: middle;\n    }\n\n    .dataframe tbody tr th {\n        vertical-align: top;\n    }\n\n    .dataframe thead th {\n        text-align: right;\n    }\n</style>\n<table border=\"1\" class=\"dataframe\">\n  <thead>\n    <tr style=\"text-align: right;\">\n      <th></th>\n      <th>US0001M Index</th>\n      <th>US0003M Index</th>\n      <th>US0006M Index</th>\n      <th>GB12 Govt</th>\n      <th>SOFR30A Index</th>\n      <th>TSFR1M Index</th>\n      <th>TSFR3M Index</th>\n      <th>TSFR6M Index</th>\n      <th>TSFR12M Index</th>\n      <th>FEDL01 Index</th>\n    </tr>\n    <tr>\n      <th>Dates</th>\n      <th></th>\n      <th></th>\n      <th></th>\n      <th></th>\n      <th></th>\n      <th></th>\n      <th></th>\n      <th></th>\n      <th></th>\n      <th></th>\n    </tr>\n  </thead>\n  <tbody>\n    <tr>\n      <th>1975-01-01</th>\n      <td>NaN</td>\n      <td>NaN</td>\n      <td>NaN</td>\n      <td>NaN</td>\n      <td>NaN</td>\n      <td>NaN</td>\n      <td>NaN</td>\n      <td>NaN</td>\n      <td>NaN</td>\n      <td>3.87</td>\n    </tr>\n    <tr>\n      <th>1975-01-02</th>\n      <td>NaN</td>\n      <td>NaN</td>\n      <td>NaN</td>\n      <td>NaN</td>\n      <td>NaN</td>\n      <td>NaN</td>\n      <td>NaN</td>\n      <td>NaN</td>\n      <td>NaN</td>\n      <td>8.55</td>\n    </tr>\n    <tr>\n      <th>1975-01-03</th>\n      <td>NaN</td>\n      <td>NaN</td>\n      <td>NaN</td>\n      <td>NaN</td>\n      <td>NaN</td>\n      <td>NaN</td>\n      <td>NaN</td>\n      <td>NaN</td>\n      <td>NaN</td>\n      <td>8.37</td>\n    </tr>\n    <tr>\n      <th>1975-01-06</th>\n      <td>NaN</td>\n      <td>NaN</td>\n      <td>NaN</td>\n      <td>NaN</td>\n      <td>NaN</td>\n      <td>NaN</td>\n      <td>NaN</td>\n      <td>NaN</td>\n      <td>NaN</td>\n      <td>7.85</td>\n    </tr>\n    <tr>\n      <th>1975-01-07</th>\n      <td>NaN</td>\n      <td>NaN</td>\n      <td>NaN</td>\n      <td>NaN</td>\n      <td>NaN</td>\n      <td>NaN</td>\n      <td>NaN</td>\n      <td>NaN</td>\n      <td>NaN</td>\n      <td>7.30</td>\n    </tr>\n    <tr>\n      <th>...</th>\n      <td>...</td>\n      <td>...</td>\n      <td>...</td>\n      <td>...</td>\n      <td>...</td>\n      <td>...</td>\n      <td>...</td>\n      <td>...</td>\n      <td>...</td>\n      <td>...</td>\n    </tr>\n    <tr>\n      <th>2025-02-10</th>\n      <td>4.96018</td>\n      <td>4.85372</td>\n      <td>4.68213</td>\n      <td>4.234</td>\n      <td>4.33461</td>\n      <td>4.31847</td>\n      <td>4.31469</td>\n      <td>4.27893</td>\n      <td>4.21972</td>\n      <td>4.33</td>\n    </tr>\n    <tr>\n      <th>2025-02-11</th>\n      <td>4.96018</td>\n      <td>4.85372</td>\n      <td>4.68213</td>\n      <td>4.248</td>\n      <td>4.33630</td>\n      <td>4.31738</td>\n      <td>4.31504</td>\n      <td>4.28305</td>\n      <td>4.22440</td>\n      <td>4.33</td>\n    </tr>\n    <tr>\n      <th>2025-02-12</th>\n      <td>4.96018</td>\n      <td>4.85372</td>\n      <td>4.68213</td>\n      <td>4.278</td>\n      <td>4.33763</td>\n      <td>4.31439</td>\n      <td>4.31802</td>\n      <td>4.29233</td>\n      <td>4.24398</td>\n      <td>4.33</td>\n    </tr>\n    <tr>\n      <th>2025-02-13</th>\n      <td>4.96018</td>\n      <td>4.85372</td>\n      <td>4.68213</td>\n      <td>4.261</td>\n      <td>4.33864</td>\n      <td>4.31186</td>\n      <td>4.32298</td>\n      <td>4.31501</td>\n      <td>4.29153</td>\n      <td>4.33</td>\n    </tr>\n    <tr>\n      <th>2025-02-14</th>\n      <td>4.96018</td>\n      <td>4.85372</td>\n      <td>4.68213</td>\n      <td>4.221</td>\n      <td>4.34031</td>\n      <td>4.31365</td>\n      <td>4.32299</td>\n      <td>4.31099</td>\n      <td>4.27487</td>\n      <td>4.33</td>\n    </tr>\n  </tbody>\n</table>\n<p>13078 rows × 10 columns</p>\n</div>"
     },
     "execution_count": 3,
     "metadata": {},
     "output_type": "execute_result"
    }
   ],
   "source": [
    "raw_df_al_risk_free_rate = pd.read_excel('risk_free_rate.xlsx',sheet_name='risk_free_rate')\n",
    "\n",
    "raw_df_al_risk_free_rate.set_index('Dates',inplace=True)\n",
    "\n",
    "raw_df_al_risk_free_rate"
   ]
  },
  {
   "cell_type": "markdown",
   "metadata": {},
   "source": [
    "##### <font color= #90EE90>1.1 Modify Columns Names</font>"
   ]
  },
  {
   "cell_type": "code",
   "execution_count": 4,
   "metadata": {
    "ExecuteTime": {
     "end_time": "2025-02-18T14:20:23.796262Z",
     "start_time": "2025-02-18T14:20:23.785323Z"
    }
   },
   "outputs": [
    {
     "name": "stdout",
     "output_type": "stream",
     "text": [
      "PX_LAST\n"
     ]
    },
    {
     "data": {
      "text/plain": "Index(['GC1 COMB Comdty (USD)  (R1)', 'GC1 COMB Comdty (USD)_Open Interest',\n       'OI_SMAVG (15)', 'GC1 COMB Comdty _Volume', 'Vol_SMAVG (15)',\n       'SPX Index', 'NDX Index', 'DXY Curncy', 'USGG10YR Index',\n       'USGG2YR Index', 'CPI YOY Index', 'PCE CYOY Index', 'VIX Index',\n       'JPY Curncy', 'LEGATRUU Index', 'EMUSTRUU Index'],\n      dtype='object')"
     },
     "execution_count": 4,
     "metadata": {},
     "output_type": "execute_result"
    }
   ],
   "source": [
    "\"\"\"check dataframe\"\"\"\n",
    "#raw_df_al_gc2\n",
    "#raw_df_al_fed_eff_rate.index[0]\n",
    "#raw_df_al_pe\n",
    "#raw_df_al_main\n",
    "# raw_df_al_dp12\n",
    "print(raw_df_al_gdp_nom_yoy.columns[0])\n",
    "\n",
    "\n",
    "# Create Column names\n",
    "col_name_2 = {'D/P Ratio':raw_df_al_dp12,\n",
    "            'GDP_Nominoal_YOY':raw_df_al_gdp_nom_yoy,\n",
    "             'GDP_Real_QoQ':raw_df_al_gdp_real_qoq, \n",
    "             'CPI_YoY':raw_df_al_cpi_yoy, \n",
    "             'US_Unemp': raw_df_al_unemploy, \n",
    "             'Cons_Conf': raw_df_al_consumer_conf, \n",
    "             'US_RIR':raw_df_al_real_int,\n",
    "             \"Fed_Eff_Rate\": raw_df_al_fed_eff_rate\n",
    "             }\n",
    "\n",
    "\n",
    "for key, value in col_name_2.items():\n",
    "    value.rename(columns={value.columns[0]:key},inplace=True)\n",
    "\n",
    "#raw_df_al_dp12\n",
    "#print(raw_df_al_gdp_nom_yoy, raw_df_al_gdp_real_qoq, raw_df_al_cpi_yoy, raw_df_al_consumer_conf, raw_df_al_real_int,raw_df_al_unemploy)\n",
    "raw_df_al_main\n",
    "\n",
    "raw_df_al_main.columns"
   ]
  },
  {
   "cell_type": "markdown",
   "metadata": {},
   "source": [
    "##### <font color= #90EE90>1.2 Join More Tables and Set Index Time Starts from 1975</font>"
   ]
  },
  {
   "cell_type": "code",
   "execution_count": 5,
   "metadata": {
    "ExecuteTime": {
     "end_time": "2025-02-18T14:20:23.877022Z",
     "start_time": "2025-02-18T14:20:23.797482Z"
    }
   },
   "outputs": [
    {
     "name": "stdout",
     "output_type": "stream",
     "text": [
      "Index(['GC1_PX_Last', 'GC2_PX_Last', 'GC1_OPEN_INT', 'SPX Index', 'NDX Index',\n",
      "       'DXY Curncy', 'USGG10YR Index', 'USGG2YR Index', 'CPI YOY Index',\n",
      "       'PCE CYOY Index', 'VIX Index', 'JPY Curncy', 'LEGATRUU Index',\n",
      "       'EMUSTRUU Index', 'GC2_OPEN_INT', 'PE_RATIO', 'D/P Ratio',\n",
      "       'GDP_Nominoal_YOY', 'GDP_Real_QoQ', 'CPI_YoY', 'US_Unemp', 'Cons_Conf',\n",
      "       'US_RIR', 'Fed_Eff_Rate'],\n",
      "      dtype='object')\n"
     ]
    },
    {
     "data": {
      "text/plain": "            Fed_Eff_Rate\nDate                    \n2025-02-05          4.33\n2025-02-04          4.33\n2025-02-03          4.33\n2025-01-31          4.33\n2025-01-30          4.33\n...                  ...\n1975-01-08          5.12\n1975-01-07          7.30\n1975-01-06          7.85\n1975-01-03          8.37\n1975-01-02          8.55\n\n[12832 rows x 1 columns]",
      "text/html": "<div>\n<style scoped>\n    .dataframe tbody tr th:only-of-type {\n        vertical-align: middle;\n    }\n\n    .dataframe tbody tr th {\n        vertical-align: top;\n    }\n\n    .dataframe thead th {\n        text-align: right;\n    }\n</style>\n<table border=\"1\" class=\"dataframe\">\n  <thead>\n    <tr style=\"text-align: right;\">\n      <th></th>\n      <th>Fed_Eff_Rate</th>\n    </tr>\n    <tr>\n      <th>Date</th>\n      <th></th>\n    </tr>\n  </thead>\n  <tbody>\n    <tr>\n      <th>2025-02-05</th>\n      <td>4.33</td>\n    </tr>\n    <tr>\n      <th>2025-02-04</th>\n      <td>4.33</td>\n    </tr>\n    <tr>\n      <th>2025-02-03</th>\n      <td>4.33</td>\n    </tr>\n    <tr>\n      <th>2025-01-31</th>\n      <td>4.33</td>\n    </tr>\n    <tr>\n      <th>2025-01-30</th>\n      <td>4.33</td>\n    </tr>\n    <tr>\n      <th>...</th>\n      <td>...</td>\n    </tr>\n    <tr>\n      <th>1975-01-08</th>\n      <td>5.12</td>\n    </tr>\n    <tr>\n      <th>1975-01-07</th>\n      <td>7.30</td>\n    </tr>\n    <tr>\n      <th>1975-01-06</th>\n      <td>7.85</td>\n    </tr>\n    <tr>\n      <th>1975-01-03</th>\n      <td>8.37</td>\n    </tr>\n    <tr>\n      <th>1975-01-02</th>\n      <td>8.55</td>\n    </tr>\n  </tbody>\n</table>\n<p>12832 rows × 1 columns</p>\n</div>"
     },
     "execution_count": 5,
     "metadata": {},
     "output_type": "execute_result"
    }
   ],
   "source": [
    "bbg_df = raw_df_al_main.drop(raw_df_al_main.columns[2:5],axis=1)\n",
    "\n",
    "\n",
    "join_list = [raw_df_al_gc2, raw_df_al_pe]\n",
    "\n",
    "for key, value in col_name_2.items():\n",
    "    join_list.append(value)\n",
    "\n",
    "\n",
    "bbg_df = bbg_df.join(join_list, how='left')\n",
    "\n",
    "threshold_date = pd.Timestamp('1975-01-01')\n",
    "bbg_df = bbg_df[bbg_df.index > threshold_date]\n",
    "mapping = {bbg_df.columns[0]:'GC1_PX_Last',bbg_df.columns[1]:'GC1_OPEN_INT'}\n",
    "bbg_df.rename(columns=mapping, inplace=True)\n",
    "col = bbg_df.pop('GC2_PX_Last')\n",
    "bbg_df.insert(1,'GC2_PX_Last',col)\n",
    "# Sort by index (ascending order)\n",
    "bbg_df = bbg_df.sort_index(ascending=True)\n",
    "\n",
    "print(bbg_df.columns)\n",
    "bbg_df\n",
    "\n",
    "raw_df_al_fed_eff_rate[raw_df_al_fed_eff_rate.index> \"1975-01-01\"]"
   ]
  },
  {
   "cell_type": "markdown",
   "metadata": {
    "collapsed": false
   },
   "source": [
    "### 2 - Cleanse and Create Additional Data"
   ]
  },
  {
   "cell_type": "markdown",
   "metadata": {
    "collapsed": false
   },
   "source": [
    "##### 2.1 (Placeholder) Calculate volatility"
   ]
  },
  {
   "cell_type": "code",
   "execution_count": 6,
   "metadata": {
    "collapsed": false,
    "ExecuteTime": {
     "end_time": "2025-02-18T14:20:23.955096Z",
     "start_time": "2025-02-18T14:20:23.878030Z"
    }
   },
   "outputs": [],
   "source": [
    "import numpy as np\n",
    "import pandas as pd\n",
    "\n",
    "# Compute δ so that the sum of weights equals 60 days\n",
    "delta = 60 / (60 + 1)  # δ = 60 / (60 + 1)\n",
    "\n",
    "# Ensure Date is in datetime format and sorted\n",
    "bbg_df.index = pd.to_datetime(bbg_df.index, format='%Y-%m-%d')\n",
    "bbg_df = bbg_df.sort_index()\n",
    "\n",
    "# Compute daily log returns for the first and second columns\n",
    "log_returns = pd.DataFrame(index=bbg_df.index)\n",
    "log_returns['GC1_log_return'] = np.log(bbg_df.iloc[:, 0] / bbg_df.iloc[:, 0].shift(1))\n",
    "log_returns['GC2_log_return'] = np.log(bbg_df.iloc[:, 1] / bbg_df.iloc[:, 1].shift(1))\n",
    "\n",
    "# Compute EWMA variance for GC1 and GC2 --> agreed approach\n",
    "variance = pd.DataFrame(index=bbg_df.index)\n",
    "variance['GC1_variance'] = log_returns['GC1_log_return'].ewm(span=(1/(1-delta)), adjust=False).var()\n",
    "variance['GC2_variance'] = log_returns['GC2_log_return'].ewm(span=(1/(1-delta)), adjust=False).var()\n",
    "\n",
    "# Mask variance before 60 days to NaN\n",
    "variance.loc[:bbg_df.index[60], ['GC1_variance', 'GC2_variance']] = np.nan\n",
    "\n",
    "# Compute annualized volatility (square root of variance * 261)\n",
    "volatility = pd.DataFrame(index=bbg_df.index)\n",
    "volatility['GC1_volatility'] = np.sqrt(261 * variance['GC1_variance'])\n",
    "volatility['GC2_volatility'] = np.sqrt(261 * variance['GC2_variance'])\n",
    "\n",
    "volatility.to_csv('volatility.csv')\n"
   ]
  },
  {
   "cell_type": "markdown",
   "metadata": {},
   "source": [
    "##### **<font color= #90EE90>2.2 Fill Nan and Backfill Price Data</font>**"
   ]
  },
  {
   "cell_type": "code",
   "execution_count": 7,
   "metadata": {
    "ExecuteTime": {
     "end_time": "2025-02-18T14:20:23.980223Z",
     "start_time": "2025-02-18T14:20:23.956098Z"
    }
   },
   "outputs": [
    {
     "name": "stdout",
     "output_type": "stream",
     "text": [
      "Checking NaN in GC2 and GC1 before modification.......\n",
      "            GC1_PX_Last  GC2_PX_Last  GC1_OPEN_INT  SPX Index  NDX Index  \\\n",
      "Date                                                                       \n",
      "1975-02-12          NaN          NaN           NaN  79.919998        NaN   \n",
      "1975-02-17          NaN          NaN           NaN        NaN        NaN   \n",
      "1975-03-28          NaN          NaN           NaN        NaN        NaN   \n",
      "1975-05-26          NaN          NaN           NaN        NaN        NaN   \n",
      "1975-05-31          NaN          NaN           NaN        NaN        NaN   \n",
      "...                 ...          ...           ...        ...        ...   \n",
      "2024-11-28          NaN          NaN           NaN        NaN        NaN   \n",
      "2024-11-30          NaN          NaN           NaN        NaN        NaN   \n",
      "2024-12-25          NaN          NaN           NaN        NaN        NaN   \n",
      "2025-01-01          NaN          NaN           NaN        NaN        NaN   \n",
      "2025-01-20          NaN          NaN           NaN        NaN        NaN   \n",
      "\n",
      "            DXY Curncy  USGG10YR Index  USGG2YR Index  CPI YOY Index  \\\n",
      "Date                                                                   \n",
      "1975-02-12         NaN             NaN            NaN            NaN   \n",
      "1975-02-17         NaN             NaN            NaN            NaN   \n",
      "1975-03-28         NaN             NaN            NaN            NaN   \n",
      "1975-05-26         NaN             NaN            NaN            NaN   \n",
      "1975-05-31         NaN             NaN            NaN            9.5   \n",
      "...                ...             ...            ...            ...   \n",
      "2024-11-28     106.048             NaN            NaN            NaN   \n",
      "2024-11-30         NaN             NaN            NaN            2.7   \n",
      "2024-12-25         NaN             NaN            NaN            NaN   \n",
      "2025-01-01         NaN             NaN            NaN            NaN   \n",
      "2025-01-20     109.347             NaN            NaN            NaN   \n",
      "\n",
      "            PCE CYOY Index  ...  GC2_OPEN_INT  PE_RATIO  D/P Ratio  \\\n",
      "Date                        ...                                      \n",
      "1975-02-12             NaN  ...           NaN       NaN        NaN   \n",
      "1975-02-17             NaN  ...           NaN       NaN        NaN   \n",
      "1975-03-28             NaN  ...           NaN       NaN        NaN   \n",
      "1975-05-26             NaN  ...           NaN       NaN        NaN   \n",
      "1975-05-31         9.07047  ...           NaN       NaN        NaN   \n",
      "...                    ...  ...           ...       ...        ...   \n",
      "2024-11-28             NaN  ...           NaN   26.8705        NaN   \n",
      "2024-11-30         2.82107  ...           NaN       NaN        NaN   \n",
      "2024-12-25             NaN  ...           NaN   27.2346        NaN   \n",
      "2025-01-01             NaN  ...           NaN   26.5191        NaN   \n",
      "2025-01-20             NaN  ...           NaN   27.0383        NaN   \n",
      "\n",
      "            GDP_Nominoal_YOY  GDP_Real_QoQ  CPI_YoY  US_Unemp  Cons_Conf  \\\n",
      "Date                                                                       \n",
      "1975-02-12               NaN           NaN      NaN       NaN        NaN   \n",
      "1975-02-17               NaN           NaN      NaN       NaN        NaN   \n",
      "1975-03-28               NaN           NaN      NaN       NaN        NaN   \n",
      "1975-05-26               NaN           NaN      NaN       NaN        NaN   \n",
      "1975-05-31               NaN           NaN      9.5       9.0        NaN   \n",
      "...                      ...           ...      ...       ...        ...   \n",
      "2024-11-28               NaN           NaN      NaN       NaN        NaN   \n",
      "2024-11-30               NaN           NaN      2.7       4.2       71.8   \n",
      "2024-12-25               NaN           NaN      NaN       NaN        NaN   \n",
      "2025-01-01               NaN           NaN      NaN       NaN        NaN   \n",
      "2025-01-20               NaN           NaN      NaN       NaN        NaN   \n",
      "\n",
      "            US_RIR  Fed_Eff_Rate  \n",
      "Date                              \n",
      "1975-02-12     NaN          6.36  \n",
      "1975-02-17     NaN          6.29  \n",
      "1975-03-28     NaN          5.73  \n",
      "1975-05-26     NaN          5.07  \n",
      "1975-05-31 -4.2150           NaN  \n",
      "...            ...           ...  \n",
      "2024-11-28     NaN           NaN  \n",
      "2024-11-30  1.8756           NaN  \n",
      "2024-12-25     NaN           NaN  \n",
      "2025-01-01     NaN           NaN  \n",
      "2025-01-20     NaN           NaN  \n",
      "\n",
      "[647 rows x 24 columns]\n",
      "\n",
      "Checking any NaN left in GC2 .......\n",
      "\n",
      "Empty DataFrame\n",
      "Columns: [GC1_PX_Last, GC2_PX_Last, GC1_OPEN_INT, SPX Index, NDX Index, DXY Curncy, USGG10YR Index, USGG2YR Index, CPI YOY Index, PCE CYOY Index, VIX Index, JPY Curncy, LEGATRUU Index, EMUSTRUU Index, GC2_OPEN_INT, PE_RATIO, D/P Ratio, GDP_Nominoal_YOY, GDP_Real_QoQ, CPI_YoY, US_Unemp, Cons_Conf, US_RIR, Fed_Eff_Rate]\n",
      "Index: []\n",
      "\n",
      "[0 rows x 24 columns]\n",
      "\n",
      "Checking any NaN left in GC1 .......\n",
      "\n",
      "Empty DataFrame\n",
      "Columns: [GC1_PX_Last, GC2_PX_Last, GC1_OPEN_INT, SPX Index, NDX Index, DXY Curncy, USGG10YR Index, USGG2YR Index, CPI YOY Index, PCE CYOY Index, VIX Index, JPY Curncy, LEGATRUU Index, EMUSTRUU Index, GC2_OPEN_INT, PE_RATIO, D/P Ratio, GDP_Nominoal_YOY, GDP_Real_QoQ, CPI_YoY, US_Unemp, Cons_Conf, US_RIR, Fed_Eff_Rate]\n",
      "Index: []\n",
      "\n",
      "[0 rows x 24 columns]\n",
      "\n",
      "Checking 2025-01-01 .......\n",
      "GC1_PX_Last         2641.0000\n",
      "GC2_PX_Last         2666.0000\n",
      "GC1_OPEN_INT              NaN\n",
      "SPX Index                 NaN\n",
      "NDX Index                 NaN\n",
      "DXY Curncy                NaN\n",
      "USGG10YR Index            NaN\n",
      "USGG2YR Index             NaN\n",
      "CPI YOY Index             NaN\n",
      "PCE CYOY Index            NaN\n",
      "VIX Index                 NaN\n",
      "JPY Curncy           157.2400\n",
      "LEGATRUU Index            NaN\n",
      "EMUSTRUU Index            NaN\n",
      "GC2_OPEN_INT              NaN\n",
      "PE_RATIO              26.5191\n",
      "D/P Ratio                 NaN\n",
      "GDP_Nominoal_YOY          NaN\n",
      "GDP_Real_QoQ              NaN\n",
      "CPI_YoY                   NaN\n",
      "US_Unemp                  NaN\n",
      "Cons_Conf                 NaN\n",
      "US_RIR                    NaN\n",
      "Fed_Eff_Rate              NaN\n",
      "Name: 2025-01-01 00:00:00, dtype: float64\n"
     ]
    },
    {
     "name": "stderr",
     "output_type": "stream",
     "text": [
      "C:\\Users\\15201\\AppData\\Local\\Temp\\ipykernel_22072\\4040557203.py:7: FutureWarning: Series.fillna with 'method' is deprecated and will raise in a future version. Use obj.ffill() or obj.bfill() instead.\n",
      "  bbg_df['GC2_PX_Last'] = bbg_df['GC2_PX_Last'].fillna(method = 'ffill' )\n",
      "C:\\Users\\15201\\AppData\\Local\\Temp\\ipykernel_22072\\4040557203.py:8: FutureWarning: Series.fillna with 'method' is deprecated and will raise in a future version. Use obj.ffill() or obj.bfill() instead.\n",
      "  bbg_df['GC1_PX_Last'] = bbg_df['GC1_PX_Last'].fillna(method = 'ffill' )\n"
     ]
    }
   ],
   "source": [
    "bbg_df = bbg_df.copy(deep=True)\n",
    "\n",
    "print(\"Checking NaN in GC2 and GC1 before modification.......\")\n",
    "print(bbg_df[bbg_df['GC2_PX_Last'].isna()])\n",
    "\n",
    "\n",
    "bbg_df['GC2_PX_Last'] = bbg_df['GC2_PX_Last'].fillna(method = 'ffill' )\n",
    "bbg_df['GC1_PX_Last'] = bbg_df['GC1_PX_Last'].fillna(method = 'ffill' )\n",
    "\n",
    "#checking\n",
    "print(\"\\nChecking any NaN left in GC2 .......\")\n",
    "print()\n",
    "print(bbg_df[bbg_df['GC2_PX_Last'].isna()])\n",
    "\n",
    "print(\"\\nChecking any NaN left in GC1 .......\")\n",
    "print()\n",
    "print(bbg_df[bbg_df['GC1_PX_Last'].isna()])\n",
    "\n",
    "print(\"\\nChecking 2025-01-01 .......\")\n",
    "print(bbg_df.loc['2025-01-01'])\n",
    "\n",
    "\n"
   ]
  },
  {
   "cell_type": "markdown",
   "metadata": {},
   "source": [
    "##### **<font color= #90EE90>2.3 Calculate Daily Gold Return and Daily Risk Free Rate </font>**"
   ]
  },
  {
   "cell_type": "markdown",
   "metadata": {},
   "source": [
    "**Risk Free Rate**"
   ]
  },
  {
   "cell_type": "code",
   "execution_count": 8,
   "metadata": {
    "ExecuteTime": {
     "end_time": "2025-02-18T14:20:24.009583Z",
     "start_time": "2025-02-18T14:20:23.981225Z"
    }
   },
   "outputs": [
    {
     "data": {
      "text/plain": "            US0001M Index  US0003M Index  US0006M Index  GB12 Govt  \\\nDates                                                                \n2024-11-25        4.96018        4.85372        4.68213      4.371   \n2024-11-26        4.96018        4.85372        4.68213      4.367   \n2024-11-27        4.96018        4.85372        4.68213      4.331   \n2024-11-28        4.96018        4.85372        4.68213      4.331   \n2024-11-29        4.96018        4.85372        4.68213      4.290   \n2024-12-02        4.96018        4.85372        4.68213      4.285   \n2024-12-03        4.96018        4.85372        4.68213      4.270   \n2024-12-04        4.96018        4.85372        4.68213      4.225   \n2024-12-05        4.96018        4.85372        4.68213      4.233   \n2024-12-06        4.96018        4.85372        4.68213      4.183   \n2024-12-09        4.96018        4.85372        4.68213      4.196   \n2024-12-10        4.96018        4.85372        4.68213      4.212   \n2024-12-11        4.96018        4.85372        4.68213      4.201   \n2024-12-12        4.96018        4.85372        4.68213      4.224   \n2024-12-13        4.96018        4.85372        4.68213      4.240   \n2024-12-16        4.96018        4.85372        4.68213      4.241   \n2024-12-17        4.96018        4.85372        4.68213      4.247   \n2024-12-18        4.96018        4.85372        4.68213      4.294   \n2024-12-19        4.96018        4.85372        4.68213      4.264   \n2024-12-20        4.96018        4.85372        4.68213      4.252   \n2024-12-23        4.96018        4.85372        4.68213      4.222   \n2024-12-24        4.96018        4.85372        4.68213      4.232   \n2024-12-25        4.96018        4.85372        4.68213      4.232   \n2024-12-26        4.96018        4.85372        4.68213      4.229   \n2024-12-27        4.96018        4.85372        4.68213      4.191   \n2024-12-30        4.96018        4.85372        4.68213      4.160   \n2024-12-31        4.96018        4.85372        4.68213      4.152   \n2025-01-01        4.96018        4.85372        4.68213      4.152   \n2025-01-02        4.96018        4.85372        4.68213      4.156   \n2025-01-03        4.96018        4.85372        4.68213      4.173   \n2025-01-06        4.96018        4.85372        4.68213      4.163   \n2025-01-07        4.96018        4.85372        4.68213      4.183   \n2025-01-08        4.96018        4.85372        4.68213      4.170   \n2025-01-09        4.96018        4.85372        4.68213      4.155   \n2025-01-10        4.96018        4.85372        4.68213      4.220   \n2025-01-13        4.96018        4.85372        4.68213      4.217   \n2025-01-14        4.96018        4.85372        4.68213      4.206   \n2025-01-15        4.96018        4.85372        4.68213      4.174   \n2025-01-16        4.96018        4.85372        4.68213      4.171   \n2025-01-17        4.96018        4.85372        4.68213      4.209   \n2025-01-20        4.96018        4.85372        4.68213      4.209   \n2025-01-21        4.96018        4.85372        4.68213      4.186   \n2025-01-22        4.96018        4.85372        4.68213      4.196   \n2025-01-23        4.96018        4.85372        4.68213      4.178   \n2025-01-24        4.96018        4.85372        4.68213      4.164   \n2025-01-27        4.96018        4.85372        4.68213      4.133   \n2025-01-28        4.96018        4.85372        4.68213      4.132   \n2025-01-29        4.96018        4.85372        4.68213      4.163   \n2025-01-30        4.96018        4.85372        4.68213      4.160   \n2025-01-31        4.96018        4.85372        4.68213      4.157   \n2025-02-03        4.96018        4.85372        4.68213      4.195   \n2025-02-04        4.96018        4.85372        4.68213      4.180   \n2025-02-05        4.96018        4.85372        4.68213      4.168   \n2025-02-06        4.96018        4.85372        4.68213      4.179   \n2025-02-07        4.96018        4.85372        4.68213      4.230   \n2025-02-10        4.96018        4.85372        4.68213      4.234   \n2025-02-11        4.96018        4.85372        4.68213      4.248   \n2025-02-12        4.96018        4.85372        4.68213      4.278   \n2025-02-13        4.96018        4.85372        4.68213      4.261   \n2025-02-14        4.96018        4.85372        4.68213      4.221   \n\n            SOFR30A Index  TSFR1M Index  TSFR3M Index  TSFR6M Index  \\\nDates                                                                 \n2024-11-25        4.69922       4.58557       4.52108       4.44499   \n2024-11-26        4.69087       4.57258       4.51391       4.43287   \n2024-11-27        4.68251       4.55265       4.49937       4.42430   \n2024-11-28        4.68251       4.55265       4.49937       4.42430   \n2024-11-29        4.66576       4.53093       4.46620       4.38359   \n2024-12-02        4.63898       4.52397       4.46472       4.37540   \n2024-12-03        4.63164       4.52539       4.47178       4.39344   \n2024-12-04        4.62428       4.50740       4.44417       4.35291   \n2024-12-05        4.61658       4.48252       4.42844       4.33044   \n2024-12-06        4.60889       4.47730       4.42672       4.32942   \n2024-12-09        4.59450       4.45195       4.39622       4.28907   \n2024-12-10        4.59555       4.44652       4.39219       4.28598   \n2024-12-11        4.59690       4.44351       4.39545       4.29464   \n2024-12-12        4.59757       4.39709       4.35857       4.26045   \n2024-12-13        4.59824       4.38182       4.34872       4.26041   \n2024-12-16        4.60023       4.37521       4.35138       4.27273   \n2024-12-17        4.60293       4.36635       4.35285       4.27749   \n2024-12-18        4.60460       4.37026       4.35406       4.28318   \n2024-12-19        4.60460       4.35603       4.33731       4.28092   \n2024-12-20        4.59556       4.33654       4.32742       4.27621   \n2024-12-23        4.56879       4.33874       4.32594       4.27159   \n2024-12-24        4.56011       4.33778       4.32666       4.28467   \n2024-12-25        4.56011       4.33778       4.32666       4.28467   \n2024-12-26        4.54838       4.34464       4.32466       4.28209   \n2024-12-27        4.54671       4.35701       4.32878       4.28493   \n2024-12-30        4.53500       4.33704       4.31044       4.26230   \n2024-12-31        4.52766       4.33249       4.30510       4.25001   \n2025-01-01        4.52766       4.33249       4.30510       4.25001   \n2025-01-02        4.51928       4.32556       4.29605       4.23780   \n2025-01-03        4.51125       4.31543       4.29369       4.24195   \n2025-01-06        4.48280       4.30639       4.28820       4.24212   \n2025-01-07        4.47178       4.29743       4.28516       4.24557   \n2025-01-08        4.46074       4.29764       4.28903       4.25796   \n2025-01-09        4.44937       4.30208       4.28894       4.25060   \n2025-01-10        4.43799       4.30254       4.28701       4.24458   \n2025-01-13        4.40654       4.30624       4.30198       4.27941   \n2025-01-14        4.39619       4.30517       4.30758       4.29626   \n2025-01-15        4.38548       4.30105       4.30288       4.28862   \n2025-01-16        4.37310       4.29872       4.29317       4.26213   \n2025-01-17        4.36207       4.30040       4.29009       4.25381   \n2025-01-20        4.36207       4.30040       4.29009       4.25381   \n2025-01-21        4.35165       4.30213       4.29034       4.25210   \n2025-01-22        4.35131       4.30483       4.29664       4.26221   \n2025-01-23        4.35098       4.31064       4.30007       4.26323   \n2025-01-24        4.34932       4.31541       4.29984       4.25906   \n2025-01-27        4.33693       4.31300       4.29387       4.24623   \n2025-01-28        4.33293       4.31032       4.28689       4.22963   \n2025-01-29        4.32926       4.31159       4.29075       4.23682   \n2025-01-30        4.32859       4.30861       4.29071       4.23861   \n2025-01-31        4.32426       4.31308       4.30225       4.24831   \n2025-02-03        4.32223       4.31268       4.30313       4.25107   \n2025-02-04        4.32359       4.30733       4.30188       4.26173   \n2025-02-05        4.32425       4.30786       4.30191       4.25910   \n2025-02-06        4.32626       4.31014       4.29735       4.24683   \n2025-02-07        4.32927       4.31519       4.30394       4.25772   \n2025-02-10        4.33461       4.31847       4.31469       4.27893   \n2025-02-11        4.33630       4.31738       4.31504       4.28305   \n2025-02-12        4.33763       4.31439       4.31802       4.29233   \n2025-02-13        4.33864       4.31186       4.32298       4.31501   \n2025-02-14        4.34031       4.31365       4.32299       4.31099   \n\n            TSFR12M Index  FEDL01 Index  \nDates                                    \n2024-11-25        4.32577          4.58  \n2024-11-26        4.30411          4.58  \n2024-11-27        4.30503          4.58  \n2024-11-28        4.30503          4.58  \n2024-11-29        4.25389          4.58  \n2024-12-02        4.23430          4.58  \n2024-12-03        4.26085          4.58  \n2024-12-04        4.20612          4.58  \n2024-12-05        4.17784          4.58  \n2024-12-06        4.18079          4.58  \n2024-12-09        4.12895          4.58  \n2024-12-10        4.13085          4.58  \n2024-12-11        4.14866          4.58  \n2024-12-12        4.12138          4.58  \n2024-12-13        4.13579          4.58  \n2024-12-16        4.17105          4.58  \n2024-12-17        4.17776          4.58  \n2024-12-18        4.19250          4.58  \n2024-12-19        4.21112          4.33  \n2024-12-20        4.22397          4.33  \n2024-12-23        4.21088          4.33  \n2024-12-24        4.24104          4.33  \n2024-12-25        4.24104          4.33  \n2024-12-26        4.24026          4.33  \n2024-12-27        4.23931          4.33  \n2024-12-30        4.20684          4.33  \n2024-12-31        4.17500          4.33  \n2025-01-01        4.17500          4.33  \n2025-01-02        4.16241          4.33  \n2025-01-03        4.16471          4.33  \n2025-01-06        4.17770          4.33  \n2025-01-07        4.18552          4.33  \n2025-01-08        4.20968          4.33  \n2025-01-09        4.19237          4.33  \n2025-01-10        4.17833          4.33  \n2025-01-13        4.24478          4.33  \n2025-01-14        4.27781          4.33  \n2025-01-15        4.26435          4.33  \n2025-01-16        4.20801          4.33  \n2025-01-17        4.19425          4.33  \n2025-01-20        4.19425          4.33  \n2025-01-21        4.19466          4.33  \n2025-01-22        4.20721          4.33  \n2025-01-23        4.20606          4.33  \n2025-01-24        4.19880          4.33  \n2025-01-27        4.17975          4.33  \n2025-01-28        4.13904          4.33  \n2025-01-29        4.15062          4.33  \n2025-01-30        4.15840          4.33  \n2025-01-31        4.16030          4.33  \n2025-02-03        4.16774          4.33  \n2025-02-04        4.19270          4.33  \n2025-02-05        4.18877          4.33  \n2025-02-06        4.16057          4.33  \n2025-02-07        4.17911          4.33  \n2025-02-10        4.21972          4.33  \n2025-02-11        4.22440          4.33  \n2025-02-12        4.24398          4.33  \n2025-02-13        4.29153          4.33  \n2025-02-14        4.27487          4.33  ",
      "text/html": "<div>\n<style scoped>\n    .dataframe tbody tr th:only-of-type {\n        vertical-align: middle;\n    }\n\n    .dataframe tbody tr th {\n        vertical-align: top;\n    }\n\n    .dataframe thead th {\n        text-align: right;\n    }\n</style>\n<table border=\"1\" class=\"dataframe\">\n  <thead>\n    <tr style=\"text-align: right;\">\n      <th></th>\n      <th>US0001M Index</th>\n      <th>US0003M Index</th>\n      <th>US0006M Index</th>\n      <th>GB12 Govt</th>\n      <th>SOFR30A Index</th>\n      <th>TSFR1M Index</th>\n      <th>TSFR3M Index</th>\n      <th>TSFR6M Index</th>\n      <th>TSFR12M Index</th>\n      <th>FEDL01 Index</th>\n    </tr>\n    <tr>\n      <th>Dates</th>\n      <th></th>\n      <th></th>\n      <th></th>\n      <th></th>\n      <th></th>\n      <th></th>\n      <th></th>\n      <th></th>\n      <th></th>\n      <th></th>\n    </tr>\n  </thead>\n  <tbody>\n    <tr>\n      <th>2024-11-25</th>\n      <td>4.96018</td>\n      <td>4.85372</td>\n      <td>4.68213</td>\n      <td>4.371</td>\n      <td>4.69922</td>\n      <td>4.58557</td>\n      <td>4.52108</td>\n      <td>4.44499</td>\n      <td>4.32577</td>\n      <td>4.58</td>\n    </tr>\n    <tr>\n      <th>2024-11-26</th>\n      <td>4.96018</td>\n      <td>4.85372</td>\n      <td>4.68213</td>\n      <td>4.367</td>\n      <td>4.69087</td>\n      <td>4.57258</td>\n      <td>4.51391</td>\n      <td>4.43287</td>\n      <td>4.30411</td>\n      <td>4.58</td>\n    </tr>\n    <tr>\n      <th>2024-11-27</th>\n      <td>4.96018</td>\n      <td>4.85372</td>\n      <td>4.68213</td>\n      <td>4.331</td>\n      <td>4.68251</td>\n      <td>4.55265</td>\n      <td>4.49937</td>\n      <td>4.42430</td>\n      <td>4.30503</td>\n      <td>4.58</td>\n    </tr>\n    <tr>\n      <th>2024-11-28</th>\n      <td>4.96018</td>\n      <td>4.85372</td>\n      <td>4.68213</td>\n      <td>4.331</td>\n      <td>4.68251</td>\n      <td>4.55265</td>\n      <td>4.49937</td>\n      <td>4.42430</td>\n      <td>4.30503</td>\n      <td>4.58</td>\n    </tr>\n    <tr>\n      <th>2024-11-29</th>\n      <td>4.96018</td>\n      <td>4.85372</td>\n      <td>4.68213</td>\n      <td>4.290</td>\n      <td>4.66576</td>\n      <td>4.53093</td>\n      <td>4.46620</td>\n      <td>4.38359</td>\n      <td>4.25389</td>\n      <td>4.58</td>\n    </tr>\n    <tr>\n      <th>2024-12-02</th>\n      <td>4.96018</td>\n      <td>4.85372</td>\n      <td>4.68213</td>\n      <td>4.285</td>\n      <td>4.63898</td>\n      <td>4.52397</td>\n      <td>4.46472</td>\n      <td>4.37540</td>\n      <td>4.23430</td>\n      <td>4.58</td>\n    </tr>\n    <tr>\n      <th>2024-12-03</th>\n      <td>4.96018</td>\n      <td>4.85372</td>\n      <td>4.68213</td>\n      <td>4.270</td>\n      <td>4.63164</td>\n      <td>4.52539</td>\n      <td>4.47178</td>\n      <td>4.39344</td>\n      <td>4.26085</td>\n      <td>4.58</td>\n    </tr>\n    <tr>\n      <th>2024-12-04</th>\n      <td>4.96018</td>\n      <td>4.85372</td>\n      <td>4.68213</td>\n      <td>4.225</td>\n      <td>4.62428</td>\n      <td>4.50740</td>\n      <td>4.44417</td>\n      <td>4.35291</td>\n      <td>4.20612</td>\n      <td>4.58</td>\n    </tr>\n    <tr>\n      <th>2024-12-05</th>\n      <td>4.96018</td>\n      <td>4.85372</td>\n      <td>4.68213</td>\n      <td>4.233</td>\n      <td>4.61658</td>\n      <td>4.48252</td>\n      <td>4.42844</td>\n      <td>4.33044</td>\n      <td>4.17784</td>\n      <td>4.58</td>\n    </tr>\n    <tr>\n      <th>2024-12-06</th>\n      <td>4.96018</td>\n      <td>4.85372</td>\n      <td>4.68213</td>\n      <td>4.183</td>\n      <td>4.60889</td>\n      <td>4.47730</td>\n      <td>4.42672</td>\n      <td>4.32942</td>\n      <td>4.18079</td>\n      <td>4.58</td>\n    </tr>\n    <tr>\n      <th>2024-12-09</th>\n      <td>4.96018</td>\n      <td>4.85372</td>\n      <td>4.68213</td>\n      <td>4.196</td>\n      <td>4.59450</td>\n      <td>4.45195</td>\n      <td>4.39622</td>\n      <td>4.28907</td>\n      <td>4.12895</td>\n      <td>4.58</td>\n    </tr>\n    <tr>\n      <th>2024-12-10</th>\n      <td>4.96018</td>\n      <td>4.85372</td>\n      <td>4.68213</td>\n      <td>4.212</td>\n      <td>4.59555</td>\n      <td>4.44652</td>\n      <td>4.39219</td>\n      <td>4.28598</td>\n      <td>4.13085</td>\n      <td>4.58</td>\n    </tr>\n    <tr>\n      <th>2024-12-11</th>\n      <td>4.96018</td>\n      <td>4.85372</td>\n      <td>4.68213</td>\n      <td>4.201</td>\n      <td>4.59690</td>\n      <td>4.44351</td>\n      <td>4.39545</td>\n      <td>4.29464</td>\n      <td>4.14866</td>\n      <td>4.58</td>\n    </tr>\n    <tr>\n      <th>2024-12-12</th>\n      <td>4.96018</td>\n      <td>4.85372</td>\n      <td>4.68213</td>\n      <td>4.224</td>\n      <td>4.59757</td>\n      <td>4.39709</td>\n      <td>4.35857</td>\n      <td>4.26045</td>\n      <td>4.12138</td>\n      <td>4.58</td>\n    </tr>\n    <tr>\n      <th>2024-12-13</th>\n      <td>4.96018</td>\n      <td>4.85372</td>\n      <td>4.68213</td>\n      <td>4.240</td>\n      <td>4.59824</td>\n      <td>4.38182</td>\n      <td>4.34872</td>\n      <td>4.26041</td>\n      <td>4.13579</td>\n      <td>4.58</td>\n    </tr>\n    <tr>\n      <th>2024-12-16</th>\n      <td>4.96018</td>\n      <td>4.85372</td>\n      <td>4.68213</td>\n      <td>4.241</td>\n      <td>4.60023</td>\n      <td>4.37521</td>\n      <td>4.35138</td>\n      <td>4.27273</td>\n      <td>4.17105</td>\n      <td>4.58</td>\n    </tr>\n    <tr>\n      <th>2024-12-17</th>\n      <td>4.96018</td>\n      <td>4.85372</td>\n      <td>4.68213</td>\n      <td>4.247</td>\n      <td>4.60293</td>\n      <td>4.36635</td>\n      <td>4.35285</td>\n      <td>4.27749</td>\n      <td>4.17776</td>\n      <td>4.58</td>\n    </tr>\n    <tr>\n      <th>2024-12-18</th>\n      <td>4.96018</td>\n      <td>4.85372</td>\n      <td>4.68213</td>\n      <td>4.294</td>\n      <td>4.60460</td>\n      <td>4.37026</td>\n      <td>4.35406</td>\n      <td>4.28318</td>\n      <td>4.19250</td>\n      <td>4.58</td>\n    </tr>\n    <tr>\n      <th>2024-12-19</th>\n      <td>4.96018</td>\n      <td>4.85372</td>\n      <td>4.68213</td>\n      <td>4.264</td>\n      <td>4.60460</td>\n      <td>4.35603</td>\n      <td>4.33731</td>\n      <td>4.28092</td>\n      <td>4.21112</td>\n      <td>4.33</td>\n    </tr>\n    <tr>\n      <th>2024-12-20</th>\n      <td>4.96018</td>\n      <td>4.85372</td>\n      <td>4.68213</td>\n      <td>4.252</td>\n      <td>4.59556</td>\n      <td>4.33654</td>\n      <td>4.32742</td>\n      <td>4.27621</td>\n      <td>4.22397</td>\n      <td>4.33</td>\n    </tr>\n    <tr>\n      <th>2024-12-23</th>\n      <td>4.96018</td>\n      <td>4.85372</td>\n      <td>4.68213</td>\n      <td>4.222</td>\n      <td>4.56879</td>\n      <td>4.33874</td>\n      <td>4.32594</td>\n      <td>4.27159</td>\n      <td>4.21088</td>\n      <td>4.33</td>\n    </tr>\n    <tr>\n      <th>2024-12-24</th>\n      <td>4.96018</td>\n      <td>4.85372</td>\n      <td>4.68213</td>\n      <td>4.232</td>\n      <td>4.56011</td>\n      <td>4.33778</td>\n      <td>4.32666</td>\n      <td>4.28467</td>\n      <td>4.24104</td>\n      <td>4.33</td>\n    </tr>\n    <tr>\n      <th>2024-12-25</th>\n      <td>4.96018</td>\n      <td>4.85372</td>\n      <td>4.68213</td>\n      <td>4.232</td>\n      <td>4.56011</td>\n      <td>4.33778</td>\n      <td>4.32666</td>\n      <td>4.28467</td>\n      <td>4.24104</td>\n      <td>4.33</td>\n    </tr>\n    <tr>\n      <th>2024-12-26</th>\n      <td>4.96018</td>\n      <td>4.85372</td>\n      <td>4.68213</td>\n      <td>4.229</td>\n      <td>4.54838</td>\n      <td>4.34464</td>\n      <td>4.32466</td>\n      <td>4.28209</td>\n      <td>4.24026</td>\n      <td>4.33</td>\n    </tr>\n    <tr>\n      <th>2024-12-27</th>\n      <td>4.96018</td>\n      <td>4.85372</td>\n      <td>4.68213</td>\n      <td>4.191</td>\n      <td>4.54671</td>\n      <td>4.35701</td>\n      <td>4.32878</td>\n      <td>4.28493</td>\n      <td>4.23931</td>\n      <td>4.33</td>\n    </tr>\n    <tr>\n      <th>2024-12-30</th>\n      <td>4.96018</td>\n      <td>4.85372</td>\n      <td>4.68213</td>\n      <td>4.160</td>\n      <td>4.53500</td>\n      <td>4.33704</td>\n      <td>4.31044</td>\n      <td>4.26230</td>\n      <td>4.20684</td>\n      <td>4.33</td>\n    </tr>\n    <tr>\n      <th>2024-12-31</th>\n      <td>4.96018</td>\n      <td>4.85372</td>\n      <td>4.68213</td>\n      <td>4.152</td>\n      <td>4.52766</td>\n      <td>4.33249</td>\n      <td>4.30510</td>\n      <td>4.25001</td>\n      <td>4.17500</td>\n      <td>4.33</td>\n    </tr>\n    <tr>\n      <th>2025-01-01</th>\n      <td>4.96018</td>\n      <td>4.85372</td>\n      <td>4.68213</td>\n      <td>4.152</td>\n      <td>4.52766</td>\n      <td>4.33249</td>\n      <td>4.30510</td>\n      <td>4.25001</td>\n      <td>4.17500</td>\n      <td>4.33</td>\n    </tr>\n    <tr>\n      <th>2025-01-02</th>\n      <td>4.96018</td>\n      <td>4.85372</td>\n      <td>4.68213</td>\n      <td>4.156</td>\n      <td>4.51928</td>\n      <td>4.32556</td>\n      <td>4.29605</td>\n      <td>4.23780</td>\n      <td>4.16241</td>\n      <td>4.33</td>\n    </tr>\n    <tr>\n      <th>2025-01-03</th>\n      <td>4.96018</td>\n      <td>4.85372</td>\n      <td>4.68213</td>\n      <td>4.173</td>\n      <td>4.51125</td>\n      <td>4.31543</td>\n      <td>4.29369</td>\n      <td>4.24195</td>\n      <td>4.16471</td>\n      <td>4.33</td>\n    </tr>\n    <tr>\n      <th>2025-01-06</th>\n      <td>4.96018</td>\n      <td>4.85372</td>\n      <td>4.68213</td>\n      <td>4.163</td>\n      <td>4.48280</td>\n      <td>4.30639</td>\n      <td>4.28820</td>\n      <td>4.24212</td>\n      <td>4.17770</td>\n      <td>4.33</td>\n    </tr>\n    <tr>\n      <th>2025-01-07</th>\n      <td>4.96018</td>\n      <td>4.85372</td>\n      <td>4.68213</td>\n      <td>4.183</td>\n      <td>4.47178</td>\n      <td>4.29743</td>\n      <td>4.28516</td>\n      <td>4.24557</td>\n      <td>4.18552</td>\n      <td>4.33</td>\n    </tr>\n    <tr>\n      <th>2025-01-08</th>\n      <td>4.96018</td>\n      <td>4.85372</td>\n      <td>4.68213</td>\n      <td>4.170</td>\n      <td>4.46074</td>\n      <td>4.29764</td>\n      <td>4.28903</td>\n      <td>4.25796</td>\n      <td>4.20968</td>\n      <td>4.33</td>\n    </tr>\n    <tr>\n      <th>2025-01-09</th>\n      <td>4.96018</td>\n      <td>4.85372</td>\n      <td>4.68213</td>\n      <td>4.155</td>\n      <td>4.44937</td>\n      <td>4.30208</td>\n      <td>4.28894</td>\n      <td>4.25060</td>\n      <td>4.19237</td>\n      <td>4.33</td>\n    </tr>\n    <tr>\n      <th>2025-01-10</th>\n      <td>4.96018</td>\n      <td>4.85372</td>\n      <td>4.68213</td>\n      <td>4.220</td>\n      <td>4.43799</td>\n      <td>4.30254</td>\n      <td>4.28701</td>\n      <td>4.24458</td>\n      <td>4.17833</td>\n      <td>4.33</td>\n    </tr>\n    <tr>\n      <th>2025-01-13</th>\n      <td>4.96018</td>\n      <td>4.85372</td>\n      <td>4.68213</td>\n      <td>4.217</td>\n      <td>4.40654</td>\n      <td>4.30624</td>\n      <td>4.30198</td>\n      <td>4.27941</td>\n      <td>4.24478</td>\n      <td>4.33</td>\n    </tr>\n    <tr>\n      <th>2025-01-14</th>\n      <td>4.96018</td>\n      <td>4.85372</td>\n      <td>4.68213</td>\n      <td>4.206</td>\n      <td>4.39619</td>\n      <td>4.30517</td>\n      <td>4.30758</td>\n      <td>4.29626</td>\n      <td>4.27781</td>\n      <td>4.33</td>\n    </tr>\n    <tr>\n      <th>2025-01-15</th>\n      <td>4.96018</td>\n      <td>4.85372</td>\n      <td>4.68213</td>\n      <td>4.174</td>\n      <td>4.38548</td>\n      <td>4.30105</td>\n      <td>4.30288</td>\n      <td>4.28862</td>\n      <td>4.26435</td>\n      <td>4.33</td>\n    </tr>\n    <tr>\n      <th>2025-01-16</th>\n      <td>4.96018</td>\n      <td>4.85372</td>\n      <td>4.68213</td>\n      <td>4.171</td>\n      <td>4.37310</td>\n      <td>4.29872</td>\n      <td>4.29317</td>\n      <td>4.26213</td>\n      <td>4.20801</td>\n      <td>4.33</td>\n    </tr>\n    <tr>\n      <th>2025-01-17</th>\n      <td>4.96018</td>\n      <td>4.85372</td>\n      <td>4.68213</td>\n      <td>4.209</td>\n      <td>4.36207</td>\n      <td>4.30040</td>\n      <td>4.29009</td>\n      <td>4.25381</td>\n      <td>4.19425</td>\n      <td>4.33</td>\n    </tr>\n    <tr>\n      <th>2025-01-20</th>\n      <td>4.96018</td>\n      <td>4.85372</td>\n      <td>4.68213</td>\n      <td>4.209</td>\n      <td>4.36207</td>\n      <td>4.30040</td>\n      <td>4.29009</td>\n      <td>4.25381</td>\n      <td>4.19425</td>\n      <td>4.33</td>\n    </tr>\n    <tr>\n      <th>2025-01-21</th>\n      <td>4.96018</td>\n      <td>4.85372</td>\n      <td>4.68213</td>\n      <td>4.186</td>\n      <td>4.35165</td>\n      <td>4.30213</td>\n      <td>4.29034</td>\n      <td>4.25210</td>\n      <td>4.19466</td>\n      <td>4.33</td>\n    </tr>\n    <tr>\n      <th>2025-01-22</th>\n      <td>4.96018</td>\n      <td>4.85372</td>\n      <td>4.68213</td>\n      <td>4.196</td>\n      <td>4.35131</td>\n      <td>4.30483</td>\n      <td>4.29664</td>\n      <td>4.26221</td>\n      <td>4.20721</td>\n      <td>4.33</td>\n    </tr>\n    <tr>\n      <th>2025-01-23</th>\n      <td>4.96018</td>\n      <td>4.85372</td>\n      <td>4.68213</td>\n      <td>4.178</td>\n      <td>4.35098</td>\n      <td>4.31064</td>\n      <td>4.30007</td>\n      <td>4.26323</td>\n      <td>4.20606</td>\n      <td>4.33</td>\n    </tr>\n    <tr>\n      <th>2025-01-24</th>\n      <td>4.96018</td>\n      <td>4.85372</td>\n      <td>4.68213</td>\n      <td>4.164</td>\n      <td>4.34932</td>\n      <td>4.31541</td>\n      <td>4.29984</td>\n      <td>4.25906</td>\n      <td>4.19880</td>\n      <td>4.33</td>\n    </tr>\n    <tr>\n      <th>2025-01-27</th>\n      <td>4.96018</td>\n      <td>4.85372</td>\n      <td>4.68213</td>\n      <td>4.133</td>\n      <td>4.33693</td>\n      <td>4.31300</td>\n      <td>4.29387</td>\n      <td>4.24623</td>\n      <td>4.17975</td>\n      <td>4.33</td>\n    </tr>\n    <tr>\n      <th>2025-01-28</th>\n      <td>4.96018</td>\n      <td>4.85372</td>\n      <td>4.68213</td>\n      <td>4.132</td>\n      <td>4.33293</td>\n      <td>4.31032</td>\n      <td>4.28689</td>\n      <td>4.22963</td>\n      <td>4.13904</td>\n      <td>4.33</td>\n    </tr>\n    <tr>\n      <th>2025-01-29</th>\n      <td>4.96018</td>\n      <td>4.85372</td>\n      <td>4.68213</td>\n      <td>4.163</td>\n      <td>4.32926</td>\n      <td>4.31159</td>\n      <td>4.29075</td>\n      <td>4.23682</td>\n      <td>4.15062</td>\n      <td>4.33</td>\n    </tr>\n    <tr>\n      <th>2025-01-30</th>\n      <td>4.96018</td>\n      <td>4.85372</td>\n      <td>4.68213</td>\n      <td>4.160</td>\n      <td>4.32859</td>\n      <td>4.30861</td>\n      <td>4.29071</td>\n      <td>4.23861</td>\n      <td>4.15840</td>\n      <td>4.33</td>\n    </tr>\n    <tr>\n      <th>2025-01-31</th>\n      <td>4.96018</td>\n      <td>4.85372</td>\n      <td>4.68213</td>\n      <td>4.157</td>\n      <td>4.32426</td>\n      <td>4.31308</td>\n      <td>4.30225</td>\n      <td>4.24831</td>\n      <td>4.16030</td>\n      <td>4.33</td>\n    </tr>\n    <tr>\n      <th>2025-02-03</th>\n      <td>4.96018</td>\n      <td>4.85372</td>\n      <td>4.68213</td>\n      <td>4.195</td>\n      <td>4.32223</td>\n      <td>4.31268</td>\n      <td>4.30313</td>\n      <td>4.25107</td>\n      <td>4.16774</td>\n      <td>4.33</td>\n    </tr>\n    <tr>\n      <th>2025-02-04</th>\n      <td>4.96018</td>\n      <td>4.85372</td>\n      <td>4.68213</td>\n      <td>4.180</td>\n      <td>4.32359</td>\n      <td>4.30733</td>\n      <td>4.30188</td>\n      <td>4.26173</td>\n      <td>4.19270</td>\n      <td>4.33</td>\n    </tr>\n    <tr>\n      <th>2025-02-05</th>\n      <td>4.96018</td>\n      <td>4.85372</td>\n      <td>4.68213</td>\n      <td>4.168</td>\n      <td>4.32425</td>\n      <td>4.30786</td>\n      <td>4.30191</td>\n      <td>4.25910</td>\n      <td>4.18877</td>\n      <td>4.33</td>\n    </tr>\n    <tr>\n      <th>2025-02-06</th>\n      <td>4.96018</td>\n      <td>4.85372</td>\n      <td>4.68213</td>\n      <td>4.179</td>\n      <td>4.32626</td>\n      <td>4.31014</td>\n      <td>4.29735</td>\n      <td>4.24683</td>\n      <td>4.16057</td>\n      <td>4.33</td>\n    </tr>\n    <tr>\n      <th>2025-02-07</th>\n      <td>4.96018</td>\n      <td>4.85372</td>\n      <td>4.68213</td>\n      <td>4.230</td>\n      <td>4.32927</td>\n      <td>4.31519</td>\n      <td>4.30394</td>\n      <td>4.25772</td>\n      <td>4.17911</td>\n      <td>4.33</td>\n    </tr>\n    <tr>\n      <th>2025-02-10</th>\n      <td>4.96018</td>\n      <td>4.85372</td>\n      <td>4.68213</td>\n      <td>4.234</td>\n      <td>4.33461</td>\n      <td>4.31847</td>\n      <td>4.31469</td>\n      <td>4.27893</td>\n      <td>4.21972</td>\n      <td>4.33</td>\n    </tr>\n    <tr>\n      <th>2025-02-11</th>\n      <td>4.96018</td>\n      <td>4.85372</td>\n      <td>4.68213</td>\n      <td>4.248</td>\n      <td>4.33630</td>\n      <td>4.31738</td>\n      <td>4.31504</td>\n      <td>4.28305</td>\n      <td>4.22440</td>\n      <td>4.33</td>\n    </tr>\n    <tr>\n      <th>2025-02-12</th>\n      <td>4.96018</td>\n      <td>4.85372</td>\n      <td>4.68213</td>\n      <td>4.278</td>\n      <td>4.33763</td>\n      <td>4.31439</td>\n      <td>4.31802</td>\n      <td>4.29233</td>\n      <td>4.24398</td>\n      <td>4.33</td>\n    </tr>\n    <tr>\n      <th>2025-02-13</th>\n      <td>4.96018</td>\n      <td>4.85372</td>\n      <td>4.68213</td>\n      <td>4.261</td>\n      <td>4.33864</td>\n      <td>4.31186</td>\n      <td>4.32298</td>\n      <td>4.31501</td>\n      <td>4.29153</td>\n      <td>4.33</td>\n    </tr>\n    <tr>\n      <th>2025-02-14</th>\n      <td>4.96018</td>\n      <td>4.85372</td>\n      <td>4.68213</td>\n      <td>4.221</td>\n      <td>4.34031</td>\n      <td>4.31365</td>\n      <td>4.32299</td>\n      <td>4.31099</td>\n      <td>4.27487</td>\n      <td>4.33</td>\n    </tr>\n  </tbody>\n</table>\n</div>"
     },
     "execution_count": 8,
     "metadata": {},
     "output_type": "execute_result"
    }
   ],
   "source": [
    "raw_df_al_risk_free_rate.tail(60)"
   ]
  },
  {
   "cell_type": "code",
   "execution_count": 9,
   "metadata": {
    "ExecuteTime": {
     "end_time": "2025-02-18T14:20:24.016870Z",
     "start_time": "2025-02-18T14:20:24.010585Z"
    }
   },
   "outputs": [],
   "source": [
    "#Placeholder only\n",
    "#1-month risk free return accumulated from overnight LIBOR rate\n",
    "def calculate_monthly_log_rf_ret(date_now,col):\n",
    "    start_date = date_now - pd.DateOffset(months=1)\n",
    "    mask = (col.index > start_date) & (col.index <= date_now)\n",
    "    return col.loc[mask].sum()"
   ]
  },
  {
   "cell_type": "code",
   "execution_count": 10,
   "metadata": {
    "ExecuteTime": {
     "end_time": "2025-02-18T14:20:28.161347Z",
     "start_time": "2025-02-18T14:20:24.020376Z"
    }
   },
   "outputs": [
    {
     "data": {
      "text/plain": "            FEDL01 Index  daily_risk_free_ret  1M_risk_free_ret_realized\nDates                                                                   \n1975-01-01          3.87             0.000148                        NaN\n1975-01-02          8.55             0.000328                        NaN\n1975-01-03          8.37             0.000321                        NaN\n1975-01-06          7.85             0.000301                        NaN\n1975-01-07          7.30             0.000280                        NaN\n...                  ...                  ...                        ...\n2025-02-10          4.33             0.000166                   0.003484\n2025-02-11          4.33             0.000166                   0.003650\n2025-02-12          4.33             0.000166                   0.003815\n2025-02-13          4.33             0.000166                   0.003815\n2025-02-14          4.33             0.000166                   0.003815\n\n[13078 rows x 3 columns]",
      "text/html": "<div>\n<style scoped>\n    .dataframe tbody tr th:only-of-type {\n        vertical-align: middle;\n    }\n\n    .dataframe tbody tr th {\n        vertical-align: top;\n    }\n\n    .dataframe thead th {\n        text-align: right;\n    }\n</style>\n<table border=\"1\" class=\"dataframe\">\n  <thead>\n    <tr style=\"text-align: right;\">\n      <th></th>\n      <th>FEDL01 Index</th>\n      <th>daily_risk_free_ret</th>\n      <th>1M_risk_free_ret_realized</th>\n    </tr>\n    <tr>\n      <th>Dates</th>\n      <th></th>\n      <th></th>\n      <th></th>\n    </tr>\n  </thead>\n  <tbody>\n    <tr>\n      <th>1975-01-01</th>\n      <td>3.87</td>\n      <td>0.000148</td>\n      <td>NaN</td>\n    </tr>\n    <tr>\n      <th>1975-01-02</th>\n      <td>8.55</td>\n      <td>0.000328</td>\n      <td>NaN</td>\n    </tr>\n    <tr>\n      <th>1975-01-03</th>\n      <td>8.37</td>\n      <td>0.000321</td>\n      <td>NaN</td>\n    </tr>\n    <tr>\n      <th>1975-01-06</th>\n      <td>7.85</td>\n      <td>0.000301</td>\n      <td>NaN</td>\n    </tr>\n    <tr>\n      <th>1975-01-07</th>\n      <td>7.30</td>\n      <td>0.000280</td>\n      <td>NaN</td>\n    </tr>\n    <tr>\n      <th>...</th>\n      <td>...</td>\n      <td>...</td>\n      <td>...</td>\n    </tr>\n    <tr>\n      <th>2025-02-10</th>\n      <td>4.33</td>\n      <td>0.000166</td>\n      <td>0.003484</td>\n    </tr>\n    <tr>\n      <th>2025-02-11</th>\n      <td>4.33</td>\n      <td>0.000166</td>\n      <td>0.003650</td>\n    </tr>\n    <tr>\n      <th>2025-02-12</th>\n      <td>4.33</td>\n      <td>0.000166</td>\n      <td>0.003815</td>\n    </tr>\n    <tr>\n      <th>2025-02-13</th>\n      <td>4.33</td>\n      <td>0.000166</td>\n      <td>0.003815</td>\n    </tr>\n    <tr>\n      <th>2025-02-14</th>\n      <td>4.33</td>\n      <td>0.000166</td>\n      <td>0.003815</td>\n    </tr>\n  </tbody>\n</table>\n<p>13078 rows × 3 columns</p>\n</div>"
     },
     "execution_count": 10,
     "metadata": {},
     "output_type": "execute_result"
    }
   ],
   "source": [
    "#1 Month Risk Free Return Realized from past month\n",
    "fed_overnight_rate = pd.DataFrame(raw_df_al_risk_free_rate['FEDL01 Index'])\n",
    "fed_overnight_rate['daily_risk_free_ret'] = np.log(fed_overnight_rate['FEDL01 Index']/261 / 100 + 1) #assume 261 trading days\n",
    "\n",
    "fed_overnight_rate['1M_risk_free_ret_realized'] = [\n",
    "    calculate_monthly_log_rf_ret(date_now,fed_overnight_rate['daily_risk_free_ret'])\n",
    "    for date_now in fed_overnight_rate.index]\n",
    "\n",
    "fed_overnight_rate.loc['1975-01-01':'1975-01-30','1M_risk_free_ret_realized'] = np.nan\n",
    "\n",
    "fed_overnight_rate.to_csv('fed_overnight_rate_df.csv')\n",
    "fed_overnight_rate"
   ]
  },
  {
   "cell_type": "markdown",
   "metadata": {},
   "source": [
    "**Calculate Return (not yet deduct risk free rate)**"
   ]
  },
  {
   "cell_type": "code",
   "outputs": [
    {
     "name": "stdout",
     "output_type": "stream",
     "text": [
      "DatetimeIndex(['1975-01-01', '1975-01-02', '1975-01-03', '1975-01-06',\n",
      "               '1975-01-07', '1975-01-08', '1975-01-09', '1975-01-10',\n",
      "               '1975-01-13', '1975-01-14',\n",
      "               ...\n",
      "               '1984-11-22', '1984-11-23', '1984-11-26', '1984-11-27',\n",
      "               '1984-11-28', '1984-11-29', '1984-11-30', '1984-12-03',\n",
      "               '1984-12-04', '1984-12-05'],\n",
      "              dtype='datetime64[ns]', name='Dates', length=2591, freq=None)\n"
     ]
    },
    {
     "data": {
      "text/plain": "            FEDL01 Index  daily_risk_free_ret  1M_risk_free_ret_realized\nDates                                                                   \n1975-01-01          3.87             0.000148                        NaN\n1975-01-02          8.55             0.000328                        NaN\n1975-01-03          8.37             0.000321                        NaN\n1975-01-06          7.85             0.000301                        NaN\n1975-01-07          7.30             0.000280                        NaN\n...                  ...                  ...                        ...\n2025-02-10          4.33             0.000166                   0.003484\n2025-02-11          4.33             0.000166                   0.003650\n2025-02-12          4.33             0.000166                   0.003815\n2025-02-13          4.33             0.000166                   0.003815\n2025-02-14          4.33             0.000166                   0.003815\n\n[13078 rows x 3 columns]",
      "text/html": "<div>\n<style scoped>\n    .dataframe tbody tr th:only-of-type {\n        vertical-align: middle;\n    }\n\n    .dataframe tbody tr th {\n        vertical-align: top;\n    }\n\n    .dataframe thead th {\n        text-align: right;\n    }\n</style>\n<table border=\"1\" class=\"dataframe\">\n  <thead>\n    <tr style=\"text-align: right;\">\n      <th></th>\n      <th>FEDL01 Index</th>\n      <th>daily_risk_free_ret</th>\n      <th>1M_risk_free_ret_realized</th>\n    </tr>\n    <tr>\n      <th>Dates</th>\n      <th></th>\n      <th></th>\n      <th></th>\n    </tr>\n  </thead>\n  <tbody>\n    <tr>\n      <th>1975-01-01</th>\n      <td>3.87</td>\n      <td>0.000148</td>\n      <td>NaN</td>\n    </tr>\n    <tr>\n      <th>1975-01-02</th>\n      <td>8.55</td>\n      <td>0.000328</td>\n      <td>NaN</td>\n    </tr>\n    <tr>\n      <th>1975-01-03</th>\n      <td>8.37</td>\n      <td>0.000321</td>\n      <td>NaN</td>\n    </tr>\n    <tr>\n      <th>1975-01-06</th>\n      <td>7.85</td>\n      <td>0.000301</td>\n      <td>NaN</td>\n    </tr>\n    <tr>\n      <th>1975-01-07</th>\n      <td>7.30</td>\n      <td>0.000280</td>\n      <td>NaN</td>\n    </tr>\n    <tr>\n      <th>...</th>\n      <td>...</td>\n      <td>...</td>\n      <td>...</td>\n    </tr>\n    <tr>\n      <th>2025-02-10</th>\n      <td>4.33</td>\n      <td>0.000166</td>\n      <td>0.003484</td>\n    </tr>\n    <tr>\n      <th>2025-02-11</th>\n      <td>4.33</td>\n      <td>0.000166</td>\n      <td>0.003650</td>\n    </tr>\n    <tr>\n      <th>2025-02-12</th>\n      <td>4.33</td>\n      <td>0.000166</td>\n      <td>0.003815</td>\n    </tr>\n    <tr>\n      <th>2025-02-13</th>\n      <td>4.33</td>\n      <td>0.000166</td>\n      <td>0.003815</td>\n    </tr>\n    <tr>\n      <th>2025-02-14</th>\n      <td>4.33</td>\n      <td>0.000166</td>\n      <td>0.003815</td>\n    </tr>\n  </tbody>\n</table>\n<p>13078 rows × 3 columns</p>\n</div>"
     },
     "execution_count": 11,
     "metadata": {},
     "output_type": "execute_result"
    }
   ],
   "source": [
    "#Create Daily Risk Free Return based on overnight LIBOR rate\n",
    "\n",
    "Rf_Rate_1M = pd.DataFrame(raw_df_al_risk_free_rate['US0001M Index'])\n",
    "Rf_Rate_1M.rename(columns = {'US0001M Index':'1M_Risk_Free_Rate'}, inplace=True)\n",
    "nan_range = Rf_Rate_1M.index[Rf_Rate_1M.iloc[:,0].isna()]\n",
    "print(nan_range)\n",
    "\n",
    "fed_overnight_rate\n",
    "\n"
   ],
   "metadata": {
    "ExecuteTime": {
     "end_time": "2025-02-18T14:20:28.172443Z",
     "start_time": "2025-02-18T14:20:28.163420Z"
    }
   },
   "execution_count": 11
  },
  {
   "cell_type": "code",
   "execution_count": 12,
   "metadata": {
    "collapsed": false,
    "ExecuteTime": {
     "end_time": "2025-02-18T14:20:28.199078Z",
     "start_time": "2025-02-18T14:20:28.173446Z"
    }
   },
   "outputs": [
    {
     "data": {
      "text/plain": "            GC1_Monthly_raw_Return  GC2_Monthly_raw_Return  GC1_OPEN_INT  \\\nDate                                                                       \n1975-01-03               -0.002287               -0.003936           NaN   \n1975-01-06               -0.001719               -0.003951           NaN   \n1975-01-07               -0.005750               -0.005672           NaN   \n1975-01-08                0.022806                0.025830           NaN   \n1975-01-09                0.005061                0.002768           NaN   \n...                            ...                     ...           ...   \n2025-01-30                0.019025                0.018338     -0.270892   \n2025-01-31               -0.003726               -0.003591     -0.690890   \n2025-02-03                0.007580                0.007765     -0.400028   \n2025-02-04                0.006822                0.006524     -0.222980   \n2025-02-05                0.006393                0.005963     -0.232648   \n\n            SPX Index  NDX Index  DXY Curncy  USGG10YR Index  USGG2YR Index  \\\nDate                                                                          \n1975-01-03   0.006811        NaN   -0.005542        0.001346            NaN   \n1975-01-06   0.005078        NaN   -0.005676       -0.005397            NaN   \n1975-01-07  -0.000704        NaN    0.000207       -0.001354            NaN   \n1975-01-08  -0.013895        NaN    0.005161        0.001354            NaN   \n1975-01-09   0.016005        NaN   -0.002061       -0.005426            NaN   \n...               ...        ...         ...             ...            ...   \n2025-01-30   0.005262   0.004504   -0.001881       -0.002676      -0.001473   \n2025-01-31  -0.005060  -0.001399    0.005301        0.004948      -0.002427   \n2025-02-03  -0.007638  -0.008438    0.005705        0.003585       0.012266   \n2025-02-04   0.007199   0.012567   -0.009495       -0.009818      -0.008319   \n2025-02-05   0.003901   0.004222   -0.003535       -0.020698      -0.006404   \n\n            VIX Index  JPY Curncy  ...  D/P Ratio  Fed_Eff_Rate  \\\nDate                               ...                            \n1975-01-03        NaN    0.000599  ...        NaN     -0.021277   \n1975-01-06        NaN    0.000598  ...        NaN     -0.064140   \n1975-01-07        NaN   -0.000299  ...        NaN     -0.072639   \n1975-01-08        NaN   -0.000598  ...        NaN     -0.354720   \n1975-01-09        NaN    0.000299  ...        NaN      0.350602   \n...               ...         ...  ...        ...           ...   \n2025-01-30  -0.044452   -0.006010  ...  -0.005483      0.000000   \n2025-01-31   0.036571    0.005816  ...   0.005644      0.000000   \n2025-02-03   0.125127   -0.002969  ...   0.007848      0.000000   \n2025-02-04  -0.078746   -0.002524  ...  -0.007205      0.000000   \n2025-02-05  -0.087381   -0.011272  ...  -0.003542      0.000000   \n\n            CPI YOY Index  PCE CYOY Index  GDP_Nominoal_YOY  GDP_Real_QoQ  \\\nDate                                                                        \n1975-01-03            NaN             NaN               NaN           NaN   \n1975-01-06            NaN             NaN               NaN           NaN   \n1975-01-07            NaN             NaN               NaN           NaN   \n1975-01-08            NaN             NaN               NaN           NaN   \n1975-01-09            NaN             NaN               NaN           NaN   \n...                   ...             ...               ...           ...   \n2025-01-30            NaN             NaN               NaN           NaN   \n2025-01-31            NaN             NaN               NaN           NaN   \n2025-02-03            NaN             NaN               NaN           NaN   \n2025-02-04            NaN             NaN               NaN           NaN   \n2025-02-05            NaN             NaN               NaN           NaN   \n\n            CPI_YoY  US_Unemp  Cons_Conf  US_RIR  \nDate                                              \n1975-01-03      NaN       NaN        NaN     NaN  \n1975-01-06      NaN       NaN        NaN     NaN  \n1975-01-07      NaN       NaN        NaN     NaN  \n1975-01-08      NaN       NaN        NaN     NaN  \n1975-01-09      NaN       NaN        NaN     NaN  \n...             ...       ...        ...     ...  \n2025-01-30      NaN       NaN        NaN     NaN  \n2025-01-31      NaN       NaN       71.1  1.4869  \n2025-02-03      NaN       NaN        NaN     NaN  \n2025-02-04      NaN       NaN        NaN     NaN  \n2025-02-05      NaN       NaN        NaN     NaN  \n\n[13240 rows x 24 columns]",
      "text/html": "<div>\n<style scoped>\n    .dataframe tbody tr th:only-of-type {\n        vertical-align: middle;\n    }\n\n    .dataframe tbody tr th {\n        vertical-align: top;\n    }\n\n    .dataframe thead th {\n        text-align: right;\n    }\n</style>\n<table border=\"1\" class=\"dataframe\">\n  <thead>\n    <tr style=\"text-align: right;\">\n      <th></th>\n      <th>GC1_Monthly_raw_Return</th>\n      <th>GC2_Monthly_raw_Return</th>\n      <th>GC1_OPEN_INT</th>\n      <th>SPX Index</th>\n      <th>NDX Index</th>\n      <th>DXY Curncy</th>\n      <th>USGG10YR Index</th>\n      <th>USGG2YR Index</th>\n      <th>VIX Index</th>\n      <th>JPY Curncy</th>\n      <th>...</th>\n      <th>D/P Ratio</th>\n      <th>Fed_Eff_Rate</th>\n      <th>CPI YOY Index</th>\n      <th>PCE CYOY Index</th>\n      <th>GDP_Nominoal_YOY</th>\n      <th>GDP_Real_QoQ</th>\n      <th>CPI_YoY</th>\n      <th>US_Unemp</th>\n      <th>Cons_Conf</th>\n      <th>US_RIR</th>\n    </tr>\n    <tr>\n      <th>Date</th>\n      <th></th>\n      <th></th>\n      <th></th>\n      <th></th>\n      <th></th>\n      <th></th>\n      <th></th>\n      <th></th>\n      <th></th>\n      <th></th>\n      <th></th>\n      <th></th>\n      <th></th>\n      <th></th>\n      <th></th>\n      <th></th>\n      <th></th>\n      <th></th>\n      <th></th>\n      <th></th>\n      <th></th>\n    </tr>\n  </thead>\n  <tbody>\n    <tr>\n      <th>1975-01-03</th>\n      <td>-0.002287</td>\n      <td>-0.003936</td>\n      <td>NaN</td>\n      <td>0.006811</td>\n      <td>NaN</td>\n      <td>-0.005542</td>\n      <td>0.001346</td>\n      <td>NaN</td>\n      <td>NaN</td>\n      <td>0.000599</td>\n      <td>...</td>\n      <td>NaN</td>\n      <td>-0.021277</td>\n      <td>NaN</td>\n      <td>NaN</td>\n      <td>NaN</td>\n      <td>NaN</td>\n      <td>NaN</td>\n      <td>NaN</td>\n      <td>NaN</td>\n      <td>NaN</td>\n    </tr>\n    <tr>\n      <th>1975-01-06</th>\n      <td>-0.001719</td>\n      <td>-0.003951</td>\n      <td>NaN</td>\n      <td>0.005078</td>\n      <td>NaN</td>\n      <td>-0.005676</td>\n      <td>-0.005397</td>\n      <td>NaN</td>\n      <td>NaN</td>\n      <td>0.000598</td>\n      <td>...</td>\n      <td>NaN</td>\n      <td>-0.064140</td>\n      <td>NaN</td>\n      <td>NaN</td>\n      <td>NaN</td>\n      <td>NaN</td>\n      <td>NaN</td>\n      <td>NaN</td>\n      <td>NaN</td>\n      <td>NaN</td>\n    </tr>\n    <tr>\n      <th>1975-01-07</th>\n      <td>-0.005750</td>\n      <td>-0.005672</td>\n      <td>NaN</td>\n      <td>-0.000704</td>\n      <td>NaN</td>\n      <td>0.000207</td>\n      <td>-0.001354</td>\n      <td>NaN</td>\n      <td>NaN</td>\n      <td>-0.000299</td>\n      <td>...</td>\n      <td>NaN</td>\n      <td>-0.072639</td>\n      <td>NaN</td>\n      <td>NaN</td>\n      <td>NaN</td>\n      <td>NaN</td>\n      <td>NaN</td>\n      <td>NaN</td>\n      <td>NaN</td>\n      <td>NaN</td>\n    </tr>\n    <tr>\n      <th>1975-01-08</th>\n      <td>0.022806</td>\n      <td>0.025830</td>\n      <td>NaN</td>\n      <td>-0.013895</td>\n      <td>NaN</td>\n      <td>0.005161</td>\n      <td>0.001354</td>\n      <td>NaN</td>\n      <td>NaN</td>\n      <td>-0.000598</td>\n      <td>...</td>\n      <td>NaN</td>\n      <td>-0.354720</td>\n      <td>NaN</td>\n      <td>NaN</td>\n      <td>NaN</td>\n      <td>NaN</td>\n      <td>NaN</td>\n      <td>NaN</td>\n      <td>NaN</td>\n      <td>NaN</td>\n    </tr>\n    <tr>\n      <th>1975-01-09</th>\n      <td>0.005061</td>\n      <td>0.002768</td>\n      <td>NaN</td>\n      <td>0.016005</td>\n      <td>NaN</td>\n      <td>-0.002061</td>\n      <td>-0.005426</td>\n      <td>NaN</td>\n      <td>NaN</td>\n      <td>0.000299</td>\n      <td>...</td>\n      <td>NaN</td>\n      <td>0.350602</td>\n      <td>NaN</td>\n      <td>NaN</td>\n      <td>NaN</td>\n      <td>NaN</td>\n      <td>NaN</td>\n      <td>NaN</td>\n      <td>NaN</td>\n      <td>NaN</td>\n    </tr>\n    <tr>\n      <th>...</th>\n      <td>...</td>\n      <td>...</td>\n      <td>...</td>\n      <td>...</td>\n      <td>...</td>\n      <td>...</td>\n      <td>...</td>\n      <td>...</td>\n      <td>...</td>\n      <td>...</td>\n      <td>...</td>\n      <td>...</td>\n      <td>...</td>\n      <td>...</td>\n      <td>...</td>\n      <td>...</td>\n      <td>...</td>\n      <td>...</td>\n      <td>...</td>\n      <td>...</td>\n      <td>...</td>\n    </tr>\n    <tr>\n      <th>2025-01-30</th>\n      <td>0.019025</td>\n      <td>0.018338</td>\n      <td>-0.270892</td>\n      <td>0.005262</td>\n      <td>0.004504</td>\n      <td>-0.001881</td>\n      <td>-0.002676</td>\n      <td>-0.001473</td>\n      <td>-0.044452</td>\n      <td>-0.006010</td>\n      <td>...</td>\n      <td>-0.005483</td>\n      <td>0.000000</td>\n      <td>NaN</td>\n      <td>NaN</td>\n      <td>NaN</td>\n      <td>NaN</td>\n      <td>NaN</td>\n      <td>NaN</td>\n      <td>NaN</td>\n      <td>NaN</td>\n    </tr>\n    <tr>\n      <th>2025-01-31</th>\n      <td>-0.003726</td>\n      <td>-0.003591</td>\n      <td>-0.690890</td>\n      <td>-0.005060</td>\n      <td>-0.001399</td>\n      <td>0.005301</td>\n      <td>0.004948</td>\n      <td>-0.002427</td>\n      <td>0.036571</td>\n      <td>0.005816</td>\n      <td>...</td>\n      <td>0.005644</td>\n      <td>0.000000</td>\n      <td>NaN</td>\n      <td>NaN</td>\n      <td>NaN</td>\n      <td>NaN</td>\n      <td>NaN</td>\n      <td>NaN</td>\n      <td>71.1</td>\n      <td>1.4869</td>\n    </tr>\n    <tr>\n      <th>2025-02-03</th>\n      <td>0.007580</td>\n      <td>0.007765</td>\n      <td>-0.400028</td>\n      <td>-0.007638</td>\n      <td>-0.008438</td>\n      <td>0.005705</td>\n      <td>0.003585</td>\n      <td>0.012266</td>\n      <td>0.125127</td>\n      <td>-0.002969</td>\n      <td>...</td>\n      <td>0.007848</td>\n      <td>0.000000</td>\n      <td>NaN</td>\n      <td>NaN</td>\n      <td>NaN</td>\n      <td>NaN</td>\n      <td>NaN</td>\n      <td>NaN</td>\n      <td>NaN</td>\n      <td>NaN</td>\n    </tr>\n    <tr>\n      <th>2025-02-04</th>\n      <td>0.006822</td>\n      <td>0.006524</td>\n      <td>-0.222980</td>\n      <td>0.007199</td>\n      <td>0.012567</td>\n      <td>-0.009495</td>\n      <td>-0.009818</td>\n      <td>-0.008319</td>\n      <td>-0.078746</td>\n      <td>-0.002524</td>\n      <td>...</td>\n      <td>-0.007205</td>\n      <td>0.000000</td>\n      <td>NaN</td>\n      <td>NaN</td>\n      <td>NaN</td>\n      <td>NaN</td>\n      <td>NaN</td>\n      <td>NaN</td>\n      <td>NaN</td>\n      <td>NaN</td>\n    </tr>\n    <tr>\n      <th>2025-02-05</th>\n      <td>0.006393</td>\n      <td>0.005963</td>\n      <td>-0.232648</td>\n      <td>0.003901</td>\n      <td>0.004222</td>\n      <td>-0.003535</td>\n      <td>-0.020698</td>\n      <td>-0.006404</td>\n      <td>-0.087381</td>\n      <td>-0.011272</td>\n      <td>...</td>\n      <td>-0.003542</td>\n      <td>0.000000</td>\n      <td>NaN</td>\n      <td>NaN</td>\n      <td>NaN</td>\n      <td>NaN</td>\n      <td>NaN</td>\n      <td>NaN</td>\n      <td>NaN</td>\n      <td>NaN</td>\n    </tr>\n  </tbody>\n</table>\n<p>13240 rows × 24 columns</p>\n</div>"
     },
     "execution_count": 12,
     "metadata": {},
     "output_type": "execute_result"
    }
   ],
   "source": [
    "# Define the columns to keep with original values\n",
    "keep_columns = [\n",
    "    \"CPI YOY Index\", \"PCE CYOY Index\", \"GDP_Nominoal_YOY\", \"GDP_Real_QoQ\",\n",
    "    \"CPI_YoY\", \"US_Unemp\", \"Cons_Conf\", \"US_RIR\", \n",
    "]\n",
    "\n",
    "\n",
    "# Calculate log returns for all columns except those in keep_columns\n",
    "log_return_df = np.log(bbg_df.drop(columns=keep_columns, errors='ignore')).diff()\n",
    "\n",
    "\n",
    "# Combine the original values of the specified columns with the log returns of the remaining columns\n",
    "bbg_df_log_rets = pd.concat([log_return_df,bbg_df[keep_columns]], axis=1)\n",
    "bbg_df_log_rets = bbg_df_log_rets.iloc[1:]\n",
    "bbg_df_log_rets = bbg_df_log_rets.rename(columns={'GC1_PX_Last': 'GC1_Monthly_raw_Return','GC2_PX_Last': 'GC2_Monthly_raw_Return'}) #Update column name first, although up to this point is still daily data\n",
    "bbg_df_log_rets\n"
   ]
  },
  {
   "cell_type": "markdown",
   "metadata": {},
   "source": [
    "##### **<font color= #90EE90>2.4 Resample to Monthly Data</font>**"
   ]
  },
  {
   "cell_type": "markdown",
   "metadata": {},
   "source": [
    "**Resampling**"
   ]
  },
  {
   "cell_type": "code",
   "execution_count": 13,
   "metadata": {
    "ExecuteTime": {
     "end_time": "2025-02-18T14:20:28.235072Z",
     "start_time": "2025-02-18T14:20:28.200255Z"
    }
   },
   "outputs": [
    {
     "name": "stderr",
     "output_type": "stream",
     "text": [
      "C:\\Users\\15201\\AppData\\Local\\Temp\\ipykernel_22072\\1498914627.py:2: FutureWarning: 'M' is deprecated and will be removed in a future version, please use 'ME' instead.\n",
      "  bbg_df_monthly_only = bbg_df_log_rets.resample('M').sum(min_count=1)\n",
      "C:\\Users\\15201\\AppData\\Local\\Temp\\ipykernel_22072\\1498914627.py:7: FutureWarning: 'M' is deprecated and will be removed in a future version, please use 'ME' instead.\n",
      "  volatility_monthly = volatility.resample('M').mean()\n",
      "C:\\Users\\15201\\AppData\\Local\\Temp\\ipykernel_22072\\1498914627.py:15: FutureWarning: A value is trying to be set on a copy of a DataFrame or Series through chained assignment using an inplace method.\n",
      "The behavior will change in pandas 3.0. This inplace method will never work because the intermediate object on which we are setting values always behaves as a copy.\n",
      "\n",
      "For example, when doing 'df[col].method(value, inplace=True)', try using 'df.method({col: value}, inplace=True)' or df[col] = df[col].method(value) instead, to perform the operation inplace on the original object.\n",
      "\n",
      "\n",
      "  bbg_df_monthly_only['1M_risk_free_ret_realized'].fillna(method = 'ffill' , inplace= True )\n",
      "C:\\Users\\15201\\AppData\\Local\\Temp\\ipykernel_22072\\1498914627.py:15: FutureWarning: Series.fillna with 'method' is deprecated and will raise in a future version. Use obj.ffill() or obj.bfill() instead.\n",
      "  bbg_df_monthly_only['1M_risk_free_ret_realized'].fillna(method = 'ffill' , inplace= True )\n"
     ]
    },
    {
     "data": {
      "text/plain": "            GC1_Monthly_raw_Return  GC2_Monthly_raw_Return  GC1_OPEN_INT  \\\nDate                                                                       \n1975-01-31                0.002282               -0.001123           NaN   \n1975-02-28                0.041847                0.043425           NaN   \n1975-03-31               -0.032772               -0.035034           NaN   \n1975-04-30               -0.059919               -0.060868           NaN   \n1975-05-31               -0.001800                0.000592           NaN   \n...                            ...                     ...           ...   \n2024-08-31                0.031639                0.031468      1.334165   \n2024-09-30                0.051211                0.050830     -2.773346   \n2024-10-31                0.042046                0.042190      5.034246   \n2024-11-30               -0.034149               -0.034100     -3.160694   \n2024-12-31               -0.006040               -0.005611      4.077298   \n\n            SPX Index  NDX Index  DXY Curncy  USGG10YR Index  USGG2YR Index  \\\nDate                                                                          \n1975-01-31   0.091770        NaN   -0.021726        0.014712            NaN   \n1975-02-28   0.065179        NaN   -0.019899       -0.002461            NaN   \n1975-03-31   0.027323        NaN    0.019908        0.079816            NaN   \n1975-04-30   0.046182        NaN    0.005993        0.036760            NaN   \n1975-05-31   0.045809        NaN   -0.007999       -0.028024            NaN   \n...               ...        ...         ...             ...            ...   \n2024-08-31   0.022578   0.010900   -0.023306       -0.031819      -0.083484   \n2024-09-30   0.041374   0.056498   -0.008635       -0.013164      -0.059184   \n2024-10-31  -0.009946  -0.008524    0.031230        0.141890       0.138210   \n2024-11-30   0.050128   0.042042    0.016795       -0.033134      -0.006485   \n2024-12-31  -0.027347  -0.005881    0.020176        0.087974       0.015672   \n\n            VIX Index  JPY Curncy  ...  PCE CYOY Index  GDP_Nominoal_YOY  \\\nDate                               ...                                     \n1975-01-31        NaN   -0.008987  ...        10.14168               NaN   \n1975-02-28        NaN   -0.039429  ...        10.21999               NaN   \n1975-03-31        NaN    0.026118  ...         9.93721               8.4   \n1975-04-30        NaN   -0.006141  ...         9.65292               NaN   \n1975-05-31        NaN   -0.002330  ...         9.07047               NaN   \n...               ...         ...  ...             ...               ...   \n2024-08-31  -0.086789   -0.025732  ...         2.73112               NaN   \n2024-09-30   0.073143   -0.022648  ...         2.66078               5.0   \n2024-10-31   0.325223    0.056837  ...         2.80366               NaN   \n2024-11-30  -0.538997   -0.014977  ...         2.82107               NaN   \n2024-12-31   0.231099    0.049554  ...         2.79437               5.0   \n\n            GDP_Real_QoQ  CPI_YoY  US_Unemp  Cons_Conf  US_RIR  \\\nDate                                                             \n1975-01-31           NaN     11.8       8.1        NaN -4.8026   \n1975-02-28           NaN     11.2       8.1        NaN -5.2288   \n1975-03-31          -4.7     10.3       8.6        NaN -4.7510   \n1975-04-30           NaN     10.2       8.8        NaN -4.9583   \n1975-05-31           NaN      9.5       9.0        NaN -4.2150   \n...                  ...      ...       ...        ...     ...   \n2024-08-31           NaN      2.5       4.2       67.9  2.8443   \n2024-09-30           3.1      2.4       4.1       70.1  2.4344   \n2024-10-31           NaN      2.6       4.1       70.5  2.2771   \n2024-11-30           NaN      2.7       4.2       71.8  1.8756   \n2024-12-31           2.3      2.9       4.1       74.0  1.4869   \n\n            GC1_volatility  GC2_volatility  1M_risk_free_ret_realized  \nDate                                                                   \n1975-01-31             NaN             NaN                   0.006205  \n1975-02-28             NaN             NaN                   0.005524  \n1975-03-31        0.162229        0.161182                   0.004390  \n1975-04-30        0.171430        0.172165                   0.004858  \n1975-05-31        0.176185        0.181025                   0.004858  \n...                    ...             ...                        ...  \n2024-08-31        0.168238        0.169387                   0.004696  \n2024-09-30        0.151431        0.154221                   0.004135  \n2024-10-31        0.134111        0.135932                   0.004256  \n2024-11-30        0.167985        0.170430                   0.004256  \n2024-12-31        0.181269        0.183134                   0.003774  \n\n[600 rows x 27 columns]",
      "text/html": "<div>\n<style scoped>\n    .dataframe tbody tr th:only-of-type {\n        vertical-align: middle;\n    }\n\n    .dataframe tbody tr th {\n        vertical-align: top;\n    }\n\n    .dataframe thead th {\n        text-align: right;\n    }\n</style>\n<table border=\"1\" class=\"dataframe\">\n  <thead>\n    <tr style=\"text-align: right;\">\n      <th></th>\n      <th>GC1_Monthly_raw_Return</th>\n      <th>GC2_Monthly_raw_Return</th>\n      <th>GC1_OPEN_INT</th>\n      <th>SPX Index</th>\n      <th>NDX Index</th>\n      <th>DXY Curncy</th>\n      <th>USGG10YR Index</th>\n      <th>USGG2YR Index</th>\n      <th>VIX Index</th>\n      <th>JPY Curncy</th>\n      <th>...</th>\n      <th>PCE CYOY Index</th>\n      <th>GDP_Nominoal_YOY</th>\n      <th>GDP_Real_QoQ</th>\n      <th>CPI_YoY</th>\n      <th>US_Unemp</th>\n      <th>Cons_Conf</th>\n      <th>US_RIR</th>\n      <th>GC1_volatility</th>\n      <th>GC2_volatility</th>\n      <th>1M_risk_free_ret_realized</th>\n    </tr>\n    <tr>\n      <th>Date</th>\n      <th></th>\n      <th></th>\n      <th></th>\n      <th></th>\n      <th></th>\n      <th></th>\n      <th></th>\n      <th></th>\n      <th></th>\n      <th></th>\n      <th></th>\n      <th></th>\n      <th></th>\n      <th></th>\n      <th></th>\n      <th></th>\n      <th></th>\n      <th></th>\n      <th></th>\n      <th></th>\n      <th></th>\n    </tr>\n  </thead>\n  <tbody>\n    <tr>\n      <th>1975-01-31</th>\n      <td>0.002282</td>\n      <td>-0.001123</td>\n      <td>NaN</td>\n      <td>0.091770</td>\n      <td>NaN</td>\n      <td>-0.021726</td>\n      <td>0.014712</td>\n      <td>NaN</td>\n      <td>NaN</td>\n      <td>-0.008987</td>\n      <td>...</td>\n      <td>10.14168</td>\n      <td>NaN</td>\n      <td>NaN</td>\n      <td>11.8</td>\n      <td>8.1</td>\n      <td>NaN</td>\n      <td>-4.8026</td>\n      <td>NaN</td>\n      <td>NaN</td>\n      <td>0.006205</td>\n    </tr>\n    <tr>\n      <th>1975-02-28</th>\n      <td>0.041847</td>\n      <td>0.043425</td>\n      <td>NaN</td>\n      <td>0.065179</td>\n      <td>NaN</td>\n      <td>-0.019899</td>\n      <td>-0.002461</td>\n      <td>NaN</td>\n      <td>NaN</td>\n      <td>-0.039429</td>\n      <td>...</td>\n      <td>10.21999</td>\n      <td>NaN</td>\n      <td>NaN</td>\n      <td>11.2</td>\n      <td>8.1</td>\n      <td>NaN</td>\n      <td>-5.2288</td>\n      <td>NaN</td>\n      <td>NaN</td>\n      <td>0.005524</td>\n    </tr>\n    <tr>\n      <th>1975-03-31</th>\n      <td>-0.032772</td>\n      <td>-0.035034</td>\n      <td>NaN</td>\n      <td>0.027323</td>\n      <td>NaN</td>\n      <td>0.019908</td>\n      <td>0.079816</td>\n      <td>NaN</td>\n      <td>NaN</td>\n      <td>0.026118</td>\n      <td>...</td>\n      <td>9.93721</td>\n      <td>8.4</td>\n      <td>-4.7</td>\n      <td>10.3</td>\n      <td>8.6</td>\n      <td>NaN</td>\n      <td>-4.7510</td>\n      <td>0.162229</td>\n      <td>0.161182</td>\n      <td>0.004390</td>\n    </tr>\n    <tr>\n      <th>1975-04-30</th>\n      <td>-0.059919</td>\n      <td>-0.060868</td>\n      <td>NaN</td>\n      <td>0.046182</td>\n      <td>NaN</td>\n      <td>0.005993</td>\n      <td>0.036760</td>\n      <td>NaN</td>\n      <td>NaN</td>\n      <td>-0.006141</td>\n      <td>...</td>\n      <td>9.65292</td>\n      <td>NaN</td>\n      <td>NaN</td>\n      <td>10.2</td>\n      <td>8.8</td>\n      <td>NaN</td>\n      <td>-4.9583</td>\n      <td>0.171430</td>\n      <td>0.172165</td>\n      <td>0.004858</td>\n    </tr>\n    <tr>\n      <th>1975-05-31</th>\n      <td>-0.001800</td>\n      <td>0.000592</td>\n      <td>NaN</td>\n      <td>0.045809</td>\n      <td>NaN</td>\n      <td>-0.007999</td>\n      <td>-0.028024</td>\n      <td>NaN</td>\n      <td>NaN</td>\n      <td>-0.002330</td>\n      <td>...</td>\n      <td>9.07047</td>\n      <td>NaN</td>\n      <td>NaN</td>\n      <td>9.5</td>\n      <td>9.0</td>\n      <td>NaN</td>\n      <td>-4.2150</td>\n      <td>0.176185</td>\n      <td>0.181025</td>\n      <td>0.004858</td>\n    </tr>\n    <tr>\n      <th>...</th>\n      <td>...</td>\n      <td>...</td>\n      <td>...</td>\n      <td>...</td>\n      <td>...</td>\n      <td>...</td>\n      <td>...</td>\n      <td>...</td>\n      <td>...</td>\n      <td>...</td>\n      <td>...</td>\n      <td>...</td>\n      <td>...</td>\n      <td>...</td>\n      <td>...</td>\n      <td>...</td>\n      <td>...</td>\n      <td>...</td>\n      <td>...</td>\n      <td>...</td>\n      <td>...</td>\n    </tr>\n    <tr>\n      <th>2024-08-31</th>\n      <td>0.031639</td>\n      <td>0.031468</td>\n      <td>1.334165</td>\n      <td>0.022578</td>\n      <td>0.010900</td>\n      <td>-0.023306</td>\n      <td>-0.031819</td>\n      <td>-0.083484</td>\n      <td>-0.086789</td>\n      <td>-0.025732</td>\n      <td>...</td>\n      <td>2.73112</td>\n      <td>NaN</td>\n      <td>NaN</td>\n      <td>2.5</td>\n      <td>4.2</td>\n      <td>67.9</td>\n      <td>2.8443</td>\n      <td>0.168238</td>\n      <td>0.169387</td>\n      <td>0.004696</td>\n    </tr>\n    <tr>\n      <th>2024-09-30</th>\n      <td>0.051211</td>\n      <td>0.050830</td>\n      <td>-2.773346</td>\n      <td>0.041374</td>\n      <td>0.056498</td>\n      <td>-0.008635</td>\n      <td>-0.013164</td>\n      <td>-0.059184</td>\n      <td>0.073143</td>\n      <td>-0.022648</td>\n      <td>...</td>\n      <td>2.66078</td>\n      <td>5.0</td>\n      <td>3.1</td>\n      <td>2.4</td>\n      <td>4.1</td>\n      <td>70.1</td>\n      <td>2.4344</td>\n      <td>0.151431</td>\n      <td>0.154221</td>\n      <td>0.004135</td>\n    </tr>\n    <tr>\n      <th>2024-10-31</th>\n      <td>0.042046</td>\n      <td>0.042190</td>\n      <td>5.034246</td>\n      <td>-0.009946</td>\n      <td>-0.008524</td>\n      <td>0.031230</td>\n      <td>0.141890</td>\n      <td>0.138210</td>\n      <td>0.325223</td>\n      <td>0.056837</td>\n      <td>...</td>\n      <td>2.80366</td>\n      <td>NaN</td>\n      <td>NaN</td>\n      <td>2.6</td>\n      <td>4.1</td>\n      <td>70.5</td>\n      <td>2.2771</td>\n      <td>0.134111</td>\n      <td>0.135932</td>\n      <td>0.004256</td>\n    </tr>\n    <tr>\n      <th>2024-11-30</th>\n      <td>-0.034149</td>\n      <td>-0.034100</td>\n      <td>-3.160694</td>\n      <td>0.050128</td>\n      <td>0.042042</td>\n      <td>0.016795</td>\n      <td>-0.033134</td>\n      <td>-0.006485</td>\n      <td>-0.538997</td>\n      <td>-0.014977</td>\n      <td>...</td>\n      <td>2.82107</td>\n      <td>NaN</td>\n      <td>NaN</td>\n      <td>2.7</td>\n      <td>4.2</td>\n      <td>71.8</td>\n      <td>1.8756</td>\n      <td>0.167985</td>\n      <td>0.170430</td>\n      <td>0.004256</td>\n    </tr>\n    <tr>\n      <th>2024-12-31</th>\n      <td>-0.006040</td>\n      <td>-0.005611</td>\n      <td>4.077298</td>\n      <td>-0.027347</td>\n      <td>-0.005881</td>\n      <td>0.020176</td>\n      <td>0.087974</td>\n      <td>0.015672</td>\n      <td>0.231099</td>\n      <td>0.049554</td>\n      <td>...</td>\n      <td>2.79437</td>\n      <td>5.0</td>\n      <td>2.3</td>\n      <td>2.9</td>\n      <td>4.1</td>\n      <td>74.0</td>\n      <td>1.4869</td>\n      <td>0.181269</td>\n      <td>0.183134</td>\n      <td>0.003774</td>\n    </tr>\n  </tbody>\n</table>\n<p>600 rows × 27 columns</p>\n</div>"
     },
     "execution_count": 13,
     "metadata": {},
     "output_type": "execute_result"
    }
   ],
   "source": [
    "#when resampling, sum up the return in months to get monthly_ret (from 1st day to last day of month)\n",
    "bbg_df_monthly_only = bbg_df_log_rets.resample('M').sum(min_count=1)\n",
    "bbg_df_monthly_only = bbg_df_monthly_only.loc[:\"2024-12-31\"] #until 2024-12-31\n",
    "\n",
    "\n",
    "# Compute monthly mean volatility (AC: agreed approach: monthly mean of the annualized vol)\n",
    "volatility_monthly = volatility.resample('M').mean()\n",
    "\n",
    "# Merge with bbg_df_monthly_only, keeping all indices from bbg_df_monthly_only\n",
    "bbg_df_monthly_only = bbg_df_monthly_only.merge(volatility_monthly, how='left', left_index=True, right_index=True)\n",
    "\n",
    "\n",
    "#Include Risk-Free Rate Return\n",
    "bbg_df_monthly_only  = bbg_df_monthly_only .join(fed_overnight_rate['1M_risk_free_ret_realized'],how='left')\n",
    "bbg_df_monthly_only['1M_risk_free_ret_realized'].fillna(method = 'ffill' , inplace= True )\n",
    "\n",
    "bbg_df_monthly_only\n"
   ]
  },
  {
   "cell_type": "markdown",
   "metadata": {},
   "source": [
    "**Subtract Monthly Return with Risk-Free Return**"
   ]
  },
  {
   "cell_type": "code",
   "execution_count": 14,
   "metadata": {
    "ExecuteTime": {
     "end_time": "2025-02-18T14:20:28.250989Z",
     "start_time": "2025-02-18T14:20:28.237085Z"
    }
   },
   "outputs": [
    {
     "data": {
      "text/plain": "            GC1_Monthly_raw_Return  GC2_Monthly_raw_Return  GC1_OPEN_INT  \\\nDate                                                                       \n1975-01-31                0.002282               -0.001123           NaN   \n1975-02-28                0.041847                0.043425           NaN   \n1975-03-31               -0.032772               -0.035034           NaN   \n1975-04-30               -0.059919               -0.060868           NaN   \n1975-05-31               -0.001800                0.000592           NaN   \n...                            ...                     ...           ...   \n2024-08-31                0.031639                0.031468      1.334165   \n2024-09-30                0.051211                0.050830     -2.773346   \n2024-10-31                0.042046                0.042190      5.034246   \n2024-11-30               -0.034149               -0.034100     -3.160694   \n2024-12-31               -0.006040               -0.005611      4.077298   \n\n            SPX Index  NDX Index  DXY Curncy  USGG10YR Index  USGG2YR Index  \\\nDate                                                                          \n1975-01-31   0.091770        NaN   -0.021726        0.014712            NaN   \n1975-02-28   0.065179        NaN   -0.019899       -0.002461            NaN   \n1975-03-31   0.027323        NaN    0.019908        0.079816            NaN   \n1975-04-30   0.046182        NaN    0.005993        0.036760            NaN   \n1975-05-31   0.045809        NaN   -0.007999       -0.028024            NaN   \n...               ...        ...         ...             ...            ...   \n2024-08-31   0.022578   0.010900   -0.023306       -0.031819      -0.083484   \n2024-09-30   0.041374   0.056498   -0.008635       -0.013164      -0.059184   \n2024-10-31  -0.009946  -0.008524    0.031230        0.141890       0.138210   \n2024-11-30   0.050128   0.042042    0.016795       -0.033134      -0.006485   \n2024-12-31  -0.027347  -0.005881    0.020176        0.087974       0.015672   \n\n            VIX Index  JPY Curncy  ...  GDP_Real_QoQ  CPI_YoY  US_Unemp  \\\nDate                               ...                                    \n1975-01-31        NaN   -0.008987  ...           NaN     11.8       8.1   \n1975-02-28        NaN   -0.039429  ...           NaN     11.2       8.1   \n1975-03-31        NaN    0.026118  ...          -4.7     10.3       8.6   \n1975-04-30        NaN   -0.006141  ...           NaN     10.2       8.8   \n1975-05-31        NaN   -0.002330  ...           NaN      9.5       9.0   \n...               ...         ...  ...           ...      ...       ...   \n2024-08-31  -0.086789   -0.025732  ...           NaN      2.5       4.2   \n2024-09-30   0.073143   -0.022648  ...           3.1      2.4       4.1   \n2024-10-31   0.325223    0.056837  ...           NaN      2.6       4.1   \n2024-11-30  -0.538997   -0.014977  ...           NaN      2.7       4.2   \n2024-12-31   0.231099    0.049554  ...           2.3      2.9       4.1   \n\n            Cons_Conf  US_RIR  GC1_volatility  GC2_volatility  \\\nDate                                                            \n1975-01-31        NaN -4.8026             NaN             NaN   \n1975-02-28        NaN -5.2288             NaN             NaN   \n1975-03-31        NaN -4.7510        0.162229        0.161182   \n1975-04-30        NaN -4.9583        0.171430        0.172165   \n1975-05-31        NaN -4.2150        0.176185        0.181025   \n...               ...     ...             ...             ...   \n2024-08-31       67.9  2.8443        0.168238        0.169387   \n2024-09-30       70.1  2.4344        0.151431        0.154221   \n2024-10-31       70.5  2.2771        0.134111        0.135932   \n2024-11-30       71.8  1.8756        0.167985        0.170430   \n2024-12-31       74.0  1.4869        0.181269        0.183134   \n\n            1M_risk_free_ret_realized  GC1_Monthly_Excess_Return  \\\nDate                                                               \n1975-01-31                   0.006205                  -0.003923   \n1975-02-28                   0.005524                   0.036323   \n1975-03-31                   0.004390                  -0.037161   \n1975-04-30                   0.004858                  -0.064777   \n1975-05-31                   0.004858                  -0.006658   \n...                               ...                        ...   \n2024-08-31                   0.004696                   0.026943   \n2024-09-30                   0.004135                   0.047077   \n2024-10-31                   0.004256                   0.037790   \n2024-11-30                   0.004256                  -0.038405   \n2024-12-31                   0.003774                  -0.009814   \n\n            GC2_Monthly_Excess_Return  \nDate                                   \n1975-01-31                  -0.003923  \n1975-02-28                   0.036323  \n1975-03-31                  -0.037161  \n1975-04-30                  -0.064777  \n1975-05-31                  -0.006658  \n...                               ...  \n2024-08-31                   0.026943  \n2024-09-30                   0.047077  \n2024-10-31                   0.037790  \n2024-11-30                  -0.038405  \n2024-12-31                  -0.009814  \n\n[600 rows x 29 columns]",
      "text/html": "<div>\n<style scoped>\n    .dataframe tbody tr th:only-of-type {\n        vertical-align: middle;\n    }\n\n    .dataframe tbody tr th {\n        vertical-align: top;\n    }\n\n    .dataframe thead th {\n        text-align: right;\n    }\n</style>\n<table border=\"1\" class=\"dataframe\">\n  <thead>\n    <tr style=\"text-align: right;\">\n      <th></th>\n      <th>GC1_Monthly_raw_Return</th>\n      <th>GC2_Monthly_raw_Return</th>\n      <th>GC1_OPEN_INT</th>\n      <th>SPX Index</th>\n      <th>NDX Index</th>\n      <th>DXY Curncy</th>\n      <th>USGG10YR Index</th>\n      <th>USGG2YR Index</th>\n      <th>VIX Index</th>\n      <th>JPY Curncy</th>\n      <th>...</th>\n      <th>GDP_Real_QoQ</th>\n      <th>CPI_YoY</th>\n      <th>US_Unemp</th>\n      <th>Cons_Conf</th>\n      <th>US_RIR</th>\n      <th>GC1_volatility</th>\n      <th>GC2_volatility</th>\n      <th>1M_risk_free_ret_realized</th>\n      <th>GC1_Monthly_Excess_Return</th>\n      <th>GC2_Monthly_Excess_Return</th>\n    </tr>\n    <tr>\n      <th>Date</th>\n      <th></th>\n      <th></th>\n      <th></th>\n      <th></th>\n      <th></th>\n      <th></th>\n      <th></th>\n      <th></th>\n      <th></th>\n      <th></th>\n      <th></th>\n      <th></th>\n      <th></th>\n      <th></th>\n      <th></th>\n      <th></th>\n      <th></th>\n      <th></th>\n      <th></th>\n      <th></th>\n      <th></th>\n    </tr>\n  </thead>\n  <tbody>\n    <tr>\n      <th>1975-01-31</th>\n      <td>0.002282</td>\n      <td>-0.001123</td>\n      <td>NaN</td>\n      <td>0.091770</td>\n      <td>NaN</td>\n      <td>-0.021726</td>\n      <td>0.014712</td>\n      <td>NaN</td>\n      <td>NaN</td>\n      <td>-0.008987</td>\n      <td>...</td>\n      <td>NaN</td>\n      <td>11.8</td>\n      <td>8.1</td>\n      <td>NaN</td>\n      <td>-4.8026</td>\n      <td>NaN</td>\n      <td>NaN</td>\n      <td>0.006205</td>\n      <td>-0.003923</td>\n      <td>-0.003923</td>\n    </tr>\n    <tr>\n      <th>1975-02-28</th>\n      <td>0.041847</td>\n      <td>0.043425</td>\n      <td>NaN</td>\n      <td>0.065179</td>\n      <td>NaN</td>\n      <td>-0.019899</td>\n      <td>-0.002461</td>\n      <td>NaN</td>\n      <td>NaN</td>\n      <td>-0.039429</td>\n      <td>...</td>\n      <td>NaN</td>\n      <td>11.2</td>\n      <td>8.1</td>\n      <td>NaN</td>\n      <td>-5.2288</td>\n      <td>NaN</td>\n      <td>NaN</td>\n      <td>0.005524</td>\n      <td>0.036323</td>\n      <td>0.036323</td>\n    </tr>\n    <tr>\n      <th>1975-03-31</th>\n      <td>-0.032772</td>\n      <td>-0.035034</td>\n      <td>NaN</td>\n      <td>0.027323</td>\n      <td>NaN</td>\n      <td>0.019908</td>\n      <td>0.079816</td>\n      <td>NaN</td>\n      <td>NaN</td>\n      <td>0.026118</td>\n      <td>...</td>\n      <td>-4.7</td>\n      <td>10.3</td>\n      <td>8.6</td>\n      <td>NaN</td>\n      <td>-4.7510</td>\n      <td>0.162229</td>\n      <td>0.161182</td>\n      <td>0.004390</td>\n      <td>-0.037161</td>\n      <td>-0.037161</td>\n    </tr>\n    <tr>\n      <th>1975-04-30</th>\n      <td>-0.059919</td>\n      <td>-0.060868</td>\n      <td>NaN</td>\n      <td>0.046182</td>\n      <td>NaN</td>\n      <td>0.005993</td>\n      <td>0.036760</td>\n      <td>NaN</td>\n      <td>NaN</td>\n      <td>-0.006141</td>\n      <td>...</td>\n      <td>NaN</td>\n      <td>10.2</td>\n      <td>8.8</td>\n      <td>NaN</td>\n      <td>-4.9583</td>\n      <td>0.171430</td>\n      <td>0.172165</td>\n      <td>0.004858</td>\n      <td>-0.064777</td>\n      <td>-0.064777</td>\n    </tr>\n    <tr>\n      <th>1975-05-31</th>\n      <td>-0.001800</td>\n      <td>0.000592</td>\n      <td>NaN</td>\n      <td>0.045809</td>\n      <td>NaN</td>\n      <td>-0.007999</td>\n      <td>-0.028024</td>\n      <td>NaN</td>\n      <td>NaN</td>\n      <td>-0.002330</td>\n      <td>...</td>\n      <td>NaN</td>\n      <td>9.5</td>\n      <td>9.0</td>\n      <td>NaN</td>\n      <td>-4.2150</td>\n      <td>0.176185</td>\n      <td>0.181025</td>\n      <td>0.004858</td>\n      <td>-0.006658</td>\n      <td>-0.006658</td>\n    </tr>\n    <tr>\n      <th>...</th>\n      <td>...</td>\n      <td>...</td>\n      <td>...</td>\n      <td>...</td>\n      <td>...</td>\n      <td>...</td>\n      <td>...</td>\n      <td>...</td>\n      <td>...</td>\n      <td>...</td>\n      <td>...</td>\n      <td>...</td>\n      <td>...</td>\n      <td>...</td>\n      <td>...</td>\n      <td>...</td>\n      <td>...</td>\n      <td>...</td>\n      <td>...</td>\n      <td>...</td>\n      <td>...</td>\n    </tr>\n    <tr>\n      <th>2024-08-31</th>\n      <td>0.031639</td>\n      <td>0.031468</td>\n      <td>1.334165</td>\n      <td>0.022578</td>\n      <td>0.010900</td>\n      <td>-0.023306</td>\n      <td>-0.031819</td>\n      <td>-0.083484</td>\n      <td>-0.086789</td>\n      <td>-0.025732</td>\n      <td>...</td>\n      <td>NaN</td>\n      <td>2.5</td>\n      <td>4.2</td>\n      <td>67.9</td>\n      <td>2.8443</td>\n      <td>0.168238</td>\n      <td>0.169387</td>\n      <td>0.004696</td>\n      <td>0.026943</td>\n      <td>0.026943</td>\n    </tr>\n    <tr>\n      <th>2024-09-30</th>\n      <td>0.051211</td>\n      <td>0.050830</td>\n      <td>-2.773346</td>\n      <td>0.041374</td>\n      <td>0.056498</td>\n      <td>-0.008635</td>\n      <td>-0.013164</td>\n      <td>-0.059184</td>\n      <td>0.073143</td>\n      <td>-0.022648</td>\n      <td>...</td>\n      <td>3.1</td>\n      <td>2.4</td>\n      <td>4.1</td>\n      <td>70.1</td>\n      <td>2.4344</td>\n      <td>0.151431</td>\n      <td>0.154221</td>\n      <td>0.004135</td>\n      <td>0.047077</td>\n      <td>0.047077</td>\n    </tr>\n    <tr>\n      <th>2024-10-31</th>\n      <td>0.042046</td>\n      <td>0.042190</td>\n      <td>5.034246</td>\n      <td>-0.009946</td>\n      <td>-0.008524</td>\n      <td>0.031230</td>\n      <td>0.141890</td>\n      <td>0.138210</td>\n      <td>0.325223</td>\n      <td>0.056837</td>\n      <td>...</td>\n      <td>NaN</td>\n      <td>2.6</td>\n      <td>4.1</td>\n      <td>70.5</td>\n      <td>2.2771</td>\n      <td>0.134111</td>\n      <td>0.135932</td>\n      <td>0.004256</td>\n      <td>0.037790</td>\n      <td>0.037790</td>\n    </tr>\n    <tr>\n      <th>2024-11-30</th>\n      <td>-0.034149</td>\n      <td>-0.034100</td>\n      <td>-3.160694</td>\n      <td>0.050128</td>\n      <td>0.042042</td>\n      <td>0.016795</td>\n      <td>-0.033134</td>\n      <td>-0.006485</td>\n      <td>-0.538997</td>\n      <td>-0.014977</td>\n      <td>...</td>\n      <td>NaN</td>\n      <td>2.7</td>\n      <td>4.2</td>\n      <td>71.8</td>\n      <td>1.8756</td>\n      <td>0.167985</td>\n      <td>0.170430</td>\n      <td>0.004256</td>\n      <td>-0.038405</td>\n      <td>-0.038405</td>\n    </tr>\n    <tr>\n      <th>2024-12-31</th>\n      <td>-0.006040</td>\n      <td>-0.005611</td>\n      <td>4.077298</td>\n      <td>-0.027347</td>\n      <td>-0.005881</td>\n      <td>0.020176</td>\n      <td>0.087974</td>\n      <td>0.015672</td>\n      <td>0.231099</td>\n      <td>0.049554</td>\n      <td>...</td>\n      <td>2.3</td>\n      <td>2.9</td>\n      <td>4.1</td>\n      <td>74.0</td>\n      <td>1.4869</td>\n      <td>0.181269</td>\n      <td>0.183134</td>\n      <td>0.003774</td>\n      <td>-0.009814</td>\n      <td>-0.009814</td>\n    </tr>\n  </tbody>\n</table>\n<p>600 rows × 29 columns</p>\n</div>"
     },
     "execution_count": 14,
     "metadata": {},
     "output_type": "execute_result"
    }
   ],
   "source": [
    "bbg_df_monthly_only['GC1_Monthly_Excess_Return'] = bbg_df_monthly_only['GC1_Monthly_raw_Return'] - bbg_df_monthly_only['1M_risk_free_ret_realized']\n",
    "bbg_df_monthly_only['GC2_Monthly_Excess_Return'] = bbg_df_monthly_only['GC1_Monthly_raw_Return'] - bbg_df_monthly_only['1M_risk_free_ret_realized']\n",
    "\n",
    "bbg_df_monthly_only"
   ]
  },
  {
   "cell_type": "markdown",
   "metadata": {},
   "source": [
    "##### **<font color= #90EE90>2.5 Create Time Series Momentum Data</font>**"
   ]
  },
  {
   "cell_type": "markdown",
   "metadata": {},
   "source": [
    "**Calculate Realized Return and Sign**"
   ]
  },
  {
   "cell_type": "code",
   "execution_count": 15,
   "metadata": {
    "ExecuteTime": {
     "end_time": "2025-02-18T14:20:28.265714Z",
     "start_time": "2025-02-18T14:20:28.252012Z"
    }
   },
   "outputs": [
    {
     "data": {
      "text/plain": "            GC2_Monthly_Excess_Return  GC2_12M_Ret  GC2_6M_Ret  GC2_3M_Ret\nDate                                                                      \n1975-01-31                  -0.003923          NaN         NaN         NaN\n1975-02-28                   0.036323          NaN         NaN         NaN\n1975-03-31                  -0.037161          NaN         NaN   -0.004761\n1975-04-30                  -0.064777          NaN         NaN   -0.065615\n1975-05-31                  -0.006658          NaN         NaN   -0.108597\n1975-06-30                   0.003330          NaN   -0.072866   -0.068105\n1975-07-31                  -0.006558          NaN   -0.075501   -0.009886\n1975-08-31                  -0.050522          NaN   -0.162347   -0.053750\n1975-09-30                  -0.136458          NaN   -0.261644   -0.193539\n1975-10-31                   0.011115          NaN   -0.185752   -0.175866\n1975-11-30                  -0.044400          NaN   -0.223493   -0.169743\n1975-12-31                   0.022020    -0.277670   -0.204804   -0.011265\n1976-01-31                  -0.099740    -0.373487   -0.297986   -0.122120\n1976-02-29                   0.029174    -0.380637   -0.218290   -0.048547\n1976-03-31                  -0.031013    -0.374489   -0.112845   -0.101580\n1976-04-30                  -0.005822    -0.315533   -0.129781   -0.007661\n1976-05-31                  -0.027011    -0.335886   -0.112393   -0.063846\n1976-06-30                  -0.021643    -0.360859   -0.156055   -0.054475\n1976-07-31                  -0.104919    -0.459220   -0.161234   -0.153572\n1976-08-31                  -0.091071    -0.499769   -0.281479   -0.217633\n1976-09-30                   0.113582    -0.249729   -0.136884   -0.082409\n1976-10-31                   0.063033    -0.197810   -0.068029    0.085543\n1976-11-30                   0.056162    -0.097249    0.015143    0.232776\n1976-12-31                   0.027323    -0.091946    0.064109    0.146518",
      "text/html": "<div>\n<style scoped>\n    .dataframe tbody tr th:only-of-type {\n        vertical-align: middle;\n    }\n\n    .dataframe tbody tr th {\n        vertical-align: top;\n    }\n\n    .dataframe thead th {\n        text-align: right;\n    }\n</style>\n<table border=\"1\" class=\"dataframe\">\n  <thead>\n    <tr style=\"text-align: right;\">\n      <th></th>\n      <th>GC2_Monthly_Excess_Return</th>\n      <th>GC2_12M_Ret</th>\n      <th>GC2_6M_Ret</th>\n      <th>GC2_3M_Ret</th>\n    </tr>\n    <tr>\n      <th>Date</th>\n      <th></th>\n      <th></th>\n      <th></th>\n      <th></th>\n    </tr>\n  </thead>\n  <tbody>\n    <tr>\n      <th>1975-01-31</th>\n      <td>-0.003923</td>\n      <td>NaN</td>\n      <td>NaN</td>\n      <td>NaN</td>\n    </tr>\n    <tr>\n      <th>1975-02-28</th>\n      <td>0.036323</td>\n      <td>NaN</td>\n      <td>NaN</td>\n      <td>NaN</td>\n    </tr>\n    <tr>\n      <th>1975-03-31</th>\n      <td>-0.037161</td>\n      <td>NaN</td>\n      <td>NaN</td>\n      <td>-0.004761</td>\n    </tr>\n    <tr>\n      <th>1975-04-30</th>\n      <td>-0.064777</td>\n      <td>NaN</td>\n      <td>NaN</td>\n      <td>-0.065615</td>\n    </tr>\n    <tr>\n      <th>1975-05-31</th>\n      <td>-0.006658</td>\n      <td>NaN</td>\n      <td>NaN</td>\n      <td>-0.108597</td>\n    </tr>\n    <tr>\n      <th>1975-06-30</th>\n      <td>0.003330</td>\n      <td>NaN</td>\n      <td>-0.072866</td>\n      <td>-0.068105</td>\n    </tr>\n    <tr>\n      <th>1975-07-31</th>\n      <td>-0.006558</td>\n      <td>NaN</td>\n      <td>-0.075501</td>\n      <td>-0.009886</td>\n    </tr>\n    <tr>\n      <th>1975-08-31</th>\n      <td>-0.050522</td>\n      <td>NaN</td>\n      <td>-0.162347</td>\n      <td>-0.053750</td>\n    </tr>\n    <tr>\n      <th>1975-09-30</th>\n      <td>-0.136458</td>\n      <td>NaN</td>\n      <td>-0.261644</td>\n      <td>-0.193539</td>\n    </tr>\n    <tr>\n      <th>1975-10-31</th>\n      <td>0.011115</td>\n      <td>NaN</td>\n      <td>-0.185752</td>\n      <td>-0.175866</td>\n    </tr>\n    <tr>\n      <th>1975-11-30</th>\n      <td>-0.044400</td>\n      <td>NaN</td>\n      <td>-0.223493</td>\n      <td>-0.169743</td>\n    </tr>\n    <tr>\n      <th>1975-12-31</th>\n      <td>0.022020</td>\n      <td>-0.277670</td>\n      <td>-0.204804</td>\n      <td>-0.011265</td>\n    </tr>\n    <tr>\n      <th>1976-01-31</th>\n      <td>-0.099740</td>\n      <td>-0.373487</td>\n      <td>-0.297986</td>\n      <td>-0.122120</td>\n    </tr>\n    <tr>\n      <th>1976-02-29</th>\n      <td>0.029174</td>\n      <td>-0.380637</td>\n      <td>-0.218290</td>\n      <td>-0.048547</td>\n    </tr>\n    <tr>\n      <th>1976-03-31</th>\n      <td>-0.031013</td>\n      <td>-0.374489</td>\n      <td>-0.112845</td>\n      <td>-0.101580</td>\n    </tr>\n    <tr>\n      <th>1976-04-30</th>\n      <td>-0.005822</td>\n      <td>-0.315533</td>\n      <td>-0.129781</td>\n      <td>-0.007661</td>\n    </tr>\n    <tr>\n      <th>1976-05-31</th>\n      <td>-0.027011</td>\n      <td>-0.335886</td>\n      <td>-0.112393</td>\n      <td>-0.063846</td>\n    </tr>\n    <tr>\n      <th>1976-06-30</th>\n      <td>-0.021643</td>\n      <td>-0.360859</td>\n      <td>-0.156055</td>\n      <td>-0.054475</td>\n    </tr>\n    <tr>\n      <th>1976-07-31</th>\n      <td>-0.104919</td>\n      <td>-0.459220</td>\n      <td>-0.161234</td>\n      <td>-0.153572</td>\n    </tr>\n    <tr>\n      <th>1976-08-31</th>\n      <td>-0.091071</td>\n      <td>-0.499769</td>\n      <td>-0.281479</td>\n      <td>-0.217633</td>\n    </tr>\n    <tr>\n      <th>1976-09-30</th>\n      <td>0.113582</td>\n      <td>-0.249729</td>\n      <td>-0.136884</td>\n      <td>-0.082409</td>\n    </tr>\n    <tr>\n      <th>1976-10-31</th>\n      <td>0.063033</td>\n      <td>-0.197810</td>\n      <td>-0.068029</td>\n      <td>0.085543</td>\n    </tr>\n    <tr>\n      <th>1976-11-30</th>\n      <td>0.056162</td>\n      <td>-0.097249</td>\n      <td>0.015143</td>\n      <td>0.232776</td>\n    </tr>\n    <tr>\n      <th>1976-12-31</th>\n      <td>0.027323</td>\n      <td>-0.091946</td>\n      <td>0.064109</td>\n      <td>0.146518</td>\n    </tr>\n  </tbody>\n</table>\n</div>"
     },
     "execution_count": 15,
     "metadata": {},
     "output_type": "execute_result"
    }
   ],
   "source": [
    "#1M Return\n",
    "bbg_df_monthly_only['GC1_1M_Ret'] = bbg_df_monthly_only['GC1_Monthly_Excess_Return']\n",
    "bbg_df_monthly_only['GC2_1M_Ret'] = bbg_df_monthly_only['GC2_Monthly_Excess_Return']\n",
    "\n",
    "# 1M sign\n",
    "bbg_df_monthly_only['GC1_1M_Sign'] = np.sign(bbg_df_monthly_only['GC1_Monthly_Excess_Return'])\n",
    "bbg_df_monthly_only['GC2_1M_Sign'] = np.sign(bbg_df_monthly_only['GC2_Monthly_Excess_Return'])\n",
    "\n",
    "#--------------------\n",
    "\n",
    "# 3M return (log return accumulates by summation)\n",
    "bbg_df_monthly_only['GC1_3M_Ret'] = (\n",
    "    bbg_df_monthly_only['GC1_Monthly_Excess_Return']\n",
    "    .rolling(window=3)\n",
    "    .sum()\n",
    ")\n",
    "\n",
    "bbg_df_monthly_only['GC2_3M_Ret'] = (\n",
    "    bbg_df_monthly_only['GC2_Monthly_Excess_Return']\n",
    "    .rolling(window=3)\n",
    "    .sum()\n",
    ")\n",
    "\n",
    "# Calculate 3M sign\n",
    "bbg_df_monthly_only['GC1_3M_Sign'] = np.sign(bbg_df_monthly_only['GC1_3M_Ret'])\n",
    "bbg_df_monthly_only['GC2_3M_Sign'] = np.sign(bbg_df_monthly_only['GC2_3M_Ret'])\n",
    "\n",
    "#--------------------\n",
    "\n",
    "# 6M return (log return accumulates by summation)\n",
    "bbg_df_monthly_only['GC1_6M_Ret'] = (\n",
    "    bbg_df_monthly_only['GC1_Monthly_Excess_Return']\n",
    "    .rolling(window=6)\n",
    "    .sum()\n",
    ")\n",
    "bbg_df_monthly_only['GC2_6M_Ret'] = (\n",
    "    bbg_df_monthly_only['GC2_Monthly_Excess_Return']\n",
    "    .rolling(window=6)\n",
    "    .sum()\n",
    ")\n",
    "# Calculate 6M sign\n",
    "bbg_df_monthly_only['GC1_6M_Sign'] = np.sign(bbg_df_monthly_only['GC1_6M_Ret'])\n",
    "bbg_df_monthly_only['GC2_6M_Sign'] = np.sign(bbg_df_monthly_only['GC2_6M_Ret'])\n",
    "\n",
    "#--------------------\n",
    "\n",
    "# 12M return (log return accumulates by summation)\n",
    "bbg_df_monthly_only['GC1_12M_Ret'] = (\n",
    "    bbg_df_monthly_only['GC1_Monthly_Excess_Return']\n",
    "    .rolling(window=12)\n",
    "    .sum()\n",
    ")\n",
    "bbg_df_monthly_only['GC2_12M_Ret'] = (\n",
    "    bbg_df_monthly_only['GC2_Monthly_Excess_Return']\n",
    "    .rolling(window=12)\n",
    "    .sum()\n",
    ")\n",
    "\n",
    "\n",
    "# Calculate 12M sign\n",
    "bbg_df_monthly_only['GC1_12M_Sign'] = np.sign(bbg_df_monthly_only['GC1_12M_Ret'])\n",
    "bbg_df_monthly_only['GC2_12M_Sign'] = np.sign(bbg_df_monthly_only['GC2_12M_Ret'])\n",
    "\n",
    "\n",
    "#checking log return\n",
    "bbg_df_monthly_only[['GC2_Monthly_Excess_Return','GC2_12M_Ret','GC2_6M_Ret','GC2_3M_Ret']].head(24)\n",
    "#bbg_df_monthly_only\n"
   ]
  },
  {
   "cell_type": "markdown",
   "metadata": {},
   "source": [
    "**Forward Return and Sign**"
   ]
  },
  {
   "cell_type": "code",
   "execution_count": 16,
   "metadata": {
    "collapsed": false,
    "ExecuteTime": {
     "end_time": "2025-02-18T14:20:28.286002Z",
     "start_time": "2025-02-18T14:20:28.265714Z"
    }
   },
   "outputs": [
    {
     "data": {
      "text/plain": "            GC1_3M_Fwd_Ret  GC1_3M_Ret  GC1_12M_Fwd_Ret  GC1_12M_Ret\nDate                                                                \n1975-01-31       -0.004761         NaN        -0.277670          NaN\n1975-02-28       -0.065615         NaN        -0.373487          NaN\n1975-03-31       -0.108597   -0.004761        -0.380637          NaN\n1975-04-30       -0.068105   -0.065615        -0.374489          NaN\n1975-05-31       -0.009886   -0.108597        -0.315533          NaN\n1975-06-30       -0.053750   -0.068105        -0.335886          NaN\n1975-07-31       -0.193539   -0.009886        -0.360859          NaN\n1975-08-31       -0.175866   -0.053750        -0.459220          NaN\n1975-09-30       -0.169743   -0.193539        -0.499769          NaN\n1975-10-31       -0.011265   -0.175866        -0.249729          NaN\n1975-11-30       -0.122120   -0.169743        -0.197810          NaN\n1975-12-31       -0.048547   -0.011265        -0.097249    -0.277670\n1976-01-31       -0.101580   -0.122120        -0.091946    -0.373487\n1976-02-29       -0.007661   -0.048547        -0.016040    -0.380637\n1976-03-31       -0.063846   -0.101580         0.034636    -0.374489\n1976-04-30       -0.054475   -0.007661         0.094836    -0.315533\n1976-05-31       -0.153572   -0.063846         0.086436    -0.335886\n1976-06-30       -0.217633   -0.054475         0.078064    -0.360859\n1976-07-31       -0.082409   -0.153572         0.095645    -0.459220\n1976-08-31        0.085543   -0.217633         0.206197    -0.499769",
      "text/html": "<div>\n<style scoped>\n    .dataframe tbody tr th:only-of-type {\n        vertical-align: middle;\n    }\n\n    .dataframe tbody tr th {\n        vertical-align: top;\n    }\n\n    .dataframe thead th {\n        text-align: right;\n    }\n</style>\n<table border=\"1\" class=\"dataframe\">\n  <thead>\n    <tr style=\"text-align: right;\">\n      <th></th>\n      <th>GC1_3M_Fwd_Ret</th>\n      <th>GC1_3M_Ret</th>\n      <th>GC1_12M_Fwd_Ret</th>\n      <th>GC1_12M_Ret</th>\n    </tr>\n    <tr>\n      <th>Date</th>\n      <th></th>\n      <th></th>\n      <th></th>\n      <th></th>\n    </tr>\n  </thead>\n  <tbody>\n    <tr>\n      <th>1975-01-31</th>\n      <td>-0.004761</td>\n      <td>NaN</td>\n      <td>-0.277670</td>\n      <td>NaN</td>\n    </tr>\n    <tr>\n      <th>1975-02-28</th>\n      <td>-0.065615</td>\n      <td>NaN</td>\n      <td>-0.373487</td>\n      <td>NaN</td>\n    </tr>\n    <tr>\n      <th>1975-03-31</th>\n      <td>-0.108597</td>\n      <td>-0.004761</td>\n      <td>-0.380637</td>\n      <td>NaN</td>\n    </tr>\n    <tr>\n      <th>1975-04-30</th>\n      <td>-0.068105</td>\n      <td>-0.065615</td>\n      <td>-0.374489</td>\n      <td>NaN</td>\n    </tr>\n    <tr>\n      <th>1975-05-31</th>\n      <td>-0.009886</td>\n      <td>-0.108597</td>\n      <td>-0.315533</td>\n      <td>NaN</td>\n    </tr>\n    <tr>\n      <th>1975-06-30</th>\n      <td>-0.053750</td>\n      <td>-0.068105</td>\n      <td>-0.335886</td>\n      <td>NaN</td>\n    </tr>\n    <tr>\n      <th>1975-07-31</th>\n      <td>-0.193539</td>\n      <td>-0.009886</td>\n      <td>-0.360859</td>\n      <td>NaN</td>\n    </tr>\n    <tr>\n      <th>1975-08-31</th>\n      <td>-0.175866</td>\n      <td>-0.053750</td>\n      <td>-0.459220</td>\n      <td>NaN</td>\n    </tr>\n    <tr>\n      <th>1975-09-30</th>\n      <td>-0.169743</td>\n      <td>-0.193539</td>\n      <td>-0.499769</td>\n      <td>NaN</td>\n    </tr>\n    <tr>\n      <th>1975-10-31</th>\n      <td>-0.011265</td>\n      <td>-0.175866</td>\n      <td>-0.249729</td>\n      <td>NaN</td>\n    </tr>\n    <tr>\n      <th>1975-11-30</th>\n      <td>-0.122120</td>\n      <td>-0.169743</td>\n      <td>-0.197810</td>\n      <td>NaN</td>\n    </tr>\n    <tr>\n      <th>1975-12-31</th>\n      <td>-0.048547</td>\n      <td>-0.011265</td>\n      <td>-0.097249</td>\n      <td>-0.277670</td>\n    </tr>\n    <tr>\n      <th>1976-01-31</th>\n      <td>-0.101580</td>\n      <td>-0.122120</td>\n      <td>-0.091946</td>\n      <td>-0.373487</td>\n    </tr>\n    <tr>\n      <th>1976-02-29</th>\n      <td>-0.007661</td>\n      <td>-0.048547</td>\n      <td>-0.016040</td>\n      <td>-0.380637</td>\n    </tr>\n    <tr>\n      <th>1976-03-31</th>\n      <td>-0.063846</td>\n      <td>-0.101580</td>\n      <td>0.034636</td>\n      <td>-0.374489</td>\n    </tr>\n    <tr>\n      <th>1976-04-30</th>\n      <td>-0.054475</td>\n      <td>-0.007661</td>\n      <td>0.094836</td>\n      <td>-0.315533</td>\n    </tr>\n    <tr>\n      <th>1976-05-31</th>\n      <td>-0.153572</td>\n      <td>-0.063846</td>\n      <td>0.086436</td>\n      <td>-0.335886</td>\n    </tr>\n    <tr>\n      <th>1976-06-30</th>\n      <td>-0.217633</td>\n      <td>-0.054475</td>\n      <td>0.078064</td>\n      <td>-0.360859</td>\n    </tr>\n    <tr>\n      <th>1976-07-31</th>\n      <td>-0.082409</td>\n      <td>-0.153572</td>\n      <td>0.095645</td>\n      <td>-0.459220</td>\n    </tr>\n    <tr>\n      <th>1976-08-31</th>\n      <td>0.085543</td>\n      <td>-0.217633</td>\n      <td>0.206197</td>\n      <td>-0.499769</td>\n    </tr>\n  </tbody>\n</table>\n</div>"
     },
     "execution_count": 16,
     "metadata": {},
     "output_type": "execute_result"
    }
   ],
   "source": [
    "# ===== Calculate Actual Return in Forward-Looking Style : Next X Month Return =====\n",
    "\n",
    "# 1M Fwd return\n",
    "bbg_df_monthly_only['GC1_1M_Fwd_Ret'] = bbg_df_monthly_only['GC1_Monthly_Excess_Return'].shift(-1)\n",
    "bbg_df_monthly_only['GC2_1M_Fwd_Ret'] = bbg_df_monthly_only['GC2_Monthly_Excess_Return'].shift(-1)\n",
    "\n",
    "# 1M Sign\n",
    "bbg_df_monthly_only['GC1_1M_Fwd_Sign'] = np.sign(bbg_df_monthly_only['GC1_1M_Fwd_Ret'])\n",
    "bbg_df_monthly_only['GC2_1M_Fwd_Sign'] = np.sign(bbg_df_monthly_only['GC2_1M_Fwd_Ret'])\n",
    "\n",
    "#--------------------\n",
    "\n",
    "# Forward-looking 3M return\n",
    "bbg_df_monthly_only['GC1_3M_Fwd_Ret'] = (\n",
    "    bbg_df_monthly_only['GC1_Monthly_Excess_Return']\n",
    "    .rolling(window=3)\n",
    "    .sum()\n",
    "    .shift(-2)\n",
    ")\n",
    "bbg_df_monthly_only['GC2_3M_Fwd_Ret'] = (\n",
    "    bbg_df_monthly_only['GC2_Monthly_Excess_Return']\n",
    "    .rolling(window=3)\n",
    "    .sum()\n",
    "    .shift(-2)  # forward-looking return\n",
    ")\n",
    "# Forward-looking 3M return\n",
    "bbg_df_monthly_only['GC1_3M_Fwd_raw_Ret'] = (\n",
    "    bbg_df_monthly_only['GC1_Monthly_raw_Return']\n",
    "    .rolling(window=3)\n",
    "    .sum()\n",
    "    .shift(-2)\n",
    ")\n",
    "bbg_df_monthly_only['GC2_3M_Fwd_raw_Ret'] = (\n",
    "    bbg_df_monthly_only['GC2_Monthly_raw_Return']\n",
    "    .rolling(window=3)\n",
    "    .sum()\n",
    "    .shift(-2)  # forward-looking return\n",
    ")\n",
    "\n",
    "# 3M forward sign\n",
    "bbg_df_monthly_only['GC1_3M_Fwd_Sign'] = np.sign(bbg_df_monthly_only['GC1_3M_Fwd_Ret'])\n",
    "bbg_df_monthly_only['GC2_3M_Fwd_Sign'] = np.sign(bbg_df_monthly_only['GC2_3M_Fwd_Ret'])\n",
    "\n",
    "#--------------------\n",
    "\n",
    "# Forward-looking 6M return\n",
    "bbg_df_monthly_only['GC1_6M_Fwd_Ret'] = (\n",
    "    bbg_df_monthly_only['GC1_Monthly_Excess_Return']\n",
    "    .rolling(window=6)\n",
    "    .sum()\n",
    "    .shift(-5)\n",
    ")\n",
    "bbg_df_monthly_only['GC2_6M_Fwd_Ret'] = (\n",
    "    bbg_df_monthly_only['GC2_Monthly_Excess_Return']\n",
    "    .rolling(window=6)\n",
    "    .sum()\n",
    "    .shift(-5)\n",
    ")\n",
    "# Forward-looking 6M return\n",
    "bbg_df_monthly_only['GC1_6M_Fwd_raw_Ret'] = (\n",
    "    bbg_df_monthly_only['GC1_Monthly_raw_Return']\n",
    "    .rolling(window=6)\n",
    "    .sum()\n",
    "    .shift(-5)\n",
    ")\n",
    "bbg_df_monthly_only['GC2_6M_Fwd_raw_Ret'] = (\n",
    "    bbg_df_monthly_only['GC2_Monthly_raw_Return']\n",
    "    .rolling(window=6)\n",
    "    .sum()\n",
    "    .shift(-5)\n",
    ")\n",
    "\n",
    "# 6M forward sign\n",
    "bbg_df_monthly_only['GC1_6M_Fwd_Sign'] = np.sign(bbg_df_monthly_only['GC1_6M_Fwd_Ret'])\n",
    "bbg_df_monthly_only['GC2_6M_Fwd_Sign'] = np.sign(bbg_df_monthly_only['GC2_6M_Fwd_Ret'])\n",
    "\n",
    "#--------------------\n",
    "\n",
    "# Forward-looking 12M return\n",
    "bbg_df_monthly_only['GC1_12M_Fwd_Ret'] = (\n",
    "    bbg_df_monthly_only['GC1_Monthly_Excess_Return']\n",
    "    .rolling(window=12)\n",
    "    .sum()\n",
    "    .shift(-11)\n",
    ")\n",
    "bbg_df_monthly_only['GC2_12M_Fwd_Ret'] = (\n",
    "    bbg_df_monthly_only['GC2_Monthly_Excess_Return']\n",
    "    .rolling(window=12)\n",
    "    .sum()\n",
    "    .shift(-11)\n",
    ")\n",
    "\n",
    "# Forward-looking 12M return\n",
    "bbg_df_monthly_only['GC1_12M_Fwd_raw_Ret'] = (\n",
    "    bbg_df_monthly_only['GC1_Monthly_raw_Return']\n",
    "    .rolling(window=12)\n",
    "    .sum()\n",
    "    .shift(-11)\n",
    ")\n",
    "bbg_df_monthly_only['GC2_12M_Fwd_raw_Ret'] = (\n",
    "    bbg_df_monthly_only['GC2_Monthly_raw_Return']\n",
    "    .rolling(window=12)\n",
    "    .sum()\n",
    "    .shift(-11)\n",
    ")\n",
    "\n",
    "# 12M forward sign\n",
    "bbg_df_monthly_only['GC1_12M_Fwd_Sign'] = np.sign(bbg_df_monthly_only['GC1_12M_Fwd_Ret'])\n",
    "bbg_df_monthly_only['GC2_12M_Fwd_Sign'] = np.sign(bbg_df_monthly_only['GC2_12M_Fwd_Ret'])\n",
    "\n",
    "#--------------------\n",
    "bbg_df_monthly_only[['GC1_3M_Fwd_Ret','GC1_3M_Ret','GC1_12M_Fwd_Ret','GC1_12M_Ret']].head(20)\n"
   ]
  },
  {
   "cell_type": "markdown",
   "metadata": {},
   "source": [
    "**Lag_1 Return and Sign**"
   ]
  },
  {
   "cell_type": "code",
   "execution_count": 17,
   "metadata": {
    "ExecuteTime": {
     "end_time": "2025-02-18T14:20:28.291865Z",
     "start_time": "2025-02-18T14:20:28.287053Z"
    }
   },
   "outputs": [],
   "source": [
    "bbg_df_monthly_only.drop(['GC1_OPEN_INT','GC2_OPEN_INT'],axis=1, inplace = True)"
   ]
  },
  {
   "cell_type": "code",
   "execution_count": 18,
   "metadata": {
    "ExecuteTime": {
     "end_time": "2025-02-18T14:20:28.743064Z",
     "start_time": "2025-02-18T14:20:28.293209Z"
    }
   },
   "outputs": [
    {
     "data": {
      "text/plain": "            GC1_Monthly_raw_Return  GC2_Monthly_raw_Return  SPX Index  \\\nDate                                                                    \n1975-01-31                0.002282               -0.001123   0.091770   \n1975-02-28                0.041847                0.043425   0.065179   \n1975-03-31               -0.032772               -0.035034   0.027323   \n1975-04-30               -0.059919               -0.060868   0.046182   \n1975-05-31               -0.001800                0.000592   0.045809   \n...                            ...                     ...        ...   \n2024-08-31                0.031639                0.031468   0.022578   \n2024-09-30                0.051211                0.050830   0.041374   \n2024-10-31                0.042046                0.042190  -0.009946   \n2024-11-30               -0.034149               -0.034100   0.050128   \n2024-12-31               -0.006040               -0.005611  -0.027347   \n\n            NDX Index  DXY Curncy  USGG10YR Index  USGG2YR Index  VIX Index  \\\nDate                                                                          \n1975-01-31        NaN   -0.021726        0.014712            NaN        NaN   \n1975-02-28        NaN   -0.019899       -0.002461            NaN        NaN   \n1975-03-31        NaN    0.019908        0.079816            NaN        NaN   \n1975-04-30        NaN    0.005993        0.036760            NaN        NaN   \n1975-05-31        NaN   -0.007999       -0.028024            NaN        NaN   \n...               ...         ...             ...            ...        ...   \n2024-08-31   0.010900   -0.023306       -0.031819      -0.083484  -0.086789   \n2024-09-30   0.056498   -0.008635       -0.013164      -0.059184   0.073143   \n2024-10-31  -0.008524    0.031230        0.141890       0.138210   0.325223   \n2024-11-30   0.042042    0.016795       -0.033134      -0.006485  -0.538997   \n2024-12-31  -0.005881    0.020176        0.087974       0.015672   0.231099   \n\n            JPY Curncy  LEGATRUU Index  ...  GC1_6M_Ret_lag_1  \\\nDate                                    ...                     \n1975-01-31   -0.008987             NaN  ...               NaN   \n1975-02-28   -0.039429             NaN  ...               NaN   \n1975-03-31    0.026118             NaN  ...               NaN   \n1975-04-30   -0.006141             NaN  ...               NaN   \n1975-05-31   -0.002330             NaN  ...               NaN   \n...                ...             ...  ...               ...   \n2024-08-31   -0.025732        0.023384  ...          0.141416   \n2024-09-30   -0.022648        0.019029  ...          0.169985   \n2024-10-31    0.056837       -0.034094  ...          0.145552   \n2024-11-30   -0.014977        0.003403  ...          0.150001   \n2024-12-31    0.049554       -0.019784  ...          0.107645   \n\n            GC2_6M_Ret_lag_1  GC1_12M_Ret_lag_1  GC2_12M_Ret_lag_1  \\\nDate                                                                 \n1975-01-31               NaN                NaN                NaN   \n1975-02-28               NaN                NaN                NaN   \n1975-03-31               NaN                NaN                NaN   \n1975-04-30               NaN                NaN                NaN   \n1975-05-31               NaN                NaN                NaN   \n...                      ...                ...                ...   \n2024-08-31          0.141416           0.152213           0.152213   \n2024-09-30          0.169985           0.195850           0.195850   \n2024-10-31          0.145552           0.299755           0.299755   \n2024-11-30          0.150001           0.265902           0.265902   \n2024-12-31          0.107645           0.210469           0.210469   \n\n            GC1_3M_Sign_lag_1  GC2_3M_Sign_lag_1  GC1_6M_Sign_lag_1  \\\nDate                                                                  \n1975-01-31                NaN                NaN                NaN   \n1975-02-28                NaN                NaN                NaN   \n1975-03-31                NaN                NaN                NaN   \n1975-04-30               -1.0               -1.0                NaN   \n1975-05-31               -1.0               -1.0                NaN   \n...                       ...                ...                ...   \n2024-08-31                1.0                1.0                1.0   \n2024-09-30                1.0                1.0                1.0   \n2024-10-31                1.0                1.0                1.0   \n2024-11-30                1.0                1.0                1.0   \n2024-12-31                1.0                1.0                1.0   \n\n            GC2_6M_Sign_lag_1  GC1_12M_Sign_lag_1  GC2_12M_Sign_lag_1  \nDate                                                                   \n1975-01-31                NaN                 NaN                 NaN  \n1975-02-28                NaN                 NaN                 NaN  \n1975-03-31                NaN                 NaN                 NaN  \n1975-04-30                NaN                 NaN                 NaN  \n1975-05-31                NaN                 NaN                 NaN  \n...                       ...                 ...                 ...  \n2024-08-31                1.0                 1.0                 1.0  \n2024-09-30                1.0                 1.0                 1.0  \n2024-10-31                1.0                 1.0                 1.0  \n2024-11-30                1.0                 1.0                 1.0  \n2024-12-31                1.0                 1.0                 1.0  \n\n[600 rows x 77 columns]",
      "text/html": "<div>\n<style scoped>\n    .dataframe tbody tr th:only-of-type {\n        vertical-align: middle;\n    }\n\n    .dataframe tbody tr th {\n        vertical-align: top;\n    }\n\n    .dataframe thead th {\n        text-align: right;\n    }\n</style>\n<table border=\"1\" class=\"dataframe\">\n  <thead>\n    <tr style=\"text-align: right;\">\n      <th></th>\n      <th>GC1_Monthly_raw_Return</th>\n      <th>GC2_Monthly_raw_Return</th>\n      <th>SPX Index</th>\n      <th>NDX Index</th>\n      <th>DXY Curncy</th>\n      <th>USGG10YR Index</th>\n      <th>USGG2YR Index</th>\n      <th>VIX Index</th>\n      <th>JPY Curncy</th>\n      <th>LEGATRUU Index</th>\n      <th>...</th>\n      <th>GC1_6M_Ret_lag_1</th>\n      <th>GC2_6M_Ret_lag_1</th>\n      <th>GC1_12M_Ret_lag_1</th>\n      <th>GC2_12M_Ret_lag_1</th>\n      <th>GC1_3M_Sign_lag_1</th>\n      <th>GC2_3M_Sign_lag_1</th>\n      <th>GC1_6M_Sign_lag_1</th>\n      <th>GC2_6M_Sign_lag_1</th>\n      <th>GC1_12M_Sign_lag_1</th>\n      <th>GC2_12M_Sign_lag_1</th>\n    </tr>\n    <tr>\n      <th>Date</th>\n      <th></th>\n      <th></th>\n      <th></th>\n      <th></th>\n      <th></th>\n      <th></th>\n      <th></th>\n      <th></th>\n      <th></th>\n      <th></th>\n      <th></th>\n      <th></th>\n      <th></th>\n      <th></th>\n      <th></th>\n      <th></th>\n      <th></th>\n      <th></th>\n      <th></th>\n      <th></th>\n      <th></th>\n    </tr>\n  </thead>\n  <tbody>\n    <tr>\n      <th>1975-01-31</th>\n      <td>0.002282</td>\n      <td>-0.001123</td>\n      <td>0.091770</td>\n      <td>NaN</td>\n      <td>-0.021726</td>\n      <td>0.014712</td>\n      <td>NaN</td>\n      <td>NaN</td>\n      <td>-0.008987</td>\n      <td>NaN</td>\n      <td>...</td>\n      <td>NaN</td>\n      <td>NaN</td>\n      <td>NaN</td>\n      <td>NaN</td>\n      <td>NaN</td>\n      <td>NaN</td>\n      <td>NaN</td>\n      <td>NaN</td>\n      <td>NaN</td>\n      <td>NaN</td>\n    </tr>\n    <tr>\n      <th>1975-02-28</th>\n      <td>0.041847</td>\n      <td>0.043425</td>\n      <td>0.065179</td>\n      <td>NaN</td>\n      <td>-0.019899</td>\n      <td>-0.002461</td>\n      <td>NaN</td>\n      <td>NaN</td>\n      <td>-0.039429</td>\n      <td>NaN</td>\n      <td>...</td>\n      <td>NaN</td>\n      <td>NaN</td>\n      <td>NaN</td>\n      <td>NaN</td>\n      <td>NaN</td>\n      <td>NaN</td>\n      <td>NaN</td>\n      <td>NaN</td>\n      <td>NaN</td>\n      <td>NaN</td>\n    </tr>\n    <tr>\n      <th>1975-03-31</th>\n      <td>-0.032772</td>\n      <td>-0.035034</td>\n      <td>0.027323</td>\n      <td>NaN</td>\n      <td>0.019908</td>\n      <td>0.079816</td>\n      <td>NaN</td>\n      <td>NaN</td>\n      <td>0.026118</td>\n      <td>NaN</td>\n      <td>...</td>\n      <td>NaN</td>\n      <td>NaN</td>\n      <td>NaN</td>\n      <td>NaN</td>\n      <td>NaN</td>\n      <td>NaN</td>\n      <td>NaN</td>\n      <td>NaN</td>\n      <td>NaN</td>\n      <td>NaN</td>\n    </tr>\n    <tr>\n      <th>1975-04-30</th>\n      <td>-0.059919</td>\n      <td>-0.060868</td>\n      <td>0.046182</td>\n      <td>NaN</td>\n      <td>0.005993</td>\n      <td>0.036760</td>\n      <td>NaN</td>\n      <td>NaN</td>\n      <td>-0.006141</td>\n      <td>NaN</td>\n      <td>...</td>\n      <td>NaN</td>\n      <td>NaN</td>\n      <td>NaN</td>\n      <td>NaN</td>\n      <td>-1.0</td>\n      <td>-1.0</td>\n      <td>NaN</td>\n      <td>NaN</td>\n      <td>NaN</td>\n      <td>NaN</td>\n    </tr>\n    <tr>\n      <th>1975-05-31</th>\n      <td>-0.001800</td>\n      <td>0.000592</td>\n      <td>0.045809</td>\n      <td>NaN</td>\n      <td>-0.007999</td>\n      <td>-0.028024</td>\n      <td>NaN</td>\n      <td>NaN</td>\n      <td>-0.002330</td>\n      <td>NaN</td>\n      <td>...</td>\n      <td>NaN</td>\n      <td>NaN</td>\n      <td>NaN</td>\n      <td>NaN</td>\n      <td>-1.0</td>\n      <td>-1.0</td>\n      <td>NaN</td>\n      <td>NaN</td>\n      <td>NaN</td>\n      <td>NaN</td>\n    </tr>\n    <tr>\n      <th>...</th>\n      <td>...</td>\n      <td>...</td>\n      <td>...</td>\n      <td>...</td>\n      <td>...</td>\n      <td>...</td>\n      <td>...</td>\n      <td>...</td>\n      <td>...</td>\n      <td>...</td>\n      <td>...</td>\n      <td>...</td>\n      <td>...</td>\n      <td>...</td>\n      <td>...</td>\n      <td>...</td>\n      <td>...</td>\n      <td>...</td>\n      <td>...</td>\n      <td>...</td>\n      <td>...</td>\n    </tr>\n    <tr>\n      <th>2024-08-31</th>\n      <td>0.031639</td>\n      <td>0.031468</td>\n      <td>0.022578</td>\n      <td>0.010900</td>\n      <td>-0.023306</td>\n      <td>-0.031819</td>\n      <td>-0.083484</td>\n      <td>-0.086789</td>\n      <td>-0.025732</td>\n      <td>0.023384</td>\n      <td>...</td>\n      <td>0.141416</td>\n      <td>0.141416</td>\n      <td>0.152213</td>\n      <td>0.152213</td>\n      <td>1.0</td>\n      <td>1.0</td>\n      <td>1.0</td>\n      <td>1.0</td>\n      <td>1.0</td>\n      <td>1.0</td>\n    </tr>\n    <tr>\n      <th>2024-09-30</th>\n      <td>0.051211</td>\n      <td>0.050830</td>\n      <td>0.041374</td>\n      <td>0.056498</td>\n      <td>-0.008635</td>\n      <td>-0.013164</td>\n      <td>-0.059184</td>\n      <td>0.073143</td>\n      <td>-0.022648</td>\n      <td>0.019029</td>\n      <td>...</td>\n      <td>0.169985</td>\n      <td>0.169985</td>\n      <td>0.195850</td>\n      <td>0.195850</td>\n      <td>1.0</td>\n      <td>1.0</td>\n      <td>1.0</td>\n      <td>1.0</td>\n      <td>1.0</td>\n      <td>1.0</td>\n    </tr>\n    <tr>\n      <th>2024-10-31</th>\n      <td>0.042046</td>\n      <td>0.042190</td>\n      <td>-0.009946</td>\n      <td>-0.008524</td>\n      <td>0.031230</td>\n      <td>0.141890</td>\n      <td>0.138210</td>\n      <td>0.325223</td>\n      <td>0.056837</td>\n      <td>-0.034094</td>\n      <td>...</td>\n      <td>0.145552</td>\n      <td>0.145552</td>\n      <td>0.299755</td>\n      <td>0.299755</td>\n      <td>1.0</td>\n      <td>1.0</td>\n      <td>1.0</td>\n      <td>1.0</td>\n      <td>1.0</td>\n      <td>1.0</td>\n    </tr>\n    <tr>\n      <th>2024-11-30</th>\n      <td>-0.034149</td>\n      <td>-0.034100</td>\n      <td>0.050128</td>\n      <td>0.042042</td>\n      <td>0.016795</td>\n      <td>-0.033134</td>\n      <td>-0.006485</td>\n      <td>-0.538997</td>\n      <td>-0.014977</td>\n      <td>0.003403</td>\n      <td>...</td>\n      <td>0.150001</td>\n      <td>0.150001</td>\n      <td>0.265902</td>\n      <td>0.265902</td>\n      <td>1.0</td>\n      <td>1.0</td>\n      <td>1.0</td>\n      <td>1.0</td>\n      <td>1.0</td>\n      <td>1.0</td>\n    </tr>\n    <tr>\n      <th>2024-12-31</th>\n      <td>-0.006040</td>\n      <td>-0.005611</td>\n      <td>-0.027347</td>\n      <td>-0.005881</td>\n      <td>0.020176</td>\n      <td>0.087974</td>\n      <td>0.015672</td>\n      <td>0.231099</td>\n      <td>0.049554</td>\n      <td>-0.019784</td>\n      <td>...</td>\n      <td>0.107645</td>\n      <td>0.107645</td>\n      <td>0.210469</td>\n      <td>0.210469</td>\n      <td>1.0</td>\n      <td>1.0</td>\n      <td>1.0</td>\n      <td>1.0</td>\n      <td>1.0</td>\n      <td>1.0</td>\n    </tr>\n  </tbody>\n</table>\n<p>600 rows × 77 columns</p>\n</div>"
     },
     "execution_count": 18,
     "metadata": {},
     "output_type": "execute_result"
    }
   ],
   "source": [
    "lag_1_col_gc = ['GC1_3M_Ret','GC2_3M_Ret','GC1_6M_Ret','GC2_6M_Ret','GC1_12M_Ret','GC2_12M_Ret',\n",
    "                'GC1_3M_Sign','GC2_3M_Sign','GC1_6M_Sign','GC2_6M_Sign','GC1_12M_Sign','GC2_12M_Sign']\n",
    "\n",
    "for col in lag_1_col_gc:\n",
    "    bbg_df_monthly_only[col+'_lag_1']=bbg_df_monthly_only[col].shift(1)\n",
    "\n",
    "lag_col_name = [col+'_lag_1' for col in lag_1_col_gc]\n",
    "\n",
    "bbg_df_monthly_only.to_excel(\"bbg_df_monthly_only_20250216.xlsx\")\n",
    "bbg_df_monthly_only"
   ]
  },
  {
   "cell_type": "markdown",
   "metadata": {},
   "source": [
    "**Checking**"
   ]
  },
  {
   "cell_type": "code",
   "execution_count": 19,
   "metadata": {
    "collapsed": false,
    "ExecuteTime": {
     "end_time": "2025-02-18T14:20:28.752005Z",
     "start_time": "2025-02-18T14:20:28.744204Z"
    }
   },
   "outputs": [
    {
     "data": {
      "text/plain": "            GC2_12M_Fwd_Ret  GC2_Monthly_Excess_Return\nDate                                                  \n1975-01-31        -0.277670                  -0.003923\n1975-02-28        -0.373487                   0.036323\n1975-03-31        -0.380637                  -0.037161\n1975-04-30        -0.374489                  -0.064777\n1975-05-31        -0.315533                  -0.006658\n1975-06-30        -0.335886                   0.003330\n1975-07-31        -0.360859                  -0.006558\n1975-08-31        -0.459220                  -0.050522\n1975-09-30        -0.499769                  -0.136458\n1975-10-31        -0.249729                   0.011115\n1975-11-30        -0.197810                  -0.044400\n1975-12-31        -0.097249                   0.022020\n1976-01-31        -0.091946                  -0.099740\n1976-02-29        -0.016040                   0.029174\n1976-03-31         0.034636                  -0.031013\n1976-04-30         0.094836                  -0.005822\n1976-05-31         0.086436                  -0.027011\n1976-06-30         0.078064                  -0.021643\n1976-07-31         0.095645                  -0.104919\n1976-08-31         0.206197                  -0.091071\n1976-09-30         0.303035                   0.113582\n1976-10-31         0.236492                   0.063033\n1976-11-30         0.219320                   0.056162\n1976-12-31         0.141935                   0.027323",
      "text/html": "<div>\n<style scoped>\n    .dataframe tbody tr th:only-of-type {\n        vertical-align: middle;\n    }\n\n    .dataframe tbody tr th {\n        vertical-align: top;\n    }\n\n    .dataframe thead th {\n        text-align: right;\n    }\n</style>\n<table border=\"1\" class=\"dataframe\">\n  <thead>\n    <tr style=\"text-align: right;\">\n      <th></th>\n      <th>GC2_12M_Fwd_Ret</th>\n      <th>GC2_Monthly_Excess_Return</th>\n    </tr>\n    <tr>\n      <th>Date</th>\n      <th></th>\n      <th></th>\n    </tr>\n  </thead>\n  <tbody>\n    <tr>\n      <th>1975-01-31</th>\n      <td>-0.277670</td>\n      <td>-0.003923</td>\n    </tr>\n    <tr>\n      <th>1975-02-28</th>\n      <td>-0.373487</td>\n      <td>0.036323</td>\n    </tr>\n    <tr>\n      <th>1975-03-31</th>\n      <td>-0.380637</td>\n      <td>-0.037161</td>\n    </tr>\n    <tr>\n      <th>1975-04-30</th>\n      <td>-0.374489</td>\n      <td>-0.064777</td>\n    </tr>\n    <tr>\n      <th>1975-05-31</th>\n      <td>-0.315533</td>\n      <td>-0.006658</td>\n    </tr>\n    <tr>\n      <th>1975-06-30</th>\n      <td>-0.335886</td>\n      <td>0.003330</td>\n    </tr>\n    <tr>\n      <th>1975-07-31</th>\n      <td>-0.360859</td>\n      <td>-0.006558</td>\n    </tr>\n    <tr>\n      <th>1975-08-31</th>\n      <td>-0.459220</td>\n      <td>-0.050522</td>\n    </tr>\n    <tr>\n      <th>1975-09-30</th>\n      <td>-0.499769</td>\n      <td>-0.136458</td>\n    </tr>\n    <tr>\n      <th>1975-10-31</th>\n      <td>-0.249729</td>\n      <td>0.011115</td>\n    </tr>\n    <tr>\n      <th>1975-11-30</th>\n      <td>-0.197810</td>\n      <td>-0.044400</td>\n    </tr>\n    <tr>\n      <th>1975-12-31</th>\n      <td>-0.097249</td>\n      <td>0.022020</td>\n    </tr>\n    <tr>\n      <th>1976-01-31</th>\n      <td>-0.091946</td>\n      <td>-0.099740</td>\n    </tr>\n    <tr>\n      <th>1976-02-29</th>\n      <td>-0.016040</td>\n      <td>0.029174</td>\n    </tr>\n    <tr>\n      <th>1976-03-31</th>\n      <td>0.034636</td>\n      <td>-0.031013</td>\n    </tr>\n    <tr>\n      <th>1976-04-30</th>\n      <td>0.094836</td>\n      <td>-0.005822</td>\n    </tr>\n    <tr>\n      <th>1976-05-31</th>\n      <td>0.086436</td>\n      <td>-0.027011</td>\n    </tr>\n    <tr>\n      <th>1976-06-30</th>\n      <td>0.078064</td>\n      <td>-0.021643</td>\n    </tr>\n    <tr>\n      <th>1976-07-31</th>\n      <td>0.095645</td>\n      <td>-0.104919</td>\n    </tr>\n    <tr>\n      <th>1976-08-31</th>\n      <td>0.206197</td>\n      <td>-0.091071</td>\n    </tr>\n    <tr>\n      <th>1976-09-30</th>\n      <td>0.303035</td>\n      <td>0.113582</td>\n    </tr>\n    <tr>\n      <th>1976-10-31</th>\n      <td>0.236492</td>\n      <td>0.063033</td>\n    </tr>\n    <tr>\n      <th>1976-11-30</th>\n      <td>0.219320</td>\n      <td>0.056162</td>\n    </tr>\n    <tr>\n      <th>1976-12-31</th>\n      <td>0.141935</td>\n      <td>0.027323</td>\n    </tr>\n  </tbody>\n</table>\n</div>"
     },
     "execution_count": 19,
     "metadata": {},
     "output_type": "execute_result"
    }
   ],
   "source": [
    "#checking Next X month Return\n",
    "bbg_df_monthly_only[['GC2_12M_Fwd_Ret','GC2_Monthly_Excess_Return']].head(24)"
   ]
  },
  {
   "cell_type": "markdown",
   "metadata": {},
   "source": [
    "**Reorder Columns**"
   ]
  },
  {
   "cell_type": "code",
   "execution_count": 20,
   "metadata": {
    "ExecuteTime": {
     "end_time": "2025-02-18T14:20:28.778408Z",
     "start_time": "2025-02-18T14:20:28.753072Z"
    }
   },
   "outputs": [
    {
     "data": {
      "text/plain": "            GC1_Monthly_raw_Return  GC2_Monthly_raw_Return  \\\nDate                                                         \n1975-01-31                0.002282               -0.001123   \n1975-02-28                0.041847                0.043425   \n1975-03-31               -0.032772               -0.035034   \n1975-04-30               -0.059919               -0.060868   \n1975-05-31               -0.001800                0.000592   \n...                            ...                     ...   \n2024-08-31                0.031639                0.031468   \n2024-09-30                0.051211                0.050830   \n2024-10-31                0.042046                0.042190   \n2024-11-30               -0.034149               -0.034100   \n2024-12-31               -0.006040               -0.005611   \n\n            GC1_Monthly_Excess_Return  GC2_Monthly_Excess_Return  \\\nDate                                                               \n1975-01-31                  -0.003923                  -0.003923   \n1975-02-28                   0.036323                   0.036323   \n1975-03-31                  -0.037161                  -0.037161   \n1975-04-30                  -0.064777                  -0.064777   \n1975-05-31                  -0.006658                  -0.006658   \n...                               ...                        ...   \n2024-08-31                   0.026943                   0.026943   \n2024-09-30                   0.047077                   0.047077   \n2024-10-31                   0.037790                   0.037790   \n2024-11-30                  -0.038405                  -0.038405   \n2024-12-31                  -0.009814                  -0.009814   \n\n            GC1_volatility  GC2_volatility  GC2_1M_Ret  GC1_1M_Ret  \\\nDate                                                                 \n1975-01-31             NaN             NaN   -0.003923   -0.003923   \n1975-02-28             NaN             NaN    0.036323    0.036323   \n1975-03-31        0.162229        0.161182   -0.037161   -0.037161   \n1975-04-30        0.171430        0.172165   -0.064777   -0.064777   \n1975-05-31        0.176185        0.181025   -0.006658   -0.006658   \n...                    ...             ...         ...         ...   \n2024-08-31        0.168238        0.169387    0.026943    0.026943   \n2024-09-30        0.151431        0.154221    0.047077    0.047077   \n2024-10-31        0.134111        0.135932    0.037790    0.037790   \n2024-11-30        0.167985        0.170430   -0.038405   -0.038405   \n2024-12-31        0.181269        0.183134   -0.009814   -0.009814   \n\n            GC2_1M_Sign  GC1_1M_Sign  ...  US_Unemp  Cons_Conf  US_RIR  \\\nDate                                  ...                                \n1975-01-31         -1.0         -1.0  ...       8.1        NaN -4.8026   \n1975-02-28          1.0          1.0  ...       8.1        NaN -5.2288   \n1975-03-31         -1.0         -1.0  ...       8.6        NaN -4.7510   \n1975-04-30         -1.0         -1.0  ...       8.8        NaN -4.9583   \n1975-05-31         -1.0         -1.0  ...       9.0        NaN -4.2150   \n...                 ...          ...  ...       ...        ...     ...   \n2024-08-31          1.0          1.0  ...       4.2       67.9  2.8443   \n2024-09-30          1.0          1.0  ...       4.1       70.1  2.4344   \n2024-10-31          1.0          1.0  ...       4.1       70.5  2.2771   \n2024-11-30         -1.0         -1.0  ...       4.2       71.8  1.8756   \n2024-12-31         -1.0         -1.0  ...       4.1       74.0  1.4869   \n\n            1M_risk_free_ret_realized  GC1_3M_Fwd_raw_Ret  GC2_3M_Fwd_raw_Ret  \\\nDate                                                                            \n1975-01-31                   0.006205            0.011357            0.007269   \n1975-02-28                   0.005524           -0.050844           -0.052477   \n1975-03-31                   0.004390           -0.094491           -0.095310   \n1975-04-30                   0.004858           -0.053942           -0.052027   \n1975-05-31                   0.004858            0.004785            0.009428   \n...                               ...                 ...                 ...   \n2024-08-31                   0.004696            0.124896            0.124488   \n2024-09-30                   0.004135            0.059109            0.058920   \n2024-10-31                   0.004256            0.001857            0.002479   \n2024-11-30                   0.004256                 NaN                 NaN   \n2024-12-31                   0.003774                 NaN                 NaN   \n\n            GC1_6M_Fwd_raw_Ret  GC2_6M_Fwd_raw_Ret  GC1_12M_Fwd_raw_Ret  \\\nDate                                                                      \n1975-01-31           -0.042584           -0.044758            -0.216597   \n1975-02-28           -0.046059           -0.043048            -0.314048   \n1975-03-31           -0.133063           -0.132686            -0.322149   \n1975-04-30           -0.231507           -0.232941            -0.316127   \n1975-05-31           -0.155350           -0.157412            -0.257759   \n...                        ...                 ...                  ...   \n2024-08-31                 NaN                 NaN                  NaN   \n2024-09-30                 NaN                 NaN                  NaN   \n2024-10-31                 NaN                 NaN                  NaN   \n2024-11-30                 NaN                 NaN                  NaN   \n2024-12-31                 NaN                 NaN                  NaN   \n\n            GC2_12M_Fwd_raw_Ret  \nDate                             \n1975-01-31            -0.224969  \n1975-02-28            -0.321971  \n1975-03-31            -0.334860  \n1975-04-30            -0.324951  \n1975-05-31            -0.261003  \n...                         ...  \n2024-08-31                  NaN  \n2024-09-30                  NaN  \n2024-10-31                  NaN  \n2024-11-30                  NaN  \n2024-12-31                  NaN  \n\n[600 rows x 77 columns]",
      "text/html": "<div>\n<style scoped>\n    .dataframe tbody tr th:only-of-type {\n        vertical-align: middle;\n    }\n\n    .dataframe tbody tr th {\n        vertical-align: top;\n    }\n\n    .dataframe thead th {\n        text-align: right;\n    }\n</style>\n<table border=\"1\" class=\"dataframe\">\n  <thead>\n    <tr style=\"text-align: right;\">\n      <th></th>\n      <th>GC1_Monthly_raw_Return</th>\n      <th>GC2_Monthly_raw_Return</th>\n      <th>GC1_Monthly_Excess_Return</th>\n      <th>GC2_Monthly_Excess_Return</th>\n      <th>GC1_volatility</th>\n      <th>GC2_volatility</th>\n      <th>GC2_1M_Ret</th>\n      <th>GC1_1M_Ret</th>\n      <th>GC2_1M_Sign</th>\n      <th>GC1_1M_Sign</th>\n      <th>...</th>\n      <th>US_Unemp</th>\n      <th>Cons_Conf</th>\n      <th>US_RIR</th>\n      <th>1M_risk_free_ret_realized</th>\n      <th>GC1_3M_Fwd_raw_Ret</th>\n      <th>GC2_3M_Fwd_raw_Ret</th>\n      <th>GC1_6M_Fwd_raw_Ret</th>\n      <th>GC2_6M_Fwd_raw_Ret</th>\n      <th>GC1_12M_Fwd_raw_Ret</th>\n      <th>GC2_12M_Fwd_raw_Ret</th>\n    </tr>\n    <tr>\n      <th>Date</th>\n      <th></th>\n      <th></th>\n      <th></th>\n      <th></th>\n      <th></th>\n      <th></th>\n      <th></th>\n      <th></th>\n      <th></th>\n      <th></th>\n      <th></th>\n      <th></th>\n      <th></th>\n      <th></th>\n      <th></th>\n      <th></th>\n      <th></th>\n      <th></th>\n      <th></th>\n      <th></th>\n      <th></th>\n    </tr>\n  </thead>\n  <tbody>\n    <tr>\n      <th>1975-01-31</th>\n      <td>0.002282</td>\n      <td>-0.001123</td>\n      <td>-0.003923</td>\n      <td>-0.003923</td>\n      <td>NaN</td>\n      <td>NaN</td>\n      <td>-0.003923</td>\n      <td>-0.003923</td>\n      <td>-1.0</td>\n      <td>-1.0</td>\n      <td>...</td>\n      <td>8.1</td>\n      <td>NaN</td>\n      <td>-4.8026</td>\n      <td>0.006205</td>\n      <td>0.011357</td>\n      <td>0.007269</td>\n      <td>-0.042584</td>\n      <td>-0.044758</td>\n      <td>-0.216597</td>\n      <td>-0.224969</td>\n    </tr>\n    <tr>\n      <th>1975-02-28</th>\n      <td>0.041847</td>\n      <td>0.043425</td>\n      <td>0.036323</td>\n      <td>0.036323</td>\n      <td>NaN</td>\n      <td>NaN</td>\n      <td>0.036323</td>\n      <td>0.036323</td>\n      <td>1.0</td>\n      <td>1.0</td>\n      <td>...</td>\n      <td>8.1</td>\n      <td>NaN</td>\n      <td>-5.2288</td>\n      <td>0.005524</td>\n      <td>-0.050844</td>\n      <td>-0.052477</td>\n      <td>-0.046059</td>\n      <td>-0.043048</td>\n      <td>-0.314048</td>\n      <td>-0.321971</td>\n    </tr>\n    <tr>\n      <th>1975-03-31</th>\n      <td>-0.032772</td>\n      <td>-0.035034</td>\n      <td>-0.037161</td>\n      <td>-0.037161</td>\n      <td>0.162229</td>\n      <td>0.161182</td>\n      <td>-0.037161</td>\n      <td>-0.037161</td>\n      <td>-1.0</td>\n      <td>-1.0</td>\n      <td>...</td>\n      <td>8.6</td>\n      <td>NaN</td>\n      <td>-4.7510</td>\n      <td>0.004390</td>\n      <td>-0.094491</td>\n      <td>-0.095310</td>\n      <td>-0.133063</td>\n      <td>-0.132686</td>\n      <td>-0.322149</td>\n      <td>-0.334860</td>\n    </tr>\n    <tr>\n      <th>1975-04-30</th>\n      <td>-0.059919</td>\n      <td>-0.060868</td>\n      <td>-0.064777</td>\n      <td>-0.064777</td>\n      <td>0.171430</td>\n      <td>0.172165</td>\n      <td>-0.064777</td>\n      <td>-0.064777</td>\n      <td>-1.0</td>\n      <td>-1.0</td>\n      <td>...</td>\n      <td>8.8</td>\n      <td>NaN</td>\n      <td>-4.9583</td>\n      <td>0.004858</td>\n      <td>-0.053942</td>\n      <td>-0.052027</td>\n      <td>-0.231507</td>\n      <td>-0.232941</td>\n      <td>-0.316127</td>\n      <td>-0.324951</td>\n    </tr>\n    <tr>\n      <th>1975-05-31</th>\n      <td>-0.001800</td>\n      <td>0.000592</td>\n      <td>-0.006658</td>\n      <td>-0.006658</td>\n      <td>0.176185</td>\n      <td>0.181025</td>\n      <td>-0.006658</td>\n      <td>-0.006658</td>\n      <td>-1.0</td>\n      <td>-1.0</td>\n      <td>...</td>\n      <td>9.0</td>\n      <td>NaN</td>\n      <td>-4.2150</td>\n      <td>0.004858</td>\n      <td>0.004785</td>\n      <td>0.009428</td>\n      <td>-0.155350</td>\n      <td>-0.157412</td>\n      <td>-0.257759</td>\n      <td>-0.261003</td>\n    </tr>\n    <tr>\n      <th>...</th>\n      <td>...</td>\n      <td>...</td>\n      <td>...</td>\n      <td>...</td>\n      <td>...</td>\n      <td>...</td>\n      <td>...</td>\n      <td>...</td>\n      <td>...</td>\n      <td>...</td>\n      <td>...</td>\n      <td>...</td>\n      <td>...</td>\n      <td>...</td>\n      <td>...</td>\n      <td>...</td>\n      <td>...</td>\n      <td>...</td>\n      <td>...</td>\n      <td>...</td>\n      <td>...</td>\n    </tr>\n    <tr>\n      <th>2024-08-31</th>\n      <td>0.031639</td>\n      <td>0.031468</td>\n      <td>0.026943</td>\n      <td>0.026943</td>\n      <td>0.168238</td>\n      <td>0.169387</td>\n      <td>0.026943</td>\n      <td>0.026943</td>\n      <td>1.0</td>\n      <td>1.0</td>\n      <td>...</td>\n      <td>4.2</td>\n      <td>67.9</td>\n      <td>2.8443</td>\n      <td>0.004696</td>\n      <td>0.124896</td>\n      <td>0.124488</td>\n      <td>NaN</td>\n      <td>NaN</td>\n      <td>NaN</td>\n      <td>NaN</td>\n    </tr>\n    <tr>\n      <th>2024-09-30</th>\n      <td>0.051211</td>\n      <td>0.050830</td>\n      <td>0.047077</td>\n      <td>0.047077</td>\n      <td>0.151431</td>\n      <td>0.154221</td>\n      <td>0.047077</td>\n      <td>0.047077</td>\n      <td>1.0</td>\n      <td>1.0</td>\n      <td>...</td>\n      <td>4.1</td>\n      <td>70.1</td>\n      <td>2.4344</td>\n      <td>0.004135</td>\n      <td>0.059109</td>\n      <td>0.058920</td>\n      <td>NaN</td>\n      <td>NaN</td>\n      <td>NaN</td>\n      <td>NaN</td>\n    </tr>\n    <tr>\n      <th>2024-10-31</th>\n      <td>0.042046</td>\n      <td>0.042190</td>\n      <td>0.037790</td>\n      <td>0.037790</td>\n      <td>0.134111</td>\n      <td>0.135932</td>\n      <td>0.037790</td>\n      <td>0.037790</td>\n      <td>1.0</td>\n      <td>1.0</td>\n      <td>...</td>\n      <td>4.1</td>\n      <td>70.5</td>\n      <td>2.2771</td>\n      <td>0.004256</td>\n      <td>0.001857</td>\n      <td>0.002479</td>\n      <td>NaN</td>\n      <td>NaN</td>\n      <td>NaN</td>\n      <td>NaN</td>\n    </tr>\n    <tr>\n      <th>2024-11-30</th>\n      <td>-0.034149</td>\n      <td>-0.034100</td>\n      <td>-0.038405</td>\n      <td>-0.038405</td>\n      <td>0.167985</td>\n      <td>0.170430</td>\n      <td>-0.038405</td>\n      <td>-0.038405</td>\n      <td>-1.0</td>\n      <td>-1.0</td>\n      <td>...</td>\n      <td>4.2</td>\n      <td>71.8</td>\n      <td>1.8756</td>\n      <td>0.004256</td>\n      <td>NaN</td>\n      <td>NaN</td>\n      <td>NaN</td>\n      <td>NaN</td>\n      <td>NaN</td>\n      <td>NaN</td>\n    </tr>\n    <tr>\n      <th>2024-12-31</th>\n      <td>-0.006040</td>\n      <td>-0.005611</td>\n      <td>-0.009814</td>\n      <td>-0.009814</td>\n      <td>0.181269</td>\n      <td>0.183134</td>\n      <td>-0.009814</td>\n      <td>-0.009814</td>\n      <td>-1.0</td>\n      <td>-1.0</td>\n      <td>...</td>\n      <td>4.1</td>\n      <td>74.0</td>\n      <td>1.4869</td>\n      <td>0.003774</td>\n      <td>NaN</td>\n      <td>NaN</td>\n      <td>NaN</td>\n      <td>NaN</td>\n      <td>NaN</td>\n      <td>NaN</td>\n    </tr>\n  </tbody>\n</table>\n<p>600 rows × 77 columns</p>\n</div>"
     },
     "execution_count": 20,
     "metadata": {},
     "output_type": "execute_result"
    }
   ],
   "source": [
    "#Reorder columns\n",
    "\n",
    "new_order_part1 = list(bbg_df_monthly_only.columns[0:2]) + [\n",
    "    'GC1_Monthly_Excess_Return', 'GC2_Monthly_Excess_Return',\n",
    "    'GC1_volatility', 'GC2_volatility', 'GC2_1M_Ret', 'GC1_1M_Ret',\n",
    "    'GC2_1M_Sign', 'GC1_1M_Sign', 'GC2_3M_Ret', 'GC1_3M_Ret',\n",
    "    'GC2_3M_Sign', 'GC1_3M_Sign', 'GC2_6M_Ret', 'GC1_6M_Ret',\n",
    "    'GC2_6M_Sign', 'GC1_6M_Sign', 'GC2_12M_Ret', 'GC1_12M_Ret',\n",
    "    'GC2_12M_Sign', 'GC1_12M_Sign',\n",
    "] + lag_col_name + ['GC1_1M_Fwd_Ret', 'GC2_1M_Fwd_Ret', 'GC1_1M_Fwd_Sign',\n",
    "       'GC2_1M_Fwd_Sign']\n",
    "\n",
    "new_forward_looking_cols = [\n",
    "    'GC2_3M_Fwd_Ret', 'GC1_3M_Fwd_Ret', 'GC2_3M_Fwd_Sign', 'GC1_3M_Fwd_Sign',\n",
    "    'GC2_6M_Fwd_Ret', 'GC1_6M_Fwd_Ret', 'GC2_6M_Fwd_Sign', 'GC1_6M_Fwd_Sign',\n",
    "    'GC2_12M_Fwd_Ret', 'GC1_12M_Fwd_Ret', 'GC2_12M_Fwd_Sign', 'GC1_12M_Fwd_Sign'\n",
    "]\n",
    "# Create new column variants by adding a \"_raw\" version for each column\n",
    "new_forward_looking_cols_with_ = new_forward_looking_cols + [col.replace(\"_Fwd_\", \"_Fwd_raw_\") for col in new_forward_looking_cols]\n",
    "\n",
    "final_column_order = new_order_part1 + new_forward_looking_cols\n",
    "\n",
    "new_order = final_column_order + [col for col in bbg_df_monthly_only.columns if col not in final_column_order]\n",
    "bbg_df_by_month = bbg_df_monthly_only.loc[:,new_order]\n",
    "bbg_df_by_month"
   ]
  },
  {
   "cell_type": "markdown",
   "metadata": {},
   "source": [
    "##### **<font color= #90EE90>2.6 Modify Non-BBG Dataset</font>**"
   ]
  },
  {
   "cell_type": "code",
   "execution_count": 21,
   "metadata": {
    "ExecuteTime": {
     "end_time": "2025-02-18T14:20:28.795011Z",
     "start_time": "2025-02-18T14:20:28.778999Z"
    }
   },
   "outputs": [
    {
     "data": {
      "text/plain": "              CPI  PPI  ETF_Ounces  10yInterest  DP_ratio  PE_ratio  \\\nDATE                                                                  \n1914-01-31    NaN -2.5         NaN          NaN       NaN       NaN   \n1914-02-28    NaN -1.7         NaN          NaN       NaN       NaN   \n1914-03-31    NaN -2.5         NaN          NaN       NaN       NaN   \n1914-04-30    NaN -2.5         NaN          NaN       NaN       NaN   \n1914-05-31    NaN -2.5         NaN          NaN       NaN       NaN   \n...           ...  ...         ...          ...       ...       ...   \n2024-08-31  7.934 -0.9         NaN     1.664190      1.33     27.55   \n2024-09-30  7.398 -2.4         NaN     1.581581      1.31     28.07   \n2024-10-31  7.923 -0.9         NaN     1.480148      1.28       NaN   \n2024-11-30  8.417  0.1         NaN     1.958417      1.25       NaN   \n2024-12-31  8.943  1.5         NaN     1.824369      1.24       NaN   \n\n            Chinese_premium_discount  Indian_premium_discount    NASDAQ  \\\nDATE                                                                      \n1914-01-31                       NaN                      NaN       NaN   \n1914-02-28                       NaN                      NaN       NaN   \n1914-03-31                       NaN                      NaN       NaN   \n1914-04-30                       NaN                      NaN       NaN   \n1914-05-31                       NaN                      NaN       NaN   \n...                              ...                      ...       ...   \n2024-08-31                 -1.526427                 5.831219  0.002809   \n2024-09-30                -11.192383                -2.388517  0.011506   \n2024-10-31                -13.455145                 0.537662 -0.002251   \n2024-11-30                -16.183557                 9.254420  0.026150   \n2024-12-31                 -3.335864                 0.340406  0.002088   \n\n            SP500_price  SP500_volume  USD_index       VIX  \nDATE                                                        \n1914-01-31          NaN           NaN        NaN       NaN  \n1914-02-28          NaN           NaN        NaN       NaN  \n1914-03-31          NaN           NaN        NaN       NaN  \n1914-04-30          NaN           NaN        NaN       NaN  \n1914-05-31          NaN           NaN        NaN       NaN  \n...                 ...           ...        ...       ...  \n2024-08-31          NaN           NaN  -0.005923 -0.037692  \n2024-09-30          NaN           NaN        NaN  0.047405  \n2024-10-31          NaN           NaN        NaN  0.141243  \n2024-11-30          NaN           NaN        NaN -0.234083  \n2024-12-31          NaN           NaN        NaN  0.108644  \n\n[1332 rows x 13 columns]",
      "text/html": "<div>\n<style scoped>\n    .dataframe tbody tr th:only-of-type {\n        vertical-align: middle;\n    }\n\n    .dataframe tbody tr th {\n        vertical-align: top;\n    }\n\n    .dataframe thead th {\n        text-align: right;\n    }\n</style>\n<table border=\"1\" class=\"dataframe\">\n  <thead>\n    <tr style=\"text-align: right;\">\n      <th></th>\n      <th>CPI</th>\n      <th>PPI</th>\n      <th>ETF_Ounces</th>\n      <th>10yInterest</th>\n      <th>DP_ratio</th>\n      <th>PE_ratio</th>\n      <th>Chinese_premium_discount</th>\n      <th>Indian_premium_discount</th>\n      <th>NASDAQ</th>\n      <th>SP500_price</th>\n      <th>SP500_volume</th>\n      <th>USD_index</th>\n      <th>VIX</th>\n    </tr>\n    <tr>\n      <th>DATE</th>\n      <th></th>\n      <th></th>\n      <th></th>\n      <th></th>\n      <th></th>\n      <th></th>\n      <th></th>\n      <th></th>\n      <th></th>\n      <th></th>\n      <th></th>\n      <th></th>\n      <th></th>\n    </tr>\n  </thead>\n  <tbody>\n    <tr>\n      <th>1914-01-31</th>\n      <td>NaN</td>\n      <td>-2.5</td>\n      <td>NaN</td>\n      <td>NaN</td>\n      <td>NaN</td>\n      <td>NaN</td>\n      <td>NaN</td>\n      <td>NaN</td>\n      <td>NaN</td>\n      <td>NaN</td>\n      <td>NaN</td>\n      <td>NaN</td>\n      <td>NaN</td>\n    </tr>\n    <tr>\n      <th>1914-02-28</th>\n      <td>NaN</td>\n      <td>-1.7</td>\n      <td>NaN</td>\n      <td>NaN</td>\n      <td>NaN</td>\n      <td>NaN</td>\n      <td>NaN</td>\n      <td>NaN</td>\n      <td>NaN</td>\n      <td>NaN</td>\n      <td>NaN</td>\n      <td>NaN</td>\n      <td>NaN</td>\n    </tr>\n    <tr>\n      <th>1914-03-31</th>\n      <td>NaN</td>\n      <td>-2.5</td>\n      <td>NaN</td>\n      <td>NaN</td>\n      <td>NaN</td>\n      <td>NaN</td>\n      <td>NaN</td>\n      <td>NaN</td>\n      <td>NaN</td>\n      <td>NaN</td>\n      <td>NaN</td>\n      <td>NaN</td>\n      <td>NaN</td>\n    </tr>\n    <tr>\n      <th>1914-04-30</th>\n      <td>NaN</td>\n      <td>-2.5</td>\n      <td>NaN</td>\n      <td>NaN</td>\n      <td>NaN</td>\n      <td>NaN</td>\n      <td>NaN</td>\n      <td>NaN</td>\n      <td>NaN</td>\n      <td>NaN</td>\n      <td>NaN</td>\n      <td>NaN</td>\n      <td>NaN</td>\n    </tr>\n    <tr>\n      <th>1914-05-31</th>\n      <td>NaN</td>\n      <td>-2.5</td>\n      <td>NaN</td>\n      <td>NaN</td>\n      <td>NaN</td>\n      <td>NaN</td>\n      <td>NaN</td>\n      <td>NaN</td>\n      <td>NaN</td>\n      <td>NaN</td>\n      <td>NaN</td>\n      <td>NaN</td>\n      <td>NaN</td>\n    </tr>\n    <tr>\n      <th>...</th>\n      <td>...</td>\n      <td>...</td>\n      <td>...</td>\n      <td>...</td>\n      <td>...</td>\n      <td>...</td>\n      <td>...</td>\n      <td>...</td>\n      <td>...</td>\n      <td>...</td>\n      <td>...</td>\n      <td>...</td>\n      <td>...</td>\n    </tr>\n    <tr>\n      <th>2024-08-31</th>\n      <td>7.934</td>\n      <td>-0.9</td>\n      <td>NaN</td>\n      <td>1.664190</td>\n      <td>1.33</td>\n      <td>27.55</td>\n      <td>-1.526427</td>\n      <td>5.831219</td>\n      <td>0.002809</td>\n      <td>NaN</td>\n      <td>NaN</td>\n      <td>-0.005923</td>\n      <td>-0.037692</td>\n    </tr>\n    <tr>\n      <th>2024-09-30</th>\n      <td>7.398</td>\n      <td>-2.4</td>\n      <td>NaN</td>\n      <td>1.581581</td>\n      <td>1.31</td>\n      <td>28.07</td>\n      <td>-11.192383</td>\n      <td>-2.388517</td>\n      <td>0.011506</td>\n      <td>NaN</td>\n      <td>NaN</td>\n      <td>NaN</td>\n      <td>0.047405</td>\n    </tr>\n    <tr>\n      <th>2024-10-31</th>\n      <td>7.923</td>\n      <td>-0.9</td>\n      <td>NaN</td>\n      <td>1.480148</td>\n      <td>1.28</td>\n      <td>NaN</td>\n      <td>-13.455145</td>\n      <td>0.537662</td>\n      <td>-0.002251</td>\n      <td>NaN</td>\n      <td>NaN</td>\n      <td>NaN</td>\n      <td>0.141243</td>\n    </tr>\n    <tr>\n      <th>2024-11-30</th>\n      <td>8.417</td>\n      <td>0.1</td>\n      <td>NaN</td>\n      <td>1.958417</td>\n      <td>1.25</td>\n      <td>NaN</td>\n      <td>-16.183557</td>\n      <td>9.254420</td>\n      <td>0.026150</td>\n      <td>NaN</td>\n      <td>NaN</td>\n      <td>NaN</td>\n      <td>-0.234083</td>\n    </tr>\n    <tr>\n      <th>2024-12-31</th>\n      <td>8.943</td>\n      <td>1.5</td>\n      <td>NaN</td>\n      <td>1.824369</td>\n      <td>1.24</td>\n      <td>NaN</td>\n      <td>-3.335864</td>\n      <td>0.340406</td>\n      <td>0.002088</td>\n      <td>NaN</td>\n      <td>NaN</td>\n      <td>NaN</td>\n      <td>0.108644</td>\n    </tr>\n  </tbody>\n</table>\n<p>1332 rows × 13 columns</p>\n</div>"
     },
     "execution_count": 21,
     "metadata": {},
     "output_type": "execute_result"
    }
   ],
   "source": [
    "#Before change\n",
    "#print(raw_df_sc.iloc[:,0])\n",
    "\n",
    "#After change\n",
    "raw_df_sc['DATE'] = pd.to_datetime(raw_df_sc['DATE'], format='%Y-%m') + pd.offsets.MonthEnd(0)\n",
    "\n",
    "raw_df_sc.set_index(raw_df_sc.columns[0],inplace = True)\n",
    "\n",
    "raw_df_sc"
   ]
  },
  {
   "cell_type": "code",
   "execution_count": 22,
   "metadata": {
    "ExecuteTime": {
     "end_time": "2025-02-18T14:20:28.803021Z",
     "start_time": "2025-02-18T14:20:28.796209Z"
    }
   },
   "outputs": [
    {
     "name": "stdout",
     "output_type": "stream",
     "text": [
      "            ETF_Ounces  Chinese_premium_discount  Indian_premium_discount  PPI\n",
      "DATE                                                                          \n",
      "1914-01-31         NaN                       NaN                      NaN -2.5\n",
      "1914-02-28         NaN                       NaN                      NaN -1.7\n",
      "1914-03-31         NaN                       NaN                      NaN -2.5\n",
      "1914-04-30         NaN                       NaN                      NaN -2.5\n",
      "1914-05-31         NaN                       NaN                      NaN -2.5\n",
      "...                ...                       ...                      ...  ...\n",
      "2024-08-31         NaN                 -1.526427                 5.831219 -0.9\n",
      "2024-09-30         NaN                -11.192383                -2.388517 -2.4\n",
      "2024-10-31         NaN                -13.455145                 0.537662 -0.9\n",
      "2024-11-30         NaN                -16.183557                 9.254420  0.1\n",
      "2024-12-31         NaN                 -3.335864                 0.340406  1.5\n",
      "\n",
      "[1332 rows x 4 columns]\n"
     ]
    },
    {
     "data": {
      "text/plain": "DatetimeIndex(['1914-01-31', '1914-02-28', '1914-03-31', '1914-04-30',\n               '1914-05-31', '1914-06-30', '1914-07-31', '1914-08-31',\n               '1914-09-30', '1914-10-31',\n               ...\n               '2024-03-31', '2024-04-30', '2024-05-31', '2024-06-30',\n               '2024-07-31', '2024-08-31', '2024-09-30', '2024-10-31',\n               '2024-11-30', '2024-12-31'],\n              dtype='datetime64[ns]', name='DATE', length=1332, freq=None)"
     },
     "execution_count": 22,
     "metadata": {},
     "output_type": "execute_result"
    }
   ],
   "source": [
    "#Join with BBG Dataframe\n",
    "\n",
    "selected_cols = ['ETF_Ounces', 'Chinese_premium_discount', 'Indian_premium_discount', 'PPI']\n",
    "\n",
    "partial_df_sc = raw_df_sc[selected_cols]\n",
    "\n",
    "print(partial_df_sc)\n",
    "partial_df_sc.index"
   ]
  },
  {
   "cell_type": "code",
   "execution_count": 23,
   "metadata": {
    "ExecuteTime": {
     "end_time": "2025-02-18T14:20:28.825950Z",
     "start_time": "2025-02-18T14:20:28.803021Z"
    }
   },
   "outputs": [
    {
     "name": "stderr",
     "output_type": "stream",
     "text": [
      "C:\\Users\\15201\\AppData\\Local\\Temp\\ipykernel_22072\\3528797056.py:3: FutureWarning: Series.fillna with 'method' is deprecated and will raise in a future version. Use obj.ffill() or obj.bfill() instead.\n",
      "  combined_df_by_month['GDP_Nominoal_YOY'] = combined_df_by_month['GDP_Nominoal_YOY'].fillna(method = 'ffill')\n",
      "C:\\Users\\15201\\AppData\\Local\\Temp\\ipykernel_22072\\3528797056.py:4: FutureWarning: Series.fillna with 'method' is deprecated and will raise in a future version. Use obj.ffill() or obj.bfill() instead.\n",
      "  combined_df_by_month['GDP_Real_QoQ'] = combined_df_by_month['GDP_Real_QoQ'].fillna(method = 'ffill')\n"
     ]
    },
    {
     "data": {
      "text/plain": "            GC1_Monthly_raw_Return  GC2_Monthly_raw_Return  \\\nDate                                                         \n1975-01-31                0.002282               -0.001123   \n1975-02-28                0.041847                0.043425   \n1975-03-31               -0.032772               -0.035034   \n1975-04-30               -0.059919               -0.060868   \n1975-05-31               -0.001800                0.000592   \n...                            ...                     ...   \n2024-08-31                0.031639                0.031468   \n2024-09-30                0.051211                0.050830   \n2024-10-31                0.042046                0.042190   \n2024-11-30               -0.034149               -0.034100   \n2024-12-31               -0.006040               -0.005611   \n\n            GC1_Monthly_Excess_Return  GC2_Monthly_Excess_Return  \\\nDate                                                               \n1975-01-31                  -0.003923                  -0.003923   \n1975-02-28                   0.036323                   0.036323   \n1975-03-31                  -0.037161                  -0.037161   \n1975-04-30                  -0.064777                  -0.064777   \n1975-05-31                  -0.006658                  -0.006658   \n...                               ...                        ...   \n2024-08-31                   0.026943                   0.026943   \n2024-09-30                   0.047077                   0.047077   \n2024-10-31                   0.037790                   0.037790   \n2024-11-30                  -0.038405                  -0.038405   \n2024-12-31                  -0.009814                  -0.009814   \n\n            GC1_volatility  GC2_volatility  GC2_1M_Ret  GC1_1M_Ret  \\\nDate                                                                 \n1975-01-31             NaN             NaN   -0.003923   -0.003923   \n1975-02-28             NaN             NaN    0.036323    0.036323   \n1975-03-31        0.162229        0.161182   -0.037161   -0.037161   \n1975-04-30        0.171430        0.172165   -0.064777   -0.064777   \n1975-05-31        0.176185        0.181025   -0.006658   -0.006658   \n...                    ...             ...         ...         ...   \n2024-08-31        0.168238        0.169387    0.026943    0.026943   \n2024-09-30        0.151431        0.154221    0.047077    0.047077   \n2024-10-31        0.134111        0.135932    0.037790    0.037790   \n2024-11-30        0.167985        0.170430   -0.038405   -0.038405   \n2024-12-31        0.181269        0.183134   -0.009814   -0.009814   \n\n            GC2_1M_Sign  GC1_1M_Sign  ...  GC1_3M_Fwd_raw_Ret  \\\nDate                                  ...                       \n1975-01-31         -1.0         -1.0  ...            0.011357   \n1975-02-28          1.0          1.0  ...           -0.050844   \n1975-03-31         -1.0         -1.0  ...           -0.094491   \n1975-04-30         -1.0         -1.0  ...           -0.053942   \n1975-05-31         -1.0         -1.0  ...            0.004785   \n...                 ...          ...  ...                 ...   \n2024-08-31          1.0          1.0  ...            0.124896   \n2024-09-30          1.0          1.0  ...            0.059109   \n2024-10-31          1.0          1.0  ...            0.001857   \n2024-11-30         -1.0         -1.0  ...                 NaN   \n2024-12-31         -1.0         -1.0  ...                 NaN   \n\n            GC2_3M_Fwd_raw_Ret  GC1_6M_Fwd_raw_Ret  GC2_6M_Fwd_raw_Ret  \\\nDate                                                                     \n1975-01-31            0.007269           -0.042584           -0.044758   \n1975-02-28           -0.052477           -0.046059           -0.043048   \n1975-03-31           -0.095310           -0.133063           -0.132686   \n1975-04-30           -0.052027           -0.231507           -0.232941   \n1975-05-31            0.009428           -0.155350           -0.157412   \n...                        ...                 ...                 ...   \n2024-08-31            0.124488                 NaN                 NaN   \n2024-09-30            0.058920                 NaN                 NaN   \n2024-10-31            0.002479                 NaN                 NaN   \n2024-11-30                 NaN                 NaN                 NaN   \n2024-12-31                 NaN                 NaN                 NaN   \n\n            GC1_12M_Fwd_raw_Ret  GC2_12M_Fwd_raw_Ret  ETF_Ounces  \\\nDate                                                               \n1975-01-31            -0.216597            -0.224969         NaN   \n1975-02-28            -0.314048            -0.321971         NaN   \n1975-03-31            -0.322149            -0.334860         NaN   \n1975-04-30            -0.316127            -0.324951         NaN   \n1975-05-31            -0.257759            -0.261003         NaN   \n...                         ...                  ...         ...   \n2024-08-31                  NaN                  NaN         NaN   \n2024-09-30                  NaN                  NaN         NaN   \n2024-10-31                  NaN                  NaN         NaN   \n2024-11-30                  NaN                  NaN         NaN   \n2024-12-31                  NaN                  NaN         NaN   \n\n            Chinese_premium_discount  Indian_premium_discount   PPI  \nDate                                                                 \n1975-01-31                       NaN                      NaN  17.1  \n1975-02-28                       NaN                      NaN  14.4  \n1975-03-31                       NaN                      NaN  12.5  \n1975-04-30                       NaN                      NaN  12.7  \n1975-05-31                       NaN                      NaN  11.8  \n...                              ...                      ...   ...  \n2024-08-31                 -1.526427                 5.831219  -0.9  \n2024-09-30                -11.192383                -2.388517  -2.4  \n2024-10-31                -13.455145                 0.537662  -0.9  \n2024-11-30                -16.183557                 9.254420   0.1  \n2024-12-31                 -3.335864                 0.340406   1.5  \n\n[600 rows x 81 columns]",
      "text/html": "<div>\n<style scoped>\n    .dataframe tbody tr th:only-of-type {\n        vertical-align: middle;\n    }\n\n    .dataframe tbody tr th {\n        vertical-align: top;\n    }\n\n    .dataframe thead th {\n        text-align: right;\n    }\n</style>\n<table border=\"1\" class=\"dataframe\">\n  <thead>\n    <tr style=\"text-align: right;\">\n      <th></th>\n      <th>GC1_Monthly_raw_Return</th>\n      <th>GC2_Monthly_raw_Return</th>\n      <th>GC1_Monthly_Excess_Return</th>\n      <th>GC2_Monthly_Excess_Return</th>\n      <th>GC1_volatility</th>\n      <th>GC2_volatility</th>\n      <th>GC2_1M_Ret</th>\n      <th>GC1_1M_Ret</th>\n      <th>GC2_1M_Sign</th>\n      <th>GC1_1M_Sign</th>\n      <th>...</th>\n      <th>GC1_3M_Fwd_raw_Ret</th>\n      <th>GC2_3M_Fwd_raw_Ret</th>\n      <th>GC1_6M_Fwd_raw_Ret</th>\n      <th>GC2_6M_Fwd_raw_Ret</th>\n      <th>GC1_12M_Fwd_raw_Ret</th>\n      <th>GC2_12M_Fwd_raw_Ret</th>\n      <th>ETF_Ounces</th>\n      <th>Chinese_premium_discount</th>\n      <th>Indian_premium_discount</th>\n      <th>PPI</th>\n    </tr>\n    <tr>\n      <th>Date</th>\n      <th></th>\n      <th></th>\n      <th></th>\n      <th></th>\n      <th></th>\n      <th></th>\n      <th></th>\n      <th></th>\n      <th></th>\n      <th></th>\n      <th></th>\n      <th></th>\n      <th></th>\n      <th></th>\n      <th></th>\n      <th></th>\n      <th></th>\n      <th></th>\n      <th></th>\n      <th></th>\n      <th></th>\n    </tr>\n  </thead>\n  <tbody>\n    <tr>\n      <th>1975-01-31</th>\n      <td>0.002282</td>\n      <td>-0.001123</td>\n      <td>-0.003923</td>\n      <td>-0.003923</td>\n      <td>NaN</td>\n      <td>NaN</td>\n      <td>-0.003923</td>\n      <td>-0.003923</td>\n      <td>-1.0</td>\n      <td>-1.0</td>\n      <td>...</td>\n      <td>0.011357</td>\n      <td>0.007269</td>\n      <td>-0.042584</td>\n      <td>-0.044758</td>\n      <td>-0.216597</td>\n      <td>-0.224969</td>\n      <td>NaN</td>\n      <td>NaN</td>\n      <td>NaN</td>\n      <td>17.1</td>\n    </tr>\n    <tr>\n      <th>1975-02-28</th>\n      <td>0.041847</td>\n      <td>0.043425</td>\n      <td>0.036323</td>\n      <td>0.036323</td>\n      <td>NaN</td>\n      <td>NaN</td>\n      <td>0.036323</td>\n      <td>0.036323</td>\n      <td>1.0</td>\n      <td>1.0</td>\n      <td>...</td>\n      <td>-0.050844</td>\n      <td>-0.052477</td>\n      <td>-0.046059</td>\n      <td>-0.043048</td>\n      <td>-0.314048</td>\n      <td>-0.321971</td>\n      <td>NaN</td>\n      <td>NaN</td>\n      <td>NaN</td>\n      <td>14.4</td>\n    </tr>\n    <tr>\n      <th>1975-03-31</th>\n      <td>-0.032772</td>\n      <td>-0.035034</td>\n      <td>-0.037161</td>\n      <td>-0.037161</td>\n      <td>0.162229</td>\n      <td>0.161182</td>\n      <td>-0.037161</td>\n      <td>-0.037161</td>\n      <td>-1.0</td>\n      <td>-1.0</td>\n      <td>...</td>\n      <td>-0.094491</td>\n      <td>-0.095310</td>\n      <td>-0.133063</td>\n      <td>-0.132686</td>\n      <td>-0.322149</td>\n      <td>-0.334860</td>\n      <td>NaN</td>\n      <td>NaN</td>\n      <td>NaN</td>\n      <td>12.5</td>\n    </tr>\n    <tr>\n      <th>1975-04-30</th>\n      <td>-0.059919</td>\n      <td>-0.060868</td>\n      <td>-0.064777</td>\n      <td>-0.064777</td>\n      <td>0.171430</td>\n      <td>0.172165</td>\n      <td>-0.064777</td>\n      <td>-0.064777</td>\n      <td>-1.0</td>\n      <td>-1.0</td>\n      <td>...</td>\n      <td>-0.053942</td>\n      <td>-0.052027</td>\n      <td>-0.231507</td>\n      <td>-0.232941</td>\n      <td>-0.316127</td>\n      <td>-0.324951</td>\n      <td>NaN</td>\n      <td>NaN</td>\n      <td>NaN</td>\n      <td>12.7</td>\n    </tr>\n    <tr>\n      <th>1975-05-31</th>\n      <td>-0.001800</td>\n      <td>0.000592</td>\n      <td>-0.006658</td>\n      <td>-0.006658</td>\n      <td>0.176185</td>\n      <td>0.181025</td>\n      <td>-0.006658</td>\n      <td>-0.006658</td>\n      <td>-1.0</td>\n      <td>-1.0</td>\n      <td>...</td>\n      <td>0.004785</td>\n      <td>0.009428</td>\n      <td>-0.155350</td>\n      <td>-0.157412</td>\n      <td>-0.257759</td>\n      <td>-0.261003</td>\n      <td>NaN</td>\n      <td>NaN</td>\n      <td>NaN</td>\n      <td>11.8</td>\n    </tr>\n    <tr>\n      <th>...</th>\n      <td>...</td>\n      <td>...</td>\n      <td>...</td>\n      <td>...</td>\n      <td>...</td>\n      <td>...</td>\n      <td>...</td>\n      <td>...</td>\n      <td>...</td>\n      <td>...</td>\n      <td>...</td>\n      <td>...</td>\n      <td>...</td>\n      <td>...</td>\n      <td>...</td>\n      <td>...</td>\n      <td>...</td>\n      <td>...</td>\n      <td>...</td>\n      <td>...</td>\n      <td>...</td>\n    </tr>\n    <tr>\n      <th>2024-08-31</th>\n      <td>0.031639</td>\n      <td>0.031468</td>\n      <td>0.026943</td>\n      <td>0.026943</td>\n      <td>0.168238</td>\n      <td>0.169387</td>\n      <td>0.026943</td>\n      <td>0.026943</td>\n      <td>1.0</td>\n      <td>1.0</td>\n      <td>...</td>\n      <td>0.124896</td>\n      <td>0.124488</td>\n      <td>NaN</td>\n      <td>NaN</td>\n      <td>NaN</td>\n      <td>NaN</td>\n      <td>NaN</td>\n      <td>-1.526427</td>\n      <td>5.831219</td>\n      <td>-0.9</td>\n    </tr>\n    <tr>\n      <th>2024-09-30</th>\n      <td>0.051211</td>\n      <td>0.050830</td>\n      <td>0.047077</td>\n      <td>0.047077</td>\n      <td>0.151431</td>\n      <td>0.154221</td>\n      <td>0.047077</td>\n      <td>0.047077</td>\n      <td>1.0</td>\n      <td>1.0</td>\n      <td>...</td>\n      <td>0.059109</td>\n      <td>0.058920</td>\n      <td>NaN</td>\n      <td>NaN</td>\n      <td>NaN</td>\n      <td>NaN</td>\n      <td>NaN</td>\n      <td>-11.192383</td>\n      <td>-2.388517</td>\n      <td>-2.4</td>\n    </tr>\n    <tr>\n      <th>2024-10-31</th>\n      <td>0.042046</td>\n      <td>0.042190</td>\n      <td>0.037790</td>\n      <td>0.037790</td>\n      <td>0.134111</td>\n      <td>0.135932</td>\n      <td>0.037790</td>\n      <td>0.037790</td>\n      <td>1.0</td>\n      <td>1.0</td>\n      <td>...</td>\n      <td>0.001857</td>\n      <td>0.002479</td>\n      <td>NaN</td>\n      <td>NaN</td>\n      <td>NaN</td>\n      <td>NaN</td>\n      <td>NaN</td>\n      <td>-13.455145</td>\n      <td>0.537662</td>\n      <td>-0.9</td>\n    </tr>\n    <tr>\n      <th>2024-11-30</th>\n      <td>-0.034149</td>\n      <td>-0.034100</td>\n      <td>-0.038405</td>\n      <td>-0.038405</td>\n      <td>0.167985</td>\n      <td>0.170430</td>\n      <td>-0.038405</td>\n      <td>-0.038405</td>\n      <td>-1.0</td>\n      <td>-1.0</td>\n      <td>...</td>\n      <td>NaN</td>\n      <td>NaN</td>\n      <td>NaN</td>\n      <td>NaN</td>\n      <td>NaN</td>\n      <td>NaN</td>\n      <td>NaN</td>\n      <td>-16.183557</td>\n      <td>9.254420</td>\n      <td>0.1</td>\n    </tr>\n    <tr>\n      <th>2024-12-31</th>\n      <td>-0.006040</td>\n      <td>-0.005611</td>\n      <td>-0.009814</td>\n      <td>-0.009814</td>\n      <td>0.181269</td>\n      <td>0.183134</td>\n      <td>-0.009814</td>\n      <td>-0.009814</td>\n      <td>-1.0</td>\n      <td>-1.0</td>\n      <td>...</td>\n      <td>NaN</td>\n      <td>NaN</td>\n      <td>NaN</td>\n      <td>NaN</td>\n      <td>NaN</td>\n      <td>NaN</td>\n      <td>NaN</td>\n      <td>-3.335864</td>\n      <td>0.340406</td>\n      <td>1.5</td>\n    </tr>\n  </tbody>\n</table>\n<p>600 rows × 81 columns</p>\n</div>"
     },
     "execution_count": 23,
     "metadata": {},
     "output_type": "execute_result"
    }
   ],
   "source": [
    "combined_df_by_month = bbg_df_by_month.join(partial_df_sc,how='left')\n",
    "combined_df_by_month.index=pd.to_datetime(combined_df_by_month.index, format='%Y-%m')\n",
    "combined_df_by_month['GDP_Nominoal_YOY'] = combined_df_by_month['GDP_Nominoal_YOY'].fillna(method = 'ffill')\n",
    "combined_df_by_month['GDP_Real_QoQ'] = combined_df_by_month['GDP_Real_QoQ'].fillna(method = 'ffill')\n",
    "combined_df_by_month"
   ]
  },
  {
   "cell_type": "markdown",
   "metadata": {},
   "source": [
    "##### **<font color= #90EE90>2.7 Export Dataframe for Review</font>**"
   ]
  },
  {
   "cell_type": "code",
   "execution_count": 24,
   "metadata": {
    "ExecuteTime": {
     "end_time": "2025-02-18T14:20:29.335748Z",
     "start_time": "2025-02-18T14:20:28.826952Z"
    }
   },
   "outputs": [
    {
     "data": {
      "text/plain": "            GC1_Monthly_raw_Return  GC2_Monthly_raw_Return  \\\nDate                                                         \n1975-01-31                0.002282               -0.001123   \n1975-02-28                0.041847                0.043425   \n1975-03-31               -0.032772               -0.035034   \n1975-04-30               -0.059919               -0.060868   \n1975-05-31               -0.001800                0.000592   \n...                            ...                     ...   \n2024-08-31                0.031639                0.031468   \n2024-09-30                0.051211                0.050830   \n2024-10-31                0.042046                0.042190   \n2024-11-30               -0.034149               -0.034100   \n2024-12-31               -0.006040               -0.005611   \n\n            GC1_Monthly_Excess_Return  GC2_Monthly_Excess_Return  \\\nDate                                                               \n1975-01-31                  -0.003923                  -0.003923   \n1975-02-28                   0.036323                   0.036323   \n1975-03-31                  -0.037161                  -0.037161   \n1975-04-30                  -0.064777                  -0.064777   \n1975-05-31                  -0.006658                  -0.006658   \n...                               ...                        ...   \n2024-08-31                   0.026943                   0.026943   \n2024-09-30                   0.047077                   0.047077   \n2024-10-31                   0.037790                   0.037790   \n2024-11-30                  -0.038405                  -0.038405   \n2024-12-31                  -0.009814                  -0.009814   \n\n            GC1_volatility  GC2_volatility  GC2_1M_Ret  GC1_1M_Ret  \\\nDate                                                                 \n1975-01-31             NaN             NaN   -0.003923   -0.003923   \n1975-02-28             NaN             NaN    0.036323    0.036323   \n1975-03-31        0.162229        0.161182   -0.037161   -0.037161   \n1975-04-30        0.171430        0.172165   -0.064777   -0.064777   \n1975-05-31        0.176185        0.181025   -0.006658   -0.006658   \n...                    ...             ...         ...         ...   \n2024-08-31        0.168238        0.169387    0.026943    0.026943   \n2024-09-30        0.151431        0.154221    0.047077    0.047077   \n2024-10-31        0.134111        0.135932    0.037790    0.037790   \n2024-11-30        0.167985        0.170430   -0.038405   -0.038405   \n2024-12-31        0.181269        0.183134   -0.009814   -0.009814   \n\n            GC2_1M_Sign  GC1_1M_Sign  ...  GC1_3M_Fwd_raw_Ret  \\\nDate                                  ...                       \n1975-01-31         -1.0         -1.0  ...            0.011357   \n1975-02-28          1.0          1.0  ...           -0.050844   \n1975-03-31         -1.0         -1.0  ...           -0.094491   \n1975-04-30         -1.0         -1.0  ...           -0.053942   \n1975-05-31         -1.0         -1.0  ...            0.004785   \n...                 ...          ...  ...                 ...   \n2024-08-31          1.0          1.0  ...            0.124896   \n2024-09-30          1.0          1.0  ...            0.059109   \n2024-10-31          1.0          1.0  ...            0.001857   \n2024-11-30         -1.0         -1.0  ...                 NaN   \n2024-12-31         -1.0         -1.0  ...                 NaN   \n\n            GC2_3M_Fwd_raw_Ret  GC1_6M_Fwd_raw_Ret  GC2_6M_Fwd_raw_Ret  \\\nDate                                                                     \n1975-01-31            0.007269           -0.042584           -0.044758   \n1975-02-28           -0.052477           -0.046059           -0.043048   \n1975-03-31           -0.095310           -0.133063           -0.132686   \n1975-04-30           -0.052027           -0.231507           -0.232941   \n1975-05-31            0.009428           -0.155350           -0.157412   \n...                        ...                 ...                 ...   \n2024-08-31            0.124488                 NaN                 NaN   \n2024-09-30            0.058920                 NaN                 NaN   \n2024-10-31            0.002479                 NaN                 NaN   \n2024-11-30                 NaN                 NaN                 NaN   \n2024-12-31                 NaN                 NaN                 NaN   \n\n            GC1_12M_Fwd_raw_Ret  GC2_12M_Fwd_raw_Ret  ETF_Ounces  \\\nDate                                                               \n1975-01-31            -0.216597            -0.224969         NaN   \n1975-02-28            -0.314048            -0.321971         NaN   \n1975-03-31            -0.322149            -0.334860         NaN   \n1975-04-30            -0.316127            -0.324951         NaN   \n1975-05-31            -0.257759            -0.261003         NaN   \n...                         ...                  ...         ...   \n2024-08-31                  NaN                  NaN         NaN   \n2024-09-30                  NaN                  NaN         NaN   \n2024-10-31                  NaN                  NaN         NaN   \n2024-11-30                  NaN                  NaN         NaN   \n2024-12-31                  NaN                  NaN         NaN   \n\n            Chinese_premium_discount  Indian_premium_discount   PPI  \nDate                                                                 \n1975-01-31                       NaN                      NaN  17.1  \n1975-02-28                       NaN                      NaN  14.4  \n1975-03-31                       NaN                      NaN  12.5  \n1975-04-30                       NaN                      NaN  12.7  \n1975-05-31                       NaN                      NaN  11.8  \n...                              ...                      ...   ...  \n2024-08-31                 -1.526427                 5.831219  -0.9  \n2024-09-30                -11.192383                -2.388517  -2.4  \n2024-10-31                -13.455145                 0.537662  -0.9  \n2024-11-30                -16.183557                 9.254420   0.1  \n2024-12-31                 -3.335864                 0.340406   1.5  \n\n[600 rows x 81 columns]",
      "text/html": "<div>\n<style scoped>\n    .dataframe tbody tr th:only-of-type {\n        vertical-align: middle;\n    }\n\n    .dataframe tbody tr th {\n        vertical-align: top;\n    }\n\n    .dataframe thead th {\n        text-align: right;\n    }\n</style>\n<table border=\"1\" class=\"dataframe\">\n  <thead>\n    <tr style=\"text-align: right;\">\n      <th></th>\n      <th>GC1_Monthly_raw_Return</th>\n      <th>GC2_Monthly_raw_Return</th>\n      <th>GC1_Monthly_Excess_Return</th>\n      <th>GC2_Monthly_Excess_Return</th>\n      <th>GC1_volatility</th>\n      <th>GC2_volatility</th>\n      <th>GC2_1M_Ret</th>\n      <th>GC1_1M_Ret</th>\n      <th>GC2_1M_Sign</th>\n      <th>GC1_1M_Sign</th>\n      <th>...</th>\n      <th>GC1_3M_Fwd_raw_Ret</th>\n      <th>GC2_3M_Fwd_raw_Ret</th>\n      <th>GC1_6M_Fwd_raw_Ret</th>\n      <th>GC2_6M_Fwd_raw_Ret</th>\n      <th>GC1_12M_Fwd_raw_Ret</th>\n      <th>GC2_12M_Fwd_raw_Ret</th>\n      <th>ETF_Ounces</th>\n      <th>Chinese_premium_discount</th>\n      <th>Indian_premium_discount</th>\n      <th>PPI</th>\n    </tr>\n    <tr>\n      <th>Date</th>\n      <th></th>\n      <th></th>\n      <th></th>\n      <th></th>\n      <th></th>\n      <th></th>\n      <th></th>\n      <th></th>\n      <th></th>\n      <th></th>\n      <th></th>\n      <th></th>\n      <th></th>\n      <th></th>\n      <th></th>\n      <th></th>\n      <th></th>\n      <th></th>\n      <th></th>\n      <th></th>\n      <th></th>\n    </tr>\n  </thead>\n  <tbody>\n    <tr>\n      <th>1975-01-31</th>\n      <td>0.002282</td>\n      <td>-0.001123</td>\n      <td>-0.003923</td>\n      <td>-0.003923</td>\n      <td>NaN</td>\n      <td>NaN</td>\n      <td>-0.003923</td>\n      <td>-0.003923</td>\n      <td>-1.0</td>\n      <td>-1.0</td>\n      <td>...</td>\n      <td>0.011357</td>\n      <td>0.007269</td>\n      <td>-0.042584</td>\n      <td>-0.044758</td>\n      <td>-0.216597</td>\n      <td>-0.224969</td>\n      <td>NaN</td>\n      <td>NaN</td>\n      <td>NaN</td>\n      <td>17.1</td>\n    </tr>\n    <tr>\n      <th>1975-02-28</th>\n      <td>0.041847</td>\n      <td>0.043425</td>\n      <td>0.036323</td>\n      <td>0.036323</td>\n      <td>NaN</td>\n      <td>NaN</td>\n      <td>0.036323</td>\n      <td>0.036323</td>\n      <td>1.0</td>\n      <td>1.0</td>\n      <td>...</td>\n      <td>-0.050844</td>\n      <td>-0.052477</td>\n      <td>-0.046059</td>\n      <td>-0.043048</td>\n      <td>-0.314048</td>\n      <td>-0.321971</td>\n      <td>NaN</td>\n      <td>NaN</td>\n      <td>NaN</td>\n      <td>14.4</td>\n    </tr>\n    <tr>\n      <th>1975-03-31</th>\n      <td>-0.032772</td>\n      <td>-0.035034</td>\n      <td>-0.037161</td>\n      <td>-0.037161</td>\n      <td>0.162229</td>\n      <td>0.161182</td>\n      <td>-0.037161</td>\n      <td>-0.037161</td>\n      <td>-1.0</td>\n      <td>-1.0</td>\n      <td>...</td>\n      <td>-0.094491</td>\n      <td>-0.095310</td>\n      <td>-0.133063</td>\n      <td>-0.132686</td>\n      <td>-0.322149</td>\n      <td>-0.334860</td>\n      <td>NaN</td>\n      <td>NaN</td>\n      <td>NaN</td>\n      <td>12.5</td>\n    </tr>\n    <tr>\n      <th>1975-04-30</th>\n      <td>-0.059919</td>\n      <td>-0.060868</td>\n      <td>-0.064777</td>\n      <td>-0.064777</td>\n      <td>0.171430</td>\n      <td>0.172165</td>\n      <td>-0.064777</td>\n      <td>-0.064777</td>\n      <td>-1.0</td>\n      <td>-1.0</td>\n      <td>...</td>\n      <td>-0.053942</td>\n      <td>-0.052027</td>\n      <td>-0.231507</td>\n      <td>-0.232941</td>\n      <td>-0.316127</td>\n      <td>-0.324951</td>\n      <td>NaN</td>\n      <td>NaN</td>\n      <td>NaN</td>\n      <td>12.7</td>\n    </tr>\n    <tr>\n      <th>1975-05-31</th>\n      <td>-0.001800</td>\n      <td>0.000592</td>\n      <td>-0.006658</td>\n      <td>-0.006658</td>\n      <td>0.176185</td>\n      <td>0.181025</td>\n      <td>-0.006658</td>\n      <td>-0.006658</td>\n      <td>-1.0</td>\n      <td>-1.0</td>\n      <td>...</td>\n      <td>0.004785</td>\n      <td>0.009428</td>\n      <td>-0.155350</td>\n      <td>-0.157412</td>\n      <td>-0.257759</td>\n      <td>-0.261003</td>\n      <td>NaN</td>\n      <td>NaN</td>\n      <td>NaN</td>\n      <td>11.8</td>\n    </tr>\n    <tr>\n      <th>...</th>\n      <td>...</td>\n      <td>...</td>\n      <td>...</td>\n      <td>...</td>\n      <td>...</td>\n      <td>...</td>\n      <td>...</td>\n      <td>...</td>\n      <td>...</td>\n      <td>...</td>\n      <td>...</td>\n      <td>...</td>\n      <td>...</td>\n      <td>...</td>\n      <td>...</td>\n      <td>...</td>\n      <td>...</td>\n      <td>...</td>\n      <td>...</td>\n      <td>...</td>\n      <td>...</td>\n    </tr>\n    <tr>\n      <th>2024-08-31</th>\n      <td>0.031639</td>\n      <td>0.031468</td>\n      <td>0.026943</td>\n      <td>0.026943</td>\n      <td>0.168238</td>\n      <td>0.169387</td>\n      <td>0.026943</td>\n      <td>0.026943</td>\n      <td>1.0</td>\n      <td>1.0</td>\n      <td>...</td>\n      <td>0.124896</td>\n      <td>0.124488</td>\n      <td>NaN</td>\n      <td>NaN</td>\n      <td>NaN</td>\n      <td>NaN</td>\n      <td>NaN</td>\n      <td>-1.526427</td>\n      <td>5.831219</td>\n      <td>-0.9</td>\n    </tr>\n    <tr>\n      <th>2024-09-30</th>\n      <td>0.051211</td>\n      <td>0.050830</td>\n      <td>0.047077</td>\n      <td>0.047077</td>\n      <td>0.151431</td>\n      <td>0.154221</td>\n      <td>0.047077</td>\n      <td>0.047077</td>\n      <td>1.0</td>\n      <td>1.0</td>\n      <td>...</td>\n      <td>0.059109</td>\n      <td>0.058920</td>\n      <td>NaN</td>\n      <td>NaN</td>\n      <td>NaN</td>\n      <td>NaN</td>\n      <td>NaN</td>\n      <td>-11.192383</td>\n      <td>-2.388517</td>\n      <td>-2.4</td>\n    </tr>\n    <tr>\n      <th>2024-10-31</th>\n      <td>0.042046</td>\n      <td>0.042190</td>\n      <td>0.037790</td>\n      <td>0.037790</td>\n      <td>0.134111</td>\n      <td>0.135932</td>\n      <td>0.037790</td>\n      <td>0.037790</td>\n      <td>1.0</td>\n      <td>1.0</td>\n      <td>...</td>\n      <td>0.001857</td>\n      <td>0.002479</td>\n      <td>NaN</td>\n      <td>NaN</td>\n      <td>NaN</td>\n      <td>NaN</td>\n      <td>NaN</td>\n      <td>-13.455145</td>\n      <td>0.537662</td>\n      <td>-0.9</td>\n    </tr>\n    <tr>\n      <th>2024-11-30</th>\n      <td>-0.034149</td>\n      <td>-0.034100</td>\n      <td>-0.038405</td>\n      <td>-0.038405</td>\n      <td>0.167985</td>\n      <td>0.170430</td>\n      <td>-0.038405</td>\n      <td>-0.038405</td>\n      <td>-1.0</td>\n      <td>-1.0</td>\n      <td>...</td>\n      <td>NaN</td>\n      <td>NaN</td>\n      <td>NaN</td>\n      <td>NaN</td>\n      <td>NaN</td>\n      <td>NaN</td>\n      <td>NaN</td>\n      <td>-16.183557</td>\n      <td>9.254420</td>\n      <td>0.1</td>\n    </tr>\n    <tr>\n      <th>2024-12-31</th>\n      <td>-0.006040</td>\n      <td>-0.005611</td>\n      <td>-0.009814</td>\n      <td>-0.009814</td>\n      <td>0.181269</td>\n      <td>0.183134</td>\n      <td>-0.009814</td>\n      <td>-0.009814</td>\n      <td>-1.0</td>\n      <td>-1.0</td>\n      <td>...</td>\n      <td>NaN</td>\n      <td>NaN</td>\n      <td>NaN</td>\n      <td>NaN</td>\n      <td>NaN</td>\n      <td>NaN</td>\n      <td>NaN</td>\n      <td>-3.335864</td>\n      <td>0.340406</td>\n      <td>1.5</td>\n    </tr>\n  </tbody>\n</table>\n<p>600 rows × 81 columns</p>\n</div>"
     },
     "execution_count": 24,
     "metadata": {},
     "output_type": "execute_result"
    }
   ],
   "source": [
    "combined_df_by_month.to_excel('combined_df_by_month_20250216.xlsx')\n",
    "\n",
    "combined_df_by_month"
   ]
  },
  {
   "cell_type": "markdown",
   "metadata": {},
   "source": [
    "### __________________________________________________________________________________"
   ]
  },
  {
   "cell_type": "markdown",
   "metadata": {},
   "source": [
    "## <font color=\"yellow\"> II.  Build Training Model</font>"
   ]
  },
  {
   "cell_type": "markdown",
   "metadata": {},
   "source": [
    "### 3 - Define X and Y Dataframe"
   ]
  },
  {
   "cell_type": "markdown",
   "metadata": {},
   "source": [
    "##### **<font color= #90EE90>3.1   X1: Macro Factors </font>**"
   ]
  },
  {
   "cell_type": "code",
   "execution_count": 25,
   "metadata": {
    "ExecuteTime": {
     "end_time": "2025-02-18T14:20:29.351327Z",
     "start_time": "2025-02-18T14:20:29.336750Z"
    }
   },
   "outputs": [
    {
     "data": {
      "text/plain": "            SPX Index  NDX Index  DXY Curncy  USGG10YR Index  USGG2YR Index  \\\nDate                                                                          \n1975-01-31   0.091770        NaN   -0.021726        0.014712            NaN   \n1975-02-28   0.065179        NaN   -0.019899       -0.002461            NaN   \n1975-03-31   0.027323        NaN    0.019908        0.079816            NaN   \n1975-04-30   0.046182        NaN    0.005993        0.036760            NaN   \n1975-05-31   0.045809        NaN   -0.007999       -0.028024            NaN   \n...               ...        ...         ...             ...            ...   \n2024-08-31   0.022578   0.010900   -0.023306       -0.031819      -0.083484   \n2024-09-30   0.041374   0.056498   -0.008635       -0.013164      -0.059184   \n2024-10-31  -0.009946  -0.008524    0.031230        0.141890       0.138210   \n2024-11-30   0.050128   0.042042    0.016795       -0.033134      -0.006485   \n2024-12-31  -0.027347  -0.005881    0.020176        0.087974       0.015672   \n\n            VIX Index  JPY Curncy  LEGATRUU Index  EMUSTRUU Index  PE_RATIO  \\\nDate                                                                          \n1975-01-31        NaN   -0.008987             NaN             NaN       NaN   \n1975-02-28        NaN   -0.039429             NaN             NaN       NaN   \n1975-03-31        NaN    0.026118             NaN             NaN       NaN   \n1975-04-30        NaN   -0.006141             NaN             NaN       NaN   \n1975-05-31        NaN   -0.002330             NaN             NaN       NaN   \n...               ...         ...             ...             ...       ...   \n2024-08-31  -0.086789   -0.025732        0.023384        0.020764 -0.002492   \n2024-09-30   0.073143   -0.022648        0.019029        0.017462  0.021356   \n2024-10-31   0.325223    0.056837       -0.034094       -0.013816 -0.009846   \n2024-11-30  -0.538997   -0.014977        0.003403        0.011003  0.037257   \n2024-12-31   0.231099    0.049554       -0.019784       -0.012555 -0.021169   \n\n            ...  GC1_3M_Fwd_raw_Ret  GC2_3M_Fwd_raw_Ret  GC1_6M_Fwd_raw_Ret  \\\nDate        ...                                                               \n1975-01-31  ...            0.011357            0.007269           -0.042584   \n1975-02-28  ...           -0.050844           -0.052477           -0.046059   \n1975-03-31  ...           -0.094491           -0.095310           -0.133063   \n1975-04-30  ...           -0.053942           -0.052027           -0.231507   \n1975-05-31  ...            0.004785            0.009428           -0.155350   \n...         ...                 ...                 ...                 ...   \n2024-08-31  ...            0.124896            0.124488                 NaN   \n2024-09-30  ...            0.059109            0.058920                 NaN   \n2024-10-31  ...            0.001857            0.002479                 NaN   \n2024-11-30  ...                 NaN                 NaN                 NaN   \n2024-12-31  ...                 NaN                 NaN                 NaN   \n\n            GC2_6M_Fwd_raw_Ret  GC1_12M_Fwd_raw_Ret  GC2_12M_Fwd_raw_Ret  \\\nDate                                                                       \n1975-01-31           -0.044758            -0.216597            -0.224969   \n1975-02-28           -0.043048            -0.314048            -0.321971   \n1975-03-31           -0.132686            -0.322149            -0.334860   \n1975-04-30           -0.232941            -0.316127            -0.324951   \n1975-05-31           -0.157412            -0.257759            -0.261003   \n...                        ...                  ...                  ...   \n2024-08-31                 NaN                  NaN                  NaN   \n2024-09-30                 NaN                  NaN                  NaN   \n2024-10-31                 NaN                  NaN                  NaN   \n2024-11-30                 NaN                  NaN                  NaN   \n2024-12-31                 NaN                  NaN                  NaN   \n\n            ETF_Ounces  Chinese_premium_discount  Indian_premium_discount  \\\nDate                                                                        \n1975-01-31         NaN                       NaN                      NaN   \n1975-02-28         NaN                       NaN                      NaN   \n1975-03-31         NaN                       NaN                      NaN   \n1975-04-30         NaN                       NaN                      NaN   \n1975-05-31         NaN                       NaN                      NaN   \n...                ...                       ...                      ...   \n2024-08-31         NaN                 -1.526427                 5.831219   \n2024-09-30         NaN                -11.192383                -2.388517   \n2024-10-31         NaN                -13.455145                 0.537662   \n2024-11-30         NaN                -16.183557                 9.254420   \n2024-12-31         NaN                 -3.335864                 0.340406   \n\n             PPI  \nDate              \n1975-01-31  17.1  \n1975-02-28  14.4  \n1975-03-31  12.5  \n1975-04-30  12.7  \n1975-05-31  11.8  \n...          ...  \n2024-08-31  -0.9  \n2024-09-30  -2.4  \n2024-10-31  -0.9  \n2024-11-30   0.1  \n2024-12-31   1.5  \n\n[600 rows x 31 columns]",
      "text/html": "<div>\n<style scoped>\n    .dataframe tbody tr th:only-of-type {\n        vertical-align: middle;\n    }\n\n    .dataframe tbody tr th {\n        vertical-align: top;\n    }\n\n    .dataframe thead th {\n        text-align: right;\n    }\n</style>\n<table border=\"1\" class=\"dataframe\">\n  <thead>\n    <tr style=\"text-align: right;\">\n      <th></th>\n      <th>SPX Index</th>\n      <th>NDX Index</th>\n      <th>DXY Curncy</th>\n      <th>USGG10YR Index</th>\n      <th>USGG2YR Index</th>\n      <th>VIX Index</th>\n      <th>JPY Curncy</th>\n      <th>LEGATRUU Index</th>\n      <th>EMUSTRUU Index</th>\n      <th>PE_RATIO</th>\n      <th>...</th>\n      <th>GC1_3M_Fwd_raw_Ret</th>\n      <th>GC2_3M_Fwd_raw_Ret</th>\n      <th>GC1_6M_Fwd_raw_Ret</th>\n      <th>GC2_6M_Fwd_raw_Ret</th>\n      <th>GC1_12M_Fwd_raw_Ret</th>\n      <th>GC2_12M_Fwd_raw_Ret</th>\n      <th>ETF_Ounces</th>\n      <th>Chinese_premium_discount</th>\n      <th>Indian_premium_discount</th>\n      <th>PPI</th>\n    </tr>\n    <tr>\n      <th>Date</th>\n      <th></th>\n      <th></th>\n      <th></th>\n      <th></th>\n      <th></th>\n      <th></th>\n      <th></th>\n      <th></th>\n      <th></th>\n      <th></th>\n      <th></th>\n      <th></th>\n      <th></th>\n      <th></th>\n      <th></th>\n      <th></th>\n      <th></th>\n      <th></th>\n      <th></th>\n      <th></th>\n      <th></th>\n    </tr>\n  </thead>\n  <tbody>\n    <tr>\n      <th>1975-01-31</th>\n      <td>0.091770</td>\n      <td>NaN</td>\n      <td>-0.021726</td>\n      <td>0.014712</td>\n      <td>NaN</td>\n      <td>NaN</td>\n      <td>-0.008987</td>\n      <td>NaN</td>\n      <td>NaN</td>\n      <td>NaN</td>\n      <td>...</td>\n      <td>0.011357</td>\n      <td>0.007269</td>\n      <td>-0.042584</td>\n      <td>-0.044758</td>\n      <td>-0.216597</td>\n      <td>-0.224969</td>\n      <td>NaN</td>\n      <td>NaN</td>\n      <td>NaN</td>\n      <td>17.1</td>\n    </tr>\n    <tr>\n      <th>1975-02-28</th>\n      <td>0.065179</td>\n      <td>NaN</td>\n      <td>-0.019899</td>\n      <td>-0.002461</td>\n      <td>NaN</td>\n      <td>NaN</td>\n      <td>-0.039429</td>\n      <td>NaN</td>\n      <td>NaN</td>\n      <td>NaN</td>\n      <td>...</td>\n      <td>-0.050844</td>\n      <td>-0.052477</td>\n      <td>-0.046059</td>\n      <td>-0.043048</td>\n      <td>-0.314048</td>\n      <td>-0.321971</td>\n      <td>NaN</td>\n      <td>NaN</td>\n      <td>NaN</td>\n      <td>14.4</td>\n    </tr>\n    <tr>\n      <th>1975-03-31</th>\n      <td>0.027323</td>\n      <td>NaN</td>\n      <td>0.019908</td>\n      <td>0.079816</td>\n      <td>NaN</td>\n      <td>NaN</td>\n      <td>0.026118</td>\n      <td>NaN</td>\n      <td>NaN</td>\n      <td>NaN</td>\n      <td>...</td>\n      <td>-0.094491</td>\n      <td>-0.095310</td>\n      <td>-0.133063</td>\n      <td>-0.132686</td>\n      <td>-0.322149</td>\n      <td>-0.334860</td>\n      <td>NaN</td>\n      <td>NaN</td>\n      <td>NaN</td>\n      <td>12.5</td>\n    </tr>\n    <tr>\n      <th>1975-04-30</th>\n      <td>0.046182</td>\n      <td>NaN</td>\n      <td>0.005993</td>\n      <td>0.036760</td>\n      <td>NaN</td>\n      <td>NaN</td>\n      <td>-0.006141</td>\n      <td>NaN</td>\n      <td>NaN</td>\n      <td>NaN</td>\n      <td>...</td>\n      <td>-0.053942</td>\n      <td>-0.052027</td>\n      <td>-0.231507</td>\n      <td>-0.232941</td>\n      <td>-0.316127</td>\n      <td>-0.324951</td>\n      <td>NaN</td>\n      <td>NaN</td>\n      <td>NaN</td>\n      <td>12.7</td>\n    </tr>\n    <tr>\n      <th>1975-05-31</th>\n      <td>0.045809</td>\n      <td>NaN</td>\n      <td>-0.007999</td>\n      <td>-0.028024</td>\n      <td>NaN</td>\n      <td>NaN</td>\n      <td>-0.002330</td>\n      <td>NaN</td>\n      <td>NaN</td>\n      <td>NaN</td>\n      <td>...</td>\n      <td>0.004785</td>\n      <td>0.009428</td>\n      <td>-0.155350</td>\n      <td>-0.157412</td>\n      <td>-0.257759</td>\n      <td>-0.261003</td>\n      <td>NaN</td>\n      <td>NaN</td>\n      <td>NaN</td>\n      <td>11.8</td>\n    </tr>\n    <tr>\n      <th>...</th>\n      <td>...</td>\n      <td>...</td>\n      <td>...</td>\n      <td>...</td>\n      <td>...</td>\n      <td>...</td>\n      <td>...</td>\n      <td>...</td>\n      <td>...</td>\n      <td>...</td>\n      <td>...</td>\n      <td>...</td>\n      <td>...</td>\n      <td>...</td>\n      <td>...</td>\n      <td>...</td>\n      <td>...</td>\n      <td>...</td>\n      <td>...</td>\n      <td>...</td>\n      <td>...</td>\n    </tr>\n    <tr>\n      <th>2024-08-31</th>\n      <td>0.022578</td>\n      <td>0.010900</td>\n      <td>-0.023306</td>\n      <td>-0.031819</td>\n      <td>-0.083484</td>\n      <td>-0.086789</td>\n      <td>-0.025732</td>\n      <td>0.023384</td>\n      <td>0.020764</td>\n      <td>-0.002492</td>\n      <td>...</td>\n      <td>0.124896</td>\n      <td>0.124488</td>\n      <td>NaN</td>\n      <td>NaN</td>\n      <td>NaN</td>\n      <td>NaN</td>\n      <td>NaN</td>\n      <td>-1.526427</td>\n      <td>5.831219</td>\n      <td>-0.9</td>\n    </tr>\n    <tr>\n      <th>2024-09-30</th>\n      <td>0.041374</td>\n      <td>0.056498</td>\n      <td>-0.008635</td>\n      <td>-0.013164</td>\n      <td>-0.059184</td>\n      <td>0.073143</td>\n      <td>-0.022648</td>\n      <td>0.019029</td>\n      <td>0.017462</td>\n      <td>0.021356</td>\n      <td>...</td>\n      <td>0.059109</td>\n      <td>0.058920</td>\n      <td>NaN</td>\n      <td>NaN</td>\n      <td>NaN</td>\n      <td>NaN</td>\n      <td>NaN</td>\n      <td>-11.192383</td>\n      <td>-2.388517</td>\n      <td>-2.4</td>\n    </tr>\n    <tr>\n      <th>2024-10-31</th>\n      <td>-0.009946</td>\n      <td>-0.008524</td>\n      <td>0.031230</td>\n      <td>0.141890</td>\n      <td>0.138210</td>\n      <td>0.325223</td>\n      <td>0.056837</td>\n      <td>-0.034094</td>\n      <td>-0.013816</td>\n      <td>-0.009846</td>\n      <td>...</td>\n      <td>0.001857</td>\n      <td>0.002479</td>\n      <td>NaN</td>\n      <td>NaN</td>\n      <td>NaN</td>\n      <td>NaN</td>\n      <td>NaN</td>\n      <td>-13.455145</td>\n      <td>0.537662</td>\n      <td>-0.9</td>\n    </tr>\n    <tr>\n      <th>2024-11-30</th>\n      <td>0.050128</td>\n      <td>0.042042</td>\n      <td>0.016795</td>\n      <td>-0.033134</td>\n      <td>-0.006485</td>\n      <td>-0.538997</td>\n      <td>-0.014977</td>\n      <td>0.003403</td>\n      <td>0.011003</td>\n      <td>0.037257</td>\n      <td>...</td>\n      <td>NaN</td>\n      <td>NaN</td>\n      <td>NaN</td>\n      <td>NaN</td>\n      <td>NaN</td>\n      <td>NaN</td>\n      <td>NaN</td>\n      <td>-16.183557</td>\n      <td>9.254420</td>\n      <td>0.1</td>\n    </tr>\n    <tr>\n      <th>2024-12-31</th>\n      <td>-0.027347</td>\n      <td>-0.005881</td>\n      <td>0.020176</td>\n      <td>0.087974</td>\n      <td>0.015672</td>\n      <td>0.231099</td>\n      <td>0.049554</td>\n      <td>-0.019784</td>\n      <td>-0.012555</td>\n      <td>-0.021169</td>\n      <td>...</td>\n      <td>NaN</td>\n      <td>NaN</td>\n      <td>NaN</td>\n      <td>NaN</td>\n      <td>NaN</td>\n      <td>NaN</td>\n      <td>NaN</td>\n      <td>-3.335864</td>\n      <td>0.340406</td>\n      <td>1.5</td>\n    </tr>\n  </tbody>\n</table>\n<p>600 rows × 31 columns</p>\n</div>"
     },
     "execution_count": 25,
     "metadata": {},
     "output_type": "execute_result"
    }
   ],
   "source": [
    "x_variables_data = combined_df_by_month.loc[:,'SPX Index':]\n",
    "x_variables_data"
   ]
  },
  {
   "cell_type": "code",
   "execution_count": 26,
   "metadata": {
    "ExecuteTime": {
     "end_time": "2025-02-18T14:20:29.357940Z",
     "start_time": "2025-02-18T14:20:29.352586Z"
    }
   },
   "outputs": [
    {
     "data": {
      "text/plain": "Index(['SPX Index', 'NDX Index', 'DXY Curncy', 'USGG10YR Index',\n       'USGG2YR Index', 'VIX Index', 'JPY Curncy', 'LEGATRUU Index',\n       'EMUSTRUU Index', 'PE_RATIO', 'D/P Ratio', 'Fed_Eff_Rate',\n       'CPI YOY Index', 'GDP_Nominoal_YOY', 'GDP_Real_QoQ', 'US_Unemp',\n       'Cons_Conf', 'US_RIR', '1M_risk_free_ret_realized',\n       'GC1_3M_Fwd_raw_Ret', 'GC2_3M_Fwd_raw_Ret', 'GC1_6M_Fwd_raw_Ret',\n       'GC2_6M_Fwd_raw_Ret', 'GC1_12M_Fwd_raw_Ret', 'GC2_12M_Fwd_raw_Ret',\n       'ETF_Ounces', 'Chinese_premium_discount', 'Indian_premium_discount',\n       'PPI'],\n      dtype='object')"
     },
     "execution_count": 26,
     "metadata": {},
     "output_type": "execute_result"
    }
   ],
   "source": [
    "#Remove unnecessary/ duplicated macro factors\n",
    "x_variables_data.drop(['CPI_YoY','PCE CYOY Index'],axis=1,inplace= True)\n",
    "\n",
    "x_variables_data.columns"
   ]
  },
  {
   "cell_type": "code",
   "execution_count": 27,
   "metadata": {
    "ExecuteTime": {
     "end_time": "2025-02-18T14:20:29.361742Z",
     "start_time": "2025-02-18T14:20:29.358942Z"
    }
   },
   "outputs": [],
   "source": [
    "# x_variables_data = x_variables_data.drop(columns=shift_columns_gc_all, errors=\"ignore\")\n",
    "# x_variables_data = x_variables_data.merge(gc_data_new[cols_to_merge].shift(1), left_index=True, right_index=True, how=\"left\")\n",
    "# x_variables_data.head(20)"
   ]
  },
  {
   "cell_type": "markdown",
   "metadata": {},
   "source": [
    "##### **<font color= #90EE90>3.2 X2: Gold Futures Price - Time Series Momentum Data </font>**"
   ]
  },
  {
   "cell_type": "code",
   "execution_count": 28,
   "metadata": {
    "ExecuteTime": {
     "end_time": "2025-02-18T14:20:29.388687Z",
     "start_time": "2025-02-18T14:20:29.363946Z"
    }
   },
   "outputs": [
    {
     "data": {
      "text/plain": "            GC1_Monthly_raw_Return  GC2_Monthly_raw_Return  \\\nDate                                                         \n1975-01-31                0.002282               -0.001123   \n1975-02-28                0.041847                0.043425   \n1975-03-31               -0.032772               -0.035034   \n1975-04-30               -0.059919               -0.060868   \n1975-05-31               -0.001800                0.000592   \n...                            ...                     ...   \n2024-08-31                0.031639                0.031468   \n2024-09-30                0.051211                0.050830   \n2024-10-31                0.042046                0.042190   \n2024-11-30               -0.034149               -0.034100   \n2024-12-31               -0.006040               -0.005611   \n\n            GC1_Monthly_Excess_Return  GC2_Monthly_Excess_Return  \\\nDate                                                               \n1975-01-31                  -0.003923                  -0.003923   \n1975-02-28                   0.036323                   0.036323   \n1975-03-31                  -0.037161                  -0.037161   \n1975-04-30                  -0.064777                  -0.064777   \n1975-05-31                  -0.006658                  -0.006658   \n...                               ...                        ...   \n2024-08-31                   0.026943                   0.026943   \n2024-09-30                   0.047077                   0.047077   \n2024-10-31                   0.037790                   0.037790   \n2024-11-30                  -0.038405                  -0.038405   \n2024-12-31                  -0.009814                  -0.009814   \n\n            GC1_volatility  GC2_volatility  GC2_1M_Ret  GC1_1M_Ret  \\\nDate                                                                 \n1975-01-31             NaN             NaN   -0.003923   -0.003923   \n1975-02-28             NaN             NaN    0.036323    0.036323   \n1975-03-31        0.162229        0.161182   -0.037161   -0.037161   \n1975-04-30        0.171430        0.172165   -0.064777   -0.064777   \n1975-05-31        0.176185        0.181025   -0.006658   -0.006658   \n...                    ...             ...         ...         ...   \n2024-08-31        0.168238        0.169387    0.026943    0.026943   \n2024-09-30        0.151431        0.154221    0.047077    0.047077   \n2024-10-31        0.134111        0.135932    0.037790    0.037790   \n2024-11-30        0.167985        0.170430   -0.038405   -0.038405   \n2024-12-31        0.181269        0.183134   -0.009814   -0.009814   \n\n            GC2_1M_Sign  GC1_1M_Sign  ...  GC2_3M_Fwd_Sign  GC1_3M_Fwd_Sign  \\\nDate                                  ...                                     \n1975-01-31         -1.0         -1.0  ...             -1.0             -1.0   \n1975-02-28          1.0          1.0  ...             -1.0             -1.0   \n1975-03-31         -1.0         -1.0  ...             -1.0             -1.0   \n1975-04-30         -1.0         -1.0  ...             -1.0             -1.0   \n1975-05-31         -1.0         -1.0  ...             -1.0             -1.0   \n...                 ...          ...  ...              ...              ...   \n2024-08-31          1.0          1.0  ...              1.0              1.0   \n2024-09-30          1.0          1.0  ...              1.0              1.0   \n2024-10-31          1.0          1.0  ...             -1.0             -1.0   \n2024-11-30         -1.0         -1.0  ...              NaN              NaN   \n2024-12-31         -1.0         -1.0  ...              NaN              NaN   \n\n            GC2_6M_Fwd_Ret  GC1_6M_Fwd_Ret  GC2_6M_Fwd_Sign  GC1_6M_Fwd_Sign  \\\nDate                                                                           \n1975-01-31       -0.072866       -0.072866             -1.0             -1.0   \n1975-02-28       -0.075501       -0.075501             -1.0             -1.0   \n1975-03-31       -0.162347       -0.162347             -1.0             -1.0   \n1975-04-30       -0.261644       -0.261644             -1.0             -1.0   \n1975-05-31       -0.185752       -0.185752             -1.0             -1.0   \n...                    ...             ...              ...              ...   \n2024-08-31             NaN             NaN              NaN              NaN   \n2024-09-30             NaN             NaN              NaN              NaN   \n2024-10-31             NaN             NaN              NaN              NaN   \n2024-11-30             NaN             NaN              NaN              NaN   \n2024-12-31             NaN             NaN              NaN              NaN   \n\n            GC2_12M_Fwd_Ret  GC1_12M_Fwd_Ret  GC2_12M_Fwd_Sign  \\\nDate                                                             \n1975-01-31        -0.277670        -0.277670              -1.0   \n1975-02-28        -0.373487        -0.373487              -1.0   \n1975-03-31        -0.380637        -0.380637              -1.0   \n1975-04-30        -0.374489        -0.374489              -1.0   \n1975-05-31        -0.315533        -0.315533              -1.0   \n...                     ...              ...               ...   \n2024-08-31              NaN              NaN               NaN   \n2024-09-30              NaN              NaN               NaN   \n2024-10-31              NaN              NaN               NaN   \n2024-11-30              NaN              NaN               NaN   \n2024-12-31              NaN              NaN               NaN   \n\n            GC1_12M_Fwd_Sign  \nDate                          \n1975-01-31              -1.0  \n1975-02-28              -1.0  \n1975-03-31              -1.0  \n1975-04-30              -1.0  \n1975-05-31              -1.0  \n...                      ...  \n2024-08-31               NaN  \n2024-09-30               NaN  \n2024-10-31               NaN  \n2024-11-30               NaN  \n2024-12-31               NaN  \n\n[600 rows x 50 columns]",
      "text/html": "<div>\n<style scoped>\n    .dataframe tbody tr th:only-of-type {\n        vertical-align: middle;\n    }\n\n    .dataframe tbody tr th {\n        vertical-align: top;\n    }\n\n    .dataframe thead th {\n        text-align: right;\n    }\n</style>\n<table border=\"1\" class=\"dataframe\">\n  <thead>\n    <tr style=\"text-align: right;\">\n      <th></th>\n      <th>GC1_Monthly_raw_Return</th>\n      <th>GC2_Monthly_raw_Return</th>\n      <th>GC1_Monthly_Excess_Return</th>\n      <th>GC2_Monthly_Excess_Return</th>\n      <th>GC1_volatility</th>\n      <th>GC2_volatility</th>\n      <th>GC2_1M_Ret</th>\n      <th>GC1_1M_Ret</th>\n      <th>GC2_1M_Sign</th>\n      <th>GC1_1M_Sign</th>\n      <th>...</th>\n      <th>GC2_3M_Fwd_Sign</th>\n      <th>GC1_3M_Fwd_Sign</th>\n      <th>GC2_6M_Fwd_Ret</th>\n      <th>GC1_6M_Fwd_Ret</th>\n      <th>GC2_6M_Fwd_Sign</th>\n      <th>GC1_6M_Fwd_Sign</th>\n      <th>GC2_12M_Fwd_Ret</th>\n      <th>GC1_12M_Fwd_Ret</th>\n      <th>GC2_12M_Fwd_Sign</th>\n      <th>GC1_12M_Fwd_Sign</th>\n    </tr>\n    <tr>\n      <th>Date</th>\n      <th></th>\n      <th></th>\n      <th></th>\n      <th></th>\n      <th></th>\n      <th></th>\n      <th></th>\n      <th></th>\n      <th></th>\n      <th></th>\n      <th></th>\n      <th></th>\n      <th></th>\n      <th></th>\n      <th></th>\n      <th></th>\n      <th></th>\n      <th></th>\n      <th></th>\n      <th></th>\n      <th></th>\n    </tr>\n  </thead>\n  <tbody>\n    <tr>\n      <th>1975-01-31</th>\n      <td>0.002282</td>\n      <td>-0.001123</td>\n      <td>-0.003923</td>\n      <td>-0.003923</td>\n      <td>NaN</td>\n      <td>NaN</td>\n      <td>-0.003923</td>\n      <td>-0.003923</td>\n      <td>-1.0</td>\n      <td>-1.0</td>\n      <td>...</td>\n      <td>-1.0</td>\n      <td>-1.0</td>\n      <td>-0.072866</td>\n      <td>-0.072866</td>\n      <td>-1.0</td>\n      <td>-1.0</td>\n      <td>-0.277670</td>\n      <td>-0.277670</td>\n      <td>-1.0</td>\n      <td>-1.0</td>\n    </tr>\n    <tr>\n      <th>1975-02-28</th>\n      <td>0.041847</td>\n      <td>0.043425</td>\n      <td>0.036323</td>\n      <td>0.036323</td>\n      <td>NaN</td>\n      <td>NaN</td>\n      <td>0.036323</td>\n      <td>0.036323</td>\n      <td>1.0</td>\n      <td>1.0</td>\n      <td>...</td>\n      <td>-1.0</td>\n      <td>-1.0</td>\n      <td>-0.075501</td>\n      <td>-0.075501</td>\n      <td>-1.0</td>\n      <td>-1.0</td>\n      <td>-0.373487</td>\n      <td>-0.373487</td>\n      <td>-1.0</td>\n      <td>-1.0</td>\n    </tr>\n    <tr>\n      <th>1975-03-31</th>\n      <td>-0.032772</td>\n      <td>-0.035034</td>\n      <td>-0.037161</td>\n      <td>-0.037161</td>\n      <td>0.162229</td>\n      <td>0.161182</td>\n      <td>-0.037161</td>\n      <td>-0.037161</td>\n      <td>-1.0</td>\n      <td>-1.0</td>\n      <td>...</td>\n      <td>-1.0</td>\n      <td>-1.0</td>\n      <td>-0.162347</td>\n      <td>-0.162347</td>\n      <td>-1.0</td>\n      <td>-1.0</td>\n      <td>-0.380637</td>\n      <td>-0.380637</td>\n      <td>-1.0</td>\n      <td>-1.0</td>\n    </tr>\n    <tr>\n      <th>1975-04-30</th>\n      <td>-0.059919</td>\n      <td>-0.060868</td>\n      <td>-0.064777</td>\n      <td>-0.064777</td>\n      <td>0.171430</td>\n      <td>0.172165</td>\n      <td>-0.064777</td>\n      <td>-0.064777</td>\n      <td>-1.0</td>\n      <td>-1.0</td>\n      <td>...</td>\n      <td>-1.0</td>\n      <td>-1.0</td>\n      <td>-0.261644</td>\n      <td>-0.261644</td>\n      <td>-1.0</td>\n      <td>-1.0</td>\n      <td>-0.374489</td>\n      <td>-0.374489</td>\n      <td>-1.0</td>\n      <td>-1.0</td>\n    </tr>\n    <tr>\n      <th>1975-05-31</th>\n      <td>-0.001800</td>\n      <td>0.000592</td>\n      <td>-0.006658</td>\n      <td>-0.006658</td>\n      <td>0.176185</td>\n      <td>0.181025</td>\n      <td>-0.006658</td>\n      <td>-0.006658</td>\n      <td>-1.0</td>\n      <td>-1.0</td>\n      <td>...</td>\n      <td>-1.0</td>\n      <td>-1.0</td>\n      <td>-0.185752</td>\n      <td>-0.185752</td>\n      <td>-1.0</td>\n      <td>-1.0</td>\n      <td>-0.315533</td>\n      <td>-0.315533</td>\n      <td>-1.0</td>\n      <td>-1.0</td>\n    </tr>\n    <tr>\n      <th>...</th>\n      <td>...</td>\n      <td>...</td>\n      <td>...</td>\n      <td>...</td>\n      <td>...</td>\n      <td>...</td>\n      <td>...</td>\n      <td>...</td>\n      <td>...</td>\n      <td>...</td>\n      <td>...</td>\n      <td>...</td>\n      <td>...</td>\n      <td>...</td>\n      <td>...</td>\n      <td>...</td>\n      <td>...</td>\n      <td>...</td>\n      <td>...</td>\n      <td>...</td>\n      <td>...</td>\n    </tr>\n    <tr>\n      <th>2024-08-31</th>\n      <td>0.031639</td>\n      <td>0.031468</td>\n      <td>0.026943</td>\n      <td>0.026943</td>\n      <td>0.168238</td>\n      <td>0.169387</td>\n      <td>0.026943</td>\n      <td>0.026943</td>\n      <td>1.0</td>\n      <td>1.0</td>\n      <td>...</td>\n      <td>1.0</td>\n      <td>1.0</td>\n      <td>NaN</td>\n      <td>NaN</td>\n      <td>NaN</td>\n      <td>NaN</td>\n      <td>NaN</td>\n      <td>NaN</td>\n      <td>NaN</td>\n      <td>NaN</td>\n    </tr>\n    <tr>\n      <th>2024-09-30</th>\n      <td>0.051211</td>\n      <td>0.050830</td>\n      <td>0.047077</td>\n      <td>0.047077</td>\n      <td>0.151431</td>\n      <td>0.154221</td>\n      <td>0.047077</td>\n      <td>0.047077</td>\n      <td>1.0</td>\n      <td>1.0</td>\n      <td>...</td>\n      <td>1.0</td>\n      <td>1.0</td>\n      <td>NaN</td>\n      <td>NaN</td>\n      <td>NaN</td>\n      <td>NaN</td>\n      <td>NaN</td>\n      <td>NaN</td>\n      <td>NaN</td>\n      <td>NaN</td>\n    </tr>\n    <tr>\n      <th>2024-10-31</th>\n      <td>0.042046</td>\n      <td>0.042190</td>\n      <td>0.037790</td>\n      <td>0.037790</td>\n      <td>0.134111</td>\n      <td>0.135932</td>\n      <td>0.037790</td>\n      <td>0.037790</td>\n      <td>1.0</td>\n      <td>1.0</td>\n      <td>...</td>\n      <td>-1.0</td>\n      <td>-1.0</td>\n      <td>NaN</td>\n      <td>NaN</td>\n      <td>NaN</td>\n      <td>NaN</td>\n      <td>NaN</td>\n      <td>NaN</td>\n      <td>NaN</td>\n      <td>NaN</td>\n    </tr>\n    <tr>\n      <th>2024-11-30</th>\n      <td>-0.034149</td>\n      <td>-0.034100</td>\n      <td>-0.038405</td>\n      <td>-0.038405</td>\n      <td>0.167985</td>\n      <td>0.170430</td>\n      <td>-0.038405</td>\n      <td>-0.038405</td>\n      <td>-1.0</td>\n      <td>-1.0</td>\n      <td>...</td>\n      <td>NaN</td>\n      <td>NaN</td>\n      <td>NaN</td>\n      <td>NaN</td>\n      <td>NaN</td>\n      <td>NaN</td>\n      <td>NaN</td>\n      <td>NaN</td>\n      <td>NaN</td>\n      <td>NaN</td>\n    </tr>\n    <tr>\n      <th>2024-12-31</th>\n      <td>-0.006040</td>\n      <td>-0.005611</td>\n      <td>-0.009814</td>\n      <td>-0.009814</td>\n      <td>0.181269</td>\n      <td>0.183134</td>\n      <td>-0.009814</td>\n      <td>-0.009814</td>\n      <td>-1.0</td>\n      <td>-1.0</td>\n      <td>...</td>\n      <td>NaN</td>\n      <td>NaN</td>\n      <td>NaN</td>\n      <td>NaN</td>\n      <td>NaN</td>\n      <td>NaN</td>\n      <td>NaN</td>\n      <td>NaN</td>\n      <td>NaN</td>\n      <td>NaN</td>\n    </tr>\n  </tbody>\n</table>\n<p>600 rows × 50 columns</p>\n</div>"
     },
     "execution_count": 28,
     "metadata": {},
     "output_type": "execute_result"
    }
   ],
   "source": [
    "gc_data = combined_df_by_month.loc[:,:'SPX Index']\n",
    "gc_data.drop('SPX Index', axis=1, inplace = True)\n",
    "gc_data"
   ]
  },
  {
   "cell_type": "code",
   "execution_count": 29,
   "metadata": {
    "ExecuteTime": {
     "end_time": "2025-02-18T14:20:29.736827Z",
     "start_time": "2025-02-18T14:20:29.389850Z"
    }
   },
   "outputs": [],
   "source": [
    "gc_data.to_excel(\"gc_data_checking_20250216.xlsx\")"
   ]
  },
  {
   "cell_type": "markdown",
   "metadata": {},
   "source": [
    "##### **<font color= #90EE90>3.3 Define Y </font>**"
   ]
  },
  {
   "cell_type": "markdown",
   "metadata": {},
   "source": [
    "### 4 - Establish and Train Model - Part 1: LASSO/ Feature Selection"
   ]
  },
  {
   "cell_type": "markdown",
   "metadata": {},
   "source": [
    "##### **<font color= #90EE90>4.1 Import Library</font>**"
   ]
  },
  {
   "cell_type": "code",
   "execution_count": 30,
   "metadata": {
    "ExecuteTime": {
     "end_time": "2025-02-18T14:20:31.862902Z",
     "start_time": "2025-02-18T14:20:29.736827Z"
    }
   },
   "outputs": [],
   "source": [
    "from tqdm import tqdm\n",
    "import numpy as np\n",
    "import pandas as pd\n",
    "import statsmodels.api as sm\n",
    "import matplotlib.pyplot as plt\n",
    "from sklearn.model_selection import TimeSeriesSplit\n",
    "from sklearn.linear_model import LassoCV\n",
    "from sklearn.preprocessing import RobustScaler\n",
    "from sklearn.ensemble import RandomForestRegressor\n",
    "import warnings\n",
    "warnings.filterwarnings(\"ignore\")\n",
    "from xgboost import XGBRegressor\n",
    "from sklearn.svm import SVR\n",
    "from sklearn.metrics import mean_squared_error, r2_score\n",
    "from sklearn.linear_model import Ridge, Lasso\n"
   ]
  },
  {
   "cell_type": "markdown",
   "metadata": {},
   "source": [
    "##### **<font color= #90EE90>4.2 Select Training Data for X and Y</font>**"
   ]
  },
  {
   "cell_type": "code",
   "outputs": [
    {
     "data": {
      "text/plain": "            GC1_3M_Fwd_Ret\nDate                      \n1975-01-31       -0.004761\n1975-02-28       -0.065615\n1975-03-31       -0.108597\n1975-04-30       -0.068105\n1975-05-31       -0.009886\n...                    ...\n2024-06-30        0.061183\n2024-07-31        0.105793\n2024-08-31        0.111809\n2024-09-30        0.046462\n2024-10-31       -0.010429\n\n[598 rows x 1 columns]",
      "text/html": "<div>\n<style scoped>\n    .dataframe tbody tr th:only-of-type {\n        vertical-align: middle;\n    }\n\n    .dataframe tbody tr th {\n        vertical-align: top;\n    }\n\n    .dataframe thead th {\n        text-align: right;\n    }\n</style>\n<table border=\"1\" class=\"dataframe\">\n  <thead>\n    <tr style=\"text-align: right;\">\n      <th></th>\n      <th>GC1_3M_Fwd_Ret</th>\n    </tr>\n    <tr>\n      <th>Date</th>\n      <th></th>\n    </tr>\n  </thead>\n  <tbody>\n    <tr>\n      <th>1975-01-31</th>\n      <td>-0.004761</td>\n    </tr>\n    <tr>\n      <th>1975-02-28</th>\n      <td>-0.065615</td>\n    </tr>\n    <tr>\n      <th>1975-03-31</th>\n      <td>-0.108597</td>\n    </tr>\n    <tr>\n      <th>1975-04-30</th>\n      <td>-0.068105</td>\n    </tr>\n    <tr>\n      <th>1975-05-31</th>\n      <td>-0.009886</td>\n    </tr>\n    <tr>\n      <th>...</th>\n      <td>...</td>\n    </tr>\n    <tr>\n      <th>2024-06-30</th>\n      <td>0.061183</td>\n    </tr>\n    <tr>\n      <th>2024-07-31</th>\n      <td>0.105793</td>\n    </tr>\n    <tr>\n      <th>2024-08-31</th>\n      <td>0.111809</td>\n    </tr>\n    <tr>\n      <th>2024-09-30</th>\n      <td>0.046462</td>\n    </tr>\n    <tr>\n      <th>2024-10-31</th>\n      <td>-0.010429</td>\n    </tr>\n  </tbody>\n</table>\n<p>598 rows × 1 columns</p>\n</div>"
     },
     "execution_count": 31,
     "metadata": {},
     "output_type": "execute_result"
    }
   ],
   "source": [
    "GC_type = 'GC1'        #Gold Futures Type\n",
    "fwd_ret_period=3       #holding period return to predict\n",
    "\n",
    "Y = pd.DataFrame(gc_data[f\"{GC_type}_{fwd_ret_period}M_Fwd_Ret\"].dropna(how=\"all\"))\n",
    "cols_to_merge = [f'{GC_type}_Monthly_Return', f'{GC_type}_3M_Ret', f'{GC_type}_6M_Ret', f'{GC_type}_12M_Ret']\n",
    "\n",
    "Y #realized return after N months\n"
   ],
   "metadata": {
    "ExecuteTime": {
     "end_time": "2025-02-18T14:20:31.871889Z",
     "start_time": "2025-02-18T14:20:31.863905Z"
    }
   },
   "execution_count": 31
  },
  {
   "cell_type": "code",
   "execution_count": 32,
   "metadata": {
    "ExecuteTime": {
     "end_time": "2025-02-18T14:20:31.877226Z",
     "start_time": "2025-02-18T14:20:31.872891Z"
    }
   },
   "outputs": [
    {
     "data": {
      "text/plain": "Index(['SPX Index', 'NDX Index', 'DXY Curncy', 'USGG10YR Index',\n       'USGG2YR Index', 'VIX Index', 'JPY Curncy', 'LEGATRUU Index',\n       'EMUSTRUU Index', 'PE_RATIO', 'D/P Ratio', 'Fed_Eff_Rate',\n       'CPI YOY Index', 'GDP_Nominoal_YOY', 'GDP_Real_QoQ', 'US_Unemp',\n       'Cons_Conf', 'US_RIR', '1M_risk_free_ret_realized',\n       'GC1_3M_Fwd_raw_Ret', 'GC2_3M_Fwd_raw_Ret', 'GC1_6M_Fwd_raw_Ret',\n       'GC2_6M_Fwd_raw_Ret', 'GC1_12M_Fwd_raw_Ret', 'GC2_12M_Fwd_raw_Ret',\n       'ETF_Ounces', 'Chinese_premium_discount', 'Indian_premium_discount',\n       'PPI'],\n      dtype='object')"
     },
     "execution_count": 32,
     "metadata": {},
     "output_type": "execute_result"
    }
   ],
   "source": [
    "x_variables_data.columns"
   ]
  },
  {
   "cell_type": "markdown",
   "metadata": {},
   "source": [
    "**Training Data for X**"
   ]
  },
  {
   "cell_type": "code",
   "execution_count": 33,
   "metadata": {
    "ExecuteTime": {
     "end_time": "2025-02-18T14:20:32.177031Z",
     "start_time": "2025-02-18T14:20:31.878672Z"
    }
   },
   "outputs": [
    {
     "name": "stdout",
     "output_type": "stream",
     "text": [
      "Index(['const', 'SPX Index', 'NDX Index', 'DXY Curncy', 'USGG10YR Index',\n",
      "       'USGG2YR Index', 'VIX Index', 'JPY Curncy', 'LEGATRUU Index',\n",
      "       'EMUSTRUU Index', 'PE_RATIO', 'D/P Ratio', 'Fed_Eff_Rate',\n",
      "       'CPI YOY Index', 'GDP_Nominoal_YOY', 'GDP_Real_QoQ', 'US_Unemp',\n",
      "       'Cons_Conf', 'US_RIR', '1M_risk_free_ret_realized',\n",
      "       'GC1_3M_Fwd_raw_Ret', 'GC2_3M_Fwd_raw_Ret', 'GC1_6M_Fwd_raw_Ret',\n",
      "       'GC2_6M_Fwd_raw_Ret', 'GC1_12M_Fwd_raw_Ret', 'GC2_12M_Fwd_raw_Ret',\n",
      "       'ETF_Ounces', 'Chinese_premium_discount', 'Indian_premium_discount',\n",
      "       'PPI'],\n",
      "      dtype='object')\n"
     ]
    },
    {
     "data": {
      "text/plain": "            const  SPX Index  NDX Index  DXY Curncy  USGG10YR Index  \\\nDate                                                                  \n1975-01-31    1.0   0.091770   0.000000   -0.021726        0.014712   \n1975-02-28    1.0   0.065179   0.000000   -0.019899       -0.002461   \n1975-03-31    1.0   0.027323   0.000000    0.019908        0.079816   \n1975-04-30    1.0   0.046182   0.000000    0.005993        0.036760   \n1975-05-31    1.0   0.045809   0.000000   -0.007999       -0.028024   \n...           ...        ...        ...         ...             ...   \n2024-08-31    1.0   0.022578   0.010900   -0.023306       -0.031819   \n2024-09-30    1.0   0.041374   0.056498   -0.008635       -0.013164   \n2024-10-31    1.0  -0.009946  -0.008524    0.031230        0.141890   \n2024-11-30    1.0   0.050128   0.042042    0.016795       -0.033134   \n2024-12-31    1.0  -0.027347  -0.005881    0.020176        0.087974   \n\n            USGG2YR Index  VIX Index  JPY Curncy  LEGATRUU Index  \\\nDate                                                               \n1975-01-31       0.000000   0.000000   -0.008987        0.000000   \n1975-02-28       0.000000   0.000000   -0.039429        0.000000   \n1975-03-31       0.000000   0.000000    0.026118        0.000000   \n1975-04-30       0.000000   0.000000   -0.006141        0.000000   \n1975-05-31       0.000000   0.000000   -0.002330        0.000000   \n...                   ...        ...         ...             ...   \n2024-08-31      -0.083484  -0.086789   -0.025732        0.023384   \n2024-09-30      -0.059184   0.073143   -0.022648        0.019029   \n2024-10-31       0.138210   0.325223    0.056837       -0.034094   \n2024-11-30      -0.006485  -0.538997   -0.014977        0.003403   \n2024-12-31       0.015672   0.231099    0.049554       -0.019784   \n\n            EMUSTRUU Index  ...  GC1_3M_Fwd_raw_Ret  GC2_3M_Fwd_raw_Ret  \\\nDate                        ...                                           \n1975-01-31        0.000000  ...            0.011357            0.007269   \n1975-02-28        0.000000  ...           -0.050844           -0.052477   \n1975-03-31        0.000000  ...           -0.094491           -0.095310   \n1975-04-30        0.000000  ...           -0.053942           -0.052027   \n1975-05-31        0.000000  ...            0.004785            0.009428   \n...                    ...  ...                 ...                 ...   \n2024-08-31        0.020764  ...            0.124896            0.124488   \n2024-09-30        0.017462  ...            0.059109            0.058920   \n2024-10-31       -0.013816  ...            0.001857            0.002479   \n2024-11-30        0.011003  ...            0.000000            0.000000   \n2024-12-31       -0.012555  ...            0.000000            0.000000   \n\n            GC1_6M_Fwd_raw_Ret  GC2_6M_Fwd_raw_Ret  GC1_12M_Fwd_raw_Ret  \\\nDate                                                                      \n1975-01-31           -0.042584           -0.044758            -0.216597   \n1975-02-28           -0.046059           -0.043048            -0.314048   \n1975-03-31           -0.133063           -0.132686            -0.322149   \n1975-04-30           -0.231507           -0.232941            -0.316127   \n1975-05-31           -0.155350           -0.157412            -0.257759   \n...                        ...                 ...                  ...   \n2024-08-31            0.000000            0.000000             0.000000   \n2024-09-30            0.000000            0.000000             0.000000   \n2024-10-31            0.000000            0.000000             0.000000   \n2024-11-30            0.000000            0.000000             0.000000   \n2024-12-31            0.000000            0.000000             0.000000   \n\n            GC2_12M_Fwd_raw_Ret  ETF_Ounces  Chinese_premium_discount  \\\nDate                                                                    \n1975-01-31            -0.224969         0.0                  0.000000   \n1975-02-28            -0.321971         0.0                  0.000000   \n1975-03-31            -0.334860         0.0                  0.000000   \n1975-04-30            -0.324951         0.0                  0.000000   \n1975-05-31            -0.261003         0.0                  0.000000   \n...                         ...         ...                       ...   \n2024-08-31             0.000000         0.0                 -1.526427   \n2024-09-30             0.000000         0.0                -11.192383   \n2024-10-31             0.000000         0.0                -13.455145   \n2024-11-30             0.000000         0.0                -16.183557   \n2024-12-31             0.000000         0.0                 -3.335864   \n\n            Indian_premium_discount   PPI  \nDate                                       \n1975-01-31                 0.000000  17.1  \n1975-02-28                 0.000000  14.4  \n1975-03-31                 0.000000  12.5  \n1975-04-30                 0.000000  12.7  \n1975-05-31                 0.000000  11.8  \n...                             ...   ...  \n2024-08-31                 5.831219  -0.9  \n2024-09-30                -2.388517  -2.4  \n2024-10-31                 0.537662  -0.9  \n2024-11-30                 9.254420   0.1  \n2024-12-31                 0.340406   1.5  \n\n[600 rows x 30 columns]",
      "text/html": "<div>\n<style scoped>\n    .dataframe tbody tr th:only-of-type {\n        vertical-align: middle;\n    }\n\n    .dataframe tbody tr th {\n        vertical-align: top;\n    }\n\n    .dataframe thead th {\n        text-align: right;\n    }\n</style>\n<table border=\"1\" class=\"dataframe\">\n  <thead>\n    <tr style=\"text-align: right;\">\n      <th></th>\n      <th>const</th>\n      <th>SPX Index</th>\n      <th>NDX Index</th>\n      <th>DXY Curncy</th>\n      <th>USGG10YR Index</th>\n      <th>USGG2YR Index</th>\n      <th>VIX Index</th>\n      <th>JPY Curncy</th>\n      <th>LEGATRUU Index</th>\n      <th>EMUSTRUU Index</th>\n      <th>...</th>\n      <th>GC1_3M_Fwd_raw_Ret</th>\n      <th>GC2_3M_Fwd_raw_Ret</th>\n      <th>GC1_6M_Fwd_raw_Ret</th>\n      <th>GC2_6M_Fwd_raw_Ret</th>\n      <th>GC1_12M_Fwd_raw_Ret</th>\n      <th>GC2_12M_Fwd_raw_Ret</th>\n      <th>ETF_Ounces</th>\n      <th>Chinese_premium_discount</th>\n      <th>Indian_premium_discount</th>\n      <th>PPI</th>\n    </tr>\n    <tr>\n      <th>Date</th>\n      <th></th>\n      <th></th>\n      <th></th>\n      <th></th>\n      <th></th>\n      <th></th>\n      <th></th>\n      <th></th>\n      <th></th>\n      <th></th>\n      <th></th>\n      <th></th>\n      <th></th>\n      <th></th>\n      <th></th>\n      <th></th>\n      <th></th>\n      <th></th>\n      <th></th>\n      <th></th>\n      <th></th>\n    </tr>\n  </thead>\n  <tbody>\n    <tr>\n      <th>1975-01-31</th>\n      <td>1.0</td>\n      <td>0.091770</td>\n      <td>0.000000</td>\n      <td>-0.021726</td>\n      <td>0.014712</td>\n      <td>0.000000</td>\n      <td>0.000000</td>\n      <td>-0.008987</td>\n      <td>0.000000</td>\n      <td>0.000000</td>\n      <td>...</td>\n      <td>0.011357</td>\n      <td>0.007269</td>\n      <td>-0.042584</td>\n      <td>-0.044758</td>\n      <td>-0.216597</td>\n      <td>-0.224969</td>\n      <td>0.0</td>\n      <td>0.000000</td>\n      <td>0.000000</td>\n      <td>17.1</td>\n    </tr>\n    <tr>\n      <th>1975-02-28</th>\n      <td>1.0</td>\n      <td>0.065179</td>\n      <td>0.000000</td>\n      <td>-0.019899</td>\n      <td>-0.002461</td>\n      <td>0.000000</td>\n      <td>0.000000</td>\n      <td>-0.039429</td>\n      <td>0.000000</td>\n      <td>0.000000</td>\n      <td>...</td>\n      <td>-0.050844</td>\n      <td>-0.052477</td>\n      <td>-0.046059</td>\n      <td>-0.043048</td>\n      <td>-0.314048</td>\n      <td>-0.321971</td>\n      <td>0.0</td>\n      <td>0.000000</td>\n      <td>0.000000</td>\n      <td>14.4</td>\n    </tr>\n    <tr>\n      <th>1975-03-31</th>\n      <td>1.0</td>\n      <td>0.027323</td>\n      <td>0.000000</td>\n      <td>0.019908</td>\n      <td>0.079816</td>\n      <td>0.000000</td>\n      <td>0.000000</td>\n      <td>0.026118</td>\n      <td>0.000000</td>\n      <td>0.000000</td>\n      <td>...</td>\n      <td>-0.094491</td>\n      <td>-0.095310</td>\n      <td>-0.133063</td>\n      <td>-0.132686</td>\n      <td>-0.322149</td>\n      <td>-0.334860</td>\n      <td>0.0</td>\n      <td>0.000000</td>\n      <td>0.000000</td>\n      <td>12.5</td>\n    </tr>\n    <tr>\n      <th>1975-04-30</th>\n      <td>1.0</td>\n      <td>0.046182</td>\n      <td>0.000000</td>\n      <td>0.005993</td>\n      <td>0.036760</td>\n      <td>0.000000</td>\n      <td>0.000000</td>\n      <td>-0.006141</td>\n      <td>0.000000</td>\n      <td>0.000000</td>\n      <td>...</td>\n      <td>-0.053942</td>\n      <td>-0.052027</td>\n      <td>-0.231507</td>\n      <td>-0.232941</td>\n      <td>-0.316127</td>\n      <td>-0.324951</td>\n      <td>0.0</td>\n      <td>0.000000</td>\n      <td>0.000000</td>\n      <td>12.7</td>\n    </tr>\n    <tr>\n      <th>1975-05-31</th>\n      <td>1.0</td>\n      <td>0.045809</td>\n      <td>0.000000</td>\n      <td>-0.007999</td>\n      <td>-0.028024</td>\n      <td>0.000000</td>\n      <td>0.000000</td>\n      <td>-0.002330</td>\n      <td>0.000000</td>\n      <td>0.000000</td>\n      <td>...</td>\n      <td>0.004785</td>\n      <td>0.009428</td>\n      <td>-0.155350</td>\n      <td>-0.157412</td>\n      <td>-0.257759</td>\n      <td>-0.261003</td>\n      <td>0.0</td>\n      <td>0.000000</td>\n      <td>0.000000</td>\n      <td>11.8</td>\n    </tr>\n    <tr>\n      <th>...</th>\n      <td>...</td>\n      <td>...</td>\n      <td>...</td>\n      <td>...</td>\n      <td>...</td>\n      <td>...</td>\n      <td>...</td>\n      <td>...</td>\n      <td>...</td>\n      <td>...</td>\n      <td>...</td>\n      <td>...</td>\n      <td>...</td>\n      <td>...</td>\n      <td>...</td>\n      <td>...</td>\n      <td>...</td>\n      <td>...</td>\n      <td>...</td>\n      <td>...</td>\n      <td>...</td>\n    </tr>\n    <tr>\n      <th>2024-08-31</th>\n      <td>1.0</td>\n      <td>0.022578</td>\n      <td>0.010900</td>\n      <td>-0.023306</td>\n      <td>-0.031819</td>\n      <td>-0.083484</td>\n      <td>-0.086789</td>\n      <td>-0.025732</td>\n      <td>0.023384</td>\n      <td>0.020764</td>\n      <td>...</td>\n      <td>0.124896</td>\n      <td>0.124488</td>\n      <td>0.000000</td>\n      <td>0.000000</td>\n      <td>0.000000</td>\n      <td>0.000000</td>\n      <td>0.0</td>\n      <td>-1.526427</td>\n      <td>5.831219</td>\n      <td>-0.9</td>\n    </tr>\n    <tr>\n      <th>2024-09-30</th>\n      <td>1.0</td>\n      <td>0.041374</td>\n      <td>0.056498</td>\n      <td>-0.008635</td>\n      <td>-0.013164</td>\n      <td>-0.059184</td>\n      <td>0.073143</td>\n      <td>-0.022648</td>\n      <td>0.019029</td>\n      <td>0.017462</td>\n      <td>...</td>\n      <td>0.059109</td>\n      <td>0.058920</td>\n      <td>0.000000</td>\n      <td>0.000000</td>\n      <td>0.000000</td>\n      <td>0.000000</td>\n      <td>0.0</td>\n      <td>-11.192383</td>\n      <td>-2.388517</td>\n      <td>-2.4</td>\n    </tr>\n    <tr>\n      <th>2024-10-31</th>\n      <td>1.0</td>\n      <td>-0.009946</td>\n      <td>-0.008524</td>\n      <td>0.031230</td>\n      <td>0.141890</td>\n      <td>0.138210</td>\n      <td>0.325223</td>\n      <td>0.056837</td>\n      <td>-0.034094</td>\n      <td>-0.013816</td>\n      <td>...</td>\n      <td>0.001857</td>\n      <td>0.002479</td>\n      <td>0.000000</td>\n      <td>0.000000</td>\n      <td>0.000000</td>\n      <td>0.000000</td>\n      <td>0.0</td>\n      <td>-13.455145</td>\n      <td>0.537662</td>\n      <td>-0.9</td>\n    </tr>\n    <tr>\n      <th>2024-11-30</th>\n      <td>1.0</td>\n      <td>0.050128</td>\n      <td>0.042042</td>\n      <td>0.016795</td>\n      <td>-0.033134</td>\n      <td>-0.006485</td>\n      <td>-0.538997</td>\n      <td>-0.014977</td>\n      <td>0.003403</td>\n      <td>0.011003</td>\n      <td>...</td>\n      <td>0.000000</td>\n      <td>0.000000</td>\n      <td>0.000000</td>\n      <td>0.000000</td>\n      <td>0.000000</td>\n      <td>0.000000</td>\n      <td>0.0</td>\n      <td>-16.183557</td>\n      <td>9.254420</td>\n      <td>0.1</td>\n    </tr>\n    <tr>\n      <th>2024-12-31</th>\n      <td>1.0</td>\n      <td>-0.027347</td>\n      <td>-0.005881</td>\n      <td>0.020176</td>\n      <td>0.087974</td>\n      <td>0.015672</td>\n      <td>0.231099</td>\n      <td>0.049554</td>\n      <td>-0.019784</td>\n      <td>-0.012555</td>\n      <td>...</td>\n      <td>0.000000</td>\n      <td>0.000000</td>\n      <td>0.000000</td>\n      <td>0.000000</td>\n      <td>0.000000</td>\n      <td>0.000000</td>\n      <td>0.0</td>\n      <td>-3.335864</td>\n      <td>0.340406</td>\n      <td>1.5</td>\n    </tr>\n  </tbody>\n</table>\n<p>600 rows × 30 columns</p>\n</div>"
     },
     "execution_count": 33,
     "metadata": {},
     "output_type": "execute_result"
    }
   ],
   "source": [
    "#Should modify!! some x variables should not fill na with 0\n",
    "#suggest ffill or interpolation for GDP and CPI index \n",
    "#suggest modify dataset for macro factors: GDP, Inflation, Unemployment, PPI <--- these shoud be beat/ miss expectation rather than a value\n",
    "\n",
    "X1 = x_variables_data.fillna(0).copy() \n",
    "\n",
    "#Intercept\n",
    "X1 = sm.add_constant(X1)  \n",
    "\n",
    "X1.to_excel(\"X1_20250216.xlsx\")\n",
    "\n",
    "print(X1.columns)\n",
    "X1"
   ]
  },
  {
   "cell_type": "markdown",
   "metadata": {},
   "source": [
    "**Filter X2 GC Data for Training**"
   ]
  },
  {
   "cell_type": "code",
   "execution_count": 34,
   "metadata": {
    "ExecuteTime": {
     "end_time": "2025-02-18T14:20:32.181683Z",
     "start_time": "2025-02-18T14:20:32.177031Z"
    }
   },
   "outputs": [
    {
     "data": {
      "text/plain": "Index(['GC1_Monthly_raw_Return', 'GC2_Monthly_raw_Return',\n       'GC1_Monthly_Excess_Return', 'GC2_Monthly_Excess_Return',\n       'GC1_volatility', 'GC2_volatility', 'GC2_1M_Ret', 'GC1_1M_Ret',\n       'GC2_1M_Sign', 'GC1_1M_Sign', 'GC2_3M_Ret', 'GC1_3M_Ret', 'GC2_3M_Sign',\n       'GC1_3M_Sign', 'GC2_6M_Ret', 'GC1_6M_Ret', 'GC2_6M_Sign', 'GC1_6M_Sign',\n       'GC2_12M_Ret', 'GC1_12M_Ret', 'GC2_12M_Sign', 'GC1_12M_Sign',\n       'GC1_3M_Ret_lag_1', 'GC2_3M_Ret_lag_1', 'GC1_6M_Ret_lag_1',\n       'GC2_6M_Ret_lag_1', 'GC1_12M_Ret_lag_1', 'GC2_12M_Ret_lag_1',\n       'GC1_3M_Sign_lag_1', 'GC2_3M_Sign_lag_1', 'GC1_6M_Sign_lag_1',\n       'GC2_6M_Sign_lag_1', 'GC1_12M_Sign_lag_1', 'GC2_12M_Sign_lag_1',\n       'GC1_1M_Fwd_Ret', 'GC2_1M_Fwd_Ret', 'GC1_1M_Fwd_Sign',\n       'GC2_1M_Fwd_Sign', 'GC2_3M_Fwd_Ret', 'GC1_3M_Fwd_Ret',\n       'GC2_3M_Fwd_Sign', 'GC1_3M_Fwd_Sign', 'GC2_6M_Fwd_Ret',\n       'GC1_6M_Fwd_Ret', 'GC2_6M_Fwd_Sign', 'GC1_6M_Fwd_Sign',\n       'GC2_12M_Fwd_Ret', 'GC1_12M_Fwd_Ret', 'GC2_12M_Fwd_Sign',\n       'GC1_12M_Fwd_Sign'],\n      dtype='object')"
     },
     "execution_count": 34,
     "metadata": {},
     "output_type": "execute_result"
    }
   ],
   "source": [
    "gc_data.columns"
   ]
  },
  {
   "cell_type": "code",
   "execution_count": 35,
   "metadata": {
    "ExecuteTime": {
     "end_time": "2025-02-18T14:20:32.193644Z",
     "start_time": "2025-02-18T14:20:32.183118Z"
    }
   },
   "outputs": [
    {
     "data": {
      "text/plain": "            GC1_1M_Ret  GC1_3M_Ret  GC1_6M_Ret  GC1_12M_Ret\nDate                                                       \n1975-01-31   -0.003923    0.000000    0.000000     0.000000\n1975-02-28    0.036323    0.000000    0.000000     0.000000\n1975-03-31   -0.037161   -0.004761    0.000000     0.000000\n1975-04-30   -0.064777   -0.065615    0.000000     0.000000\n1975-05-31   -0.006658   -0.108597    0.000000     0.000000\n1975-06-30    0.003330   -0.068105   -0.072866     0.000000\n1975-07-31   -0.006558   -0.009886   -0.075501     0.000000\n1975-08-31   -0.050522   -0.053750   -0.162347     0.000000\n1975-09-30   -0.136458   -0.193539   -0.261644     0.000000\n1975-10-31    0.011115   -0.175866   -0.185752     0.000000\n1975-11-30   -0.044400   -0.169743   -0.223493     0.000000\n1975-12-31    0.022020   -0.011265   -0.204804    -0.277670\n1976-01-31   -0.099740   -0.122120   -0.297986    -0.373487\n1976-02-29    0.029174   -0.048547   -0.218290    -0.380637\n1976-03-31   -0.031013   -0.101580   -0.112845    -0.374489\n1976-04-30   -0.005822   -0.007661   -0.129781    -0.315533\n1976-05-31   -0.027011   -0.063846   -0.112393    -0.335886\n1976-06-30   -0.021643   -0.054475   -0.156055    -0.360859\n1976-07-31   -0.104919   -0.153572   -0.161234    -0.459220\n1976-08-31   -0.091071   -0.217633   -0.281479    -0.499769",
      "text/html": "<div>\n<style scoped>\n    .dataframe tbody tr th:only-of-type {\n        vertical-align: middle;\n    }\n\n    .dataframe tbody tr th {\n        vertical-align: top;\n    }\n\n    .dataframe thead th {\n        text-align: right;\n    }\n</style>\n<table border=\"1\" class=\"dataframe\">\n  <thead>\n    <tr style=\"text-align: right;\">\n      <th></th>\n      <th>GC1_1M_Ret</th>\n      <th>GC1_3M_Ret</th>\n      <th>GC1_6M_Ret</th>\n      <th>GC1_12M_Ret</th>\n    </tr>\n    <tr>\n      <th>Date</th>\n      <th></th>\n      <th></th>\n      <th></th>\n      <th></th>\n    </tr>\n  </thead>\n  <tbody>\n    <tr>\n      <th>1975-01-31</th>\n      <td>-0.003923</td>\n      <td>0.000000</td>\n      <td>0.000000</td>\n      <td>0.000000</td>\n    </tr>\n    <tr>\n      <th>1975-02-28</th>\n      <td>0.036323</td>\n      <td>0.000000</td>\n      <td>0.000000</td>\n      <td>0.000000</td>\n    </tr>\n    <tr>\n      <th>1975-03-31</th>\n      <td>-0.037161</td>\n      <td>-0.004761</td>\n      <td>0.000000</td>\n      <td>0.000000</td>\n    </tr>\n    <tr>\n      <th>1975-04-30</th>\n      <td>-0.064777</td>\n      <td>-0.065615</td>\n      <td>0.000000</td>\n      <td>0.000000</td>\n    </tr>\n    <tr>\n      <th>1975-05-31</th>\n      <td>-0.006658</td>\n      <td>-0.108597</td>\n      <td>0.000000</td>\n      <td>0.000000</td>\n    </tr>\n    <tr>\n      <th>1975-06-30</th>\n      <td>0.003330</td>\n      <td>-0.068105</td>\n      <td>-0.072866</td>\n      <td>0.000000</td>\n    </tr>\n    <tr>\n      <th>1975-07-31</th>\n      <td>-0.006558</td>\n      <td>-0.009886</td>\n      <td>-0.075501</td>\n      <td>0.000000</td>\n    </tr>\n    <tr>\n      <th>1975-08-31</th>\n      <td>-0.050522</td>\n      <td>-0.053750</td>\n      <td>-0.162347</td>\n      <td>0.000000</td>\n    </tr>\n    <tr>\n      <th>1975-09-30</th>\n      <td>-0.136458</td>\n      <td>-0.193539</td>\n      <td>-0.261644</td>\n      <td>0.000000</td>\n    </tr>\n    <tr>\n      <th>1975-10-31</th>\n      <td>0.011115</td>\n      <td>-0.175866</td>\n      <td>-0.185752</td>\n      <td>0.000000</td>\n    </tr>\n    <tr>\n      <th>1975-11-30</th>\n      <td>-0.044400</td>\n      <td>-0.169743</td>\n      <td>-0.223493</td>\n      <td>0.000000</td>\n    </tr>\n    <tr>\n      <th>1975-12-31</th>\n      <td>0.022020</td>\n      <td>-0.011265</td>\n      <td>-0.204804</td>\n      <td>-0.277670</td>\n    </tr>\n    <tr>\n      <th>1976-01-31</th>\n      <td>-0.099740</td>\n      <td>-0.122120</td>\n      <td>-0.297986</td>\n      <td>-0.373487</td>\n    </tr>\n    <tr>\n      <th>1976-02-29</th>\n      <td>0.029174</td>\n      <td>-0.048547</td>\n      <td>-0.218290</td>\n      <td>-0.380637</td>\n    </tr>\n    <tr>\n      <th>1976-03-31</th>\n      <td>-0.031013</td>\n      <td>-0.101580</td>\n      <td>-0.112845</td>\n      <td>-0.374489</td>\n    </tr>\n    <tr>\n      <th>1976-04-30</th>\n      <td>-0.005822</td>\n      <td>-0.007661</td>\n      <td>-0.129781</td>\n      <td>-0.315533</td>\n    </tr>\n    <tr>\n      <th>1976-05-31</th>\n      <td>-0.027011</td>\n      <td>-0.063846</td>\n      <td>-0.112393</td>\n      <td>-0.335886</td>\n    </tr>\n    <tr>\n      <th>1976-06-30</th>\n      <td>-0.021643</td>\n      <td>-0.054475</td>\n      <td>-0.156055</td>\n      <td>-0.360859</td>\n    </tr>\n    <tr>\n      <th>1976-07-31</th>\n      <td>-0.104919</td>\n      <td>-0.153572</td>\n      <td>-0.161234</td>\n      <td>-0.459220</td>\n    </tr>\n    <tr>\n      <th>1976-08-31</th>\n      <td>-0.091071</td>\n      <td>-0.217633</td>\n      <td>-0.281479</td>\n      <td>-0.499769</td>\n    </tr>\n  </tbody>\n</table>\n</div>"
     },
     "execution_count": 35,
     "metadata": {},
     "output_type": "execute_result"
    }
   ],
   "source": [
    "#x2_required_cols = [f\"{GC_type}_\"+ x2 for x2 in ['1M_Ret','3M_Ret_lag_1','6M_Ret_lag_1','12M_Ret_lag_1']]\n",
    "#x2_required_cols = [f\"{GC_type}_\"+ x2 for x2 in ['1M_Sign','3M_Sign_lag_1','6M_Sign_lag_1','12M_Sign_lag_1']]\n",
    "#x2_required_cols = [f\"{GC_type}_\"+ x2 for x2 in ['1M_Sign','3M_Sign','6M_Sign','12M_Sign']]\n",
    "x2_required_cols = [f\"{GC_type}_\"+ x2 for x2 in ['1M_Ret','3M_Ret','6M_Ret','12M_Ret']]\n",
    "\n",
    "\n",
    "#x2_required_cols\n",
    "\n",
    "X2 = gc_data[x2_required_cols]\n",
    "\n",
    "X2 = X2.fillna(0)\n",
    "\n",
    "X2.head(20)"
   ]
  },
  {
   "cell_type": "markdown",
   "metadata": {},
   "source": [
    "**Combine X1 and X2 Data to X for next step**"
   ]
  },
  {
   "cell_type": "code",
   "execution_count": 36,
   "metadata": {
    "ExecuteTime": {
     "end_time": "2025-02-18T14:20:33.014177Z",
     "start_time": "2025-02-18T14:20:32.195415Z"
    }
   },
   "outputs": [
    {
     "name": "stdout",
     "output_type": "stream",
     "text": [
      "Index(['GC1_1M_Ret', 'GC1_3M_Ret', 'GC1_6M_Ret', 'GC1_12M_Ret', 'const',\n",
      "       'SPX Index', 'NDX Index', 'DXY Curncy', 'USGG10YR Index',\n",
      "       'USGG2YR Index', 'VIX Index', 'JPY Curncy', 'LEGATRUU Index',\n",
      "       'EMUSTRUU Index', 'PE_RATIO', 'D/P Ratio', 'Fed_Eff_Rate',\n",
      "       'CPI YOY Index', 'GDP_Nominoal_YOY', 'GDP_Real_QoQ', 'US_Unemp',\n",
      "       'Cons_Conf', 'US_RIR', '1M_risk_free_ret_realized',\n",
      "       'GC1_3M_Fwd_raw_Ret', 'GC2_3M_Fwd_raw_Ret', 'GC1_6M_Fwd_raw_Ret',\n",
      "       'GC2_6M_Fwd_raw_Ret', 'GC1_12M_Fwd_raw_Ret', 'GC2_12M_Fwd_raw_Ret',\n",
      "       'ETF_Ounces', 'Chinese_premium_discount', 'Indian_premium_discount',\n",
      "       'PPI'],\n",
      "      dtype='object')\n"
     ]
    },
    {
     "ename": "KeyError",
     "evalue": "'CPI YoY Index'",
     "output_type": "error",
     "traceback": [
      "\u001B[1;31m---------------------------------------------------------------------------\u001B[0m",
      "\u001B[1;31mKeyError\u001B[0m                                  Traceback (most recent call last)",
      "File \u001B[1;32m~\\AppData\\Local\\Programs\\Python\\Python312\\Lib\\site-packages\\pandas\\core\\indexes\\base.py:3805\u001B[0m, in \u001B[0;36mIndex.get_loc\u001B[1;34m(self, key)\u001B[0m\n\u001B[0;32m   3804\u001B[0m \u001B[38;5;28;01mtry\u001B[39;00m:\n\u001B[1;32m-> 3805\u001B[0m     \u001B[38;5;28;01mreturn\u001B[39;00m \u001B[38;5;28;43mself\u001B[39;49m\u001B[38;5;241;43m.\u001B[39;49m\u001B[43m_engine\u001B[49m\u001B[38;5;241;43m.\u001B[39;49m\u001B[43mget_loc\u001B[49m\u001B[43m(\u001B[49m\u001B[43mcasted_key\u001B[49m\u001B[43m)\u001B[49m\n\u001B[0;32m   3806\u001B[0m \u001B[38;5;28;01mexcept\u001B[39;00m \u001B[38;5;167;01mKeyError\u001B[39;00m \u001B[38;5;28;01mas\u001B[39;00m err:\n",
      "File \u001B[1;32mindex.pyx:167\u001B[0m, in \u001B[0;36mpandas._libs.index.IndexEngine.get_loc\u001B[1;34m()\u001B[0m\n",
      "File \u001B[1;32mindex.pyx:196\u001B[0m, in \u001B[0;36mpandas._libs.index.IndexEngine.get_loc\u001B[1;34m()\u001B[0m\n",
      "File \u001B[1;32mpandas\\\\_libs\\\\hashtable_class_helper.pxi:7081\u001B[0m, in \u001B[0;36mpandas._libs.hashtable.PyObjectHashTable.get_item\u001B[1;34m()\u001B[0m\n",
      "File \u001B[1;32mpandas\\\\_libs\\\\hashtable_class_helper.pxi:7089\u001B[0m, in \u001B[0;36mpandas._libs.hashtable.PyObjectHashTable.get_item\u001B[1;34m()\u001B[0m\n",
      "\u001B[1;31mKeyError\u001B[0m: 'CPI YoY Index'",
      "\nThe above exception was the direct cause of the following exception:\n",
      "\u001B[1;31mKeyError\u001B[0m                                  Traceback (most recent call last)",
      "Cell \u001B[1;32mIn[36], line 8\u001B[0m\n\u001B[0;32m      6\u001B[0m X[\u001B[38;5;124m\"\u001B[39m\u001B[38;5;124mGDP_Nominoal_YOY\u001B[39m\u001B[38;5;124m\"\u001B[39m]\u001B[38;5;241m=\u001B[39mX[\u001B[38;5;124m\"\u001B[39m\u001B[38;5;124mGDP_Nominoal_YOY\u001B[39m\u001B[38;5;124m\"\u001B[39m]\u001B[38;5;241m.\u001B[39mshift(\u001B[38;5;241m1\u001B[39m)\n\u001B[0;32m      7\u001B[0m X[\u001B[38;5;124m\"\u001B[39m\u001B[38;5;124mGDP_Real_QoQ\u001B[39m\u001B[38;5;124m\"\u001B[39m]\u001B[38;5;241m=\u001B[39mX[\u001B[38;5;124m\"\u001B[39m\u001B[38;5;124mGDP_Real_QoQ\u001B[39m\u001B[38;5;124m\"\u001B[39m]\u001B[38;5;241m.\u001B[39mshift(\u001B[38;5;241m1\u001B[39m)\n\u001B[1;32m----> 8\u001B[0m X[\u001B[38;5;124m\"\u001B[39m\u001B[38;5;124mCPI YoY Index\u001B[39m\u001B[38;5;124m\"\u001B[39m]\u001B[38;5;241m=\u001B[39m\u001B[43mX\u001B[49m\u001B[43m[\u001B[49m\u001B[38;5;124;43m\"\u001B[39;49m\u001B[38;5;124;43mCPI YoY Index\u001B[39;49m\u001B[38;5;124;43m\"\u001B[39;49m\u001B[43m]\u001B[49m\u001B[38;5;241m.\u001B[39mshift(\u001B[38;5;241m1\u001B[39m)\n\u001B[0;32m      9\u001B[0m X[\u001B[38;5;124m\"\u001B[39m\u001B[38;5;124mUS_Unemp\u001B[39m\u001B[38;5;124m\"\u001B[39m]\u001B[38;5;241m=\u001B[39mX[\u001B[38;5;124m\"\u001B[39m\u001B[38;5;124mUS_Unemp\u001B[39m\u001B[38;5;124m\"\u001B[39m]\u001B[38;5;241m.\u001B[39mshift(\u001B[38;5;241m1\u001B[39m)\n\u001B[0;32m     10\u001B[0m X[\u001B[38;5;124m\"\u001B[39m\u001B[38;5;124mPPI\u001B[39m\u001B[38;5;124m\"\u001B[39m]\u001B[38;5;241m=\u001B[39mX[\u001B[38;5;124m\"\u001B[39m\u001B[38;5;124mPPI\u001B[39m\u001B[38;5;124m\"\u001B[39m]\u001B[38;5;241m.\u001B[39mshift(\u001B[38;5;241m1\u001B[39m)\n",
      "File \u001B[1;32m~\\AppData\\Local\\Programs\\Python\\Python312\\Lib\\site-packages\\pandas\\core\\frame.py:4102\u001B[0m, in \u001B[0;36mDataFrame.__getitem__\u001B[1;34m(self, key)\u001B[0m\n\u001B[0;32m   4100\u001B[0m \u001B[38;5;28;01mif\u001B[39;00m \u001B[38;5;28mself\u001B[39m\u001B[38;5;241m.\u001B[39mcolumns\u001B[38;5;241m.\u001B[39mnlevels \u001B[38;5;241m>\u001B[39m \u001B[38;5;241m1\u001B[39m:\n\u001B[0;32m   4101\u001B[0m     \u001B[38;5;28;01mreturn\u001B[39;00m \u001B[38;5;28mself\u001B[39m\u001B[38;5;241m.\u001B[39m_getitem_multilevel(key)\n\u001B[1;32m-> 4102\u001B[0m indexer \u001B[38;5;241m=\u001B[39m \u001B[38;5;28;43mself\u001B[39;49m\u001B[38;5;241;43m.\u001B[39;49m\u001B[43mcolumns\u001B[49m\u001B[38;5;241;43m.\u001B[39;49m\u001B[43mget_loc\u001B[49m\u001B[43m(\u001B[49m\u001B[43mkey\u001B[49m\u001B[43m)\u001B[49m\n\u001B[0;32m   4103\u001B[0m \u001B[38;5;28;01mif\u001B[39;00m is_integer(indexer):\n\u001B[0;32m   4104\u001B[0m     indexer \u001B[38;5;241m=\u001B[39m [indexer]\n",
      "File \u001B[1;32m~\\AppData\\Local\\Programs\\Python\\Python312\\Lib\\site-packages\\pandas\\core\\indexes\\base.py:3812\u001B[0m, in \u001B[0;36mIndex.get_loc\u001B[1;34m(self, key)\u001B[0m\n\u001B[0;32m   3807\u001B[0m     \u001B[38;5;28;01mif\u001B[39;00m \u001B[38;5;28misinstance\u001B[39m(casted_key, \u001B[38;5;28mslice\u001B[39m) \u001B[38;5;129;01mor\u001B[39;00m (\n\u001B[0;32m   3808\u001B[0m         \u001B[38;5;28misinstance\u001B[39m(casted_key, abc\u001B[38;5;241m.\u001B[39mIterable)\n\u001B[0;32m   3809\u001B[0m         \u001B[38;5;129;01mand\u001B[39;00m \u001B[38;5;28many\u001B[39m(\u001B[38;5;28misinstance\u001B[39m(x, \u001B[38;5;28mslice\u001B[39m) \u001B[38;5;28;01mfor\u001B[39;00m x \u001B[38;5;129;01min\u001B[39;00m casted_key)\n\u001B[0;32m   3810\u001B[0m     ):\n\u001B[0;32m   3811\u001B[0m         \u001B[38;5;28;01mraise\u001B[39;00m InvalidIndexError(key)\n\u001B[1;32m-> 3812\u001B[0m     \u001B[38;5;28;01mraise\u001B[39;00m \u001B[38;5;167;01mKeyError\u001B[39;00m(key) \u001B[38;5;28;01mfrom\u001B[39;00m \u001B[38;5;21;01merr\u001B[39;00m\n\u001B[0;32m   3813\u001B[0m \u001B[38;5;28;01mexcept\u001B[39;00m \u001B[38;5;167;01mTypeError\u001B[39;00m:\n\u001B[0;32m   3814\u001B[0m     \u001B[38;5;66;03m# If we have a listlike key, _check_indexing_error will raise\u001B[39;00m\n\u001B[0;32m   3815\u001B[0m     \u001B[38;5;66;03m#  InvalidIndexError. Otherwise we fall through and re-raise\u001B[39;00m\n\u001B[0;32m   3816\u001B[0m     \u001B[38;5;66;03m#  the TypeError.\u001B[39;00m\n\u001B[0;32m   3817\u001B[0m     \u001B[38;5;28mself\u001B[39m\u001B[38;5;241m.\u001B[39m_check_indexing_error(key)\n",
      "\u001B[1;31mKeyError\u001B[0m: 'CPI YoY Index'"
     ]
    }
   ],
   "source": [
    "X = X2.join(X1,how='left')\n",
    "#X=X2\n",
    "print(X.columns)\n",
    "\n",
    "X=X.shift(1)\n",
    "X[\"GDP_Nominoal_YOY\"]=X[\"GDP_Nominoal_YOY\"].shift(1)\n",
    "X[\"GDP_Real_QoQ\"]=X[\"GDP_Real_QoQ\"].shift(1)\n",
    "X[\"CPI YoY Index\"]=X[\"CPI YoY Index\"].shift(1)\n",
    "X[\"US_Unemp\"]=X[\"US_Unemp\"].shift(1)\n",
    "X[\"PPI\"]=X[\"PPI\"].shift(1)"
   ]
  },
  {
   "cell_type": "markdown",
   "metadata": {},
   "source": [
    "**Training Data for Y**"
   ]
  },
  {
   "cell_type": "code",
   "outputs": [],
   "source": [
    "gc_data"
   ],
   "metadata": {
    "collapsed": false,
    "ExecuteTime": {
     "end_time": "2025-02-18T14:20:33.015430Z",
     "start_time": "2025-02-18T14:20:33.015430Z"
    }
   },
   "execution_count": null
  },
  {
   "cell_type": "code",
   "execution_count": null,
   "metadata": {
    "ExecuteTime": {
     "end_time": "2025-02-18T14:20:33.017432Z",
     "start_time": "2025-02-18T14:20:33.017432Z"
    }
   },
   "outputs": [],
   "source": [
    "n_obs = len(Y)\n",
    "y_historical_mean_data=gc_data[f'{GC_type}_Monthly_Excess_Return'].dropna(how='all')\n",
    "\n",
    "#refine the scope of Y here if needed\n",
    "Y #view y dataset again"
   ]
  },
  {
   "cell_type": "markdown",
   "metadata": {},
   "source": [
    "##### **<font color= #90EE90>4.3 LASSO - Parameters Selection</font>**"
   ]
  },
  {
   "cell_type": "markdown",
   "metadata": {},
   "source": [
    "**Training Parameters**"
   ]
  },
  {
   "cell_type": "code",
   "execution_count": null,
   "metadata": {
    "ExecuteTime": {
     "start_time": "2025-02-18T14:20:33.018434Z"
    }
   },
   "outputs": [],
   "source": [
    "#LASSO Training Parameters\n",
    "\n",
    "train_start = pd.Timestamp('1976-01-31')\n",
    "train_end = pd.Timestamp('1990-12-31')  #initial training period\n",
    "calib_start = pd.Timestamp('1991-01-31') \n",
    "calib_end = pd.Timestamp('1995-12-31') \n",
    "test_date = calib_end + pd.DateOffset(months=1)\n",
    "\n",
    "regression_type = 'lasso'\n",
    "alphas = np.logspace(3,-3,500).tolist()"
   ]
  },
  {
   "cell_type": "markdown",
   "metadata": {},
   "source": [
    "##### **4.3.1 LASSO - 1 Iteration**"
   ]
  },
  {
   "cell_type": "markdown",
   "metadata": {},
   "source": [
    "**Train - Calibrate - Test Split**"
   ]
  },
  {
   "cell_type": "code",
   "execution_count": null,
   "metadata": {
    "ExecuteTime": {
     "start_time": "2025-02-18T14:20:33.019433Z"
    }
   },
   "outputs": [],
   "source": [
    "#Design rolling loop algorithm\n",
    "\n",
    "results = []\n",
    "model_coefficients = []\n",
    "\n",
    "#while test_date <= pd.Timestamp('2010-12-31'):\n",
    "    \n",
    "#create train dataset\n",
    "X_train = X.loc[:train_end]\n",
    "Y_train = Y.loc[:train_end]\n",
    "\n",
    "#create calibration dataset\n",
    "X_calib = X.loc[calib_start:calib_end]\n",
    "Y_calib = Y.loc[calib_start:calib_end]\n",
    "\n",
    "#test data\n",
    "X_test = X.loc[test_date:test_date]\n",
    "Y_test = Y.loc[test_date:test_date]\n",
    "\n",
    "#define alpha and error before loop\n",
    "best_alpha = None\n",
    "least_error = np.inf\n",
    "\n",
    "#checking\n",
    "X_train"
   ]
  },
  {
   "cell_type": "code",
   "execution_count": null,
   "metadata": {},
   "outputs": [],
   "source": [
    "for a in alphas:\n",
    "    if regression_type == 'ridge':\n",
    "        candidate_model = Ridge(alpha= a)\n",
    "    else: #assume lasso\n",
    "        candidate_model = Lasso(alpha= a, max_iter=2000)\n",
    "        \n",
    "#fit the model in the calibration set\n",
    "candidate_model.fit(X_train, Y_train)\n",
    "Y_pred = candidate_model.predict(X_calib)\n",
    "error = mean_squared_error(Y_calib,Y_pred)\n",
    "\n",
    "if error < least_error:\n",
    "    least_error = error\n",
    "    best_alpha = a\n",
    "\n",
    "#combine training and calibration set\n",
    "X_combined = pd.concat([X_train,X_calib])\n",
    "Y_combined = pd.concat([Y_train,Y_calib])\n",
    "\n",
    "#train the final model with the best alpha over training + calibration timeframe\n",
    "if regression_type == 'ridge':\n",
    "    final_model = Ridge(alpha= best_alpha)\n",
    "else: #assume lasso\n",
    "    final_model = Lasso(alpha= best_alpha, max_iter=2000)\n",
    "\n",
    "final_model.fit(X_combined, Y_combined)\n",
    "\n",
    "\n",
    "#forecasting the test month\n",
    "forecast = final_model.predict(X_test)[0]\n",
    "realized = Y_test.iloc[0,0]\n",
    "\n",
    "#iteration results\n",
    "\n",
    "model_stat = {\n",
    "    'train_end': train_end,\n",
    "    'calib_start': calib_start,\n",
    "    'calib_end': calib_end,\n",
    "    'test_date': test_date,\n",
    "    'best_alpha': best_alpha,\n",
    "    'forecast': forecast,\n",
    "    'realized': realized,\n",
    "    'calib_error': least_error,\n",
    "    \n",
    "}\n",
    "\n",
    "coeff_stat = pd.Series(final_model.coef_,index=X.columns).to_dict()\n",
    "model_stat.update(coeff_stat)\n",
    "\n",
    "results.append(model_stat)\n",
    "results_df = pd.DataFrame(results)\n",
    "\n",
    "print(\"LASSO Regression: Coefficients Selection\")\n",
    "print(f\"Best Alpha: {best_alpha}\")\n",
    "print(f\"Model Prediction period: {Y.columns[0]}\")\n",
    "\n",
    "results_df.T\n",
    "\n",
    "#model_coefficients.append(pd.Series(final_model.coef_,index=X.columns))\n",
    "#model_coefficients\n",
    "\n",
    "\n",
    "\n"
   ]
  },
  {
   "cell_type": "code",
   "execution_count": null,
   "metadata": {
    "ExecuteTime": {
     "end_time": "2025-02-18T14:20:33.022286Z",
     "start_time": "2025-02-18T14:20:33.020919Z"
    }
   },
   "outputs": [],
   "source": [
    "#Create a dictionary to calculate "
   ]
  },
  {
   "cell_type": "code",
   "execution_count": null,
   "metadata": {
    "ExecuteTime": {
     "start_time": "2025-02-18T14:20:33.022286Z"
    }
   },
   "outputs": [],
   "source": [
    "#Clear List for Next Checking\n",
    "model_coefficients.clear()\n",
    "results.clear()\n",
    "results_df = None"
   ]
  },
  {
   "cell_type": "markdown",
   "metadata": {},
   "source": [
    "##### **4.3.2 LASSO - While Loop**"
   ]
  },
  {
   "cell_type": "markdown",
   "metadata": {},
   "source": [
    "**Train - Calibrate - Test Split**"
   ]
  },
  {
   "cell_type": "code",
   "execution_count": null,
   "metadata": {
    "ExecuteTime": {
     "end_time": "2025-02-18T14:20:33.024289Z",
     "start_time": "2025-02-18T14:20:33.023289Z"
    }
   },
   "outputs": [],
   "source": [
    "from sklearn.preprocessing import StandardScaler\n",
    "from sklearn.compose import ColumnTransformer\n",
    "\n",
    "#Define x features standardization needs for Lasso \n",
    "x1_standarize = False\n",
    "x1x2_standardize = True\n",
    "\n",
    "def build_preprocessor(x1_standarize, x1x2_standardize):\n",
    "\n",
    "    if x1_standarize == True:\n",
    "        sign_features = X1.columns\n",
    "        continuous_features = X2.columns\n",
    "        \n",
    "        preprocessor = ColumnTransformer(\n",
    "            transformers=[\n",
    "                ('num', StandardScaler(), continuous_features),\n",
    "                ('sign', 'passthrough', sign_features)\n",
    "            ]\n",
    "        )\n",
    "        return preprocessor\n",
    "    \n",
    "    elif x1x2_standardize == True:\n",
    "        preprocessor = ColumnTransformer(\n",
    "            transformers=[('num', StandardScaler(), X.columns)])\n",
    "    \n",
    "        return preprocessor\n",
    "    \n",
    "    else:\n",
    "        return None\n",
    "        \n",
    "        "
   ]
  },
  {
   "cell_type": "code",
   "execution_count": null,
   "metadata": {
    "ExecuteTime": {
     "end_time": "2025-02-18T14:20:33.025571Z",
     "start_time": "2025-02-18T14:20:33.024289Z"
    }
   },
   "outputs": [],
   "source": [
    "preprocessor = build_preprocessor(x1_standarize, x1x2_standardize)\n",
    "y_historical_mean_data=gc_data[f'{GC_type}_Monthly_Excess_Return'].loc[Y.index].dropna(how='all')\n",
    "results = []\n",
    "LASSO_result= []\n",
    "model_coefficients = []\n",
    "# 记录 SSE 累计误差\n",
    "SSE_model_cumsum = []\n",
    "SSE_historical_cumsum = []\n",
    "pbar = tqdm(total=Y.loc[test_date:].shape[0], desc=\"Rolling Window Iterations\")\n",
    "i=1\n",
    "\n",
    "while test_date <= Y.index[-1]:\n",
    "    \n",
    "    \"\"\"\n",
    "    print(f\"\\n\\n--------\\nIteration {i} starts....\")\n",
    "    print(\"Current training combination....\")\n",
    "    print(\"train_end:\", train_end )\n",
    "    print(\"calib_start:\", calib_start)\n",
    "    print(\"calib_end:\", calib_end)\n",
    "    print(\"test_date:\", test_date)\n",
    "    \"\"\"\n",
    "    y_historical_mean = y_historical_mean_data.loc[:test_date]\n",
    "    #create train dataset\n",
    "    X_train = X.loc[:train_end]\n",
    "    Y_train = Y.loc[:train_end]\n",
    "\n",
    "    #create calibration dataset\n",
    "    X_calib = X.loc[calib_start:calib_end]\n",
    "    Y_calib = Y.loc[calib_start:calib_end]\n",
    "        \n",
    "    #test data\n",
    "    X_test = X.loc[test_date:test_date]\n",
    "    Y_test = Y.loc[test_date:test_date]\n",
    "\n",
    "    #Transform dataset if needed\n",
    "    if x1_standarize or x1x2_standardize:\n",
    "        preprocessor.fit(X_train)\n",
    "        \n",
    "        X_train = pd.DataFrame(preprocessor.transform(X_train),\n",
    "                               columns=X_train.columns,\n",
    "                               index=X_train.index)\n",
    "        \n",
    "        X_calib = pd.DataFrame(preprocessor.transform(X_calib),\n",
    "                               columns=X_calib.columns,\n",
    "                               index=X_calib.index)\n",
    "        \n",
    "        X_test = pd.DataFrame(preprocessor.transform(X_test),\n",
    "                               columns=X_test.columns,\n",
    "                               index=X_test.index)\n",
    "\n",
    "        \n",
    "    #define alpha and error before loop\n",
    "    best_alpha = None\n",
    "    least_error = np.inf\n",
    "\n",
    "    for a in alphas:\n",
    "        if regression_type == 'ridge':\n",
    "            candidate_model = Ridge(alpha= a)\n",
    "        else: #assume lasso\n",
    "            candidate_model = Lasso(alpha= a, max_iter=1000)\n",
    "        \n",
    "        #fit the model in the calibration set\n",
    "        candidate_model.fit(X_train, Y_train)\n",
    "        Y_pred = candidate_model.predict(X_calib)\n",
    "        error = mean_squared_error(Y_calib,Y_pred)\n",
    "\n",
    "        if error < least_error:\n",
    "            least_error = error\n",
    "            best_alpha = a\n",
    "\n",
    "    #combine training and calibration set\n",
    "    X_combined = pd.concat([X_train,X_calib])\n",
    "    Y_combined = pd.concat([Y_train,Y_calib])\n",
    "\n",
    "    #train the final model with the best alpha over training + calibration timeframe\n",
    "    if regression_type == 'ridge':\n",
    "        final_model = Ridge(alpha= best_alpha)\n",
    "    else: #assume lasso\n",
    "        final_model = Lasso(alpha= best_alpha, max_iter=1000)\n",
    "\n",
    "    final_model.fit(X_combined, Y_combined)\n",
    "    \n",
    "    #forecasting the test month\n",
    "    forecast = final_model.predict(X_test)[0]\n",
    "    realized = Y_test.iloc[0,0]\n",
    "\n",
    "    # 计算策略预测误差 f_t+1\n",
    "    forecast_error = float(realized - forecast)\n",
    "\n",
    "    # 计算历史均值预测误差 m_t+1\n",
    "    historical_mean_error = float(realized - y_historical_mean.mean() * fwd_ret_period)\n",
    "\n",
    "    # 累计 SSE（均方误差）\n",
    "    if i == 1:\n",
    "        SSE_model_cumsum.append(forecast_error ** 2)\n",
    "        SSE_historical_cumsum.append(historical_mean_error ** 2)\n",
    "    else:\n",
    "        SSE_model_cumsum.append(SSE_model_cumsum[-1] + forecast_error ** 2)\n",
    "        SSE_historical_cumsum.append(SSE_historical_cumsum[-1] + historical_mean_error ** 2)\n",
    "     # 记录当前时间步的结果\n",
    "    LASSO_result.append({\n",
    "        \"Date\": test_date,\n",
    "        \"ret_real\": float(realized),\n",
    "        \"ret_pred\": float(forecast),\n",
    "        \"historical_mean\": y_historical_mean.mean() * fwd_ret_period\n",
    "    })\n",
    "    #Iteration Results\n",
    "    model_stat = {\n",
    "        'train_end': train_end,\n",
    "        'calib_start': calib_start,\n",
    "        'calib_end': calib_end,\n",
    "        'test_date': test_date,\n",
    "        'best_alpha': best_alpha,\n",
    "        'forecast': forecast,\n",
    "        'realized': realized,\n",
    "        'calib_error': least_error,\n",
    "        \n",
    "    }\n",
    "    coeff_stat = pd.Series(final_model.coef_,index=X.columns).to_dict()\n",
    "    model_stat.update(coeff_stat)\n",
    "\n",
    "    results.append(model_stat)\n",
    "    results_df = pd.DataFrame(results)\n",
    "\n",
    "    \n",
    "    #expand the windows for next interation\n",
    "    #train - calibrate - test split\n",
    "    train_end = train_end + pd.offsets.MonthEnd(1) #Expand 1 month\n",
    "    calib_start = calib_start + pd.offsets.MonthEnd(1)  #Slide 1 month\n",
    "    calib_end = test_date                              #Slide 1 month (i.e. previous test date)\n",
    "    test_date = test_date + pd.offsets.MonthEnd(1) #Slide to next month for prediction\n",
    "    \n",
    "    \"\"\"\n",
    "    print(\"\\nNext training combination....\")\n",
    "    print(\"train_end:\", train_end )\n",
    "    print(\"calib_start:\", calib_start)\n",
    "    print(\"calib_end:\", calib_end)\n",
    "    print(\"test_date:\", test_date)\n",
    "    \"\"\"\n",
    "    \n",
    "    i = i+1\n",
    "    pbar.set_description(f\"Rolling Window Iterations: {i}/{Y.loc[test_date:].shape[0]}\")\n",
    "    pbar.update(1)\n",
    "\n",
    "\n",
    "pbar.close()\n",
    "\n",
    "results_df = pd.DataFrame(results)\n"
   ]
  },
  {
   "cell_type": "code",
   "outputs": [],
   "source": [
    "LASSO_result=pd.DataFrame(LASSO_result)\n",
    "LASSO_result"
   ],
   "metadata": {
    "collapsed": false
   },
   "execution_count": null
  },
  {
   "cell_type": "code",
   "outputs": [],
   "source": [
    "results_df"
   ],
   "metadata": {
    "collapsed": false,
    "ExecuteTime": {
     "end_time": "2025-02-18T14:20:33.027573Z",
     "start_time": "2025-02-18T14:20:33.026573Z"
    }
   },
   "execution_count": null
  },
  {
   "cell_type": "code",
   "execution_count": null,
   "metadata": {
    "ExecuteTime": {
     "end_time": "2025-02-18T14:20:33.028573Z",
     "start_time": "2025-02-18T14:20:33.027573Z"
    }
   },
   "outputs": [],
   "source": [
    "Y.columns"
   ]
  },
  {
   "cell_type": "code",
   "execution_count": null,
   "metadata": {
    "ExecuteTime": {
     "start_time": "2025-02-18T14:20:33.029573Z"
    }
   },
   "outputs": [],
   "source": [
    "results_df.to_excel(\"GC1_3M_x1(std)x2(std)_lasso.xlsx\")\n",
    "\n",
    "results_df"
   ]
  },
  {
   "cell_type": "markdown",
   "metadata": {},
   "source": [
    "### 5 - Establish and Train Model - Part 2: Random Forest Study"
   ]
  },
  {
   "cell_type": "markdown",
   "metadata": {},
   "source": [
    "##### **<font color= #90EE90>5.1 Sicheng Change Title Here ... </font>**"
   ]
  },
  {
   "cell_type": "code",
   "outputs": [],
   "source": [
    "training_start_date=pd.to_datetime(results_df['test_date'].iloc[0])\n",
    "# Convert 'test_date' column to datetime type and set it as index\n",
    "results_df[\"test_date\"] = pd.to_datetime(results_df[\"test_date\"])\n",
    "results_df.set_index(\"test_date\", inplace=True)\n",
    "\n",
    "# Get the index position of 'calib_error' column\n",
    "calib_error_index = results_df.columns.get_loc(\"calib_error\")\n",
    "\n",
    "# Extract all columns after 'calib_error'\n",
    "LASSO_features_df = results_df.iloc[:, calib_error_index + 1:]\n",
    "LASSO_features_df.replace(0, pd.NA, inplace=True)\n",
    "LASSO_features_df"
   ],
   "metadata": {
    "collapsed": false,
    "ExecuteTime": {
     "end_time": "2025-02-18T14:20:33.032574Z",
     "start_time": "2025-02-18T14:20:33.031573Z"
    }
   },
   "execution_count": null
  },
  {
   "cell_type": "code",
   "outputs": [],
   "source": [
    "Y"
   ],
   "metadata": {
    "collapsed": false,
    "ExecuteTime": {
     "end_time": "2025-02-18T14:20:33.033573Z",
     "start_time": "2025-02-18T14:20:33.033573Z"
    }
   },
   "execution_count": null
  },
  {
   "cell_type": "code",
   "outputs": [],
   "source": [
    "index_position = Y.index.get_loc(training_start_date)\n",
    "index_position"
   ],
   "metadata": {
    "collapsed": false,
    "ExecuteTime": {
     "start_time": "2025-02-18T14:20:33.034573Z"
    }
   },
   "execution_count": null
  },
  {
   "cell_type": "code",
   "execution_count": null,
   "metadata": {
    "ExecuteTime": {
     "start_time": "2025-02-18T14:20:33.035573Z"
    }
   },
   "outputs": [],
   "source": [
    "from tqdm import tqdm\n",
    "import numpy as np\n",
    "import pandas as pd\n",
    "import statsmodels.api as sm\n",
    "import matplotlib.pyplot as plt\n",
    "from sklearn.model_selection import TimeSeriesSplit\n",
    "from sklearn.linear_model import LassoCV\n",
    "from sklearn.preprocessing import RobustScaler\n",
    "from sklearn.ensemble import RandomForestRegressor\n",
    "import warnings\n",
    "warnings.filterwarnings(\"ignore\")\n",
    "from xgboost import XGBRegressor\n",
    "from sklearn.svm import SVR\n",
    "from sklearn.metrics import mean_squared_error, r2_score\n",
    "\n",
    "# **Expanding Window 回归**\n",
    "#start_train = 100  # 初始训练数据量\n",
    "fwd_ret_period=6\n",
    "# y=gc_data[f\"GC1_{fwd_ret_period}M_Fwd_Ret\"].dropna(how=\"all\")\n",
    "y_historical_mean_data=gc_data[f'GC{type}_Monthly_Excess_Return'].loc[Y.index].dropna(how='all')\n",
    "\n",
    "# 记录 SSE 累计误差\n",
    "SSE_model_cumsum = []\n",
    "SSE_historical_cumsum = []\n",
    "# 存储每个时间步的特征重要性\n",
    "feature_importance_per_step = []\n",
    "# 选择机器学习模型（可以切换）\n",
    "# model = XGBRegressor(objective='reg:squarederror', n_estimators=100, random_state=42)  # XGBoost\n",
    "model = RandomForestRegressor(n_estimators=100, random_state=42,max_depth=10,min_samples_split=5,max_features=0.6)  # 随机森林\n",
    "\n",
    "# 存储每个时间步的预测值、历史均值误差和真实值\n",
    "forest_results = []\n",
    "# Get the index position\n",
    "index_position = Y.index.get_loc(training_start_date)\n",
    "# 存储模型的统计结果\n",
    "model_summaries = []\n",
    "for t in tqdm(range(index_position, n_obs - 1), desc=f\"Processing\"):\n",
    "    # 使用当前时间 t 之前的所有数据进行训练\n",
    "    X_train = X.iloc[:t]\n",
    "    y_train = Y.iloc[:t]\n",
    "    y_historical_mean = y_historical_mean_data.iloc[:t]\n",
    "\n",
    "    # 预测下一步 t+1\n",
    "    X_test = X.iloc[t:t+1]\n",
    "    y_test = Y.iloc[t:t+1]\n",
    "    y_test = y_test.iloc[0]\n",
    "    # 训练集的结束点\n",
    "    current_date = Y.index[t]\n",
    "\n",
    "    # 识别 LASSO 选择的变量（不为 NA 的列）\n",
    "    selected_features = LASSO_features_df.loc[current_date].dropna().index.tolist()\n",
    "    # 仅保留 LASSO 选择的变量\n",
    "    if len(selected_features) > 0:\n",
    "        X_train_selected = X_train[selected_features]\n",
    "        X_test_selected = X_test[selected_features]\n",
    "\n",
    "        # 训练机器学习回归模型\n",
    "        model.fit(X_train_selected, y_train)\n",
    "        y_pred = model.predict(X_test_selected)[0]  # 获取单个预测值\n",
    "        # 获取特征重要性\n",
    "        if hasattr(model, \"feature_importances_\"):  # 适用于随机森林、XGBoost\n",
    "            feature_importance = model.feature_importances_\n",
    "        else:\n",
    "            # 使用 statsmodels 重新拟合以获取系数\n",
    "            X_train_sm = sm.add_constant(X_train_selected)\n",
    "            ols_model = sm.OLS(y_train, X_train_sm).fit()\n",
    "            feature_importance = ols_model.params[1:].values  # 跳过截距项\n",
    "\n",
    "        # 记录当前时间步的特征重要性\n",
    "        feature_importance_per_step.append(dict(zip(selected_features, feature_importance)))\n",
    "        # 计算策略预测误差 f_t+1\n",
    "        forecast_error = float(y_test - y_pred)\n",
    "    else:\n",
    "        # 如果 LASSO 没有选择任何变量，则使用历史均值进行预测\n",
    "        forecast_error = float(y_test - y_historical_mean.mean() * fwd_ret_period)\n",
    "\n",
    "    # 计算历史均值预测误差 m_t+1\n",
    "    historical_mean_error = float(y_test - y_historical_mean.mean() * fwd_ret_period)\n",
    "\n",
    "    # 累计 SSE（均方误差）\n",
    "    if t == index_position:\n",
    "        SSE_model_cumsum.append(forecast_error ** 2)\n",
    "        SSE_historical_cumsum.append(historical_mean_error ** 2)\n",
    "    else:\n",
    "        SSE_model_cumsum.append(SSE_model_cumsum[-1] + forecast_error ** 2)\n",
    "        SSE_historical_cumsum.append(SSE_historical_cumsum[-1] + historical_mean_error ** 2)\n",
    "     # 记录当前时间步的结果\n",
    "    forest_results.append({\n",
    "        \"Date\": Y.index[t],\n",
    "        \"ret_real\": float(y_test),\n",
    "        \"ret_pred\": float(y_pred),\n",
    "        \"historical_mean\": y_historical_mean.mean() * fwd_ret_period\n",
    "    })\n",
    "forest_results=pd.DataFrame(forest_results)\n",
    "\n",
    "# **计算 ΔRMSE 随时间的变化**\n",
    "delta_RMSE_series = np.sqrt(np.array(SSE_historical_cumsum) / len(SSE_historical_cumsum) + 1) - \\\n",
    "                    np.sqrt(np.array(SSE_model_cumsum) / len(SSE_model_cumsum) + 1)\n",
    "# **转换特征重要性 DataFrame**\n",
    "df_feature_importance_per_step = pd.DataFrame(feature_importance_per_step)\n",
    "\n",
    "# **计算特征在所有时间步的重要性均值**\n",
    "df_feature_avg_importance = df_feature_importance_per_step.mean().reset_index()\n",
    "df_feature_avg_importance.columns = [\"Feature\", \"Avg Importance\"]\n",
    "# **计算模型的整体统计信息**\n",
    "y_pred_all = model.predict(X_train_selected)\n",
    "\n",
    "\n",
    "# 提取特征重要性\n",
    "if hasattr(model, \"feature_importances_\"):\n",
    "    feature_importance = dict(zip(X_train_selected.columns, model.feature_importances_))\n",
    "elif isinstance(model, XGBRegressor):\n",
    "    feature_importance = model.get_booster().get_score(importance_type='weight')\n",
    "else:\n",
    "    feature_importance = \"N/A\"\n",
    "\n",
    "# **绘制 ΔRMSE**\n",
    "plt.figure(figsize=(10, 5))\n",
    "plt.plot(Y.index[index_position:n_obs - 1], delta_RMSE_series, label=\"ΔRMSE (Historical Mean - Strategy)\", color='blue')\n",
    "\n",
    "plt.xlabel(\"Time (Index of y)\")\n",
    "plt.ylabel(\"ΔRMSE\")\n",
    "plt.title(\"ΔRMSE: Strategy vs Historical Mean Benchmark\")\n",
    "plt.axhline(y=0, color='black', linestyle='--', linewidth=0.8)  # 添加零基准线\n",
    "plt.legend()\n",
    "plt.show()\n",
    "\n"
   ]
  },
  {
   "cell_type": "code",
   "outputs": [],
   "source": [
    "forest_results"
   ],
   "metadata": {
    "collapsed": false,
    "ExecuteTime": {
     "end_time": "2025-02-18T14:20:33.036573Z",
     "start_time": "2025-02-18T14:20:33.036573Z"
    }
   },
   "execution_count": null
  },
  {
   "cell_type": "code",
   "outputs": [],
   "source": [
    "gc_data"
   ],
   "metadata": {
    "collapsed": false,
    "ExecuteTime": {
     "end_time": "2025-02-18T14:20:33.037573Z",
     "start_time": "2025-02-18T14:20:33.037573Z"
    }
   },
   "execution_count": null
  },
  {
   "cell_type": "code",
   "outputs": [
    {
     "name": "stdout",
     "output_type": "stream",
     "text": [
      "Date\n",
      "1996-01-31   -0.044826\n",
      "1996-02-29   -0.073459\n",
      "1996-03-31   -0.060648\n",
      "1996-04-30   -0.074414\n",
      "1996-05-31   -0.065091\n",
      "                ...   \n",
      "2024-06-30    0.107645\n",
      "2024-07-31    0.095364\n",
      "2024-08-31         NaN\n",
      "2024-09-30         NaN\n",
      "2024-10-31         NaN\n",
      "Name: GC1_6M_Fwd_Ret, Length: 346, dtype: float64\n",
      "Date\n",
      "1996-01-31   -0.044826\n",
      "1996-02-29   -0.073459\n",
      "1996-03-31   -0.060648\n",
      "1996-04-30   -0.074414\n",
      "1996-05-31   -0.065091\n",
      "                ...   \n",
      "2024-06-30    0.107645\n",
      "2024-07-31    0.095364\n",
      "2024-08-31         NaN\n",
      "2024-09-30         NaN\n",
      "2024-10-31         NaN\n",
      "Name: GC1_6M_Fwd_Ret, Length: 346, dtype: float64\n",
      "Date\n",
      "1996-01-31   -0.044826\n",
      "1996-02-29   -0.073459\n",
      "1996-03-31   -0.060648\n",
      "1996-04-30   -0.074414\n",
      "1996-05-31   -0.065091\n",
      "                ...   \n",
      "2024-06-30    0.107645\n",
      "2024-07-31    0.095364\n",
      "2024-08-31         NaN\n",
      "2024-09-30         NaN\n",
      "2024-10-31         NaN\n",
      "Name: GC1_6M_Fwd_Ret, Length: 346, dtype: float64\n",
      "Date\n",
      "1996-01-31   -0.044826\n",
      "1996-02-29   -0.073459\n",
      "1996-03-31   -0.060648\n",
      "1996-04-30   -0.074414\n",
      "1996-05-31   -0.065091\n",
      "                ...   \n",
      "2024-06-30    0.107645\n",
      "2024-07-31    0.095364\n",
      "2024-08-31         NaN\n",
      "2024-09-30         NaN\n",
      "2024-10-31         NaN\n",
      "Name: GC1_6M_Fwd_Ret, Length: 346, dtype: float64\n"
     ]
    },
    {
     "data": {
      "text/plain": "<Figure size 1000x600 with 1 Axes>",
      "image/png": "[encoded data removed]"
     },
     "metadata": {},
     "output_type": "display_data"
    },
    {
     "ename": "KeyError",
     "evalue": "'cumulative_buy_and_hold'",
     "output_type": "error",
     "traceback": [
      "\u001B[1;31m---------------------------------------------------------------------------\u001B[0m",
      "\u001B[1;31mKeyError\u001B[0m                                  Traceback (most recent call last)",
      "File \u001B[1;32m~\\AppData\\Local\\Programs\\Python\\Python312\\Lib\\site-packages\\pandas\\core\\indexes\\base.py:3805\u001B[0m, in \u001B[0;36mIndex.get_loc\u001B[1;34m(self, key)\u001B[0m\n\u001B[0;32m   3804\u001B[0m \u001B[38;5;28;01mtry\u001B[39;00m:\n\u001B[1;32m-> 3805\u001B[0m     \u001B[38;5;28;01mreturn\u001B[39;00m \u001B[38;5;28;43mself\u001B[39;49m\u001B[38;5;241;43m.\u001B[39;49m\u001B[43m_engine\u001B[49m\u001B[38;5;241;43m.\u001B[39;49m\u001B[43mget_loc\u001B[49m\u001B[43m(\u001B[49m\u001B[43mcasted_key\u001B[49m\u001B[43m)\u001B[49m\n\u001B[0;32m   3806\u001B[0m \u001B[38;5;28;01mexcept\u001B[39;00m \u001B[38;5;167;01mKeyError\u001B[39;00m \u001B[38;5;28;01mas\u001B[39;00m err:\n",
      "File \u001B[1;32mindex.pyx:167\u001B[0m, in \u001B[0;36mpandas._libs.index.IndexEngine.get_loc\u001B[1;34m()\u001B[0m\n",
      "File \u001B[1;32mindex.pyx:196\u001B[0m, in \u001B[0;36mpandas._libs.index.IndexEngine.get_loc\u001B[1;34m()\u001B[0m\n",
      "File \u001B[1;32mpandas\\\\_libs\\\\hashtable_class_helper.pxi:7081\u001B[0m, in \u001B[0;36mpandas._libs.hashtable.PyObjectHashTable.get_item\u001B[1;34m()\u001B[0m\n",
      "File \u001B[1;32mpandas\\\\_libs\\\\hashtable_class_helper.pxi:7089\u001B[0m, in \u001B[0;36mpandas._libs.hashtable.PyObjectHashTable.get_item\u001B[1;34m()\u001B[0m\n",
      "\u001B[1;31mKeyError\u001B[0m: 'cumulative_buy_and_hold'",
      "\nThe above exception was the direct cause of the following exception:\n",
      "\u001B[1;31mKeyError\u001B[0m                                  Traceback (most recent call last)",
      "Cell \u001B[1;32mIn[344], line 94\u001B[0m\n\u001B[0;32m     92\u001B[0m     plt\u001B[38;5;241m.\u001B[39mshow()\n\u001B[0;32m     93\u001B[0m     \u001B[38;5;66;03m# print(performance_metrics)\u001B[39;00m\n\u001B[1;32m---> 94\u001B[0m \u001B[43mtrading_plot\u001B[49m\u001B[43m(\u001B[49m\u001B[43mLASSO_result\u001B[49m\u001B[43m)\u001B[49m\n",
      "Cell \u001B[1;32mIn[344], line 84\u001B[0m, in \u001B[0;36mtrading_plot\u001B[1;34m(learning_result, transaction_cost, benchmark_bp)\u001B[0m\n\u001B[0;32m     82\u001B[0m     plt\u001B[38;5;241m.\u001B[39mplot(long_result\u001B[38;5;241m.\u001B[39mindex, long_result[\u001B[38;5;124mf\u001B[39m\u001B[38;5;124m\"\u001B[39m\u001B[38;5;124mcumulative_strategy_\u001B[39m\u001B[38;5;132;01m{\u001B[39;00m\u001B[38;5;28mint\u001B[39m(tc\u001B[38;5;241m*\u001B[39m\u001B[38;5;241m10000\u001B[39m)\u001B[38;5;132;01m}\u001B[39;00m\u001B[38;5;124mbp\u001B[39m\u001B[38;5;124m\"\u001B[39m], label\u001B[38;5;241m=\u001B[39m\u001B[38;5;124mf\u001B[39m\u001B[38;5;124m\"\u001B[39m\u001B[38;5;124mStrategy Return_\u001B[39m\u001B[38;5;132;01m{\u001B[39;00m\u001B[38;5;28mint\u001B[39m(tc\u001B[38;5;241m*\u001B[39m\u001B[38;5;241m10000\u001B[39m)\u001B[38;5;132;01m}\u001B[39;00m\u001B[38;5;124mbp\u001B[39m\u001B[38;5;124m\"\u001B[39m, linewidth\u001B[38;5;241m=\u001B[39m\u001B[38;5;241m2\u001B[39m)\n\u001B[0;32m     83\u001B[0m plt\u001B[38;5;241m.\u001B[39mplot(long_result\u001B[38;5;241m.\u001B[39mindex, long_result[\u001B[38;5;124m\"\u001B[39m\u001B[38;5;124mcumulative_benchmark\u001B[39m\u001B[38;5;124m\"\u001B[39m], label\u001B[38;5;241m=\u001B[39m\u001B[38;5;124mf\u001B[39m\u001B[38;5;124m\"\u001B[39m\u001B[38;5;124mBenchmark Return_\u001B[39m\u001B[38;5;132;01m{\u001B[39;00m\u001B[38;5;28mint\u001B[39m(benchmark_bp\u001B[38;5;241m*\u001B[39m\u001B[38;5;241m10000\u001B[39m)\u001B[38;5;132;01m}\u001B[39;00m\u001B[38;5;124mbp\u001B[39m\u001B[38;5;124m\"\u001B[39m, linestyle\u001B[38;5;241m=\u001B[39m\u001B[38;5;124m\"\u001B[39m\u001B[38;5;124m--\u001B[39m\u001B[38;5;124m\"\u001B[39m, linewidth\u001B[38;5;241m=\u001B[39m\u001B[38;5;241m2\u001B[39m)\n\u001B[1;32m---> 84\u001B[0m plt\u001B[38;5;241m.\u001B[39mplot(long_result\u001B[38;5;241m.\u001B[39mindex, \u001B[43mlearning_result\u001B[49m\u001B[43m[\u001B[49m\u001B[38;5;124;43m\"\u001B[39;49m\u001B[38;5;124;43mcumulative_buy_and_hold\u001B[39;49m\u001B[38;5;124;43m\"\u001B[39;49m\u001B[43m]\u001B[49m, label\u001B[38;5;241m=\u001B[39m\u001B[38;5;124m\"\u001B[39m\u001B[38;5;124mBuy & Hold Return\u001B[39m\u001B[38;5;124m\"\u001B[39m, linestyle\u001B[38;5;241m=\u001B[39m\u001B[38;5;124m\"\u001B[39m\u001B[38;5;124m:\u001B[39m\u001B[38;5;124m\"\u001B[39m, linewidth\u001B[38;5;241m=\u001B[39m\u001B[38;5;241m4\u001B[39m)\n\u001B[0;32m     86\u001B[0m plt\u001B[38;5;241m.\u001B[39mxlabel(\u001B[38;5;124m\"\u001B[39m\u001B[38;5;124mDate\u001B[39m\u001B[38;5;124m\"\u001B[39m)\n\u001B[0;32m     87\u001B[0m plt\u001B[38;5;241m.\u001B[39mylabel(\u001B[38;5;124m\"\u001B[39m\u001B[38;5;124mCumulative Return\u001B[39m\u001B[38;5;124m\"\u001B[39m)\n",
      "File \u001B[1;32m~\\AppData\\Local\\Programs\\Python\\Python312\\Lib\\site-packages\\pandas\\core\\frame.py:4102\u001B[0m, in \u001B[0;36mDataFrame.__getitem__\u001B[1;34m(self, key)\u001B[0m\n\u001B[0;32m   4100\u001B[0m \u001B[38;5;28;01mif\u001B[39;00m \u001B[38;5;28mself\u001B[39m\u001B[38;5;241m.\u001B[39mcolumns\u001B[38;5;241m.\u001B[39mnlevels \u001B[38;5;241m>\u001B[39m \u001B[38;5;241m1\u001B[39m:\n\u001B[0;32m   4101\u001B[0m     \u001B[38;5;28;01mreturn\u001B[39;00m \u001B[38;5;28mself\u001B[39m\u001B[38;5;241m.\u001B[39m_getitem_multilevel(key)\n\u001B[1;32m-> 4102\u001B[0m indexer \u001B[38;5;241m=\u001B[39m \u001B[38;5;28;43mself\u001B[39;49m\u001B[38;5;241;43m.\u001B[39;49m\u001B[43mcolumns\u001B[49m\u001B[38;5;241;43m.\u001B[39;49m\u001B[43mget_loc\u001B[49m\u001B[43m(\u001B[49m\u001B[43mkey\u001B[49m\u001B[43m)\u001B[49m\n\u001B[0;32m   4103\u001B[0m \u001B[38;5;28;01mif\u001B[39;00m is_integer(indexer):\n\u001B[0;32m   4104\u001B[0m     indexer \u001B[38;5;241m=\u001B[39m [indexer]\n",
      "File \u001B[1;32m~\\AppData\\Local\\Programs\\Python\\Python312\\Lib\\site-packages\\pandas\\core\\indexes\\base.py:3812\u001B[0m, in \u001B[0;36mIndex.get_loc\u001B[1;34m(self, key)\u001B[0m\n\u001B[0;32m   3807\u001B[0m     \u001B[38;5;28;01mif\u001B[39;00m \u001B[38;5;28misinstance\u001B[39m(casted_key, \u001B[38;5;28mslice\u001B[39m) \u001B[38;5;129;01mor\u001B[39;00m (\n\u001B[0;32m   3808\u001B[0m         \u001B[38;5;28misinstance\u001B[39m(casted_key, abc\u001B[38;5;241m.\u001B[39mIterable)\n\u001B[0;32m   3809\u001B[0m         \u001B[38;5;129;01mand\u001B[39;00m \u001B[38;5;28many\u001B[39m(\u001B[38;5;28misinstance\u001B[39m(x, \u001B[38;5;28mslice\u001B[39m) \u001B[38;5;28;01mfor\u001B[39;00m x \u001B[38;5;129;01min\u001B[39;00m casted_key)\n\u001B[0;32m   3810\u001B[0m     ):\n\u001B[0;32m   3811\u001B[0m         \u001B[38;5;28;01mraise\u001B[39;00m InvalidIndexError(key)\n\u001B[1;32m-> 3812\u001B[0m     \u001B[38;5;28;01mraise\u001B[39;00m \u001B[38;5;167;01mKeyError\u001B[39;00m(key) \u001B[38;5;28;01mfrom\u001B[39;00m \u001B[38;5;21;01merr\u001B[39;00m\n\u001B[0;32m   3813\u001B[0m \u001B[38;5;28;01mexcept\u001B[39;00m \u001B[38;5;167;01mTypeError\u001B[39;00m:\n\u001B[0;32m   3814\u001B[0m     \u001B[38;5;66;03m# If we have a listlike key, _check_indexing_error will raise\u001B[39;00m\n\u001B[0;32m   3815\u001B[0m     \u001B[38;5;66;03m#  InvalidIndexError. Otherwise we fall through and re-raise\u001B[39;00m\n\u001B[0;32m   3816\u001B[0m     \u001B[38;5;66;03m#  the TypeError.\u001B[39;00m\n\u001B[0;32m   3817\u001B[0m     \u001B[38;5;28mself\u001B[39m\u001B[38;5;241m.\u001B[39m_check_indexing_error(key)\n",
      "\u001B[1;31mKeyError\u001B[0m: 'cumulative_buy_and_hold'"
     ]
    },
    {
     "data": {
      "text/plain": "<Figure size 1000x600 with 1 Axes>",
      "image/png": "[encoded data removed]"
     },
     "metadata": {},
     "output_type": "display_data"
    }
   ],
   "source": [
    "#### WIP: Below is the code to compare strategy performance, it's not good to use yet, has some bugs\n",
    "transaction_cost=[0,0.002,0.004,0.01]\n",
    "benchmark_bp=0.000\n",
    "def trading_plot(learning_result,transaction_cost=[0,0.002,0.004,0.01],benchmark_bp=0.000):\n",
    "    long_short_result=pd.DataFrame(learning_result)\n",
    "    # Check if \"Date\" is already the index, if not, set it as index\n",
    "    if \"Date\" in long_short_result.columns:\n",
    "        long_short_result.set_index(\"Date\", inplace=True)\n",
    "    for tc in transaction_cost:\n",
    "        # 计算策略回报\n",
    "        # 获取匹配的权重值\n",
    "        matching_ret = gc_data.loc[long_short_result.index, f\"{GC_type}_{fwd_ret_period}M_Fwd_Ret\"]\n",
    "        \n",
    "        # 计算策略回报\n",
    "        long_short_result[f\"strategy_return_{int(tc*10000)}bp\"] = (\n",
    "            matching_ret / fwd_ret_period * long_short_result[\"ret_pred\"].apply(lambda x: 1 if x > 0 else -1) - tc\n",
    "        )\n",
    "        print(matching_ret)\n",
    "        # long_short_result[f\"strategy_return_{int(tc*10000)}bp\"] = long_short_result[\"ret_real\"]/fwd_ret_period * long_short_result[\"ret_pred\"].apply(lambda x: 1 if x > 0 else -1)-tc\n",
    "        long_short_result[f\"cumulative_strategy_{int(tc*10000)}bp\"] = np.exp(long_short_result[f\"strategy_return_{int(tc*10000)}bp\"].cumsum())\n",
    "    \n",
    "    \n",
    "    # 计算基准回报\n",
    "    long_short_result[\"benchmark_return\"] = long_short_result[\"ret_real\"]/fwd_ret_period * long_short_result[\"historical_mean\"].apply(lambda x: 1 if x > 0 else -1)-benchmark_bp\n",
    "    \n",
    "    # 计算买入持有回报\n",
    "    long_short_result[\"buy_and_hold_return\"] = gc_data[f\"{GC_type}_Monthly_raw_Return\"].loc[long_short_result.index]\n",
    "    \n",
    "    # 计算累积收益\n",
    "    long_short_result[\"cumulative_benchmark\"] = np.exp(long_short_result[\"benchmark_return\"].cumsum())\n",
    "    long_short_result[\"cumulative_buy_and_hold\"] = np.exp(long_short_result[\"buy_and_hold_return\"].cumsum())\n",
    "    \n",
    "    # 绘制收益曲线\n",
    "    plt.figure(figsize=(10, 6))\n",
    "    for tc in transaction_cost:\n",
    "        plt.plot(long_short_result.index, long_short_result[f\"cumulative_strategy_{int(tc*10000)}bp\"], label=f\"Strategy Return_{int(tc*10000)}bp\", linewidth=2)\n",
    "    plt.plot(long_short_result.index, long_short_result[\"cumulative_benchmark\"], label=f\"Benchmark Return_{int(benchmark_bp*10000)}bp\", linestyle=\"--\", linewidth=2)\n",
    "    plt.plot(long_short_result.index, long_short_result[\"cumulative_buy_and_hold\"], label=\"Buy & Hold Return\", linestyle=\":\", linewidth=4)\n",
    "    \n",
    "    plt.xlabel(\"Date\")\n",
    "    plt.ylabel(\"Cumulative Return\")\n",
    "    plt.title(\"Trading Strategy vs Benchmark vs Buy & Hold (no short constraint)\")\n",
    "    plt.legend()\n",
    "    plt.grid()\n",
    "    plt.xticks(rotation=45)\n",
    "    plt.show()\n",
    "    long_result=pd.DataFrame(learning_result)\n",
    "    if \"Date\" in long_result.columns:\n",
    "        long_result.set_index(\"Date\", inplace=True)\n",
    "    for tc in transaction_cost:\n",
    "        # 计算策略回报\n",
    "        matching_ret = gc_data.loc[long_result.index, f\"{GC_type}_{fwd_ret_period}M_Fwd_Ret\"].fillna(0)\n",
    "    \n",
    "        # 处理预测信号，避免除以 0\n",
    "        pred_signals = long_result[\"ret_pred\"].apply(lambda x: 1 if x > 0 else np.nan)  # 让非多头变成 NaN\n",
    "        \n",
    "        # 计算策略回报\n",
    "        long_result[f\"strategy_return_{int(tc*10000)}bp\"] = (matching_ret / fwd_ret_period * pred_signals - tc).fillna(0)\n",
    "        # matching_ret = gc_data.loc[long_result.index, f\"{GC_type}_{fwd_ret_period}M_Fwd_Ret\"]\n",
    "        # \n",
    "        # # 计算策略回报\n",
    "        # long_result[f\"strategy_return_{int(tc*10000)}bp\"] = (\n",
    "        #     matching_ret / (fwd_ret_period * long_result[\"ret_pred\"].apply(lambda x: 1 if x > 0 else 0)).apply(lambda x:x-tc if x!=0 else x)\n",
    "        # )\n",
    "        # long_result[f\"strategy_return_{int(tc*10000)}bp\"] = (long_result[\"ret_real\"]/fwd_ret_period * long_result[\"ret_pred\"].apply(lambda x: 1 if x > 0 else 0)).apply(lambda x:x-tc if x!=0 else x)\n",
    "        long_result[f\"cumulative_strategy_{int(tc*10000)}bp\"] = np.exp(long_result[f\"strategy_return_{int(tc*10000)}bp\"].cumsum())\n",
    "    \n",
    "    \n",
    "    # 计算基准回报\n",
    "    long_result[\"benchmark_return\"] = long_result[\"ret_real\"]/fwd_ret_period * long_result[\"historical_mean\"].apply(lambda x: 1 if x > 0 else -1)-benchmark_bp\n",
    "    \n",
    "    # 计算买入持有回报\n",
    "    long_result[\"buy_and_hold_return\"] = gc_data[f\"{GC_type}_Monthly_raw_Return\"].loc[long_result.index]\n",
    "    \n",
    "    # 计算累积收益\n",
    "    long_result[\"cumulative_benchmark\"] = np.exp(long_result[\"benchmark_return\"].cumsum())\n",
    "    long_result[\"cumulative_buy_and_hold\"] = np.exp(long_result[\"buy_and_hold_return\"].cumsum())\n",
    "    \n",
    "    # 绘制收益曲线\n",
    "    plt.figure(figsize=(10, 6))\n",
    "    for tc in transaction_cost:\n",
    "        plt.plot(long_result.index, long_result[f\"cumulative_strategy_{int(tc*10000)}bp\"], label=f\"Strategy Return_{int(tc*10000)}bp\", linewidth=2)\n",
    "    plt.plot(long_result.index, long_result[\"cumulative_benchmark\"], label=f\"Benchmark Return_{int(benchmark_bp*10000)}bp\", linestyle=\"--\", linewidth=2)\n",
    "    plt.plot(long_result.index, learning_result[\"cumulative_buy_and_hold\"], label=\"Buy & Hold Return\", linestyle=\":\", linewidth=4)\n",
    "    \n",
    "    plt.xlabel(\"Date\")\n",
    "    plt.ylabel(\"Cumulative Return\")\n",
    "    plt.title(\"Trading Strategy vs Benchmark vs Buy & Hold (long only)\")\n",
    "    plt.legend()\n",
    "    plt.grid()\n",
    "    plt.xticks(rotation=45)\n",
    "    plt.show()\n",
    "    # print(performance_metrics)\n",
    "trading_plot(LASSO_result)"
   ],
   "metadata": {
    "collapsed": false,
    "ExecuteTime": {
     "end_time": "2025-02-17T20:36:43.672765Z",
     "start_time": "2025-02-17T20:36:43.260106Z"
    }
   },
   "execution_count": 344
  },
  {
   "cell_type": "code",
   "outputs": [],
   "source": [
    "# 计算指标\n",
    "performance_metrics = []\n",
    "\n",
    "def calculate_sharpe_ratio(returns, risk_free_rate=0):\n",
    "    \"\"\" 计算夏普率 \"\"\"\n",
    "    excess_returns = returns - risk_free_rate\n",
    "    return excess_returns.mean() / excess_returns.std() if excess_returns.std() != 0 else np.nan\n",
    "\n",
    "def calculate_max_drawdown(cumulative_returns):\n",
    "    \"\"\" 计算最大回撤 \"\"\"\n",
    "    peak   = np.maximum.accumulate(cumulative_returns)\n",
    "    drawdown = (cumulative_returns - peak) / peak\n",
    "    return drawdown.min()\n",
    "\n",
    "for tc in transaction_cost:\n",
    "    col_name_return = f\"strategy_return_{int(tc*10000)}bp\"\n",
    "    col_name_cum = f\"cumulative_strategy_{int(tc*10000)}bp\"\n",
    "\n",
    "    final_net_value = forest_results[col_name_cum].iloc[-1]\n",
    "    annualized_return = forest_results[col_name_return].mean() * 12\n",
    "    sharpe_ratio = calculate_sharpe_ratio(forest_results[col_name_return])\n",
    "    max_drawdown = calculate_max_drawdown(forest_results[col_name_cum])\n",
    "    \n",
    "    performance_metrics.append([\"Strategy\", f\"{int(tc*10000)}bp\", final_net_value, annualized_return, sharpe_ratio, max_drawdown])\n",
    "\n",
    "# 计算基准策略的绩效\n",
    "final_net_value_benchmark = forest_results[\"cumulative_benchmark\"].iloc[-1]\n",
    "annualized_return_benchmark = forest_results[\"benchmark_return\"].mean() * 12\n",
    "sharpe_ratio_benchmark = calculate_sharpe_ratio(forest_results[\"benchmark_return\"])\n",
    "max_drawdown_benchmark = calculate_max_drawdown(forest_results[\"cumulative_benchmark\"])\n",
    "performance_metrics.append([\"Benchmark\", f\"{int(benchmark_bp*10000)}bp\", final_net_value_benchmark, annualized_return_benchmark, sharpe_ratio_benchmark, max_drawdown_benchmark])\n",
    "\n",
    "# 计算买入持有策略的绩效\n",
    "final_net_value_bh = forest_results[\"cumulative_buy_and_hold\"].iloc[-1]\n",
    "annualized_return_bh = forest_results[\"buy_and_hold_return\"].mean() * 12\n",
    "sharpe_ratio_bh = calculate_sharpe_ratio(forest_results[\"buy_and_hold_return\"])\n",
    "max_drawdown_bh = calculate_max_drawdown(forest_results[\"cumulative_buy_and_hold\"])\n",
    "performance_metrics.append([\"Buy & Hold\", \"-\", final_net_value_bh, annualized_return_bh, sharpe_ratio_bh, max_drawdown_bh])\n",
    "\n",
    "# 创建结果 DataFrame\n",
    "performance_df = pd.DataFrame(performance_metrics, columns=[\"Strategy\", \"Transaction Cost\", \"Final Net Value\", \"Annualized Return\", \"Sharpe Ratio\", \"Max Drawdown\"])\n",
    "\n",
    "performance_df"
   ],
   "metadata": {
    "collapsed": false
   }
  },
  {
   "cell_type": "markdown",
   "metadata": {},
   "source": [
    "-----"
   ]
  },
  {
   "cell_type": "markdown",
   "metadata": {},
   "source": [
    "## Placeholder"
   ]
  },
  {
   "cell_type": "code",
   "execution_count": null,
   "metadata": {
    "ExecuteTime": {
     "end_time": "2025-02-17T18:36:12.733016Z",
     "start_time": "2025-02-17T18:36:12.732015Z"
    }
   },
   "outputs": [],
   "source": [
    "# **Expanding Window 回归**\n",
    "start_train = 100   #amount of training datapoints in the beginning 初始训练数据量\n",
    "\n",
    "# LASSO Regularization\n",
    "scaler = StandardScaler() #standarized by z score\n",
    "X_scaled = pd.DataFrame(scaler.fit_transform(X), index=X.index, columns=X.columns)\n",
    "n_obs = len(Y)\n",
    "\n",
    "# 记录 SSE 累计误差\n",
    "SSE_model_cumsum = []\n",
    "SSE_historical_cumsum = []\n",
    "# 存储每个时间步的特征重要性\n",
    "feature_importance_per_step = []\n",
    "# 选择机器学习模型（可以切换）\n",
    "# model = XGBRegressor(objective='reg:squarederror', n_estimators=100, random_state=42)  # XGBoost\n",
    "model = RandomForestRegressor(n_estimators=100, random_state=42,max_depth=10,min_samples_split=5,max_features=0.6)  # 随机森林\n",
    "# model = SVR(kernel='rbf')  # 支持向量回归\n",
    "# 存储每个时间步的预测值、历史均值误差和真实值\n",
    "results = []\n",
    "\n",
    "# 存储模型的统计结果\n",
    "model_summaries = []"
   ]
  },
  {
   "cell_type": "markdown",
   "metadata": {},
   "source": [
    "## ___________________________"
   ]
  },
  {
   "cell_type": "markdown",
   "metadata": {},
   "source": [
    "## <font color=\"yellow\">Previous Work - Sicheng</font>"
   ]
  },
  {
   "cell_type": "markdown",
   "metadata": {},
   "source": [
    "### Placeholder"
   ]
  },
  {
   "cell_type": "markdown",
   "metadata": {},
   "source": [
    "##### **<font color= #90EE90>(Place holder) Split dataframe into X and Y</font>** "
   ]
  },
  {
   "cell_type": "code",
   "execution_count": null,
   "metadata": {
    "ExecuteTime": {
     "end_time": "2025-02-17T18:36:12.733090Z",
     "start_time": "2025-02-17T18:36:12.733090Z"
    }
   },
   "outputs": [],
   "source": [
    "# Separate Gold Price Futures Data\n",
    "import pandas as pd\n",
    "\n",
    "gc_data = combined_df_by_month.iloc[:, :32]\n",
    "x_variables_data = combined_df_by_month.iloc[:, 32:56]\n",
    "x_variables_data\n",
    "gc_data"
   ]
  },
  {
   "cell_type": "markdown",
   "metadata": {},
   "source": [
    "##### Sharpe Ratio"
   ]
  },
  {
   "cell_type": "code",
   "execution_count": null,
   "metadata": {
    "collapsed": false,
    "ExecuteTime": {
     "end_time": "2025-02-17T18:36:12.734162Z",
     "start_time": "2025-02-17T18:36:12.734162Z"
    }
   },
   "outputs": [],
   "source": [
    "# Ensure required columns exist before calculation\n",
    "required_cols = ['GC1_Monthly_Excess_Return', 'GC1_volatility', 'GC2_Monthly_Excess_Return', 'GC2_volatility']\n",
    "missing_cols = [col for col in required_cols if col not in gc_data.columns]\n",
    "if missing_cols:\n",
    "    raise ValueError(f\"Missing required columns in gc_data: {missing_cols}\")\n",
    "\n",
    "# Compute Sharpe ratios and store in gc_data\n",
    "gc_data['GC1_sharpe'] = gc_data['GC1_Monthly_Excess_Return']*12 / gc_data['GC1_volatility']\n",
    "gc_data['GC2_sharpe'] = gc_data['GC2_Monthly_Excess_Return']*12 / gc_data['GC2_volatility']\n",
    "gc_data"
   ]
  },
  {
   "cell_type": "code",
   "execution_count": null,
   "metadata": {
    "collapsed": false,
    "ExecuteTime": {
     "start_time": "2025-02-17T18:36:12.735232Z"
    }
   },
   "outputs": [],
   "source": [
    "# Consider lag in x regressors\n",
    "x_variables_data=x_variables_data.shift(1)\n",
    "x_variables_data[\"PCE CYOY Index\"]=x_variables_data[\"PCE CYOY Index\"].shift(1)\n",
    "x_variables_data[\"GDP_Nominoal_YOY\"]=x_variables_data[\"GDP_Nominoal_YOY\"].shift(1)\n",
    "x_variables_data[\"GDP_Real_QoQ\"]=x_variables_data[\"GDP_Real_QoQ\"].shift(1)\n",
    "x_variables_data[\"CPI_YoY\"]=x_variables_data[\"CPI_YoY\"].shift(1)\n",
    "x_variables_data[\"US_Unemp\"]=x_variables_data[\"US_Unemp\"].shift(1)\n",
    "x_variables_data[\"PPI\"]=x_variables_data[\"PPI\"].shift(1)\n",
    "x_variables_data"
   ]
  },
  {
   "cell_type": "markdown",
   "metadata": {},
   "source": [
    "##### **<font color= #90EE90>4.2 Train model</font>** "
   ]
  },
  {
   "cell_type": "markdown",
   "metadata": {
    "collapsed": false
   },
   "source": [
    "##### Below is the code to run individual OLS regression on Y, already stopped to use, use LASSO instead"
   ]
  },
  {
   "cell_type": "code",
   "execution_count": null,
   "metadata": {
    "collapsed": false,
    "ExecuteTime": {
     "start_time": "2025-02-17T18:36:12.735232Z"
    }
   },
   "outputs": [],
   "source": [
    "import numpy as np\n",
    "import pandas as pd\n",
    "import statsmodels.api as sm\n",
    "from sklearn.model_selection import TimeSeriesSplit\n",
    "\n",
    "# Ensure Date is datetime index\n",
    "gc_data.index = pd.to_datetime(gc_data.index, format='%Y-%m')\n",
    "x_variables_data.index = pd.to_datetime(x_variables_data.index, format='%Y-%m')\n",
    "\n",
    "# Ensure both DataFrames are sorted by date\n",
    "gc_data = gc_data.sort_index()\n",
    "x_variables_data = x_variables_data.sort_index()\n",
    "\n",
    "# Target variable \n",
    "y = gc_data['GC2_12M_Fwd_Ret'].dropna(how='all')\n",
    "\n",
    "# Predictor variables (all columns from x_variables_data)\n",
    "# Align predictor variables (X) to y's index\n",
    "X = x_variables_data.copy().loc[y.index]  # Only keep rows where y has data\n",
    "\n",
    "# Define number of folds\n",
    "n_splits = 10  \n",
    "\n",
    "# Dictionary to store statistics\n",
    "t_values = {col: [] for col in X.columns}\n",
    "p_values = {col: [] for col in X.columns}\n",
    "significant_counts = {col: 0 for col in X.columns}\n",
    "coefficients = {col: [] for col in X.columns}  # Store regression coefficients\n",
    "r2_values = {col: [] for col in X.columns}  # Store R² values\n",
    "\n",
    "# Iterate over each feature independently\n",
    "for feature in X.columns:\n",
    "    # Extract the specific feature column\n",
    "    X_feature = X[[feature]].dropna()  # Remove NaNs for this feature\n",
    "\n",
    "    # Align y with available X data\n",
    "    y_feature = y.loc[X_feature.index]\n",
    "\n",
    "    # Ensure at least `n_splits` * 2 data points exist\n",
    "    if len(X_feature) < n_splits * 2:\n",
    "        continue  # Skip this feature if not enough data points\n",
    "\n",
    "    # Define rolling window TimeSeriesSplit only for this feature's data range\n",
    "    tscv = TimeSeriesSplit(n_splits=n_splits)\n",
    "\n",
    "    # Perform rolling window time series validation\n",
    "    for train_idx, test_idx in tscv.split(X_feature):\n",
    "        X_train, X_test = X_feature.iloc[train_idx], X_feature.iloc[test_idx]\n",
    "        y_train, y_test = y_feature.iloc[train_idx], y_feature.iloc[test_idx]\n",
    "\n",
    "        # Skip if no valid training data\n",
    "        if len(X_train) == 0 or len(y_train) == 0:\n",
    "            continue\n",
    "\n",
    "        # Add intercept term\n",
    "        X_train_with_const = sm.add_constant(X_train)\n",
    "\n",
    "        # Fit OLS model\n",
    "        model = sm.OLS(y_train, X_train_with_const).fit()\n",
    "\n",
    "        # Extract regression results\n",
    "        coef = model.params[feature]\n",
    "        t_stat = model.tvalues[feature]\n",
    "        p_value = model.pvalues[feature]\n",
    "        r2 = model.rsquared\n",
    "\n",
    "        # Store results\n",
    "        coefficients[feature].append(coef)\n",
    "        t_values[feature].append(t_stat)\n",
    "        p_values[feature].append(p_value)\n",
    "        r2_values[feature].append(r2)\n",
    "\n",
    "        # If p-value < 0.05/len(X.columns), count as significant\n",
    "        if p_value < (0.05):  # Bonferroni correction\n",
    "            significant_counts[feature] += 1\n",
    "\n",
    "# Create a DataFrame to store regression results\n",
    "t_test_results = pd.DataFrame({\n",
    "    \"Mean_t_value\": {col: np.nanmean(np.abs(t_values[col])) for col in X.columns},  # Mean t-value\n",
    "    \"Mean_p_value\": {col: np.nanmean(p_values[col]) for col in X.columns},  # Mean p-value\n",
    "    \"Significant_fold_count\": significant_counts,  # Count of significant folds\n",
    "    \"Mean_coefficient\": {col: np.nanmean(coefficients[col]) for col in X.columns},  # Mean coefficient\n",
    "    \"Mean_R2\": {col: np.nanmean(r2_values[col]) for col in X.columns}  # Mean R² value\n",
    "})\n",
    "\n",
    "# Sort by significance count\n",
    "t_test_results = t_test_results.sort_values(by=\"Significant_fold_count\", ascending=False)\n",
    "t_test_results\n",
    "\n"
   ]
  },
  {
   "cell_type": "markdown",
   "metadata": {
    "collapsed": false
   },
   "source": [
    "##### Placeholder: This is to find out which variables is significant, stopped to use as well"
   ]
  },
  {
   "cell_type": "code",
   "execution_count": null,
   "metadata": {
    "collapsed": false,
    "ExecuteTime": {
     "start_time": "2025-02-17T18:36:12.736388Z"
    }
   },
   "outputs": [],
   "source": [
    "# Get the list of significant column names from t_test_results\n",
    "significant_columns = t_test_results.loc[t_test_results['Significant_fold_count'] >= 1].index.tolist()\n",
    "\n",
    "# Keep only the columns in x_variables_data that match the significant columns\n",
    "filtered_x_variables_data = x_variables_data[significant_columns]\n",
    "# Fill NaN values with 0\n",
    "filtered_x_variables_data = filtered_x_variables_data.fillna(0)\n",
    "filtered_x_variables_data"
   ]
  },
  {
   "cell_type": "markdown",
   "metadata": {
    "collapsed": false
   },
   "source": [
    "#### Below is an OLS regression for all the Xs against Y, stopped to use as well"
   ]
  },
  {
   "cell_type": "code",
   "execution_count": null,
   "metadata": {
    "collapsed": false,
    "ExecuteTime": {
     "start_time": "2025-02-17T18:36:12.736388Z"
    }
   },
   "outputs": [],
   "source": [
    "import numpy as np\n",
    "import pandas as pd\n",
    "import statsmodels.api as sm\n",
    "from sklearn.model_selection import TimeSeriesSplit\n",
    "\n",
    "# Target variable\n",
    "y = gc_data['GC1_12M_Fwd_Ret'].dropna(how='all')\n",
    "# Predictor variables\n",
    "X = filtered_x_variables_data.fillna(0).copy().loc[y.index]\n",
    "X = sm.add_constant(X)  # Add intercept term\n",
    "\n",
    "n_splits = 10  \n",
    "\n",
    "# Store model summaries\n",
    "model_summaries = []\n",
    "\n",
    "if len(X) >= n_splits * 2:\n",
    "    tscv = TimeSeriesSplit(n_splits=n_splits)\n",
    "    for train_idx, test_idx in tscv.split(X):\n",
    "        X_train, X_test = X.iloc[train_idx], X.iloc[test_idx]\n",
    "        y_train, y_test = y.iloc[train_idx], y.iloc[test_idx]\n",
    "\n",
    "        if X_train.empty or y_train.empty:\n",
    "            print(\"Warning: X_train or y_train is empty, skipping this fold.\")\n",
    "            continue\n",
    "\n",
    "        # Fit OLS regression model\n",
    "        model = sm.OLS(y_train, X_train).fit()\n",
    "\n",
    "        # Store model summary\n",
    "        model_summaries.append(model.summary())\n",
    "\n",
    "# Print the summary for the last fold (for inspection)\n",
    "if model_summaries:\n",
    "    print(model_summaries[-1])  # Output last model summary\n",
    "else:\n",
    "    print(\"No valid models were fitted.\")\n"
   ]
  },
  {
   "cell_type": "markdown",
   "metadata": {},
   "source": [
    "##### **<font color= #90EE90>4.3 Regularization</font>** "
   ]
  },
  {
   "cell_type": "markdown",
   "metadata": {
    "collapsed": false
   },
   "source": [
    "##### **[IN USE] LASSO regression - To find all the variable that is useful**"
   ]
  },
  {
   "cell_type": "code",
   "execution_count": null,
   "metadata": {
    "collapsed": false,
    "ExecuteTime": {
     "start_time": "2025-02-17T18:36:12.737447Z"
    }
   },
   "outputs": [],
   "source": [
    "import numpy as np\n",
    "import pandas as pd\n",
    "import statsmodels.api as sm\n",
    "from sklearn.model_selection import TimeSeriesSplit\n",
    "from sklearn.linear_model import LassoCV, Lasso\n",
    "from sklearn.preprocessing import StandardScaler\n",
    "import matplotlib.pyplot as plt\n",
    "\n",
    "# Target variable\n",
    "y = gc_data['GC1_3M_Fwd_Ret'].dropna(how='all')\n",
    "#y = gc_data['GC1_Monthly_Excess_Return'].dropna(how='all')\n",
    "\n",
    "\n",
    "y_historical_mean_data=gc_data['GC1_Monthly_Excess_Return'].dropna(how='all')\n",
    "fwd_ret_period=6\n",
    "# Predictor variable\n",
    "X = x_variables_data.fillna(0).copy().loc[y.index]\n",
    "X = sm.add_constant(X)  #Intercept\n",
    "\n",
    "# No. of Splits\n",
    "n_splits = 10  \n",
    "\n",
    "# LASSO Regularization\n",
    "scaler = StandardScaler()\n",
    "X_scaled = pd.DataFrame(scaler.fit_transform(X), index=X.index, columns=X.columns)\n",
    "\n",
    "# Cross Validation\n",
    "if len(X_scaled) >= n_splits * 2:\n",
    "    tscv = TimeSeriesSplit(n_splits=n_splits)\n",
    "\n",
    "    # Record the regression statistics for each fold of CV - 记录每个折叠的回归系数\n",
    "    lasso_coefficients = []\n",
    "\n",
    "    for train_idx, test_idx in tscv.split(X_scaled):\n",
    "        X_train, X_test = X_scaled.iloc[train_idx], X_scaled.iloc[test_idx]\n",
    "        y_train, y_test = y.iloc[train_idx], y.iloc[test_idx]\n",
    "\n",
    "        if X_train.empty or y_train.empty:\n",
    "            print(\"Warning: X_train or y_train is empty, skipping this fold.\")\n",
    "            continue\n",
    "\n",
    "        # Use LASSO CV to choose the best alpha option - 使用 LASSO 交叉验证选择最佳 alpha\n",
    "        lasso_cv = LassoCV(cv=tscv, random_state=42).fit(X_train, y_train)\n",
    "        best_alpha = lasso_cv.alpha_\n",
    "\n",
    "        # Use the best alpha option to train the LASSO model - 使用最佳 alpha 训练 LASSO 模型\n",
    "        lasso = Lasso(alpha=best_alpha).fit(X_train, y_train)\n",
    "\n",
    "        # Save Lasso coefficient series 存储回归系数\n",
    "        lasso_coefficients.append(pd.Series(lasso.coef_, index=X.columns))\n",
    "\n",
    "    # Combine LASSO coefficients in a dataframe 合并所有折叠的回归系数\n",
    "    lasso_coeff_df = pd.DataFrame(lasso_coefficients)\n",
    "    \n",
    "    # Calculate the average of LASSO coefficients 计算平均系数\n",
    "    avg_lasso_coeff = lasso_coeff_df.mean()\n",
    "    \n",
    "    # Filter out LASSO coefficients that are larger than 0 选择非零系数的特征\n",
    "    selected_features = avg_lasso_coeff[avg_lasso_coeff != 0].index.tolist()\n",
    "    # Print Lasso Results 输出 LASSO 选择的变量及其系数\n",
    "    print(\"LASSO Selected Features and Coefficients (Averaged Across Folds):\")\n",
    "    print(avg_lasso_coeff)\n",
    "\n",
    "    # **Expanding Window for training**\n",
    "    start_train = 300  #初始训练数据量\n",
    "    n_obs = len(y)\n",
    "\n",
    "    # Record SSE - 记录 SSE 累计误差\n",
    "    SSE_model_cumsum = []\n",
    "    SSE_historical_cumsum = []\n",
    "\n",
    "    for t in range(start_train, n_obs - 1):\n",
    "        # 使用当前时间 t 之前的所有数据进行训练\n",
    "        X_train = X_scaled.iloc[:t]\n",
    "        y_train = y.iloc[:t]\n",
    "        y_historical_mean=y_historical_mean_data.iloc[:t]\n",
    "        # 预测下一步 t+1\n",
    "        X_test = X_scaled.iloc[t:t+1]\n",
    "        y_test = y.iloc[t:t+1]\n",
    "        \n",
    "        # Only keeps coeff > 0 after Lasso regularization - 仅保留 LASSO 选择的变量\n",
    "        if len(selected_features) > 0:\n",
    "            X_train_selected = X_train[selected_features]\n",
    "            X_test_selected = X_test[selected_features]\n",
    "\n",
    "            # Add constant - 添加截距项\n",
    "            X_train_selected = sm.add_constant(X_train_selected)\n",
    "            X_test_selected = sm.add_constant(X_test_selected)\n",
    "\n",
    "            # **确保测试数据的列顺序与训练数据一致**\n",
    "            X_test_selected = X_test_selected.reindex(columns=X_train_selected.columns, fill_value=0)\n",
    "\n",
    "            # 进行 OLS 回归\n",
    "            ols_model = sm.OLS(y_train, X_train_selected).fit()\n",
    "            y_pred = ols_model.predict(X_test_selected)\n",
    "\n",
    "            # 计算策略预测误差 f_t+1\n",
    "            forecast_error = float(y_test - y_pred)\n",
    "        else:\n",
    "            # 如果 LASSO 没有选择任何变量，则使用历史均值进行预测\n",
    "            forecast_error = float(y_test - y_historical_mean.mean()*fwd_ret_period)\n",
    "\n",
    "        # 计算历史均值预测误差 m_t+1\n",
    "        historical_mean_error = float(y_test - y_historical_mean.mean()*fwd_ret_period)\n",
    "\n",
    "        # Cumulative SSE - 累计 SSE（均方误差）\n",
    "        if t == start_train:\n",
    "            SSE_model_cumsum.append(forecast_error ** 2)\n",
    "            SSE_historical_cumsum.append(historical_mean_error ** 2)\n",
    "        else:\n",
    "            SSE_model_cumsum.append(SSE_model_cumsum[-1] + forecast_error ** 2)\n",
    "            SSE_historical_cumsum.append(SSE_historical_cumsum[-1] + historical_mean_error ** 2)\n",
    "\n",
    "    # Change of RMSE as time goes - **计算 ΔRMSE 随时间的变化**\n",
    "    delta_RMSE_series = np.sqrt(np.array(SSE_historical_cumsum) / len(SSE_historical_cumsum) + 1) - \\\n",
    "                        np.sqrt(np.array(SSE_model_cumsum) / len(SSE_model_cumsum) + 1)\n",
    "\n",
    "    # **绘制 ΔRMSE**\n",
    "    plt.figure(figsize=(10, 5))\n",
    "    plt.plot(y.index[start_train:n_obs - 1], delta_RMSE_series, label=\"ΔRMSE (Historical Mean - Strategy)\", color='blue')\n",
    "    plt.xlabel(\"Time\")\n",
    "    plt.ylabel(\"ΔRMSE\")\n",
    "    plt.title(\"ΔRMSE: Strategy vs Historical Mean Benchmark\")\n",
    "    plt.axhline(y=0, color='black', linestyle='--', linewidth=0.8)  # 添加零基准线\n",
    "    plt.legend()\n",
    "    plt.show()\n"
   ]
  },
  {
   "cell_type": "markdown",
   "metadata": {},
   "source": [
    "##### --- Duplicate Sicheng's Work by Alfred ---"
   ]
  },
  {
   "cell_type": "code",
   "execution_count": null,
   "metadata": {},
   "outputs": [],
   "source": [
    "import numpy as np\n",
    "import pandas as pd\n",
    "import statsmodels.api as sm\n",
    "from sklearn.model_selection import TimeSeriesSplit\n",
    "from sklearn.linear_model import LassoCV, Lasso\n",
    "from sklearn.preprocessing import StandardScaler\n",
    "import matplotlib.pyplot as plt\n",
    "\n",
    "# Target variable\n",
    "y = gc_data['GC1_3M_Fwd_Ret'].dropna(how='all')\n",
    "#y = gc_data['GC1_Monthly_Excess_Return'].dropna(how='all')\n",
    "\n",
    "\n",
    "\n",
    "y_historical_mean_data=gc_data['GC1_Monthly_Excess_Return'].dropna(how='all')\n",
    "fwd_ret_period=6\n",
    "# Predictor variable\n",
    "X = x_variables_data.fillna(0).copy().loc[y.index]\n",
    "X = sm.add_constant(X)  #Intercept\n",
    "\n",
    "# No. of Splits\n",
    "n_splits = 10  \n",
    "\n",
    "# LASSO Regularization\n",
    "scaler = StandardScaler() #standarized by z score\n",
    "X_scaled = pd.DataFrame(scaler.fit_transform(X), index=X.index, columns=X.columns)\n",
    "\n",
    "\n",
    "#checking \n",
    "#check_df = pd.DataFrame([gc_data['GC1_Monthly_Excess_Return'],y]).T\n",
    "#check_df\n",
    "y_historical_mean_data.head(30)\n",
    "\n",
    "X\n",
    "#X_scaled\n",
    "x_variables_data #with 1 month lag for the actual data"
   ]
  },
  {
   "cell_type": "code",
   "execution_count": null,
   "metadata": {},
   "outputs": [],
   "source": [
    "\n",
    "# Cross Validation\n",
    "if len(X_scaled) >= n_splits * 2: #split it into 10 folds\n",
    "    tscv = TimeSeriesSplit(n_splits=n_splits)\n",
    "\n",
    "    # Record the regression statistics for each fold of CV - 记录每个折叠的回归系数\n",
    "    lasso_coefficients = []\n",
    "\n",
    "    for train_idx, test_idx in tscv.split(X_scaled):\n",
    "        X_train, X_test = X_scaled.iloc[train_idx], X_scaled.iloc[test_idx]\n",
    "        y_train, y_test = y.iloc[train_idx], y.iloc[test_idx]\n",
    "\n",
    "        if X_train.empty or y_train.empty:\n",
    "            print(\"Warning: X_train or y_train is empty, skipping this fold.\")\n",
    "            continue\n",
    "\n",
    "        # Use LASSO CV to choose the best alpha option - 使用 LASSO 交叉验证选择最佳 alpha\n",
    "        lasso_cv = LassoCV(cv=tscv, random_state=42).fit(X_train, y_train)\n",
    "        best_alpha = lasso_cv.alpha_ #smallest Lasso alpha means best fit of the model\n",
    "        #print(best_alpha)\n",
    "        \n",
    "        # Use the best alpha option to train the LASSO model - 使用最佳 alpha 训练 LASSO 模型\n",
    "        lasso = Lasso(alpha=best_alpha).fit(X_train, y_train)\n",
    "\n",
    "        # Save Lasso coefficient series 存储回归系数\n",
    "        lasso_coefficients.append(pd.Series(lasso.coef_, index=X.columns))\n",
    "\n",
    "    # Combine LASSO coefficients in a dataframe 合并所有折叠的回归系数\n",
    "    lasso_coeff_df = pd.DataFrame(lasso_coefficients)\n",
    "    print(lasso_coeff_df)\n",
    "    \n",
    "    # Calculate the average of LASSO coefficients 计算平均系数\n",
    "    avg_lasso_coeff = lasso_coeff_df.mean()\n",
    "    \n",
    "    # Filter out LASSO coefficients that are larger than 0 选择非零系数的特征\n",
    "    selected_features = avg_lasso_coeff[avg_lasso_coeff != 0].index.tolist()\n",
    "    # Print Lasso Results 输出 LASSO 选择的变量及其系数\n",
    "    \n",
    "    print(\"\\n\\nLASSO Selected Features and Coefficients (Averaged Across Folds):\")\n",
    "    print(avg_lasso_coeff)\n",
    "    \n",
    "    print(\"\\n\\nThe selected features by the LASSO models are:\") \n",
    "    shortern_dict = avg_lasso_coeff.to_dict()\n",
    "    features_list = [key for key, val in shortern_dict.items() if val !=0]\n",
    "    print(features_list)\n",
    "    \n",
    "    \n",
    "\n",
    "    # **Expanding Window for training**\n",
    "    start_train = 300  #初始训练数据量\n",
    "    n_obs = len(y)\n",
    "\n",
    "    # Record SSE - 记录 SSE 累计误差\n",
    "    SSE_model_cumsum = []\n",
    "    SSE_historical_cumsum = []\n"
   ]
  },
  {
   "cell_type": "code",
   "execution_count": null,
   "metadata": {},
   "outputs": [],
   "source": [
    "print(selected_features)"
   ]
  },
  {
   "cell_type": "code",
   "execution_count": null,
   "metadata": {
    "ExecuteTime": {
     "end_time": "2025-02-17T18:36:12.741863Z",
     "start_time": "2025-02-17T18:36:12.740692Z"
    }
   },
   "outputs": [],
   "source": [
    "\n",
    "\n",
    "for t in range(start_train, n_obs - 1):\n",
    "    # 使用当前时间 t 之前的所有数据进行训练\n",
    "    X_train = X_scaled.iloc[:t]\n",
    "    y_train = y.iloc[:t]\n",
    "    y_historical_mean=y_historical_mean_data.iloc[:t]\n",
    "    # 预测下一步 t+1\n",
    "    X_test = X_scaled.iloc[t:t+1]\n",
    "    y_test = y.iloc[t:t+1]\n",
    "    \n",
    "    \n",
    "    # Only keeps coeff > 0 after Lasso regularization - 仅保留 LASSO 选择的变量\n",
    "    if len(selected_features) > 0:\n",
    "        X_train_selected = X_train[selected_features]\n",
    "        X_test_selected = X_test[selected_features]\n",
    "        #print(X_train_selected.columns)\n",
    "\n",
    "        # Add constant - 添加截距项\n",
    "        X_train_selected = sm.add_constant(X_train_selected)\n",
    "        X_test_selected = sm.add_constant(X_test_selected)\n",
    "\n",
    "        # **确保测试数据的列顺序与训练数据一致**\n",
    "        X_test_selected = X_test_selected.reindex(columns=X_train_selected.columns, fill_value=0)\n",
    "\n",
    "        # 进行 OLS 回归\n",
    "        ols_model = sm.OLS(y_train, X_train_selected).fit()\n",
    "        y_pred = ols_model.predict(X_test_selected)\n",
    "\n",
    "        # 计算策略预测误差 f_t+1\n",
    "        forecast_error = float(y_test - y_pred)\n",
    "    else:\n",
    "        # 如果 LASSO 没有选择任何变量，则使用历史均值进行预测\n",
    "        forecast_error = float(y_test - y_historical_mean.mean()*fwd_ret_period)\n",
    "\n",
    "    # 计算历史均值预测误差 m_t+1\n",
    "    historical_mean_error = float(y_test - y_historical_mean.mean()*fwd_ret_period)\n",
    "\n",
    "    # Cumulative SSE - 累计 SSE（均方误差）\n",
    "    if t == start_train:\n",
    "        SSE_model_cumsum.append(forecast_error ** 2)\n",
    "        SSE_historical_cumsum.append(historical_mean_error ** 2)\n",
    "    else:\n",
    "        SSE_model_cumsum.append(SSE_model_cumsum[-1] + forecast_error ** 2)\n",
    "        SSE_historical_cumsum.append(SSE_historical_cumsum[-1] + historical_mean_error ** 2)\n",
    "\n",
    "# Change of RMSE as time goes - **计算 ΔRMSE 随时间的变化**\n",
    "delta_RMSE_series = np.sqrt(np.array(SSE_model_cumsum) / len(SSE_model_cumsum) + 1) - \\\n",
    "                    np.sqrt(np.array(SSE_historical_cumsum) / len(SSE_historical_cumsum) + 1)\n"
   ]
  },
  {
   "cell_type": "code",
   "execution_count": null,
   "metadata": {
    "ExecuteTime": {
     "end_time": "2025-02-17T18:36:12.742956Z",
     "start_time": "2025-02-17T18:36:12.742956Z"
    }
   },
   "outputs": [],
   "source": [
    "# **绘制 ΔRMSE**\n",
    "\n",
    "plt.figure(figsize=(10, 5))\n",
    "plt.plot(y.index[start_train:n_obs - 1], delta_RMSE_series, label=\"ΔRMSE (Historical Mean - Strategy)\", color='blue')\n",
    "plt.xlabel(\"Time\")\n",
    "plt.ylabel(\"ΔRMSE\")\n",
    "plt.title(\"ΔRMSE: Strategy vs Historical Mean Benchmark\")\n",
    "plt.axhline(y=0, color='black', linestyle='--', linewidth=0.8)  # 添加零基准线\n",
    "plt.legend()\n",
    "plt.show()\n"
   ]
  },
  {
   "cell_type": "markdown",
   "metadata": {
    "collapsed": false
   },
   "source": [
    "#### (In use)Below is using the variables that proofed Useful by LASSO and perform a time-series forecasting using Random Forest"
   ]
  },
  {
   "cell_type": "code",
   "execution_count": null,
   "metadata": {
    "ExecuteTime": {
     "end_time": "2025-02-17T18:36:12.744015Z",
     "start_time": "2025-02-17T18:36:12.744015Z"
    }
   },
   "outputs": [],
   "source": [
    "import platform\n",
    "import sys\n",
    "\n",
    "print(\"Python executable:\", sys.executable)\n",
    "print(\"Architecture:\", platform.architecture())"
   ]
  },
  {
   "cell_type": "code",
   "execution_count": null,
   "metadata": {
    "ExecuteTime": {
     "end_time": "2025-02-17T18:36:12.745080Z",
     "start_time": "2025-02-17T18:36:12.745021Z"
    }
   },
   "outputs": [],
   "source": [
    "from xgboost import XGBRegressor\n",
    "from sklearn.svm import SVR\n",
    "from sklearn.metrics import mean_squared_error, r2_score"
   ]
  },
  {
   "cell_type": "code",
   "execution_count": null,
   "metadata": {
    "collapsed": false,
    "ExecuteTime": {
     "end_time": "2025-02-17T18:36:12.746157Z",
     "start_time": "2025-02-17T18:36:12.745080Z"
    }
   },
   "outputs": [],
   "source": [
    "from tqdm import tqdm\n",
    "import numpy as np\n",
    "import pandas as pd\n",
    "import statsmodels.api as sm\n",
    "import matplotlib.pyplot as plt\n",
    "from sklearn.model_selection import TimeSeriesSplit\n",
    "from sklearn.linear_model import LassoCV\n",
    "from sklearn.preprocessing import RobustScaler\n",
    "from sklearn.ensemble import RandomForestRegressor\n",
    "import warnings\n",
    "warnings.filterwarnings(\"ignore\")\n",
    "from xgboost import XGBRegressor\n",
    "from sklearn.svm import SVR\n",
    "from sklearn.metrics import mean_squared_error, r2_score\n",
    "\n",
    "# **Expanding Window 回归**\n",
    "start_train = 30  # 初始训练数据量\n",
    "n_obs = len(y)\n",
    "fwd_ret_period=3\n",
    "sign_threshold = 0.90  # 阈值：90% 以上的时间步符号一致\n",
    "# 记录 SSE 累计误差\n",
    "SSE_model_cumsum = []\n",
    "SSE_historical_cumsum = []\n",
    "# 存储每个时间步的特征重要性\n",
    "feature_importance_per_step = []\n",
    "# 选择机器学习模型（可以切换）\n",
    "# model = XGBRegressor(objective='reg:squarederror', n_estimators=100, random_state=42)  # XGBoost\n",
    "model = RandomForestRegressor(n_estimators=100, random_state=42,max_depth=10,min_samples_split=5,max_features=0.6)  # 随机森林\n",
    "# model = SVR(kernel='rbf')  # 支持向量回归\n",
    "# 存储每个时间步的预测值、历史均值误差和真实值\n",
    "results = []\n",
    "# 存储模型的统计结果\n",
    "model_summaries = []\n",
    "for t in tqdm(range(start_train, n_obs - 1), desc=f\"Processing\"):\n",
    "    # 使用当前时间 t 之前的所有数据进行训练\n",
    "    X_train = X_scaled.iloc[:t]\n",
    "    y_train = y.iloc[:t]\n",
    "    y_historical_mean = y_historical_mean_data.iloc[:t]\n",
    "\n",
    "    # 预测下一步 t+1\n",
    "    X_test = X_scaled.iloc[t:t+1]\n",
    "    y_test = y.iloc[t:t+1]\n",
    "\n",
    "    # 仅保留 LASSO 选择的变量\n",
    "    if len(selected_features) > 0:\n",
    "        X_train_selected = X_train[selected_features]\n",
    "        X_test_selected = X_test[selected_features]\n",
    "\n",
    "        # 训练机器学习回归模型\n",
    "        model.fit(X_train_selected, y_train)\n",
    "        y_pred = model.predict(X_test_selected)[0]  # 获取单个预测值\n",
    "        # 获取特征重要性\n",
    "        if hasattr(model, \"feature_importances_\"):  # 适用于随机森林、XGBoost\n",
    "            feature_importance = model.feature_importances_\n",
    "        else:\n",
    "            # 使用 statsmodels 重新拟合以获取系数\n",
    "            X_train_sm = sm.add_constant(X_train_selected)\n",
    "            ols_model = sm.OLS(y_train, X_train_sm).fit()\n",
    "            feature_importance = ols_model.params[1:].values  # 跳过截距项\n",
    "\n",
    "        # 记录当前时间步的特征重要性\n",
    "        feature_importance_per_step.append(dict(zip(selected_features, feature_importance)))\n",
    "        # 计算策略预测误差 f_t+1\n",
    "        forecast_error = float(y_test - y_pred)\n",
    "    else:\n",
    "        # 如果 LASSO 没有选择任何变量，则使用历史均值进行预测\n",
    "        forecast_error = float(y_test - y_historical_mean.mean() * fwd_ret_period)\n",
    "\n",
    "    # 计算历史均值预测误差 m_t+1\n",
    "    historical_mean_error = float(y_test - y_historical_mean.mean() * fwd_ret_period)\n",
    "\n",
    "    # 累计 SSE（均方误差）\n",
    "    if t == start_train:\n",
    "        SSE_model_cumsum.append(forecast_error ** 2)\n",
    "        SSE_historical_cumsum.append(historical_mean_error ** 2)\n",
    "    else:\n",
    "        SSE_model_cumsum.append(SSE_model_cumsum[-1] + forecast_error ** 2)\n",
    "        SSE_historical_cumsum.append(SSE_historical_cumsum[-1] + historical_mean_error ** 2)\n",
    "     # 记录当前时间步的结果\n",
    "    results.append({\n",
    "        \"Time Index\": y.index[t],\n",
    "        \"y_test\": float(y_test),\n",
    "        \"y_pred\": float(y_pred),\n",
    "        \"historical_mean_error\": y_historical_mean.mean() * fwd_ret_period\n",
    "    })\n",
    "results=pd.DataFrame(results)\n",
    "\n",
    "# **计算 ΔRMSE 随时间的变化**\n",
    "delta_RMSE_series = np.sqrt(np.array(SSE_historical_cumsum) / len(SSE_historical_cumsum) + 1) - \\\n",
    "                    np.sqrt(np.array(SSE_model_cumsum) / len(SSE_model_cumsum) + 1)\n",
    "# **转换特征重要性 DataFrame**\n",
    "df_feature_importance_per_step = pd.DataFrame(feature_importance_per_step)\n",
    "\n",
    "# **计算特征在所有时间步的重要性均值**\n",
    "df_feature_avg_importance = df_feature_importance_per_step.mean().reset_index()\n",
    "df_feature_avg_importance.columns = [\"Feature\", \"Avg Importance\"]\n",
    "# **计算模型的整体统计信息**\n",
    "y_pred_all = model.predict(X_train_selected)\n",
    "\n",
    "# 计算 R²、MSE、RMSE\n",
    "r2 = r2_score(y_train, y_pred_all)\n",
    "mse = mean_squared_error(y_train, y_pred_all)\n",
    "rmse = np.sqrt(mse)\n",
    "\n",
    "# 提取特征重要性\n",
    "if hasattr(model, \"feature_importances_\"):\n",
    "    feature_importance = dict(zip(X_train_selected.columns, model.feature_importances_))\n",
    "elif isinstance(model, XGBRegressor):\n",
    "    feature_importance = model.get_booster().get_score(importance_type='weight')\n",
    "else:\n",
    "    feature_importance = \"N/A\"\n",
    "\n",
    "# 组织统计结果\n",
    "model_summary = {\n",
    "    \"Model\": type(model).__name__,\n",
    "    \"R-squared\": r2,\n",
    "    \"MSE\": mse,\n",
    "    \"RMSE\": rmse,\n",
    "    \"Feature Importance\": feature_importance\n",
    "}\n",
    "\n",
    "# 将统计结果转换为 DataFrame\n",
    "df_model_summary = pd.DataFrame({\n",
    "    \"Metric\": [\"R-squared\", \"MSE\", \"RMSE\"],\n",
    "    \"Value\": [r2, mse, rmse]\n",
    "})\n",
    "\n",
    "# 显示表格\n",
    "print(df_model_summary)\n",
    "\n",
    "# **绘制 ΔRMSE**\n",
    "plt.figure(figsize=(10, 5))\n",
    "plt.plot(y.index[start_train:n_obs - 1], delta_RMSE_series, label=\"ΔRMSE (Historical Mean - Strategy)\", color='blue')\n",
    "\n",
    "plt.xlabel(\"Time (Index of y)\")\n",
    "plt.ylabel(\"ΔRMSE\")\n",
    "plt.title(\"ΔRMSE: Strategy vs Historical Mean Benchmark\")\n",
    "plt.axhline(y=0, color='black', linestyle='--', linewidth=0.8)  # 添加零基准线\n",
    "plt.legend()\n",
    "plt.show()\n"
   ]
  },
  {
   "cell_type": "code",
   "execution_count": null,
   "metadata": {
    "collapsed": false,
    "ExecuteTime": {
     "end_time": "2025-02-17T18:36:12.746157Z",
     "start_time": "2025-02-17T18:36:12.746157Z"
    }
   },
   "outputs": [],
   "source": [
    "df_feature_avg_importance"
   ]
  },
  {
   "cell_type": "code",
   "execution_count": null,
   "metadata": {
    "collapsed": false,
    "ExecuteTime": {
     "end_time": "2025-02-17T18:36:12.747233Z",
     "start_time": "2025-02-17T18:36:12.747233Z"
    }
   },
   "outputs": [],
   "source": [
    "results=pd.DataFrame(results)\n",
    "# 设置时间索引\n",
    "results.set_index(\"Time Index\", inplace=True)\n",
    "results.index.name = \"Date\"\n",
    "results"
   ]
  },
  {
   "cell_type": "code",
   "execution_count": null,
   "metadata": {
    "collapsed": false,
    "ExecuteTime": {
     "end_time": "2025-02-17T18:36:12.748309Z",
     "start_time": "2025-02-17T18:36:12.748309Z"
    }
   },
   "outputs": [],
   "source": [
    "results"
   ]
  },
  {
   "cell_type": "markdown",
   "metadata": {},
   "source": [
    "#### Alfred Redo with fewer parameters"
   ]
  },
  {
   "cell_type": "code",
   "execution_count": null,
   "metadata": {
    "ExecuteTime": {
     "end_time": "2025-02-17T18:36:12.749367Z",
     "start_time": "2025-02-17T18:36:12.749313Z"
    }
   },
   "outputs": [],
   "source": [
    "selected_features_2 = ['SPX Index',\n",
    " 'CPI YOY Index',\n",
    " 'GDP_Nominoal_YOY',\n",
    " 'GDP_Real_QoQ',\n",
    " 'US_Unemp',\n",
    " 'US_RIR']\n",
    "\n",
    " # select one between 'GDP_Real_QoQ' or 'GDP_Nominoal_YOY'"
   ]
  },
  {
   "cell_type": "code",
   "execution_count": null,
   "metadata": {
    "ExecuteTime": {
     "start_time": "2025-02-17T18:36:12.749367Z"
    }
   },
   "outputs": [],
   "source": [
    "from tqdm import tqdm\n",
    "import numpy as np\n",
    "import pandas as pd\n",
    "import statsmodels.api as sm\n",
    "import matplotlib.pyplot as plt\n",
    "from sklearn.model_selection import TimeSeriesSplit\n",
    "from sklearn.linear_model import LassoCV\n",
    "from sklearn.preprocessing import RobustScaler\n",
    "from sklearn.ensemble import RandomForestRegressor\n",
    "import warnings\n",
    "warnings.filterwarnings(\"ignore\")\n",
    "from xgboost import XGBRegressor\n",
    "from sklearn.svm import SVR\n",
    "from sklearn.metrics import mean_squared_error, r2_score\n",
    "\n",
    "# **Expanding Window 回归**\n",
    "start_train = 30  # 初始训练数据量\n",
    "n_obs = len(y)\n",
    "sign_threshold = 0.90  # 阈值：90% 以上的时间步符号一致\n",
    "# 记录 SSE 累计误差\n",
    "SSE_model_cumsum = []\n",
    "SSE_historical_cumsum = []\n",
    "# 存储每个时间步的特征重要性\n",
    "feature_importance_per_step = []\n",
    "# 选择机器学习模型（可以切换）\n",
    "# model = XGBRegressor(objective='reg:squarederror', n_estimators=100, random_state=42)  # XGBoost\n",
    "\n",
    "#Use Random Forest for Prediction\n",
    "model = RandomForestRegressor(n_estimators=100, random_state=42,max_depth=10,min_samples_split=5,max_features=0.6)  # 随机森林\n",
    "\n",
    "\n",
    "# model = SVR(kernel='rbf')  # 支持向量回归\n",
    "# 存储每个时间步的预测值、历史均值误差和真实值\n",
    "results = []\n",
    "# 存储模型的统计结果\n",
    "model_summaries = []\n",
    "\n",
    "for t in tqdm(range(start_train, n_obs - 1), desc=f\"Processing\"):\n",
    "    # 使用当前时间 t 之前的所有数据进行训练\n",
    "    X_train = X_scaled.iloc[:t]\n",
    "    y_train = y.iloc[:t]\n",
    "    y_historical_mean = y_historical_mean_data.iloc[:t]\n",
    "\n",
    "    # 预测下一步 t+1\n",
    "    X_test = X_scaled.iloc[t:t+1]\n",
    "    y_test = y.iloc[t:t+1]\n",
    "\n",
    "    # 仅保留 LASSO 选择的变量\n",
    "    \n",
    "    if len(selected_features) > 0:\n",
    "        X_train_selected = X_train[selected_features_2]\n",
    "        X_test_selected = X_test[selected_features_2]\n",
    "\n",
    "        # 训练机器学习回归模型\n",
    "        model.fit(X_train_selected, y_train)\n",
    "        y_pred = model.predict(X_test_selected)[0]  # 获取单个预测值\n",
    "        # 获取特征重要性\n",
    "        if hasattr(model, \"feature_importances_\"):  # 适用于随机森林、XGBoost\n",
    "            feature_importance = model.feature_importances_\n",
    "        else:\n",
    "            # 使用 statsmodels 重新拟合以获取系数\n",
    "            X_train_sm = sm.add_constant(X_train_selected)\n",
    "            ols_model = sm.OLS(y_train, X_train_sm).fit()\n",
    "            feature_importance = ols_model.params[1:].values  # 跳过截距项\n",
    "\n",
    "        # 记录当前时间步的特征重要性\n",
    "        feature_importance_per_step.append(dict(zip(selected_features, feature_importance)))\n",
    "        # 计算策略预测误差 f_t+1\n",
    "        forecast_error = float(y_test - y_pred)\n",
    "    else:\n",
    "        # 如果 LASSO 没有选择任何变量，则使用历史均值进行预测\n",
    "        forecast_error = float(y_test - y_historical_mean.mean() * fwd_ret_period)\n",
    "\n",
    "    # 计算历史均值预测误差 m_t+1\n",
    "    historical_mean_error = float(y_test - y_historical_mean.mean() * fwd_ret_period)\n",
    "\n",
    "    # 累计 SSE（均方误差）\n",
    "    if t == start_train:\n",
    "        SSE_model_cumsum.append(forecast_error ** 2)\n",
    "        SSE_historical_cumsum.append(historical_mean_error ** 2)\n",
    "    else:\n",
    "        SSE_model_cumsum.append(SSE_model_cumsum[-1] + forecast_error ** 2)\n",
    "        SSE_historical_cumsum.append(SSE_historical_cumsum[-1] + historical_mean_error ** 2)\n",
    "     # 记录当前时间步的结果\n",
    "    results.append({\n",
    "        \"Time Index\": y.index[t],\n",
    "        \"y_test\": float(y_test),\n",
    "        \"y_pred\": float(y_pred),\n",
    "        \"historical_mean_error\": y_historical_mean.mean() * fwd_ret_period\n",
    "    })\n",
    "results=pd.DataFrame(results)\n",
    "\n",
    "# **计算 ΔRMSE 随时间的变化**\n",
    "delta_RMSE_series = np.sqrt(np.array(SSE_historical_cumsum) / len(SSE_historical_cumsum) + 1) - \\\n",
    "                    np.sqrt(np.array(SSE_model_cumsum) / len(SSE_model_cumsum) + 1)\n",
    "# **转换特征重要性 DataFrame**\n",
    "df_feature_importance_per_step = pd.DataFrame(feature_importance_per_step)\n",
    "\n",
    "# **计算特征在所有时间步的重要性均值**\n",
    "df_feature_avg_importance = df_feature_importance_per_step.mean().reset_index()\n",
    "df_feature_avg_importance.columns = [\"Feature\", \"Avg Importance\"]\n",
    "# **计算模型的整体统计信息**\n",
    "y_pred_all = model.predict(X_train_selected)\n",
    "\n",
    "# 计算 R²、MSE、RMSE\n",
    "r2 = r2_score(y_train, y_pred_all)\n",
    "mse = mean_squared_error(y_train, y_pred_all)\n",
    "rmse = np.sqrt(mse)\n",
    "\n",
    "# 提取特征重要性\n",
    "if hasattr(model, \"feature_importances_\"):\n",
    "    feature_importance = dict(zip(X_train_selected.columns, model.feature_importances_))\n",
    "elif isinstance(model, XGBRegressor):\n",
    "    feature_importance = model.get_booster().get_score(importance_type='weight')\n",
    "else:\n",
    "    feature_importance = \"N/A\"\n",
    "\n",
    "# 组织统计结果\n",
    "model_summary = {\n",
    "    \"Model\": type(model).__name__,\n",
    "    \"R-squared\": r2,\n",
    "    \"MSE\": mse,\n",
    "    \"RMSE\": rmse,\n",
    "    \"Feature Importance\": feature_importance\n",
    "}\n",
    "\n",
    "# 将统计结果转换为 DataFrame\n",
    "df_model_summary = pd.DataFrame({\n",
    "    \"Metric\": [\"R-squared\", \"MSE\", \"RMSE\"],\n",
    "    \"Value\": [r2, mse, rmse]\n",
    "})\n",
    "\n",
    "# 显示表格\n",
    "print(df_model_summary)\n",
    "\n",
    "# **绘制 ΔRMSE**\n",
    "plt.figure(figsize=(10, 5))\n",
    "plt.plot(y.index[start_train:n_obs - 1], delta_RMSE_series, label=\"ΔRMSE (Historical Mean - Strategy)\", color='blue')\n",
    "\n",
    "plt.xlabel(\"Time (Index of y)\")\n",
    "plt.ylabel(\"ΔRMSE\")\n",
    "plt.title(\"ΔRMSE: Strategy vs Historical Mean Benchmark\")\n",
    "plt.axhline(y=0, color='black', linestyle='--', linewidth=0.8)  # 添加零基准线\n",
    "plt.legend()\n",
    "plt.show()\n"
   ]
  },
  {
   "cell_type": "code",
   "execution_count": null,
   "metadata": {
    "ExecuteTime": {
     "start_time": "2025-02-17T18:36:12.750426Z"
    }
   },
   "outputs": [],
   "source": [
    "model_summary"
   ]
  },
  {
   "cell_type": "code",
   "execution_count": null,
   "metadata": {
    "ExecuteTime": {
     "end_time": "2025-02-17T18:36:12.750426Z",
     "start_time": "2025-02-17T18:36:12.750426Z"
    }
   },
   "outputs": [],
   "source": [
    "results"
   ]
  },
  {
   "cell_type": "markdown",
   "metadata": {},
   "source": [
    "## <font color=\"yellow\"> Time Series TSM - Alfred </font>"
   ]
  },
  {
   "cell_type": "markdown",
   "metadata": {},
   "source": [
    "#### Step 0: Continue from Time Series Dataframe in Previous Work"
   ]
  },
  {
   "cell_type": "code",
   "execution_count": null,
   "metadata": {
    "ExecuteTime": {
     "start_time": "2025-02-17T18:36:12.751485Z"
    }
   },
   "outputs": [],
   "source": [
    "#View Gold price futures data\n",
    "gc_data\n",
    "gc_data.to_csv(\"gc_data_raw.csv\")\n",
    "\n",
    "#gc_data.columns"
   ]
  },
  {
   "cell_type": "markdown",
   "metadata": {},
   "source": [
    "#### Step 1: Modify Dataframe"
   ]
  },
  {
   "cell_type": "markdown",
   "metadata": {},
   "source": [
    "##### <font color= #90EE90> 1.1: Formulate Next Month (Actual) Sharpe Ratio </font> "
   ]
  },
  {
   "cell_type": "code",
   "execution_count": null,
   "metadata": {
    "ExecuteTime": {
     "start_time": "2025-02-17T18:36:12.751485Z"
    }
   },
   "outputs": [],
   "source": [
    "#Create new copy specifically for time series moementum strategy\n",
    "gc_data.rename(columns={'GC1_volatility':'GC1_vol_annualized','GC2_volatility':'GC2_vol_annualized'},inplace=True)\n",
    "gc_data_new = gc_data.copy()\n",
    "\n",
    "#Calculate Actual Sharpe Ratio - Monthly\n",
    "gc_data_new['GC1_vol_monthly'] = gc_data_new['GC1_vol_annualized']/ np.sqrt(12)\n",
    "gc_data_new['GC2_vol_monthly'] = gc_data_new['GC2_vol_annualized']/ np.sqrt(12)\n",
    "\n",
    "#Produce 1 Month historical and forward (actual) Sharpe Ratio\n",
    "gc_data_new.rename(columns={'GC1_sharpe':'GC1_sharpe_1M_Hist','GC2_sharpe':'GC2_sharpe_1M_Hist'},inplace=True)\n",
    "gc_data_new['GC1_sharpe_1M_Hist'] = gc_data_new['GC1_Monthly_Excess_Return']/gc_data_new['GC1_vol_monthly']\n",
    "gc_data_new['GC2_sharpe_1M_Hist'] = gc_data_new['GC2_Monthly_Excess_Return']/gc_data_new['GC2_vol_monthly']\n",
    "gc_data_new['GC1_sharpe_1M_RetHist_VolLag1'] = gc_data_new['GC1_Monthly_Excess_Return']/gc_data_new['GC1_vol_monthly'].shift(1)\n",
    "gc_data_new['GC2_sharpe_1M_RetHist_VolLag1'] = gc_data_new['GC2_Monthly_Excess_Return']/gc_data_new['GC2_vol_monthly'].shift(1)\n",
    "\n",
    "gc_data_new['GC1_sharpe_1M_Fwd'] = gc_data_new['GC1_sharpe_1M_Hist'].shift(1)\n",
    "gc_data_new['GC2_sharpe_1M_Fwd'] = gc_data_new['GC2_sharpe_1M_Hist'].shift(1)\n",
    "\n",
    "#Export CSV\n",
    "gc_data_new.to_csv(\"gc_data_v1.csv\")\n",
    "gc_data_new\n",
    "\n",
    "\n"
   ]
  },
  {
   "cell_type": "markdown",
   "metadata": {},
   "source": [
    "##### <font color= #90EE90> 1.2: Shift 1 month for 3M, 6M, 12M Return Sign  </font> "
   ]
  },
  {
   "cell_type": "code",
   "execution_count": null,
   "metadata": {
    "ExecuteTime": {
     "start_time": "2025-02-17T18:36:12.751485Z"
    }
   },
   "outputs": [],
   "source": [
    "shift_columns_gc_all = [\"GC1_1M_Sign\",\"GC2_1M_Sign\",'GC1_3M_Sign','GC2_3M_Sign','GC1_6M_Sign','GC2_6M_Sign','GC1_12M_Sign','GC2_12M_Sign']\n",
    "shift_columns_gc2= [\"GC2_1M_Sign\",'GC2_3M_Sign','GC2_6M_Sign','GC2_12M_Sign']\n",
    "shift_col_exp_1M = ['GC1_3M_Sign','GC2_3M_Sign','GC1_6M_Sign','GC2_6M_Sign','GC1_12M_Sign','GC2_12M_Sign']\n",
    "\n",
    "for col in shift_columns_gc_all:\n",
    "    x_variables_data[col+'_lag_1']=gc_data_new[col].shift(1)\n",
    "\n",
    "for col in shift_col_exp_1M:\n",
    "    x_variables_data[col+'_lag_2']=gc_data_new[col].shift(2)\n",
    "\n",
    "x_variables_data.to_csv(\"gc_data_v2_20250215.csv\")\n",
    "x_variables_data"
   ]
  },
  {
   "cell_type": "markdown",
   "metadata": {},
   "source": [
    "#### Step 2: Create Train-Calibrate-Test Split Dataset"
   ]
  },
  {
   "cell_type": "markdown",
   "metadata": {},
   "source": [
    "##### <font color= #90EE90> _2.1: Separate dataframes_ </font> "
   ]
  },
  {
   "cell_type": "code",
   "execution_count": null,
   "metadata": {
    "ExecuteTime": {
     "start_time": "2025-02-17T18:36:12.752542Z"
    }
   },
   "outputs": [],
   "source": [
    "# GC2_Features = ['GC2_1M_Sign_lag_1','GC2_3M_Sign_lag_1','GC2_6M_Sign_lag_1','GC2_12M_Sign_lag_1']\n",
    "# GC1_Features = ['GC1_1M_Sign_lag_1','GC1_3M_Sign_lag_1','GC1_6M_Sign_lag_1','GC1_12M_Sign_lag_1']\n",
    "# \n",
    "# #gc2 only\n",
    "# xy_tsm = gc_data_new[['GC2_sharpe_1M_Hist']+ ['GC2_sharpe_1M_Fwd'] + ['GC2_sharpe_1M_RetHist_VolLag1'] + GC2_Features].dropna(how='any')\n",
    "# \n",
    "# y_tsm = pd.DataFrame()\n",
    "# \n",
    "# y_tsm['GC2_sharpe_1M_RetT_VolT-1'] = xy_tsm['GC2_sharpe_1M_RetHist_VolLag1']\n",
    "# x_tsm = xy_tsm[[col for col in GC2_Features]]\n",
    "# \n",
    "# #checking\n",
    "# #x_tsm\n",
    "# \n",
    "# y_tsm.to_csv(\"y_tsm.csv\")\n",
    "# \n",
    "# y_tsm\n",
    "# \n",
    "# #xy_tsm\n"
   ]
  },
  {
   "cell_type": "markdown",
   "metadata": {},
   "source": [
    "##### <font color= #90EE90> _2.2: Define Cross Validation Fold_ </font> "
   ]
  },
  {
   "cell_type": "markdown",
   "metadata": {},
   "source": [
    "Method: Rolling folds that trains every month"
   ]
  },
  {
   "cell_type": "code",
   "execution_count": null,
   "metadata": {
    "ExecuteTime": {
     "start_time": "2025-02-17T18:36:12.753605Z"
    }
   },
   "outputs": [],
   "source": [
    "train_start = pd.Timestamp('1976-01-31')\n",
    "train_end = pd.Timestamp('1990-12-31')  #initial training period\n",
    "\n",
    "calib_start = pd.Timestamp('1991-01-31') \n",
    "calib_end = pd.Timestamp('1995-12-31') \n",
    "\n",
    "test_date = calib_end + pd.DateOffset(months=1)\n"
   ]
  },
  {
   "cell_type": "markdown",
   "metadata": {},
   "source": [
    "#### Step 3: Train Model"
   ]
  },
  {
   "cell_type": "code",
   "execution_count": null,
   "metadata": {},
   "outputs": [],
   "source": [
    "import numpy as np\n",
    "import pandas as pd\n",
    "import statsmodels.api as sm\n",
    "from sklearn.model_selection import TimeSeriesSplit\n",
    "from sklearn.linear_model import Ridge, Lasso\n",
    "from sklearn.metrics import mean_squared_error as mse\n",
    "from tqdm import tqdm\n"
   ]
  },
  {
   "cell_type": "markdown",
   "metadata": {},
   "source": [
    "##### **Test Code (1 iteration)**"
   ]
  },
  {
   "cell_type": "code",
   "execution_count": null,
   "metadata": {
    "ExecuteTime": {
     "start_time": "2025-02-17T18:36:12.754662Z"
    }
   },
   "outputs": [],
   "source": [
    "\"\"\"\n",
    "#Design rolling loop algorithm\n",
    "\n",
    "results = []\n",
    "\n",
    "#while test_date <= pd.Timestamp('2010-12-31'):\n",
    "    \n",
    "#create train dataset\n",
    "x_tsm_train = x_tsm.loc[:train_end]\n",
    "y_tsm_train = y_tsm.loc[:train_end]\n",
    "\n",
    "#create calibration dataset\n",
    "x_tsm_calib = x_tsm.loc[calib_start:calib_end]\n",
    "y_tsm_calib = y_tsm.loc[calib_start:calib_end]\n",
    "\n",
    "#test data\n",
    "x_tsm_test = x_tsm.loc[test_date:test_date]\n",
    "\n",
    "#define alpha and error before loop\n",
    "best_alpha = None\n",
    "least_error = np.inf\n",
    "\n",
    "#checking\n",
    "x_tsm_train\n",
    "\n",
    "\"\"\""
   ]
  },
  {
   "cell_type": "code",
   "execution_count": null,
   "metadata": {
    "ExecuteTime": {
     "start_time": "2025-02-17T18:36:12.754662Z"
    }
   },
   "outputs": [],
   "source": [
    "\"\"\"\n",
    "for a in alphas:\n",
    "    if regression_type == 'ridge':\n",
    "        candidate_model = Ridge(alpha= a)\n",
    "    else: #assume lasso\n",
    "        candidate_model = Lasso(alpha= a, max_iter=2000)\n",
    "        \n",
    "#fit the model in the calibration set\n",
    "candidate_model.fit(x_tsm_train, y_tsm_train)\n",
    "y_tsm_pred = candidate_model.predict(x_tsm_calib)\n",
    "error = mean_squared_error(y_tsm_calib,y_tsm_pred)\n",
    "\n",
    "if error < least_error:\n",
    "    least_error = error\n",
    "    best_alpha = a\n",
    "\n",
    "#combine training and calibration set\n",
    "x_tsm_tracal_combined = pd.concat([x_tsm_train,x_tsm_calib])\n",
    "y_tsm_tracal_combined = pd.concat([y_tsm_train,y_tsm_calib])\n",
    "\n",
    "#train the final model with the best alpha over training + calibration timeframe\n",
    "if regression_type == 'ridge':\n",
    "    final_model = Ridge(alpha= best_alpha)\n",
    "else: #assume lasso\n",
    "    final_model = Lasso(alpha= best_alpha, max_iter=2000)\n",
    "\n",
    "final_model.fit(x_tsm_tracal_combined, y_tsm_tracal_combined)\n",
    "\n",
    "\n",
    "#forecasting the test month\n",
    "forecast = final_model.predict(x_tsm_test)[0]\n",
    "realized = x_tsm_test.iloc[0,0]\n",
    "\n",
    "#iteration results\n",
    "results.append({\n",
    "    'train_end': train_end,\n",
    "    'calib_start': calib_start,\n",
    "    'calib_end': calib_end,\n",
    "    'test_date': test_date,\n",
    "    'best_alpha': best_alpha,\n",
    "    'forecast': forecast,\n",
    "    'realized': realized,\n",
    "    'calib_error': least_error\n",
    "})\n",
    "\n",
    "#expand the windows for next interation\n",
    "#train - calibrate - test split\n",
    "train_end = train_end + pd.DateOffset(months=1) #Expand 1 month\n",
    "calib_start = calib_start + pd.DateOffset(months=1)  #Slide 1 month\n",
    "calib_end = test_date                              #Slide 1 month (i.e. previous test date)\n",
    "test_date = test_date + pd.DateOffset(months=1) #Slide to next month for prediction\n",
    "    \n",
    "#results_df = pd.DataFrame(results)\n",
    "\n",
    "results\n",
    "\"\"\""
   ]
  },
  {
   "cell_type": "markdown",
   "metadata": {},
   "source": [
    "##### **While-Loop Iteration**"
   ]
  },
  {
   "cell_type": "code",
   "execution_count": null,
   "metadata": {
    "ExecuteTime": {
     "start_time": "2025-02-17T18:36:12.755717Z"
    }
   },
   "outputs": [],
   "source": [
    "import numpy as np\n",
    "import pandas as pd\n",
    "import statsmodels.api as sm\n",
    "from sklearn.model_selection import TimeSeriesSplit\n",
    "from sklearn.linear_model import Ridge, Lasso\n",
    "from sklearn.metrics import mean_squared_error as mse\n",
    "from tqdm import tqdm\n",
    "\n",
    "train_start = pd.Timestamp('1976-01-31')\n",
    "train_end = pd.Timestamp('1990-12-31')  #initial training period\n",
    "calib_start = pd.Timestamp('1991-01-31') \n",
    "calib_end = pd.Timestamp('1995-12-31') \n",
    "test_date = calib_end + pd.DateOffset(months=1)\n",
    "\n",
    "regression_type = 'lasso'\n",
    "alphas = np.logspace(4,-4,100).tolist()\n",
    "#alphas"
   ]
  },
  {
   "cell_type": "code",
   "execution_count": null,
   "metadata": {},
   "outputs": [],
   "source": [
    "#Design rolling loop algorithm\n",
    "GC2_Features = ['GC2_1M_Sign_lag_1','GC2_3M_Sign_lag_1','GC2_6M_Sign_lag_1','GC2_12M_Sign_lag_1']\n",
    "GC1_Features = ['GC1_1M_Sign_lag_1','GC1_3M_Sign_lag_1','GC1_6M_Sign_lag_1','GC1_12M_Sign_lag_1']\n",
    "results = []\n",
    "y_tsm=pd.DataFrame(gc_data_new[\"GC2_sharpe_1M_RetHist_VolLag1\"].dropna(how=\"all\"))\n",
    "x_tsm = x_variables_data[[col for col in GC2_Features]].fillna(0).copy().loc[y_tsm.index]\n",
    "#apply tqdm for manual progress bar\n",
    "pbar = tqdm(total=y_tsm.loc[test_date:].shape[0], desc=\"Rolling Window Iterations\")\n",
    "i=1\n",
    "\n",
    "while test_date <= y_tsm.index[-1]:\n",
    "    \n",
    "    \"\"\"\n",
    "    print(f\"\\n\\n--------\\nIteration {i} starts....\")\n",
    "    print(\"Current training combination....\")\n",
    "    print(\"train_end:\", train_end )\n",
    "    print(\"calib_start:\", calib_start)\n",
    "    print(\"calib_end:\", calib_end)\n",
    "    print(\"test_date:\", test_date)\n",
    "    \"\"\"\n",
    "    \n",
    "    #create train dataset\n",
    "    x_tsm_train = x_tsm.loc[:train_end]\n",
    "    y_tsm_train = y_tsm.loc[:train_end]\n",
    "\n",
    "    #create calibration dataset\n",
    "    x_tsm_calib = x_tsm.loc[calib_start:calib_end]\n",
    "    y_tsm_calib = y_tsm.loc[calib_start:calib_end]\n",
    "\n",
    "    #test data\n",
    "    x_tsm_test = x_tsm.loc[test_date:test_date]\n",
    "    y_tsm_test = y_tsm.loc[test_date:test_date]\n",
    "\n",
    "    #define alpha and error before loop\n",
    "    best_alpha = None\n",
    "    least_error = np.inf\n",
    "\n",
    "    #checking\n",
    "    x_tsm_train\n",
    "\n",
    "    for a in alphas:\n",
    "        if regression_type == 'ridge':\n",
    "            candidate_model = Ridge(alpha= a)\n",
    "        else: #assume lasso\n",
    "            candidate_model = Lasso(alpha= a, max_iter=1000)\n",
    "            \n",
    "        #fit the model in the calibration set\n",
    "        candidate_model.fit(x_tsm_train, y_tsm_train)\n",
    "        y_tsm_pred = candidate_model.predict(x_tsm_calib)\n",
    "        error = mean_squared_error(y_tsm_calib,y_tsm_pred)\n",
    "\n",
    "        if error < least_error:\n",
    "            least_error = error\n",
    "            best_alpha = a\n",
    "\n",
    "    #combine training and calibration set\n",
    "    x_tsm_tracal_combined = pd.concat([x_tsm_train,x_tsm_calib])\n",
    "    y_tsm_tracal_combined = pd.concat([y_tsm_train,y_tsm_calib])\n",
    "\n",
    "    #train the final model with the best alpha over training + calibration timeframe\n",
    "    if regression_type == 'ridge':\n",
    "        final_model = Ridge(alpha= best_alpha)\n",
    "    else: #assume lasso\n",
    "        final_model = Lasso(alpha= best_alpha, max_iter=1000)\n",
    "\n",
    "    final_model.fit(x_tsm_tracal_combined, y_tsm_tracal_combined)\n",
    "    #forecasting the test month\n",
    "    forecast = final_model.predict(x_tsm_test)[0]\n",
    "    realized = y_tsm_test.iloc[0,0]\n",
    "\n",
    "    #iteration results\n",
    "    results.append({\n",
    "        'train_end': train_end,\n",
    "        'calib_start': calib_start,\n",
    "        'calib_end': calib_end,\n",
    "        'test_date': test_date,\n",
    "        'best_alpha': best_alpha,\n",
    "        'forecast': forecast,\n",
    "        'realized': realized,\n",
    "        'calib_error': least_error\n",
    "    })\n",
    "\n",
    "    #expand the windows for next interation\n",
    "    #train - calibrate - test split\n",
    "    train_end = train_end + pd.offsets.MonthEnd(1) #Expand 1 month\n",
    "    calib_start = calib_start + pd.offsets.MonthEnd(1)  #Slide 1 month\n",
    "    calib_end = test_date                              #Slide 1 month (i.e. previous test date)\n",
    "    test_date = test_date + pd.offsets.MonthEnd(1) #Slide to next month for prediction\n",
    "    \n",
    "    \"\"\"\n",
    "    print(\"\\nNext training combination....\")\n",
    "    print(\"train_end:\", train_end )\n",
    "    print(\"calib_start:\", calib_start)\n",
    "    print(\"calib_end:\", calib_end)\n",
    "    print(\"test_date:\", test_date)\n",
    "    \"\"\"\n",
    "    i = i+1\n",
    "    pbar.set_description(f\"Rolling Window Iterations: {i}/{y_tsm.loc[test_date:].shape[0]}\")\n",
    "    pbar.update(1)\n",
    "\n",
    "pbar.close()\n",
    "\n",
    "results_df = pd.DataFrame(results)\n",
    "results_df"
   ]
  },
  {
   "cell_type": "markdown",
   "metadata": {},
   "source": [
    "##### **Model Results**"
   ]
  },
  {
   "cell_type": "code",
   "execution_count": null,
   "metadata": {
    "ExecuteTime": {
     "start_time": "2025-02-17T18:36:12.756791Z"
    }
   },
   "outputs": [],
   "source": [
    "#results_df.to_excel(\"results_df_lasso1.xlsx\")\n",
    "results_df"
   ]
  },
  {
   "cell_type": "markdown",
   "metadata": {},
   "source": [
    "#### Step 4: Evaluate Model"
   ]
  },
  {
   "cell_type": "code",
   "execution_count": null,
   "metadata": {
    "ExecuteTime": {
     "start_time": "2025-02-17T18:36:12.759014Z"
    }
   },
   "outputs": [],
   "source": [
    "y_tsm"
   ]
  },
  {
   "cell_type": "markdown",
   "metadata": {},
   "source": [
    "##### **Calculate Historical Mean**"
   ]
  },
  {
   "cell_type": "code",
   "execution_count": null,
   "metadata": {},
   "outputs": [],
   "source": [
    "#calcualte historical expanding mean\n",
    "y_tsm_with_mean = y_tsm.copy()\n",
    "y_tsm_with_mean['hist_mean_expand'] = y_tsm_with_mean['GC2_sharpe_1M_RetHist_VolLag1'].expanding(min_periods=1).mean()\n",
    "\n",
    "#include historical expanding mean in results df\n",
    "results_df_2 = results_df.copy()\n",
    "results_df_2 = results_df_2.set_index('test_date')\n",
    "results_df_2 = results_df_2.join(y_tsm_with_mean['hist_mean_expand'], how='left')\n",
    "\n",
    "results_df_2"
   ]
  },
  {
   "cell_type": "markdown",
   "metadata": {},
   "source": [
    "##### **Generate Evalution Statistics**"
   ]
  },
  {
   "cell_type": "code",
   "execution_count": null,
   "metadata": {
    "ExecuteTime": {
     "start_time": "2025-02-17T18:36:12.761179Z"
    }
   },
   "outputs": [],
   "source": [
    "#calculate RMSE, RMSE diff, cummulative RMSE diff, OOS R-Sq Stat\n",
    "\n",
    "#SSE\n",
    "results_df_2['SSE_forecast'] = (results_df_2['realized'] - results_df_2['forecast'])**2\n",
    "results_df_2['SSE_hist'] = (results_df_2['realized'] - results_df_2['hist_mean_expand'])**2\n",
    "# results_df_2['row_num'] = np.arange(1,len(results_df_2)+1)\n",
    "num_of_rows=len(results_df_2)\n",
    "#Cummulative SSE\n",
    "results_df_2['Cum_SSE_forecast'] = results_df_2['SSE_forecast'].expanding(min_periods=1).sum()\n",
    "results_df_2['Cum_SSE_hist'] = results_df_2['SSE_hist'].expanding(min_periods=1).sum()\n",
    "\n",
    "#RMSE\n",
    "results_df_2['RMSE_forecast'] = np.sqrt(results_df_2['SSE_forecast']/num_of_rows)\n",
    "results_df_2['RMSE_hist'] = np.sqrt(results_df_2['SSE_hist']/num_of_rows)\n",
    "\n",
    "#RMSE diff and cummulaitve RMSE diff\n",
    "results_df_2['RMSE_diff'] = results_df_2['RMSE_hist'] - results_df_2['RMSE_forecast']\n",
    "results_df_2['Cum_RMSE_diff'] = results_df_2['RMSE_diff'].expanding(min_periods=1).sum()\n",
    "\n",
    "#OOS R-Sq Stat\n",
    "results_df_2['R_Sq_OOS'] = 1 - (results_df_2['Cum_SSE_forecast']/ results_df_2['Cum_SSE_hist'])\n",
    "\n",
    "results_df_2.to_csv(\"results_df_2_lasso1_20250213.csv\")\n",
    "results_df_2\n",
    "\n"
   ]
  },
  {
   "cell_type": "markdown",
   "metadata": {},
   "source": [
    "##### **Plot Results**"
   ]
  },
  {
   "cell_type": "code",
   "execution_count": null,
   "metadata": {},
   "outputs": [],
   "source": [
    "import matplotlib.pyplot as plt"
   ]
  },
  {
   "cell_type": "code",
   "execution_count": null,
   "metadata": {
    "ExecuteTime": {
     "start_time": "2025-02-17T18:36:12.762237Z"
    }
   },
   "outputs": [],
   "source": [
    "plt.figure(figsize=(10, 5))\n",
    "plt.plot(results_df_2.index, results_df_2['Cum_RMSE_diff'], label=\"OOS ΔRMSE (Historical Mean - Strategy)\", color='blue')\n",
    "plt.xlabel(\"Time\")\n",
    "plt.ylabel(\"OOS ΔRMSE\")\n",
    "plt.title(\"Out-of-Sample ΔRMSE: Strategy vs Historical Mean Benchmark\")\n",
    "plt.axhline(y=0, color='black', linestyle='--', linewidth=0.8)  # 添加零基准线\n",
    "plt.legend()\n",
    "plt.show()"
   ]
  },
  {
   "cell_type": "markdown",
   "metadata": {},
   "source": [
    "-----------"
   ]
  },
  {
   "cell_type": "markdown",
   "metadata": {
    "collapsed": false
   },
   "source": [
    "#### Placeholder: Below is experiment code on random forest with CALIBRATION, doesn't have good performance yet"
   ]
  },
  {
   "cell_type": "code",
   "execution_count": null,
   "metadata": {
    "collapsed": false,
    "ExecuteTime": {
     "start_time": "2025-02-17T18:36:12.763295Z"
    }
   },
   "outputs": [],
   "source": [
    "import numpy as np\n",
    "import pandas as pd\n",
    "import statsmodels.api as sm\n",
    "import matplotlib.pyplot as plt\n",
    "from sklearn.model_selection import TimeSeriesSplit\n",
    "from sklearn.linear_model import LassoCV\n",
    "from sklearn.preprocessing import RobustScaler\n",
    "from sklearn.ensemble import RandomForestRegressor\n",
    "from xgboost import XGBRegressor\n",
    "from sklearn.svm import SVR\n",
    "from sklearn.isotonic import IsotonicRegression  # 替换 Logistic Regression\n",
    "\n",
    "# **Expanding Window 回归**\n",
    "start_train = 100  # 初始训练数据量\n",
    "y=pd.DataFrame(gc_data_new[\"GC2_sharpe_1M_RetHist_VolLag1\"].dropna(how=\"all\"))\n",
    "X = x_variables_data.fillna(0).copy().loc[y.index]\n",
    "X = sm.add_constant(X)  #Intercept\n",
    "y_historical_mean_data=gc_data['GC1_Monthly_Excess_Return'].dropna(how='all')\n",
    "# No. of Splits\n",
    "n_splits = 10  \n",
    "\n",
    "# LASSO Regularization\n",
    "scaler = StandardScaler() #standarized by z score\n",
    "X_scaled = pd.DataFrame(scaler.fit_transform(X), index=X.index, columns=X.columns)\n",
    "n_obs = len(y)\n",
    "\n",
    "# 记录 SSE 累计误差\n",
    "SSE_model_cumsum = []\n",
    "SSE_historical_cumsum = []\n",
    "\n",
    "# 选择机器学习模型（可以切换）\n",
    "# model = XGBRegressor(objective='reg:squarederror', n_estimators=100, random_state=42)  # XGBoost\n",
    "model = RandomForestRegressor(n_estimators=100, random_state=42)  # 随机森林\n",
    "# model = SVR(kernel='rbf')  # 支持向量回归\n",
    "\n",
    "# Isotonic Regression 校准模型\n",
    "calibration_model = IsotonicRegression(out_of_bounds='clip')\n",
    "\n",
    "for t in tqdm(range(start_train, n_obs - 1), desc=f\"Processing\"):\n",
    "    # **划分训练集（80%）、校准集（20%）**\n",
    "    split_idx = int(0.8 * t)  # 80% 作为训练集，20% 作为校准集\n",
    "    X_train = X_scaled.iloc[:split_idx]\n",
    "    y_train = y.iloc[:split_idx]\n",
    "\n",
    "    X_calib = X_scaled.iloc[split_idx:t]\n",
    "    y_calib = y.iloc[split_idx:t]\n",
    "\n",
    "    y_historical_mean = y_historical_mean_data.iloc[:t]\n",
    "\n",
    "    # 预测下一步 t+1\n",
    "    X_test = X_scaled.iloc[t:t+1]\n",
    "    y_test = y.iloc[t:t+1]\n",
    "    \n",
    "    # 仅保留 LASSO 选择的变量\n",
    "    if len(selected_features) > 0:\n",
    "        X_train_selected = X_train[selected_features]\n",
    "        X_calib_selected = X_calib[selected_features]\n",
    "        X_test_selected = X_test[selected_features]\n",
    "\n",
    "        # 训练回归模型\n",
    "        model.fit(X_train_selected, y_train)\n",
    "\n",
    "        # **校准步骤**\n",
    "        y_calib_pred = model.predict(X_calib_selected)  # 获取校准集的预测值（scores）\n",
    "        calibration_model.fit(y_calib_pred, y_calib)  # 训练 Isotonic Regression 进行校准\n",
    "\n",
    "        # **在测试集上应用校准**\n",
    "        y_pred_raw = model.predict(X_test_selected)  # 先用回归模型预测\n",
    "        y_pred_calibrated = calibration_model.predict(y_pred_raw)  # 用 Isotonic Regression 进行校准\n",
    "        \n",
    "        forecast_error = float(y_test - y_pred_calibrated)\n",
    "    else:\n",
    "        # 如果 LASSO 没有选择任何变量，则使用历史均值进行预测\n",
    "        forecast_error = float(y_test - y_historical_mean.mean() * fwd_ret_period)\n",
    "\n",
    "    # 计算历史均值预测误差 m_t+1\n",
    "    historical_mean_error = float(y_test - y_historical_mean.mean() * fwd_ret_period)\n",
    "\n",
    "    # 累计 SSE（均方误差）\n",
    "    if t == start_train:\n",
    "        SSE_model_cumsum.append(forecast_error ** 2)\n",
    "        SSE_historical_cumsum.append(historical_mean_error ** 2)\n",
    "    else:\n",
    "        SSE_model_cumsum.append(SSE_model_cumsum[-1] + forecast_error ** 2)\n",
    "        SSE_historical_cumsum.append(SSE_historical_cumsum[-1] + historical_mean_error ** 2)\n",
    "\n",
    "# **计算 ΔRMSE 随时间的变化**\n",
    "delta_RMSE_series = np.sqrt(np.array(SSE_historical_cumsum) / len(SSE_historical_cumsum) + 1) - \\\n",
    "                    np.sqrt(np.array(SSE_model_cumsum) / len(SSE_model_cumsum) + 1)\n",
    "\n",
    "# **绘制 ΔRMSE**\n",
    "plt.figure(figsize=(10, 5))\n",
    "plt.plot(y.index[start_train:n_obs - 1], delta_RMSE_series, label=\"ΔRMSE (Historical Mean - Strategy)\", color='blue')\n",
    "\n",
    "plt.xlabel(\"Time (Index of y)\")\n",
    "plt.ylabel(\"ΔRMSE\")\n",
    "plt.title(\"ΔRMSE: Strategy vs Historical Mean Benchmark\")\n",
    "plt.axhline(y=0, color='black', linestyle='--', linewidth=0.8)  # 添加零基准线\n",
    "plt.legend()\n",
    "plt.show()\n",
    "\n"
   ]
  },
  {
   "cell_type": "markdown",
   "metadata": {},
   "source": [
    "--------------"
   ]
  },
  {
   "cell_type": "markdown",
   "metadata": {},
   "source": [
    "# ** ---- Sicheng 20250214 ---- **"
   ]
  },
  {
   "cell_type": "markdown",
   "metadata": {
    "collapsed": false
   },
   "source": [
    "#### Sicheng's combined code is below"
   ]
  },
  {
   "cell_type": "code",
   "execution_count": null,
   "metadata": {
    "collapsed": false,
    "ExecuteTime": {
     "start_time": "2025-02-17T18:36:12.763295Z"
    }
   },
   "outputs": [],
   "source": [
    "x_variables_data.to_excel(\"x_variables_data_20250214.xlsx\")\n",
    "x_variables_data"
   ]
  },
  {
   "cell_type": "code",
   "execution_count": 73,
   "metadata": {},
   "outputs": [
    {
     "name": "stderr",
     "output_type": "stream",
     "text": [
      "Processing: 100%|██████████| 494/494 [00:31<00:00, 15.61it/s]"
     ]
    },
    {
     "name": "stdout",
     "output_type": "stream",
     "text": [
      "      Metric     Value\n",
      "0  R-squared  0.828629\n",
      "1        MSE  0.002868\n",
      "2       RMSE  0.053550\n"
     ]
    },
    {
     "name": "stderr",
     "output_type": "stream",
     "text": [
      "\n"
     ]
    },
    {
     "data": {
      "image/png": "[encoded data removed]",
      "text/plain": [
       "<Figure size 1000x500 with 1 Axes>"
      ]
     },
     "metadata": {},
     "output_type": "display_data"
    }
   ],
   "source": [
    "from tqdm import tqdm\n",
    "import numpy as np\n",
    "import pandas as pd\n",
    "import statsmodels.api as sm\n",
    "import matplotlib.pyplot as plt\n",
    "from sklearn.model_selection import TimeSeriesSplit\n",
    "from sklearn.linear_model import LassoCV\n",
    "from sklearn.preprocessing import RobustScaler\n",
    "from sklearn.ensemble import RandomForestRegressor\n",
    "import warnings\n",
    "warnings.filterwarnings(\"ignore\")\n",
    "from xgboost import XGBRegressor\n",
    "from sklearn.svm import SVR\n",
    "from sklearn.metrics import mean_squared_error, r2_score\n",
    "\n",
    "# **Expanding Window 回归**\n",
    "start_train = 100  # 初始训练数据量\n",
    "fwd_ret_period=6\n",
    "y=gc_data_new[f\"GC1_{fwd_ret_period}M_Fwd_Ret\"].dropna(how=\"all\")\n",
    "y_historical_mean_data=gc_data_new['GC1_Monthly_Excess_Return'].loc[y.index].dropna(how='all')\n",
    "\n",
    "\n",
    "#shift_columns_gc2 = [\"GC2_1M_Sign_lag_1\", \"GC2_3M_Sign_lag_1\", \"GC2_6M_Sign_lag_1\", \"GC2_12M_Sign_lag_1\"]\n",
    "shift_columns_gc2 = [\"GC2_1M_Sign_lag_1\", \"GC2_3M_Sign_lag_2\", \"GC2_6M_Sign_lag_2\", \"GC2_12M_Sign_lag_2\"]\n",
    "#shift_columns_gc_all = [\"GC1_1M_Sign_lag_1\",\"GC2_1M_Sign_lag_1\",'GC1_3M_Sign_lag_1','GC2_3M_Sign_lag_1','GC1_6M_Sign_lag_1','GC2_6M_Sign_lag_1','GC1_12M_Sign_lag_1','GC2_12M_Sign_lag_1']\n",
    "shift_columns_gc_all = [\"GC1_1M_Sign_lag_1\",\"GC2_1M_Sign_lag_1\",'GC1_3M_Sign_lag_2','GC2_3M_Sign_lag_2','GC1_6M_Sign_lag_2','GC2_6M_Sign_lag_2','GC1_12M_Sign_lag_2','GC2_12M_Sign_lag_2']\n",
    "\n",
    "cols_to_merge = ['GC1_Monthly_Excess_Return', 'GC1_3M_Ret', 'GC1_6M_Ret', 'GC1_12M_Ret']\n",
    "\n",
    "# 合并数据，使用索引进行连接（inner join）\n",
    "\n",
    "#To do: \n",
    "# 1. Lets try shifting the return for 3M, 6M and 12M \n",
    "# 2. Let's try still using the sign first in another run \n",
    "\n",
    "\n",
    "x_variables_data = x_variables_data.drop(columns=shift_columns_gc_all, errors=\"ignore\")\n",
    "x_variables_data = x_variables_data.merge(gc_data_new[cols_to_merge].shift(1), left_index=True, right_index=True, how=\"left\")\n",
    "\n",
    "x_variables_data.head(20)\n",
    "\n",
    "# LASSO Regularization\n",
    "scaler = StandardScaler() #standarized by z score\n",
    "X_scaled = pd.DataFrame(scaler.fit_transform(X), index=X.index, columns=X.columns)\n",
    "n_obs = len(y)\n",
    "\n",
    "# 记录 SSE 累计误差\n",
    "SSE_model_cumsum = []\n",
    "SSE_historical_cumsum = []\n",
    "# 存储每个时间步的特征重要性\n",
    "feature_importance_per_step = []\n",
    "# 选择机器学习模型（可以切换）\n",
    "# model = XGBRegressor(objective='reg:squarederror', n_estimators=100, random_state=42)  # XGBoost\n",
    "model = RandomForestRegressor(n_estimators=100, random_state=42,max_depth=10,min_samples_split=5,max_features=0.6)  # 随机森林\n",
    "# model = SVR(kernel='rbf')  # 支持向量回归\n",
    "# 存储每个时间步的预测值、历史均值误差和真实值\n",
    "results = []\n",
    "\n",
    "# 存储模型的统计结果\n",
    "model_summaries = []\n",
    "for t in tqdm(range(start_train, n_obs - 1), desc=f\"Processing\"):\n",
    "    # 使用当前时间 t 之前的所有数据进行训练\n",
    "    X_train = X_scaled.iloc[:t]\n",
    "    y_train = y.iloc[:t]\n",
    "    y_historical_mean = y_historical_mean_data.iloc[:t]\n",
    "\n",
    "    # 预测下一步 t+1\n",
    "    X_test = X_scaled.iloc[t:t+1]\n",
    "    y_test = y.iloc[t:t+1]\n",
    "\n",
    "    # 仅保留 LASSO 选择的变量\n",
    "    if len(selected_features) > 0:\n",
    "        X_train_selected = X_train[selected_features]\n",
    "        X_test_selected = X_test[selected_features]\n",
    "\n",
    "        # 训练机器学习回归模型\n",
    "        model.fit(X_train_selected, y_train)\n",
    "        y_pred = model.predict(X_test_selected)[0]  # 获取单个预测值\n",
    "        # 获取特征重要性\n",
    "        if hasattr(model, \"feature_importances_\"):  # 适用于随机森林、XGBoost\n",
    "            feature_importance = model.feature_importances_\n",
    "        else:\n",
    "            # 使用 statsmodels 重新拟合以获取系数\n",
    "            X_train_sm = sm.add_constant(X_train_selected)\n",
    "            ols_model = sm.OLS(y_train, X_train_sm).fit()\n",
    "            feature_importance = ols_model.params[1:].values  # 跳过截距项\n",
    "\n",
    "        # 记录当前时间步的特征重要性\n",
    "        feature_importance_per_step.append(dict(zip(selected_features, feature_importance)))\n",
    "        # 计算策略预测误差 f_t+1\n",
    "        forecast_error = float(y_test - y_pred)\n",
    "    else:\n",
    "        # 如果 LASSO 没有选择任何变量，则使用历史均值进行预测\n",
    "        forecast_error = float(y_test - y_historical_mean.mean() * data_period)\n",
    "\n",
    "    # 计算历史均值预测误差 m_t+1\n",
    "    historical_mean_error = float(y_test - y_historical_mean.mean() * data_period)\n",
    "\n",
    "    # 累计 SSE（均方误差）\n",
    "    if t == start_train:\n",
    "        SSE_model_cumsum.append(forecast_error ** 2)\n",
    "        SSE_historical_cumsum.append(historical_mean_error ** 2)\n",
    "    else:\n",
    "        SSE_model_cumsum.append(SSE_model_cumsum[-1] + forecast_error ** 2)\n",
    "        SSE_historical_cumsum.append(SSE_historical_cumsum[-1] + historical_mean_error ** 2)\n",
    "     # 记录当前时间步的结果\n",
    "    results.append({\n",
    "        \"Date\": y.index[t],\n",
    "        \"ret_real\": float(y_test),\n",
    "        \"ret_pred\": float(y_pred),\n",
    "        \"historical_mean\": y_historical_mean.mean() * data_period\n",
    "    })\n",
    "results=pd.DataFrame(results)\n",
    "\n",
    "# **计算 ΔRMSE 随时间的变化**\n",
    "delta_RMSE_series = np.sqrt(np.array(SSE_historical_cumsum) / len(SSE_historical_cumsum) + 1) - \\\n",
    "                    np.sqrt(np.array(SSE_model_cumsum) / len(SSE_model_cumsum) + 1)\n",
    "# **转换特征重要性 DataFrame**\n",
    "df_feature_importance_per_step = pd.DataFrame(feature_importance_per_step)\n",
    "\n",
    "# **计算特征在所有时间步的重要性均值**\n",
    "df_feature_avg_importance = df_feature_importance_per_step.mean().reset_index()\n",
    "df_feature_avg_importance.columns = [\"Feature\", \"Avg Importance\"]\n",
    "# **计算模型的整体统计信息**\n",
    "y_pred_all = model.predict(X_train_selected)\n",
    "\n",
    "# 计算 R²、MSE、RMSE\n",
    "r2 = r2_score(y_train, y_pred_all)\n",
    "mse = mean_squared_error(y_train, y_pred_all)\n",
    "rmse = np.sqrt(mse)\n",
    "\n",
    "# 提取特征重要性\n",
    "if hasattr(model, \"feature_importances_\"):\n",
    "    feature_importance = dict(zip(X_train_selected.columns, model.feature_importances_))\n",
    "elif isinstance(model, XGBRegressor):\n",
    "    feature_importance = model.get_booster().get_score(importance_type='weight')\n",
    "else:\n",
    "    feature_importance = \"N/A\"\n",
    "\n",
    "# 组织统计结果\n",
    "model_summary = {\n",
    "    \"Model\": type(model).__name__,\n",
    "    \"R-squared\": r2,\n",
    "    \"MSE\": mse,\n",
    "    \"RMSE\": rmse,\n",
    "    \"Feature Importance\": feature_importance\n",
    "}\n",
    "\n",
    "# 将统计结果转换为 DataFrame\n",
    "df_model_summary = pd.DataFrame({\n",
    "    \"Metric\": [\"R-squared\", \"MSE\", \"RMSE\"],\n",
    "    \"Value\": [r2, mse, rmse]\n",
    "})\n",
    "\n",
    "# 显示表格\n",
    "print(df_model_summary)\n",
    "\n",
    "# **绘制 ΔRMSE**\n",
    "plt.figure(figsize=(10, 5))\n",
    "plt.plot(y.index[start_train:n_obs - 1], delta_RMSE_series, label=\"ΔRMSE (Historical Mean - Strategy)\", color='blue')\n",
    "\n",
    "plt.xlabel(\"Time (Index of y)\")\n",
    "plt.ylabel(\"ΔRMSE\")\n",
    "plt.title(\"ΔRMSE: Strategy vs Historical Mean Benchmark\")\n",
    "plt.axhline(y=0, color='black', linestyle='--', linewidth=0.8)  # 添加零基准线\n",
    "plt.legend()\n",
    "plt.show()\n",
    "results\n",
    "delta_RMSE_series\n",
    "results['ret_real']/fwd_ret_period\n",
    "results\n",
    "#### WIP: Below is the code to compare strategy performance, it's not good to use yet, has some bugs\n",
    "transaction_cost=[0,0.002,0.004,0.01]\n",
    "benchmark_bp=0.002\n",
    "results=pd.DataFrame(results)\n",
    "# 设置时间索引\n",
    "results.set_index(\"Date\", inplace=True)\n",
    "for tc in transaction_cost:\n",
    "    # 计算策略回报\n",
    "    results[f\"strategy_return_{int(tc*1000)}bp\"] = results[\"ret_real\"]/fwd_ret_period * results[\"ret_pred\"].apply(lambda x: 1 if x > 0 else -1)-tc\n",
    "    results[f\"cumulative_strategy_{int(tc*1000)}bp\"] = np.exp(results[f\"strategy_return_{int(tc*1000)}bp\"].cumsum())\n",
    "\n",
    "\n",
    "# 计算基准回报\n",
    "results[\"benchmark_return\"] = results[\"ret_real\"]/fwd_ret_period * results[\"historical_mean\"].apply(lambda x: 1 if x > 0 else -1)-benchmark_bp\n",
    "\n",
    "# 计算买入持有回报\n",
    "results[\"buy_and_hold_return\"] = gc_data_new[\"GC1_Monthly_Excess_Return\"].loc[results.index]\n",
    "\n",
    "# 计算累积收益\n",
    "results[\"cumulative_benchmark\"] = np.exp(results[\"benchmark_return\"].cumsum())\n",
    "results[\"cumulative_buy_and_hold\"] = np.exp(results[\"buy_and_hold_return\"].cumsum())\n",
    "\n",
    "# 绘制收益曲线\n",
    "plt.figure(figsize=(10, 6))\n",
    "for tc in transaction_cost:\n",
    "    plt.plot(results.index, results[f\"cumulative_strategy_{int(tc*1000)}bp\"], label=f\"Strategy Return_{int(tc*1000)}bp\", linewidth=2)\n",
    "plt.plot(results.index, results[\"cumulative_benchmark\"], label=f\"Benchmark Return_{int(benchmark_bp*1000)}bp\", linestyle=\"--\", linewidth=2)\n",
    "plt.plot(results.index, results[\"cumulative_buy_and_hold\"], label=\"Buy & Hold Return\", linestyle=\":\", linewidth=4)\n",
    "\n",
    "plt.xlabel(\"Date\")\n",
    "plt.ylabel(\"Cumulative Return\")\n",
    "plt.title(\"Trading Strategy vs Benchmark vs Buy & Hold (no short constraint)\")\n",
    "plt.legend()\n",
    "plt.grid()\n",
    "plt.xticks(rotation=45)\n",
    "plt.show()\n",
    "# print(performance_metrics)\n",
    "transaction_cost=[0,0.002,0.004,0.01]\n",
    "benchmark_bp=0.002\n",
    "results=pd.DataFrame(results)\n",
    "# 设置时间索引\n",
    "#results.set_index(\"Date\", inplace=True)\n",
    "for tc in transaction_cost:\n",
    "    # 计算策略回报\n",
    "    results[f\"strategy_return_{int(tc*1000)}bp\"] = (results[\"ret_real\"]/fwd_ret_period * results[\"ret_pred\"].apply(lambda x: 1 if x > 0 else 0)).apply(lambda x:x-tc if x!=0 else x)\n",
    "    results[f\"cumulative_strategy_{int(tc*1000)}bp\"] = np.exp(results[f\"strategy_return_{int(tc*1000)}bp\"].cumsum())\n",
    "\n",
    "\n",
    "# 计算基准回报\n",
    "results[\"benchmark_return\"] = results[\"ret_real\"]/fwd_ret_period * results[\"historical_mean\"].apply(lambda x: 1 if x > 0 else -1)-benchmark_bp\n",
    "\n",
    "# 计算买入持有回报\n",
    "results[\"buy_and_hold_return\"] = gc_data_new[\"GC1_Monthly_Excess_Return\"].loc[results.index]\n",
    "\n",
    "# 计算累积收益\n",
    "results[\"cumulative_benchmark\"] = np.exp(results[\"benchmark_return\"].cumsum())\n",
    "results[\"cumulative_buy_and_hold\"] = np.exp(results[\"buy_and_hold_return\"].cumsum())\n",
    "\n",
    "\n",
    "# 绘制收益曲线\n",
    "plt.figure(figsize=(10, 6))\n",
    "for tc in transaction_cost:\n",
    "    plt.plot(results.index, results[f\"cumulative_strategy_{int(tc*1000)}bp\"], label=f\"Strategy Return_{int(tc*1000)}bp\", linewidth=2)\n",
    "plt.plot(results.index, results[\"cumulative_benchmark\"], label=f\"Benchmark Return_{int(benchmark_bp*1000)}bp\", linestyle=\"--\", linewidth=2)\n",
    "plt.plot(results.index, results[\"cumulative_buy_and_hold\"], label=\"Buy & Hold Return\", linestyle=\":\", linewidth=4)\n",
    "\n",
    "plt.xlabel(\"Date\")\n",
    "plt.ylabel(\"Cumulative Return\")\n",
    "plt.title(\"Trading Strategy vs Benchmark vs Buy & Hold (long only)\")\n",
    "plt.legend()\n",
    "plt.grid()\n",
    "plt.xticks(rotation=45)\n",
    "plt.show()\n",
    "# print(performance_metrics)\n",
    "# 计算指标\n",
    "performance_metrics = []\n",
    "\n",
    "def calculate_sharpe_ratio(returns, risk_free_rate=0):\n",
    "    \"\"\" 计算夏普率 \"\"\"\n",
    "    excess_returns = returns - risk_free_rate\n",
    "    return excess_returns.mean() / excess_returns.std() if excess_returns.std() != 0 else np.nan\n",
    "\n",
    "def calculate_max_drawdown(cumulative_returns):\n",
    "    \"\"\" 计算最大回撤 \"\"\"\n",
    "    peak = np.maximum.accumulate(cumulative_returns)\n",
    "    drawdown = (cumulative_returns - peak) / peak\n",
    "    return drawdown.min()\n",
    "\n",
    "for tc in transaction_cost:\n",
    "    col_name_return = f\"strategy_return_{int(tc*1000)}bp\"\n",
    "    col_name_cum = f\"cumulative_strategy_{int(tc*1000)}bp\"\n",
    "\n",
    "    final_net_value = results[col_name_cum].iloc[-1]\n",
    "    annualized_return = results[col_name_return].mean() * 12\n",
    "    sharpe_ratio = calculate_sharpe_ratio(results[col_name_return])\n",
    "    max_drawdown = calculate_max_drawdown(results[col_name_cum])\n",
    "    \n",
    "    performance_metrics.append([\"Strategy\", f\"{int(tc*1000)}bp\", final_net_value, annualized_return, sharpe_ratio, max_drawdown])\n",
    "\n",
    "# 计算基准策略的绩效\n",
    "final_net_value_benchmark = results[\"cumulative_benchmark\"].iloc[-1]\n",
    "annualized_return_benchmark = results[\"benchmark_return\"].mean() * 12\n",
    "sharpe_ratio_benchmark = calculate_sharpe_ratio(results[\"benchmark_return\"])\n",
    "max_drawdown_benchmark = calculate_max_drawdown(results[\"cumulative_benchmark\"])\n",
    "performance_metrics.append([\"Benchmark\", f\"{int(benchmark_bp*1000)}bp\", final_net_value_benchmark, annualized_return_benchmark, sharpe_ratio_benchmark, max_drawdown_benchmark])\n",
    "\n",
    "# 计算买入持有策略的绩效\n",
    "final_net_value_bh = results[\"cumulative_buy_and_hold\"].iloc[-1]\n",
    "annualized_return_bh = results[\"buy_and_hold_return\"].mean() * 12\n",
    "sharpe_ratio_bh = calculate_sharpe_ratio(results[\"buy_and_hold_return\"])\n",
    "max_drawdown_bh = calculate_max_drawdown(results[\"cumulative_buy_and_hold\"])\n",
    "performance_metrics.append([\"Buy & Hold\", \"-\", final_net_value_bh, annualized_return_bh, sharpe_ratio_bh, max_drawdown_bh])\n",
    "\n",
    "# 创建结果 DataFrame\n",
    "performance_df = pd.DataFrame(performance_metrics, columns=[\"Strategy\", \"Transaction Cost\", \"Final Net Value\", \"Annualized Return\", \"Sharpe Ratio\", \"Max Drawdown\"])\n",
    "\n",
    "performance_df\n"
   ]
  }
 ],
 "metadata": {
  "kernelspec": {
   "display_name": "Python 3",
   "language": "python",
   "name": "python3"
  },
  "language_info": {
   "codemirror_mode": {
    "name": "ipython",
    "version": 3
   },
   "file_extension": ".py",
   "mimetype": "text/x-python",
   "name": "python",
   "nbconvert_exporter": "python",
   "pygments_lexer": "ipython3",
   "version": "3.11.9"
  }
 },
 "nbformat": 4,
 "nbformat_minor": 2
}
